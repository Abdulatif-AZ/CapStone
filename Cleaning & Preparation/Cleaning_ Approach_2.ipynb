{
 "cells": [
  {
   "cell_type": "markdown",
   "metadata": {},
   "source": [
    "# Cleaning Approach 2\n",
    "\n",
    "This approach is a much more comprehensive method compared to Approach 1. This is becuase we utilized PySpark and combines partitioned parquet files to reduce the processing time of the large dataset. \n",
    "\n",
    "1. [Imports & Configuration](#imports--configuration) \n",
    "2. [Define Directories](#define-the-base-directories-to-read-and-save-the-files)\n",
    "3. [Initialize Spark](#initialize-the-spark-session)\n",
    "4. [Loading Reference Tables](#loading-the-reference-table-for-quick-view)\n",
    "5. [Converting CSV to Parquet](#converting-the-real-dataset-from-csv-to-parquet)\n",
    "6. [Cleaning Missing Values](#cleaning-missing-values)\n",
    "7. [Split Data](#split-data)\n",
    "8. [Scale Data](#scale-features)"
   ]
  },
  {
   "cell_type": "markdown",
   "metadata": {},
   "source": [
    "# Imports & Configuration"
   ]
  },
  {
   "cell_type": "code",
   "execution_count": 1,
   "metadata": {},
   "outputs": [
    {
     "name": "stderr",
     "output_type": "stream",
     "text": [
      "/Users/rawan/anaconda3/envs/pyspark_env/lib/python3.12/site-packages/pyspark/pandas/__init__.py:50: UserWarning: 'PYARROW_IGNORE_TIMEZONE' environment variable was not set. It is required to set this environment variable to '1' in both driver and executor sides if you use pyarrow>=2.0.0. pandas-on-Spark will set it for you but it does not work if there is a Spark context already launched.\n",
      "  warnings.warn(\n"
     ]
    }
   ],
   "source": [
    "import pandas as pd\n",
    "pd.set_option('display.max_rows', None)\n",
    "pd.set_option('display.max_columns', None)\n",
    "pd.set_option('max_colwidth', None)\n",
    "pd.set_option('display.float_format', '{:.2f}'.format)\n",
    "from IPython.display import display\n",
    "import numpy as np\n",
    "import matplotlib.pyplot as plt\n",
    "%matplotlib inline\n",
    "import seaborn as sns\n",
    "import os\n",
    "import sys\n",
    "from pyspark.sql import SparkSession, Window, DataFrame\n",
    "from pyspark.sql import functions as F\n",
    "from pyspark.sql.functions import col, when, count, mean, isnan, expr, lit, countDistinct, round, lag, unix_timestamp, lead, explode, collect_list, struct, rand, row_number\n",
    "from pyspark.sql.types import IntegerType, StringType, StructType, StructField, ArrayType, MapType\n",
    "import pyspark.pandas as ps\n",
    "from pyspark.ml.feature import VectorAssembler, StandardScaler\n",
    "from pyspark.ml.functions import vector_to_array\n",
    "from sklearn.model_selection import train_test_split\n",
    "from functools import reduce\n",
    "import json\n",
    "from tqdm import tqdm"
   ]
  },
  {
   "cell_type": "markdown",
   "metadata": {},
   "source": [
    "# Define the Base Directories to read and save the files"
   ]
  },
  {
   "cell_type": "code",
   "execution_count": 2,
   "metadata": {},
   "outputs": [],
   "source": [
    "# Base directory paths\n",
    "BASE_DIR = \"../Data/Cleaning & Preparation/Approach_2\"\n",
    "STAGED_DATA_PATH = os.path.join(BASE_DIR, \"Staged Cleaning Data\")\n",
    "RESULTS_PATH = os.path.join(BASE_DIR, \"Results\")\n",
    "CLEANED_DATA_PATH = os.path.join(BASE_DIR, \"Clean Data\")\n",
    "TRAIN_TEST_DATA_PATH = os.path.join(BASE_DIR, \"Train Test Data\")\n",
    "SCALED_DATA_PATH = os.path.join(BASE_DIR, \"Train Test (Scaled) Data\")"
   ]
  },
  {
   "cell_type": "markdown",
   "metadata": {},
   "source": [
    "# Initialize the Spark Session"
   ]
  },
  {
   "cell_type": "code",
   "execution_count": 3,
   "metadata": {},
   "outputs": [
    {
     "name": "stderr",
     "output_type": "stream",
     "text": [
      "24/12/11 14:25:33 WARN Utils: Your hostname, Rawans-MacBook-Pro.local resolves to a loopback address: 127.0.0.1; using 10.22.175.61 instead (on interface en0)\n",
      "24/12/11 14:25:33 WARN Utils: Set SPARK_LOCAL_IP if you need to bind to another address\n",
      "Setting default log level to \"WARN\".\n",
      "To adjust logging level use sc.setLogLevel(newLevel). For SparkR, use setLogLevel(newLevel).\n",
      "24/12/11 14:25:34 WARN NativeCodeLoader: Unable to load native-hadoop library for your platform... using builtin-java classes where applicable\n"
     ]
    }
   ],
   "source": [
    "### Initialize Spark Session\n",
    "try:\n",
    "    spark = SparkSession.builder \\\n",
    "        .appName(\"3W Real Dataset\") \\\n",
    "        .master(\"local[*]\") \\\n",
    "        .config(\"spark.driver.memory\", \"12g\") \\\n",
    "        .config(\"spark.executor.memory\", \"6g\") \\\n",
    "        .config(\"spark.sql.shuffle.partitions\", \"16\") \\\n",
    "        .config(\"spark.default.parallelism\", \"16\") \\\n",
    "        .config(\"spark.sql.parquet.filterPushdown\", \"true\") \\\n",
    "        .config(\"spark.sql.parquet.enableVectorizedReader\", \"true\") \\\n",
    "        .getOrCreate()\n",
    "except Exception as e:\n",
    "    print(f\"Error initializing SparkSession: {e}\")\n",
    "    raise"
   ]
  },
  {
   "cell_type": "markdown",
   "metadata": {},
   "source": [
    "# Loading the reference table for quick view"
   ]
  },
  {
   "cell_type": "code",
   "execution_count": 4,
   "metadata": {},
   "outputs": [
    {
     "name": "stdout",
     "output_type": "stream",
     "text": [
      "+-------------+------------------------------------------------------------+--------------------+-----------+\n",
      "|Tag          |Name                                                        |Unit                |Value Type |\n",
      "+-------------+------------------------------------------------------------+--------------------+-----------+\n",
      "|ESTADO-DHSV  |State of the DHSV (downhole safety valve)                   |[0, 0.5, 1]         |Categorical|\n",
      "|ESTADO-M1    |State of the PMV (production master valve)                  |[0, 0.5, 1]         |Categorical|\n",
      "|ESTADO-PXO   |State of the PXO (pig-crossover) valve                      |[0, 0.5, 1]         |Categorical|\n",
      "|ESTADO-M2    |State of the AMV (annulus master valve)                     |[0, 0.5, 1]         |Categorical|\n",
      "|ESTADO-SDV-GL|State of the gas lift SDV (shutdown valve)                  |[0, 0.5, 1]         |Categorical|\n",
      "|ESTADO-SDV-P |State of the production SDV (shutdown valve)                |[0, 0.5, 1]         |Categorical|\n",
      "|ESTADO-W1    |State of the PWV (production wing valve)                    |[0, 0.5, 1]         |Categorical|\n",
      "|ESTADO-W2    |State of the AWV (annulus wing valve)                       |[0, 0.5, 1]         |Categorical|\n",
      "|ESTADO-XO    |State of the XO (crossover) valve                           |[0, 0.5, 1]         |Categorical|\n",
      "|DataType     |Real , simulated or hand-drawn                              |Dataset Type        |Categorical|\n",
      "|class        |Label of the observation                                    |Label               |Classifier |\n",
      "|label        |Instance label (event type)                                 |Instance Label      |Classifier |\n",
      "|state        |Well operational status                                     |Operational Status  |Classifier |\n",
      "|ABER-CKGL    |Opening of the GLCK (gas lift choke)                        |%                   |Continuous |\n",
      "|ABER-CKP     |Opening of the PCK (production choke)                       |%                   |Continuous |\n",
      "|P-ANULAR     |Pressure in the well annulus                                |Pa                  |Continuous |\n",
      "|P-JUS-CKGL   |Downstream pressure of the GLCK (gas lift choke)            |Pa                  |Continuous |\n",
      "|P-MON-CKP    |Upstream pressure of the PCK (production choke)             |Pa                  |Continuous |\n",
      "|P-JUS-CKP    |Downstream pressure of the PCK (production choke)           |Pa                  |Continuous |\n",
      "|P-MON-CKGL   |Upstream pressure of the GLCK (gas lift choke)              |Pa                  |Continuous |\n",
      "|P-PDG        |Pressure at the PDG (permanent downhole gauge)              |Pa                  |Continuous |\n",
      "|P-TPT        |Pressure at the TPT (temperature and pressure transducer)   |Pa                  |Continuous |\n",
      "|QGL          |Gas lift flow rate                                          |m3/s                |Continuous |\n",
      "|T-JUS-CKP    |Downstream temperature of the PCK (production choke)        |°C                  |Continuous |\n",
      "|T-MON-CKP    |Upstream temperature of the PCK (production choke)          |°C                  |Continuous |\n",
      "|T-PDG        |Temperature at the PDG (permanent downhole gauge)           |°C                  |Continuous |\n",
      "|T-TPT        |Temperature at the TPT (temperature and pressure transducer)|°C                  |Continuous |\n",
      "|P-JUS-BS     |Downstream pressure of the SP (service pump)                |Pa                  |Empty      |\n",
      "|P-MON-SDV-P  |Upstream pressure of the production SDV (shutdown valve)    |Pa                  |Empty      |\n",
      "|PT-P         |Downstream pressure of the PWV in the production tube       |Pa                  |Empty      |\n",
      "|QBS          |Flow rate at the SP (service pump)                          |m3/s                |Empty      |\n",
      "|well         |Well name                                                   |Well Name           |Identifier |\n",
      "|id           |Instance identifier                                         |Instance ID         |Identifier |\n",
      "|Instance     |Instance count based on manual labeling                     |Instance ID (Manual)|Identifier |\n",
      "|timestamp    |Timestamp                                                   |Timestamp           |Timestamp  |\n",
      "+-------------+------------------------------------------------------------+--------------------+-----------+\n",
      "\n"
     ]
    }
   ],
   "source": [
    "### Load Reference Table\n",
    "REFERENCE_TABLE_PATH = \"../EDA/Results/reference_table_real.csv\"\n",
    "reference_table_missing_values_real = spark.read.csv(REFERENCE_TABLE_PATH, header=True)\n",
    "reference_table_missing_values_real = reference_table_missing_values_real.drop(\"Unique Values (Real)\", \"Missing Values (%) (Real)\")\n",
    "reference_table_missing_values_real.sort(\"Value Type\").show(truncate=False, n=100)"
   ]
  },
  {
   "cell_type": "markdown",
   "metadata": {},
   "source": [
    "### Defining the features to be used for the cleaning and the types of features based on the reference table defined in EDA"
   ]
  },
  {
   "cell_type": "code",
   "execution_count": 5,
   "metadata": {},
   "outputs": [],
   "source": [
    "### Define Features\n",
    "feature_names = [\n",
    "    row[\"Tag\"] for row in reference_table_missing_values_real.filter(col(\"Value Type\").isin([\"Continuous\", \"Categorical\"])).collect()\n",
    "    if row[\"Tag\"] != \"DataType\"\n",
    "]\n",
    "features_continuous = [\n",
    "    row[\"Tag\"] for row in reference_table_missing_values_real.filter(col(\"Value Type\") == \"Continuous\").collect()\n",
    "]\n",
    "features_categorical = [\n",
    "    row[\"Tag\"] for row in reference_table_missing_values_real.filter(col(\"Value Type\") == \"Categorical\").collect()\n",
    "    if row[\"Tag\"] != \"DataType\"\n",
    "]"
   ]
  },
  {
   "cell_type": "markdown",
   "metadata": {},
   "source": [
    "# Converting the Real Dataset from CSV to Parquet"
   ]
  },
  {
   "cell_type": "code",
   "execution_count": 6,
   "metadata": {},
   "outputs": [
    {
     "name": "stderr",
     "output_type": "stream",
     "text": [
      "24/12/11 14:25:39 WARN SparkStringUtils: Truncated the string representation of a plan since it was too large. This behavior can be adjusted by setting 'spark.sql.debug.maxToStringFields'.\n",
      "                                                                                \r"
     ]
    }
   ],
   "source": [
    "# Conver csv to parquet format\n",
    "real_instances = spark.read.csv(\"../Data/3W Original/real_instances.csv\", header=True)\n",
    "real_instances.write.mode(\"overwrite\").parquet(\"../Data/3W Original/real_instances.parquet\")"
   ]
  },
  {
   "cell_type": "markdown",
   "metadata": {},
   "source": [
    "### Reading the Parquet for the real dataset"
   ]
  },
  {
   "cell_type": "code",
   "execution_count": 7,
   "metadata": {},
   "outputs": [],
   "source": [
    "### Load Original 3W (Real) Dataset\n",
    "DATA_PATH = \"../Data/3W Original/real_instances.parquet\"\n",
    "spark_df_real = spark.read.parquet(DATA_PATH)"
   ]
  },
  {
   "cell_type": "markdown",
   "metadata": {},
   "source": [
    "# Cleaning Missing Values"
   ]
  },
  {
   "cell_type": "code",
   "execution_count": null,
   "metadata": {},
   "outputs": [
    {
     "name": "stderr",
     "output_type": "stream",
     "text": [
      "Cleaning Instances:   0%|          | 0/1119 [00:00<?, ?it/s]                    Java HotSpot(TM) 64-Bit Server VM warning: CodeCache is full. Compiler has been disabled.\n",
      "Java HotSpot(TM) 64-Bit Server VM warning: Try increasing the code cache size using -XX:ReservedCodeCacheSize=\n"
     ]
    },
    {
     "name": "stdout",
     "output_type": "stream",
     "text": [
      "CodeCache: size=131072Kb used=35110Kb max_used=35164Kb free=95961Kb\n",
      " bounds [0x000000010d1f8000, 0x000000010f488000, 0x00000001151f8000]\n",
      " total_blobs=13565 nmethods=12533 adapters=943\n",
      " compilation: disabled (not enough contiguous free space left)\n"
     ]
    },
    {
     "name": "stderr",
     "output_type": "stream",
     "text": [
      "Cleaning Instances:   0%|          | 1/1119 [00:06<2:06:44,  6.80s/it]          "
     ]
    },
    {
     "name": "stdout",
     "output_type": "stream",
     "text": [
      "Processed: Label - 3, Instance - 1078\n"
     ]
    },
    {
     "name": "stderr",
     "output_type": "stream",
     "text": [
      "Cleaning Instances:   0%|          | 2/1119 [00:10<1:28:38,  4.76s/it]"
     ]
    },
    {
     "name": "stdout",
     "output_type": "stream",
     "text": [
      "Processed: Label - 2, Instance - 1091\n"
     ]
    },
    {
     "name": "stderr",
     "output_type": "stream",
     "text": [
      "Cleaning Instances:   0%|          | 3/1119 [00:13<1:18:37,  4.23s/it]"
     ]
    },
    {
     "name": "stdout",
     "output_type": "stream",
     "text": [
      "Processed: Label - 3, Instance - 1074\n"
     ]
    },
    {
     "name": "stderr",
     "output_type": "stream",
     "text": [
      "Cleaning Instances:   0%|          | 4/1119 [00:17<1:11:44,  3.86s/it]"
     ]
    },
    {
     "name": "stdout",
     "output_type": "stream",
     "text": [
      "Processed: Label - 3, Instance - 1079\n"
     ]
    },
    {
     "name": "stderr",
     "output_type": "stream",
     "text": [
      "Cleaning Instances:   0%|          | 5/1119 [00:19<59:05,  3.18s/it]  "
     ]
    },
    {
     "name": "stdout",
     "output_type": "stream",
     "text": [
      "Processed: Label - 2, Instance - 1089\n"
     ]
    },
    {
     "name": "stderr",
     "output_type": "stream",
     "text": [
      "Cleaning Instances:   1%|          | 6/1119 [00:21<54:42,  2.95s/it]"
     ]
    },
    {
     "name": "stdout",
     "output_type": "stream",
     "text": [
      "Processed: Label - 2, Instance - 1097\n"
     ]
    },
    {
     "name": "stderr",
     "output_type": "stream",
     "text": [
      "Cleaning Instances:   1%|          | 7/1119 [00:25<1:01:52,  3.34s/it]"
     ]
    },
    {
     "name": "stdout",
     "output_type": "stream",
     "text": [
      "Processed: Label - 5, Instance - 1108\n"
     ]
    },
    {
     "name": "stderr",
     "output_type": "stream",
     "text": [
      "Cleaning Instances:   1%|          | 8/1119 [00:28<1:00:02,  3.24s/it]"
     ]
    },
    {
     "name": "stdout",
     "output_type": "stream",
     "text": [
      "Processed: Label - 3, Instance - 1073\n"
     ]
    },
    {
     "name": "stderr",
     "output_type": "stream",
     "text": [
      "Cleaning Instances:   1%|          | 9/1119 [00:31<59:31,  3.22s/it]  "
     ]
    },
    {
     "name": "stdout",
     "output_type": "stream",
     "text": [
      "Processed: Label - 3, Instance - 1071\n"
     ]
    },
    {
     "name": "stderr",
     "output_type": "stream",
     "text": [
      "Cleaning Instances:   1%|          | 10/1119 [00:35<59:49,  3.24s/it]"
     ]
    },
    {
     "name": "stdout",
     "output_type": "stream",
     "text": [
      "Processed: Label - 3, Instance - 1075\n"
     ]
    },
    {
     "name": "stderr",
     "output_type": "stream",
     "text": [
      "Cleaning Instances:   1%|          | 11/1119 [00:38<1:00:46,  3.29s/it]"
     ]
    },
    {
     "name": "stdout",
     "output_type": "stream",
     "text": [
      "Processed: Label - 3, Instance - 1076\n"
     ]
    },
    {
     "name": "stderr",
     "output_type": "stream",
     "text": [
      "Cleaning Instances:   1%|          | 12/1119 [00:41<56:14,  3.05s/it]  "
     ]
    },
    {
     "name": "stdout",
     "output_type": "stream",
     "text": [
      "Processed: Label - 2, Instance - 1096\n"
     ]
    },
    {
     "name": "stderr",
     "output_type": "stream",
     "text": [
      "Cleaning Instances:   1%|          | 13/1119 [00:44<57:45,  3.13s/it]"
     ]
    },
    {
     "name": "stdout",
     "output_type": "stream",
     "text": [
      "Processed: Label - 3, Instance - 1082\n"
     ]
    },
    {
     "name": "stderr",
     "output_type": "stream",
     "text": [
      "Cleaning Instances:   1%|▏         | 14/1119 [00:46<54:18,  2.95s/it]"
     ]
    },
    {
     "name": "stdout",
     "output_type": "stream",
     "text": [
      "Processed: Label - 2, Instance - 1093\n"
     ]
    },
    {
     "name": "stderr",
     "output_type": "stream",
     "text": [
      "Cleaning Instances:   1%|▏         | 15/1119 [00:48<49:07,  2.67s/it]"
     ]
    },
    {
     "name": "stdout",
     "output_type": "stream",
     "text": [
      "Processed: Label - 2, Instance - 1094\n"
     ]
    },
    {
     "name": "stderr",
     "output_type": "stream",
     "text": [
      "Cleaning Instances:   1%|▏         | 16/1119 [00:51<48:31,  2.64s/it]"
     ]
    },
    {
     "name": "stdout",
     "output_type": "stream",
     "text": [
      "Processed: Label - 2, Instance - 1092\n"
     ]
    },
    {
     "name": "stderr",
     "output_type": "stream",
     "text": [
      "Cleaning Instances:   2%|▏         | 17/1119 [00:55<55:49,  3.04s/it]"
     ]
    },
    {
     "name": "stdout",
     "output_type": "stream",
     "text": [
      "Processed: Label - 3, Instance - 1068\n"
     ]
    },
    {
     "name": "stderr",
     "output_type": "stream",
     "text": [
      "Cleaning Instances:   2%|▏         | 18/1119 [00:58<58:16,  3.18s/it]"
     ]
    },
    {
     "name": "stdout",
     "output_type": "stream",
     "text": [
      "Processed: Label - 3, Instance - 1085\n"
     ]
    },
    {
     "name": "stderr",
     "output_type": "stream",
     "text": [
      "Cleaning Instances:   2%|▏         | 19/1119 [01:01<54:18,  2.96s/it]"
     ]
    },
    {
     "name": "stdout",
     "output_type": "stream",
     "text": [
      "Processed: Label - 2, Instance - 1087\n"
     ]
    },
    {
     "name": "stderr",
     "output_type": "stream",
     "text": [
      "Cleaning Instances:   2%|▏         | 20/1119 [01:04<52:35,  2.87s/it]"
     ]
    },
    {
     "name": "stdout",
     "output_type": "stream",
     "text": [
      "Processed: Label - 2, Instance - 1088\n"
     ]
    },
    {
     "name": "stderr",
     "output_type": "stream",
     "text": [
      "Cleaning Instances:   2%|▏         | 21/1119 [01:07<54:00,  2.95s/it]"
     ]
    },
    {
     "name": "stdout",
     "output_type": "stream",
     "text": [
      "Processed: Label - 2, Instance - 1104\n"
     ]
    },
    {
     "name": "stderr",
     "output_type": "stream",
     "text": [
      "Cleaning Instances:   2%|▏         | 22/1119 [01:10<58:27,  3.20s/it]"
     ]
    },
    {
     "name": "stdout",
     "output_type": "stream",
     "text": [
      "Processed: Label - 2, Instance - 1106\n"
     ]
    },
    {
     "name": "stderr",
     "output_type": "stream",
     "text": [
      "Cleaning Instances:   2%|▏         | 23/1119 [01:14<57:42,  3.16s/it]"
     ]
    },
    {
     "name": "stdout",
     "output_type": "stream",
     "text": [
      "Processed: Label - 2, Instance - 1107\n"
     ]
    },
    {
     "name": "stderr",
     "output_type": "stream",
     "text": [
      "Cleaning Instances:   2%|▏         | 24/1119 [01:18<1:02:16,  3.41s/it]"
     ]
    },
    {
     "name": "stdout",
     "output_type": "stream",
     "text": [
      "Processed: Label - 3, Instance - 1083\n"
     ]
    },
    {
     "name": "stderr",
     "output_type": "stream",
     "text": [
      "Cleaning Instances:   2%|▏         | 25/1119 [01:21<1:00:08,  3.30s/it]"
     ]
    },
    {
     "name": "stdout",
     "output_type": "stream",
     "text": [
      "Processed: Label - 2, Instance - 1086\n"
     ]
    },
    {
     "name": "stderr",
     "output_type": "stream",
     "text": [
      "Cleaning Instances:   2%|▏         | 26/1119 [01:25<1:04:51,  3.56s/it]"
     ]
    },
    {
     "name": "stdout",
     "output_type": "stream",
     "text": [
      "Processed: Label - 3, Instance - 1069\n"
     ]
    },
    {
     "name": "stderr",
     "output_type": "stream",
     "text": [
      "Cleaning Instances:   2%|▏         | 27/1119 [01:29<1:07:49,  3.73s/it]"
     ]
    },
    {
     "name": "stdout",
     "output_type": "stream",
     "text": [
      "Processed: Label - 3, Instance - 1070\n"
     ]
    },
    {
     "name": "stderr",
     "output_type": "stream",
     "text": [
      "Cleaning Instances:   3%|▎         | 28/1119 [01:33<1:10:31,  3.88s/it]"
     ]
    },
    {
     "name": "stdout",
     "output_type": "stream",
     "text": [
      "Processed: Label - 3, Instance - 1077\n"
     ]
    },
    {
     "name": "stderr",
     "output_type": "stream",
     "text": [
      "Cleaning Instances:   3%|▎         | 29/1119 [01:37<1:11:44,  3.95s/it]"
     ]
    },
    {
     "name": "stdout",
     "output_type": "stream",
     "text": [
      "Processed: Label - 3, Instance - 1081\n"
     ]
    },
    {
     "name": "stderr",
     "output_type": "stream",
     "text": [
      "Cleaning Instances:   3%|▎         | 30/1119 [01:40<1:06:27,  3.66s/it]"
     ]
    },
    {
     "name": "stdout",
     "output_type": "stream",
     "text": [
      "Processed: Label - 2, Instance - 1090\n"
     ]
    },
    {
     "name": "stderr",
     "output_type": "stream",
     "text": [
      "Cleaning Instances:   3%|▎         | 31/1119 [01:46<1:17:24,  4.27s/it]"
     ]
    },
    {
     "name": "stdout",
     "output_type": "stream",
     "text": [
      "Processed: Label - 5, Instance - 1109\n"
     ]
    },
    {
     "name": "stderr",
     "output_type": "stream",
     "text": [
      "Cleaning Instances:   3%|▎         | 32/1119 [01:49<1:12:33,  4.01s/it]"
     ]
    },
    {
     "name": "stdout",
     "output_type": "stream",
     "text": [
      "Processed: Label - 5, Instance - 1110\n"
     ]
    },
    {
     "name": "stderr",
     "output_type": "stream",
     "text": [
      "Cleaning Instances:   3%|▎         | 33/1119 [01:55<1:20:45,  4.46s/it]"
     ]
    },
    {
     "name": "stdout",
     "output_type": "stream",
     "text": [
      "Processed: Label - 5, Instance - 1111\n"
     ]
    },
    {
     "name": "stderr",
     "output_type": "stream",
     "text": [
      "Cleaning Instances:   3%|▎         | 34/1119 [01:59<1:17:39,  4.29s/it]"
     ]
    },
    {
     "name": "stdout",
     "output_type": "stream",
     "text": [
      "Processed: Label - 3, Instance - 1072\n"
     ]
    },
    {
     "name": "stderr",
     "output_type": "stream",
     "text": [
      "Cleaning Instances:   3%|▎         | 35/1119 [02:02<1:10:06,  3.88s/it]"
     ]
    },
    {
     "name": "stdout",
     "output_type": "stream",
     "text": [
      "Processed: Label - 2, Instance - 1100\n"
     ]
    },
    {
     "name": "stderr",
     "output_type": "stream",
     "text": [
      "Cleaning Instances:   3%|▎         | 36/1119 [02:05<1:04:59,  3.60s/it]"
     ]
    },
    {
     "name": "stdout",
     "output_type": "stream",
     "text": [
      "Processed: Label - 2, Instance - 1101\n"
     ]
    },
    {
     "name": "stderr",
     "output_type": "stream",
     "text": [
      "Cleaning Instances:   3%|▎         | 37/1119 [02:08<1:01:57,  3.44s/it]"
     ]
    },
    {
     "name": "stdout",
     "output_type": "stream",
     "text": [
      "Processed: Label - 2, Instance - 1105\n"
     ]
    },
    {
     "name": "stderr",
     "output_type": "stream",
     "text": [
      "Cleaning Instances:   3%|▎         | 38/1119 [02:12<1:06:22,  3.68s/it]"
     ]
    },
    {
     "name": "stdout",
     "output_type": "stream",
     "text": [
      "Processed: Label - 3, Instance - 1084\n"
     ]
    },
    {
     "name": "stderr",
     "output_type": "stream",
     "text": [
      "Cleaning Instances:   3%|▎         | 39/1119 [02:15<1:02:45,  3.49s/it]"
     ]
    },
    {
     "name": "stdout",
     "output_type": "stream",
     "text": [
      "Processed: Label - 2, Instance - 1098\n"
     ]
    },
    {
     "name": "stderr",
     "output_type": "stream",
     "text": [
      "Cleaning Instances:   4%|▎         | 40/1119 [02:18<1:03:09,  3.51s/it]"
     ]
    },
    {
     "name": "stdout",
     "output_type": "stream",
     "text": [
      "Processed: Label - 2, Instance - 1099\n"
     ]
    },
    {
     "name": "stderr",
     "output_type": "stream",
     "text": [
      "Cleaning Instances:   4%|▎         | 41/1119 [02:22<1:04:12,  3.57s/it]"
     ]
    },
    {
     "name": "stdout",
     "output_type": "stream",
     "text": [
      "Processed: Label - 2, Instance - 1102\n"
     ]
    },
    {
     "name": "stderr",
     "output_type": "stream",
     "text": [
      "Cleaning Instances:   4%|▍         | 42/1119 [02:25<1:01:36,  3.43s/it]"
     ]
    },
    {
     "name": "stdout",
     "output_type": "stream",
     "text": [
      "Processed: Label - 2, Instance - 1103\n"
     ]
    },
    {
     "name": "stderr",
     "output_type": "stream",
     "text": [
      "Cleaning Instances:   4%|▍         | 43/1119 [02:29<1:04:05,  3.57s/it]"
     ]
    },
    {
     "name": "stdout",
     "output_type": "stream",
     "text": [
      "Processed: Label - 3, Instance - 1080\n"
     ]
    },
    {
     "name": "stderr",
     "output_type": "stream",
     "text": [
      "Cleaning Instances:   4%|▍         | 44/1119 [02:33<1:03:07,  3.52s/it]"
     ]
    },
    {
     "name": "stdout",
     "output_type": "stream",
     "text": [
      "Processed: Label - 2, Instance - 1095\n"
     ]
    },
    {
     "name": "stderr",
     "output_type": "stream",
     "text": [
      "Cleaning Instances:   4%|▍         | 45/1119 [02:39<1:17:43,  4.34s/it]"
     ]
    },
    {
     "name": "stdout",
     "output_type": "stream",
     "text": [
      "Processed: Label - 9, Instance - 24\n"
     ]
    },
    {
     "name": "stderr",
     "output_type": "stream",
     "text": [
      "Cleaning Instances:   4%|▍         | 46/1119 [02:43<1:14:23,  4.16s/it]"
     ]
    },
    {
     "name": "stdout",
     "output_type": "stream",
     "text": [
      "Processed: Label - 9, Instance - 39\n"
     ]
    },
    {
     "name": "stderr",
     "output_type": "stream",
     "text": [
      "Cleaning Instances:   4%|▍         | 47/1119 [02:46<1:12:42,  4.07s/it]"
     ]
    },
    {
     "name": "stdout",
     "output_type": "stream",
     "text": [
      "Processed: Label - 9, Instance - 25\n"
     ]
    },
    {
     "name": "stderr",
     "output_type": "stream",
     "text": [
      "Cleaning Instances:   4%|▍         | 48/1119 [02:52<1:20:35,  4.52s/it]"
     ]
    },
    {
     "name": "stdout",
     "output_type": "stream",
     "text": [
      "Processed: Label - 9, Instance - 28\n"
     ]
    },
    {
     "name": "stderr",
     "output_type": "stream",
     "text": [
      "Cleaning Instances:   4%|▍         | 49/1119 [02:56<1:19:11,  4.44s/it]"
     ]
    },
    {
     "name": "stdout",
     "output_type": "stream",
     "text": [
      "Processed: Label - 9, Instance - 36\n"
     ]
    },
    {
     "name": "stderr",
     "output_type": "stream",
     "text": [
      "Cleaning Instances:   4%|▍         | 50/1119 [03:02<1:23:35,  4.69s/it]"
     ]
    },
    {
     "name": "stdout",
     "output_type": "stream",
     "text": [
      "Processed: Label - 9, Instance - 29\n"
     ]
    },
    {
     "name": "stderr",
     "output_type": "stream",
     "text": [
      "Cleaning Instances:   5%|▍         | 51/1119 [03:07<1:30:10,  5.07s/it]"
     ]
    },
    {
     "name": "stdout",
     "output_type": "stream",
     "text": [
      "Processed: Label - 9, Instance - 38\n"
     ]
    },
    {
     "name": "stderr",
     "output_type": "stream",
     "text": [
      "Cleaning Instances:   5%|▍         | 52/1119 [03:11<1:23:24,  4.69s/it]"
     ]
    },
    {
     "name": "stdout",
     "output_type": "stream",
     "text": [
      "Processed: Label - 9, Instance - 14\n"
     ]
    },
    {
     "name": "stderr",
     "output_type": "stream",
     "text": [
      "Cleaning Instances:   5%|▍         | 53/1119 [03:18<1:32:42,  5.22s/it]         "
     ]
    },
    {
     "name": "stdout",
     "output_type": "stream",
     "text": [
      "Processed: Label - 9, Instance - 40\n"
     ]
    },
    {
     "name": "stderr",
     "output_type": "stream",
     "text": [
      "24/12/11 14:29:52 WARN TaskSetManager: Stage 5524 contains a task of very large size (1460 KiB). The maximum recommended task size is 1000 KiB.\n",
      "Cleaning Instances:   5%|▍         | 54/1119 [03:33<2:24:31,  8.14s/it]         "
     ]
    },
    {
     "name": "stdout",
     "output_type": "stream",
     "text": [
      "Processed: Label - 9, Instance - 43\n"
     ]
    },
    {
     "name": "stderr",
     "output_type": "stream",
     "text": [
      "Cleaning Instances:   5%|▍         | 55/1119 [03:38<2:07:46,  7.21s/it]"
     ]
    },
    {
     "name": "stdout",
     "output_type": "stream",
     "text": [
      "Processed: Label - 9, Instance - 26\n"
     ]
    },
    {
     "name": "stderr",
     "output_type": "stream",
     "text": [
      "Cleaning Instances:   5%|▌         | 56/1119 [03:43<1:57:13,  6.62s/it]         "
     ]
    },
    {
     "name": "stdout",
     "output_type": "stream",
     "text": [
      "Processed: Label - 9, Instance - 33\n"
     ]
    },
    {
     "name": "stderr",
     "output_type": "stream",
     "text": [
      "Cleaning Instances:   5%|▌         | 57/1119 [03:47<1:43:38,  5.86s/it]"
     ]
    },
    {
     "name": "stdout",
     "output_type": "stream",
     "text": [
      "Processed: Label - 9, Instance - 16\n"
     ]
    },
    {
     "name": "stderr",
     "output_type": "stream",
     "text": [
      "Cleaning Instances:   5%|▌         | 58/1119 [03:50<1:25:34,  4.84s/it]"
     ]
    },
    {
     "name": "stdout",
     "output_type": "stream",
     "text": [
      "Processed: Label - 9, Instance - 17\n"
     ]
    },
    {
     "name": "stderr",
     "output_type": "stream",
     "text": [
      "Cleaning Instances:   5%|▌         | 59/1119 [03:56<1:33:43,  5.31s/it]"
     ]
    },
    {
     "name": "stdout",
     "output_type": "stream",
     "text": [
      "Processed: Label - 9, Instance - 19\n"
     ]
    },
    {
     "name": "stderr",
     "output_type": "stream",
     "text": [
      "Cleaning Instances:   5%|▌         | 60/1119 [04:02<1:36:00,  5.44s/it]         "
     ]
    },
    {
     "name": "stdout",
     "output_type": "stream",
     "text": [
      "Processed: Label - 9, Instance - 41\n"
     ]
    },
    {
     "name": "stderr",
     "output_type": "stream",
     "text": [
      "Cleaning Instances:   5%|▌         | 61/1119 [04:07<1:33:09,  5.28s/it]"
     ]
    },
    {
     "name": "stdout",
     "output_type": "stream",
     "text": [
      "Processed: Label - 9, Instance - 15\n"
     ]
    },
    {
     "name": "stderr",
     "output_type": "stream",
     "text": [
      "Cleaning Instances:   6%|▌         | 62/1119 [04:11<1:31:03,  5.17s/it]"
     ]
    },
    {
     "name": "stdout",
     "output_type": "stream",
     "text": [
      "Processed: Label - 9, Instance - 22\n"
     ]
    },
    {
     "name": "stderr",
     "output_type": "stream",
     "text": [
      "Cleaning Instances:   6%|▌         | 63/1119 [04:15<1:20:42,  4.59s/it]"
     ]
    },
    {
     "name": "stdout",
     "output_type": "stream",
     "text": [
      "Processed: Label - 9, Instance - 35\n"
     ]
    },
    {
     "name": "stderr",
     "output_type": "stream",
     "text": [
      "Cleaning Instances:   6%|▌         | 64/1119 [04:17<1:07:59,  3.87s/it]"
     ]
    },
    {
     "name": "stdout",
     "output_type": "stream",
     "text": [
      "Processed: Label - 9, Instance - 21\n"
     ]
    },
    {
     "name": "stderr",
     "output_type": "stream",
     "text": [
      "Cleaning Instances:   6%|▌         | 65/1119 [04:19<1:00:31,  3.45s/it]"
     ]
    },
    {
     "name": "stdout",
     "output_type": "stream",
     "text": [
      "Processed: Label - 9, Instance - 27\n"
     ]
    },
    {
     "name": "stderr",
     "output_type": "stream",
     "text": [
      "Cleaning Instances:   6%|▌         | 66/1119 [04:21<51:18,  2.92s/it]  "
     ]
    },
    {
     "name": "stdout",
     "output_type": "stream",
     "text": [
      "Processed: Label - 9, Instance - 37\n"
     ]
    },
    {
     "name": "stderr",
     "output_type": "stream",
     "text": [
      "Cleaning Instances:   6%|▌         | 67/1119 [04:26<1:02:36,  3.57s/it]"
     ]
    },
    {
     "name": "stdout",
     "output_type": "stream",
     "text": [
      "Processed: Label - 9, Instance - 31\n"
     ]
    },
    {
     "name": "stderr",
     "output_type": "stream",
     "text": [
      "Cleaning Instances:   6%|▌         | 68/1119 [04:30<1:01:58,  3.54s/it]"
     ]
    },
    {
     "name": "stdout",
     "output_type": "stream",
     "text": [
      "Processed: Label - 9, Instance - 32\n"
     ]
    },
    {
     "name": "stderr",
     "output_type": "stream",
     "text": [
      "Cleaning Instances:   6%|▌         | 69/1119 [04:36<1:14:53,  4.28s/it]"
     ]
    },
    {
     "name": "stdout",
     "output_type": "stream",
     "text": [
      "Processed: Label - 9, Instance - 18\n"
     ]
    },
    {
     "name": "stderr",
     "output_type": "stream",
     "text": [
      "Cleaning Instances:   6%|▋         | 70/1119 [04:38<1:03:43,  3.65s/it]"
     ]
    },
    {
     "name": "stdout",
     "output_type": "stream",
     "text": [
      "Processed: Label - 9, Instance - 30\n"
     ]
    },
    {
     "name": "stderr",
     "output_type": "stream",
     "text": [
      "Cleaning Instances:   6%|▋         | 71/1119 [04:40<56:10,  3.22s/it]  "
     ]
    },
    {
     "name": "stdout",
     "output_type": "stream",
     "text": [
      "Processed: Label - 9, Instance - 42\n"
     ]
    },
    {
     "name": "stderr",
     "output_type": "stream",
     "text": [
      "Cleaning Instances:   6%|▋         | 72/1119 [04:43<54:49,  3.14s/it]"
     ]
    },
    {
     "name": "stdout",
     "output_type": "stream",
     "text": [
      "Processed: Label - 9, Instance - 20\n"
     ]
    },
    {
     "name": "stderr",
     "output_type": "stream",
     "text": [
      "Cleaning Instances:   7%|▋         | 73/1119 [04:47<57:03,  3.27s/it]"
     ]
    },
    {
     "name": "stdout",
     "output_type": "stream",
     "text": [
      "Processed: Label - 9, Instance - 23\n"
     ]
    },
    {
     "name": "stderr",
     "output_type": "stream",
     "text": [
      "Cleaning Instances:   7%|▋         | 74/1119 [04:49<54:37,  3.14s/it]"
     ]
    },
    {
     "name": "stdout",
     "output_type": "stream",
     "text": [
      "Processed: Label - 9, Instance - 34\n"
     ]
    },
    {
     "name": "stderr",
     "output_type": "stream",
     "text": [
      "Cleaning Instances:   7%|▋         | 75/1119 [04:57<1:15:56,  4.36s/it]"
     ]
    },
    {
     "name": "stdout",
     "output_type": "stream",
     "text": [
      "Processed: Label - 9, Instance - 0\n"
     ]
    },
    {
     "name": "stderr",
     "output_type": "stream",
     "text": [
      "Cleaning Instances:   7%|▋         | 76/1119 [05:02<1:20:54,  4.65s/it]"
     ]
    },
    {
     "name": "stdout",
     "output_type": "stream",
     "text": [
      "Processed: Label - 9, Instance - 8\n"
     ]
    },
    {
     "name": "stderr",
     "output_type": "stream",
     "text": [
      "Cleaning Instances:   7%|▋         | 77/1119 [05:05<1:14:51,  4.31s/it]"
     ]
    },
    {
     "name": "stdout",
     "output_type": "stream",
     "text": [
      "Processed: Label - 9, Instance - 10\n"
     ]
    },
    {
     "name": "stderr",
     "output_type": "stream",
     "text": [
      "Cleaning Instances:   7%|▋         | 78/1119 [05:10<1:16:14,  4.39s/it]"
     ]
    },
    {
     "name": "stdout",
     "output_type": "stream",
     "text": [
      "Processed: Label - 9, Instance - 6\n"
     ]
    },
    {
     "name": "stderr",
     "output_type": "stream",
     "text": [
      "Cleaning Instances:   7%|▋         | 79/1119 [05:15<1:18:16,  4.52s/it]"
     ]
    },
    {
     "name": "stdout",
     "output_type": "stream",
     "text": [
      "Processed: Label - 9, Instance - 4\n"
     ]
    },
    {
     "name": "stderr",
     "output_type": "stream",
     "text": [
      "Cleaning Instances:   7%|▋         | 80/1119 [05:19<1:15:03,  4.33s/it]"
     ]
    },
    {
     "name": "stdout",
     "output_type": "stream",
     "text": [
      "Processed: Label - 9, Instance - 5\n"
     ]
    },
    {
     "name": "stderr",
     "output_type": "stream",
     "text": [
      "24/12/11 14:31:46 WARN TaskSetManager: Stage 8278 contains a task of very large size (1095 KiB). The maximum recommended task size is 1000 KiB.\n",
      "Cleaning Instances:   7%|▋         | 81/1119 [05:26<1:27:58,  5.09s/it]         "
     ]
    },
    {
     "name": "stdout",
     "output_type": "stream",
     "text": [
      "Processed: Label - 9, Instance - 3\n"
     ]
    },
    {
     "name": "stderr",
     "output_type": "stream",
     "text": [
      "Cleaning Instances:   7%|▋         | 82/1119 [05:33<1:39:22,  5.75s/it]         "
     ]
    },
    {
     "name": "stdout",
     "output_type": "stream",
     "text": [
      "Processed: Label - 9, Instance - 9\n"
     ]
    },
    {
     "name": "stderr",
     "output_type": "stream",
     "text": [
      "Cleaning Instances:   7%|▋         | 83/1119 [05:39<1:39:23,  5.76s/it]"
     ]
    },
    {
     "name": "stdout",
     "output_type": "stream",
     "text": [
      "Processed: Label - 9, Instance - 1\n"
     ]
    },
    {
     "name": "stderr",
     "output_type": "stream",
     "text": [
      "Cleaning Instances:   8%|▊         | 84/1119 [05:43<1:29:43,  5.20s/it]"
     ]
    },
    {
     "name": "stdout",
     "output_type": "stream",
     "text": [
      "Processed: Label - 9, Instance - 12\n"
     ]
    },
    {
     "name": "stderr",
     "output_type": "stream",
     "text": [
      "Cleaning Instances:   8%|▊         | 85/1119 [05:48<1:32:39,  5.38s/it]"
     ]
    },
    {
     "name": "stdout",
     "output_type": "stream",
     "text": [
      "Processed: Label - 9, Instance - 7\n"
     ]
    },
    {
     "name": "stderr",
     "output_type": "stream",
     "text": [
      "Cleaning Instances:   8%|▊         | 86/1119 [05:55<1:40:27,  5.84s/it]"
     ]
    },
    {
     "name": "stdout",
     "output_type": "stream",
     "text": [
      "Processed: Label - 9, Instance - 13\n"
     ]
    },
    {
     "name": "stderr",
     "output_type": "stream",
     "text": [
      "24/12/11 14:32:36 WARN TaskSetManager: Stage 8890 contains a task of very large size (2640 KiB). The maximum recommended task size is 1000 KiB.\n",
      "Cleaning Instances:   8%|▊         | 87/1119 [06:17<3:00:24, 10.49s/it]         "
     ]
    },
    {
     "name": "stdout",
     "output_type": "stream",
     "text": [
      "Processed: Label - 9, Instance - 2\n"
     ]
    },
    {
     "name": "stderr",
     "output_type": "stream",
     "text": [
      "Cleaning Instances:   8%|▊         | 88/1119 [06:20<2:23:26,  8.35s/it]"
     ]
    },
    {
     "name": "stdout",
     "output_type": "stream",
     "text": [
      "Processed: Label - 9, Instance - 11\n"
     ]
    },
    {
     "name": "stderr",
     "output_type": "stream",
     "text": [
      "24/12/11 14:33:32 WARN TaskSetManager: Stage 9094 contains a task of very large size (8150 KiB). The maximum recommended task size is 1000 KiB.\n",
      "Cleaning Instances:   8%|▊         | 89/1119 [07:18<6:36:43, 23.11s/it]         "
     ]
    },
    {
     "name": "stdout",
     "output_type": "stream",
     "text": [
      "Processed: Label - 8, Instance - 710\n"
     ]
    },
    {
     "name": "stderr",
     "output_type": "stream",
     "text": [
      "Cleaning Instances:   8%|▊         | 90/1119 [07:22<5:00:12, 17.51s/it]"
     ]
    },
    {
     "name": "stdout",
     "output_type": "stream",
     "text": [
      "Processed: Label - 4, Instance - 1029\n"
     ]
    },
    {
     "name": "stderr",
     "output_type": "stream",
     "text": [
      "Cleaning Instances:   8%|▊         | 91/1119 [07:25<3:45:07, 13.14s/it]"
     ]
    },
    {
     "name": "stdout",
     "output_type": "stream",
     "text": [
      "Processed: Label - 4, Instance - 1048\n"
     ]
    },
    {
     "name": "stderr",
     "output_type": "stream",
     "text": [
      "Cleaning Instances:   8%|▊         | 92/1119 [07:29<2:58:39, 10.44s/it]"
     ]
    },
    {
     "name": "stdout",
     "output_type": "stream",
     "text": [
      "Processed: Label - 3, Instance - 1057\n"
     ]
    },
    {
     "name": "stderr",
     "output_type": "stream",
     "text": [
      "24/12/11 14:34:35 WARN TaskSetManager: Stage 9502 contains a task of very large size (7218 KiB). The maximum recommended task size is 1000 KiB.\n",
      "Cleaning Instances:   8%|▊         | 93/1119 [08:21<6:32:58, 22.98s/it]         "
     ]
    },
    {
     "name": "stdout",
     "output_type": "stream",
     "text": [
      "Processed: Label - 8, Instance - 707\n"
     ]
    },
    {
     "name": "stderr",
     "output_type": "stream",
     "text": [
      "Cleaning Instances:   8%|▊         | 94/1119 [08:27<5:03:41, 17.78s/it]"
     ]
    },
    {
     "name": "stdout",
     "output_type": "stream",
     "text": [
      "Processed: Label - 4, Instance - 1030\n"
     ]
    },
    {
     "name": "stderr",
     "output_type": "stream",
     "text": [
      "Cleaning Instances:   8%|▊         | 95/1119 [08:30<3:49:52, 13.47s/it]"
     ]
    },
    {
     "name": "stdout",
     "output_type": "stream",
     "text": [
      "Processed: Label - 4, Instance - 1046\n"
     ]
    },
    {
     "name": "stderr",
     "output_type": "stream",
     "text": [
      "Cleaning Instances:   9%|▊         | 96/1119 [08:34<3:00:01, 10.56s/it]"
     ]
    },
    {
     "name": "stdout",
     "output_type": "stream",
     "text": [
      "Processed: Label - 4, Instance - 1051\n"
     ]
    },
    {
     "name": "stderr",
     "output_type": "stream",
     "text": [
      "Cleaning Instances:   9%|▊         | 97/1119 [08:38<2:27:56,  8.69s/it]"
     ]
    },
    {
     "name": "stdout",
     "output_type": "stream",
     "text": [
      "Processed: Label - 4, Instance - 1015\n"
     ]
    },
    {
     "name": "stderr",
     "output_type": "stream",
     "text": [
      "Cleaning Instances:   9%|▉         | 98/1119 [08:43<2:05:30,  7.38s/it]"
     ]
    },
    {
     "name": "stdout",
     "output_type": "stream",
     "text": [
      "Processed: Label - 3, Instance - 1056\n"
     ]
    },
    {
     "name": "stderr",
     "output_type": "stream",
     "text": [
      "Cleaning Instances:   9%|▉         | 99/1119 [08:46<1:42:26,  6.03s/it]"
     ]
    },
    {
     "name": "stdout",
     "output_type": "stream",
     "text": [
      "Processed: Label - 4, Instance - 1008\n"
     ]
    },
    {
     "name": "stderr",
     "output_type": "stream",
     "text": [
      "Cleaning Instances:   9%|▉         | 100/1119 [08:48<1:25:19,  5.02s/it]"
     ]
    },
    {
     "name": "stdout",
     "output_type": "stream",
     "text": [
      "Processed: Label - 4, Instance - 1012\n"
     ]
    },
    {
     "name": "stderr",
     "output_type": "stream",
     "text": [
      "Cleaning Instances:   9%|▉         | 101/1119 [08:51<1:13:37,  4.34s/it]"
     ]
    },
    {
     "name": "stdout",
     "output_type": "stream",
     "text": [
      "Processed: Label - 4, Instance - 1020\n"
     ]
    },
    {
     "name": "stderr",
     "output_type": "stream",
     "text": [
      "Cleaning Instances:   9%|▉         | 102/1119 [08:54<1:05:18,  3.85s/it]"
     ]
    },
    {
     "name": "stdout",
     "output_type": "stream",
     "text": [
      "Processed: Label - 4, Instance - 1021\n"
     ]
    },
    {
     "name": "stderr",
     "output_type": "stream",
     "text": [
      "Cleaning Instances:   9%|▉         | 103/1119 [08:56<58:12,  3.44s/it]  "
     ]
    },
    {
     "name": "stdout",
     "output_type": "stream",
     "text": [
      "Processed: Label - 4, Instance - 1034\n"
     ]
    },
    {
     "name": "stderr",
     "output_type": "stream",
     "text": [
      "Cleaning Instances:   9%|▉         | 104/1119 [08:59<53:38,  3.17s/it]"
     ]
    },
    {
     "name": "stdout",
     "output_type": "stream",
     "text": [
      "Processed: Label - 4, Instance - 1053\n"
     ]
    },
    {
     "name": "stderr",
     "output_type": "stream",
     "text": [
      "Cleaning Instances:   9%|▉         | 105/1119 [09:02<53:36,  3.17s/it]"
     ]
    },
    {
     "name": "stdout",
     "output_type": "stream",
     "text": [
      "Processed: Label - 3, Instance - 1058\n"
     ]
    },
    {
     "name": "stderr",
     "output_type": "stream",
     "text": [
      "Cleaning Instances:   9%|▉         | 106/1119 [09:06<57:04,  3.38s/it]"
     ]
    },
    {
     "name": "stdout",
     "output_type": "stream",
     "text": [
      "Processed: Label - 3, Instance - 1067\n"
     ]
    },
    {
     "name": "stderr",
     "output_type": "stream",
     "text": [
      "24/12/11 14:35:39 WARN TaskSetManager: Stage 10930 contains a task of very large size (1803 KiB). The maximum recommended task size is 1000 KiB.\n",
      "Cleaning Instances:  10%|▉         | 107/1119 [09:19<1:46:33,  6.32s/it]        "
     ]
    },
    {
     "name": "stdout",
     "output_type": "stream",
     "text": [
      "Processed: Label - 8, Instance - 708\n"
     ]
    },
    {
     "name": "stderr",
     "output_type": "stream",
     "text": [
      "Cleaning Instances:  10%|▉         | 108/1119 [09:22<1:30:20,  5.36s/it]"
     ]
    },
    {
     "name": "stdout",
     "output_type": "stream",
     "text": [
      "Processed: Label - 4, Instance - 1007\n"
     ]
    },
    {
     "name": "stderr",
     "output_type": "stream",
     "text": [
      "Cleaning Instances:  10%|▉         | 109/1119 [09:25<1:17:06,  4.58s/it]"
     ]
    },
    {
     "name": "stdout",
     "output_type": "stream",
     "text": [
      "Processed: Label - 4, Instance - 1016\n"
     ]
    },
    {
     "name": "stderr",
     "output_type": "stream",
     "text": [
      "Cleaning Instances:  10%|▉         | 110/1119 [09:28<1:11:04,  4.23s/it]"
     ]
    },
    {
     "name": "stdout",
     "output_type": "stream",
     "text": [
      "Processed: Label - 4, Instance - 1017\n"
     ]
    },
    {
     "name": "stderr",
     "output_type": "stream",
     "text": [
      "Cleaning Instances:  10%|▉         | 111/1119 [09:31<1:04:32,  3.84s/it]"
     ]
    },
    {
     "name": "stdout",
     "output_type": "stream",
     "text": [
      "Processed: Label - 4, Instance - 1036\n"
     ]
    },
    {
     "name": "stderr",
     "output_type": "stream",
     "text": [
      "Cleaning Instances:  10%|█         | 112/1119 [09:36<1:11:15,  4.25s/it]        "
     ]
    },
    {
     "name": "stdout",
     "output_type": "stream",
     "text": [
      "Processed: Label - 4, Instance - 1047\n"
     ]
    },
    {
     "name": "stderr",
     "output_type": "stream",
     "text": [
      "Cleaning Instances:  10%|█         | 113/1119 [09:41<1:12:00,  4.29s/it]"
     ]
    },
    {
     "name": "stdout",
     "output_type": "stream",
     "text": [
      "Processed: Label - 4, Instance - 1040\n"
     ]
    },
    {
     "name": "stderr",
     "output_type": "stream",
     "text": [
      "Cleaning Instances:  10%|█         | 114/1119 [09:45<1:11:53,  4.29s/it]"
     ]
    },
    {
     "name": "stdout",
     "output_type": "stream",
     "text": [
      "Processed: Label - 4, Instance - 1042\n"
     ]
    },
    {
     "name": "stderr",
     "output_type": "stream",
     "text": [
      "Cleaning Instances:  10%|█         | 115/1119 [09:52<1:23:18,  4.98s/it]        "
     ]
    },
    {
     "name": "stdout",
     "output_type": "stream",
     "text": [
      "Processed: Label - 3, Instance - 1060\n"
     ]
    },
    {
     "name": "stderr",
     "output_type": "stream",
     "text": [
      "Cleaning Instances:  10%|█         | 116/1119 [09:57<1:23:41,  5.01s/it]"
     ]
    },
    {
     "name": "stdout",
     "output_type": "stream",
     "text": [
      "Processed: Label - 4, Instance - 1010\n"
     ]
    },
    {
     "name": "stderr",
     "output_type": "stream",
     "text": [
      "Cleaning Instances:  10%|█         | 117/1119 [10:01<1:22:09,  4.92s/it]"
     ]
    },
    {
     "name": "stdout",
     "output_type": "stream",
     "text": [
      "Processed: Label - 4, Instance - 1033\n"
     ]
    },
    {
     "name": "stderr",
     "output_type": "stream",
     "text": [
      "Cleaning Instances:  11%|█         | 118/1119 [10:05<1:17:06,  4.62s/it]"
     ]
    },
    {
     "name": "stdout",
     "output_type": "stream",
     "text": [
      "Processed: Label - 4, Instance - 1045\n"
     ]
    },
    {
     "name": "stderr",
     "output_type": "stream",
     "text": [
      "Cleaning Instances:  11%|█         | 119/1119 [10:11<1:19:29,  4.77s/it]"
     ]
    },
    {
     "name": "stdout",
     "output_type": "stream",
     "text": [
      "Processed: Label - 3, Instance - 1055\n"
     ]
    },
    {
     "name": "stderr",
     "output_type": "stream",
     "text": [
      "Cleaning Instances:  11%|█         | 120/1119 [10:14<1:13:11,  4.40s/it]"
     ]
    },
    {
     "name": "stdout",
     "output_type": "stream",
     "text": [
      "Processed: Label - 4, Instance - 1009\n"
     ]
    }
   ],
   "source": [
    "### Fill Missing Values by Instance\n",
    "def clean_missing_values(input_df: DataFrame, reference_table: DataFrame, output_path: str, incomplete_dirs: set = None):\n",
    "    \"\"\"\n",
    "    Cleans missing values for each instance in the dataset by forward and backward filling.\n",
    "\n",
    "    Parameters:\n",
    "        input_df (DataFrame): Input Spark DataFrame containing the raw data.\n",
    "        reference_table (DataFrame): Reference table specifying feature types.\n",
    "        output_path (str): Directory path to save cleaned instances.\n",
    "        incomplete_dirs (set): Optional. Set of directories that need reprocessing.\n",
    "\n",
    "    Returns:\n",
    "        None\n",
    "    \"\"\"\n",
    "    reference_df = reference_table.select(\"Tag\", \"Value Type\").distinct()\n",
    "    relevant_columns = [\n",
    "        row[\"Tag\"] for row in reference_df.filter(col(\"Value Type\").isin([\"Continuous\", \"Categorical\"])).collect()\n",
    "        if row[\"Tag\"] != \"DataType\"\n",
    "    ]\n",
    "    empty_columns = [row[\"Tag\"] for row in reference_df.filter(col(\"Value Type\") == \"Empty\").collect()]\n",
    "    input_df = input_df.drop(*empty_columns)\n",
    "\n",
    "    unique_instances = input_df.select(\"Instance\", \"label\").distinct().collect()\n",
    "    for row in tqdm(unique_instances, desc=\"Cleaning Instances\"):\n",
    "        instance = row[\"Instance\"]\n",
    "        label = row[\"label\"]\n",
    "\n",
    "        label_dir = os.path.join(output_path, f\"Label_{label}\")\n",
    "        output_file = os.path.join(label_dir, f\"Instance_{instance}.parquet\")\n",
    "        if incomplete_dirs:\n",
    "            if output_file not in incomplete_dirs:\n",
    "                continue\n",
    "\n",
    "        try:\n",
    "            instance_df = input_df.filter(col(\"Instance\") == instance).orderBy(\"timestamp\")\n",
    "            total_rows = instance_df.count()\n",
    "            for column in instance_df.columns:\n",
    "                if instance_df.filter(col(column).isNull()).count() == total_rows:\n",
    "                    instance_df = instance_df.drop(column)\n",
    "\n",
    "            instance_pdf = instance_df.toPandas()\n",
    "            for column in relevant_columns:\n",
    "                if column in instance_pdf.columns:\n",
    "                    instance_pdf[column] = instance_pdf[column].ffill().bfill()\n",
    "\n",
    "            cleaned_sdf = spark.createDataFrame(instance_pdf)\n",
    "            os.makedirs(label_dir, exist_ok=True)\n",
    "            cleaned_sdf.write.mode(\"overwrite\").parquet(output_file)\n",
    "            print(f\"Processed: Label - {label}, Instance - {instance}\")\n",
    "\n",
    "        except Exception as e:\n",
    "            print(f\"Error processing instance: Label - {label}, Instance - {instance}, Error: {type(e).__name__}: {e}\")\n",
    "            continue\n",
    "\n",
    "    print(f\"Cleaning process completed. Data exported to: {output_path}\")\n",
    "\n",
    "# Clean Missing Values\n",
    "clean_missing_values(spark_df_real, reference_table_missing_values_real, os.path.join(STAGED_DATA_PATH, \"Stage 1\"))"
   ]
  },
  {
   "cell_type": "code",
   "execution_count": null,
   "metadata": {},
   "outputs": [
    {
     "name": "stderr",
     "output_type": "stream",
     "text": [
      "Transforming Class Column:   0%|          | 0/10 [00:00<?, ?it/s]"
     ]
    },
    {
     "name": "stdout",
     "output_type": "stream",
     "text": [
      "Processed: Label - Label_9, Instance - Instance_11.parquet\n",
      "Processed: Label - Label_9, Instance - Instance_5.parquet\n",
      "Processed: Label - Label_9, Instance - Instance_18.parquet\n",
      "Processed: Label - Label_9, Instance - Instance_45.parquet\n",
      "Processed: Label - Label_9, Instance - Instance_55.parquet\n",
      "Processed: Label - Label_9, Instance - Instance_27.parquet\n",
      "Processed: Label - Label_9, Instance - Instance_37.parquet\n",
      "Processed: Label - Label_9, Instance - Instance_19.parquet\n",
      "Processed: Label - Label_9, Instance - Instance_54.parquet\n",
      "Processed: Label - Label_9, Instance - Instance_44.parquet\n",
      "Processed: Label - Label_9, Instance - Instance_36.parquet\n",
      "Processed: Label - Label_9, Instance - Instance_26.parquet\n"
     ]
    },
    {
     "name": "stderr",
     "output_type": "stream",
     "text": [
      "                                                                                \r"
     ]
    },
    {
     "name": "stdout",
     "output_type": "stream",
     "text": [
      "Processed: Label - Label_9, Instance - Instance_10.parquet\n",
      "Processed: Label - Label_9, Instance - Instance_4.parquet\n",
      "Processed: Label - Label_9, Instance - Instance_24.parquet\n",
      "Processed: Label - Label_9, Instance - Instance_34.parquet\n",
      "Processed: Label - Label_9, Instance - Instance_46.parquet\n",
      "Processed: Label - Label_9, Instance - Instance_56.parquet\n",
      "Processed: Label - Label_9, Instance - Instance_6.parquet\n",
      "Processed: Label - Label_9, Instance - Instance_12.parquet\n",
      "Processed: Label - Label_9, Instance - Instance_7.parquet\n",
      "Processed: Label - Label_9, Instance - Instance_13.parquet\n",
      "Processed: Label - Label_9, Instance - Instance_35.parquet\n",
      "Processed: Label - Label_9, Instance - Instance_25.parquet\n",
      "Processed: Label - Label_9, Instance - Instance_47.parquet\n",
      "Processed: Label - Label_9, Instance - Instance_20.parquet\n",
      "Processed: Label - Label_9, Instance - Instance_30.parquet\n",
      "Processed: Label - Label_9, Instance - Instance_42.parquet\n",
      "Processed: Label - Label_9, Instance - Instance_52.parquet\n",
      "Processed: Label - Label_9, Instance - Instance_39.parquet\n",
      "Processed: Label - Label_9, Instance - Instance_29.parquet\n"
     ]
    },
    {
     "name": "stderr",
     "output_type": "stream",
     "text": [
      "                                                                                \r"
     ]
    },
    {
     "name": "stdout",
     "output_type": "stream",
     "text": [
      "Processed: Label - Label_9, Instance - Instance_2.parquet\n",
      "Processed: Label - Label_9, Instance - Instance_16.parquet\n",
      "Processed: Label - Label_9, Instance - Instance_28.parquet\n",
      "Processed: Label - Label_9, Instance - Instance_38.parquet\n",
      "Processed: Label - Label_9, Instance - Instance_3.parquet\n",
      "Processed: Label - Label_9, Instance - Instance_17.parquet\n",
      "Processed: Label - Label_9, Instance - Instance_31.parquet\n",
      "Processed: Label - Label_9, Instance - Instance_21.parquet\n",
      "Processed: Label - Label_9, Instance - Instance_53.parquet\n",
      "Processed: Label - Label_9, Instance - Instance_43.parquet\n",
      "Processed: Label - Label_9, Instance - Instance_48.parquet\n",
      "Processed: Label - Label_9, Instance - Instance_15.parquet\n",
      "Processed: Label - Label_9, Instance - Instance_1.parquet\n",
      "Processed: Label - Label_9, Instance - Instance_41.parquet\n",
      "Processed: Label - Label_9, Instance - Instance_51.parquet\n",
      "Processed: Label - Label_9, Instance - Instance_23.parquet\n",
      "Processed: Label - Label_9, Instance - Instance_33.parquet\n",
      "Processed: Label - Label_9, Instance - Instance_8.parquet\n",
      "Processed: Label - Label_9, Instance - Instance_50.parquet\n",
      "Processed: Label - Label_9, Instance - Instance_40.parquet\n",
      "Processed: Label - Label_9, Instance - Instance_32.parquet\n",
      "Processed: Label - Label_9, Instance - Instance_22.parquet\n",
      "Processed: Label - Label_9, Instance - Instance_9.parquet\n",
      "Processed: Label - Label_9, Instance - Instance_49.parquet\n",
      "Processed: Label - Label_9, Instance - Instance_14.parquet\n"
     ]
    },
    {
     "name": "stderr",
     "output_type": "stream",
     "text": [
      "Transforming Class Column:  10%|█         | 1/10 [00:37<05:39, 37.70s/it]"
     ]
    },
    {
     "name": "stdout",
     "output_type": "stream",
     "text": [
      "Processed: Label - Label_9, Instance - Instance_0.parquet\n",
      "Processed: Label - Label_7, Instance - Instance_653.parquet\n",
      "Processed: Label - Label_7, Instance - Instance_675.parquet\n",
      "Processed: Label - Label_7, Instance - Instance_665.parquet\n",
      "Processed: Label - Label_7, Instance - Instance_681.parquet\n"
     ]
    },
    {
     "name": "stderr",
     "output_type": "stream",
     "text": [
      "                                                                                \r"
     ]
    },
    {
     "name": "stdout",
     "output_type": "stream",
     "text": [
      "Processed: Label - Label_7, Instance - Instance_664.parquet\n",
      "Processed: Label - Label_7, Instance - Instance_674.parquet\n",
      "Processed: Label - Label_7, Instance - Instance_680.parquet\n",
      "Processed: Label - Label_7, Instance - Instance_652.parquet\n",
      "Processed: Label - Label_7, Instance - Instance_676.parquet\n",
      "Processed: Label - Label_7, Instance - Instance_666.parquet\n",
      "Processed: Label - Label_7, Instance - Instance_682.parquet\n",
      "Processed: Label - Label_7, Instance - Instance_659.parquet\n",
      "Processed: Label - Label_7, Instance - Instance_651.parquet\n",
      "Processed: Label - Label_7, Instance - Instance_667.parquet\n",
      "Processed: Label - Label_7, Instance - Instance_677.parquet\n"
     ]
    },
    {
     "name": "stderr",
     "output_type": "stream",
     "text": [
      "                                                                                \r"
     ]
    },
    {
     "name": "stdout",
     "output_type": "stream",
     "text": [
      "Processed: Label - Label_7, Instance - Instance_683.parquet\n"
     ]
    },
    {
     "name": "stderr",
     "output_type": "stream",
     "text": [
      "                                                                                \r"
     ]
    },
    {
     "name": "stdout",
     "output_type": "stream",
     "text": [
      "Processed: Label - Label_7, Instance - Instance_658.parquet\n",
      "Processed: Label - Label_7, Instance - Instance_686.parquet\n",
      "Processed: Label - Label_7, Instance - Instance_672.parquet\n"
     ]
    },
    {
     "name": "stderr",
     "output_type": "stream",
     "text": [
      "                                                                                \r"
     ]
    },
    {
     "name": "stdout",
     "output_type": "stream",
     "text": [
      "Processed: Label - Label_7, Instance - Instance_662.parquet\n",
      "Processed: Label - Label_7, Instance - Instance_654.parquet\n",
      "Processed: Label - Label_7, Instance - Instance_655.parquet\n"
     ]
    },
    {
     "name": "stderr",
     "output_type": "stream",
     "text": [
      "                                                                                \r"
     ]
    },
    {
     "name": "stdout",
     "output_type": "stream",
     "text": [
      "Processed: Label - Label_7, Instance - Instance_663.parquet\n"
     ]
    },
    {
     "name": "stderr",
     "output_type": "stream",
     "text": [
      "                                                                                \r"
     ]
    },
    {
     "name": "stdout",
     "output_type": "stream",
     "text": [
      "Processed: Label - Label_7, Instance - Instance_673.parquet\n",
      "Processed: Label - Label_7, Instance - Instance_657.parquet\n",
      "Processed: Label - Label_7, Instance - Instance_668.parquet\n"
     ]
    },
    {
     "name": "stderr",
     "output_type": "stream",
     "text": [
      "                                                                                \r"
     ]
    },
    {
     "name": "stdout",
     "output_type": "stream",
     "text": [
      "Processed: Label - Label_7, Instance - Instance_678.parquet\n",
      "Processed: Label - Label_7, Instance - Instance_685.parquet\n"
     ]
    },
    {
     "name": "stderr",
     "output_type": "stream",
     "text": [
      "                                                                                \r"
     ]
    },
    {
     "name": "stdout",
     "output_type": "stream",
     "text": [
      "Processed: Label - Label_7, Instance - Instance_671.parquet\n"
     ]
    },
    {
     "name": "stderr",
     "output_type": "stream",
     "text": [
      "                                                                                \r"
     ]
    },
    {
     "name": "stdout",
     "output_type": "stream",
     "text": [
      "Processed: Label - Label_7, Instance - Instance_661.parquet\n",
      "Processed: Label - Label_7, Instance - Instance_684.parquet\n",
      "Processed: Label - Label_7, Instance - Instance_660.parquet\n",
      "Processed: Label - Label_7, Instance - Instance_670.parquet\n"
     ]
    },
    {
     "name": "stderr",
     "output_type": "stream",
     "text": [
      "                                                                                \r"
     ]
    },
    {
     "name": "stdout",
     "output_type": "stream",
     "text": [
      "Processed: Label - Label_7, Instance - Instance_656.parquet\n",
      "Processed: Label - Label_7, Instance - Instance_679.parquet\n"
     ]
    },
    {
     "name": "stderr",
     "output_type": "stream",
     "text": [
      "Transforming Class Column:  20%|██        | 2/10 [01:06<04:21, 32.73s/it]"
     ]
    },
    {
     "name": "stdout",
     "output_type": "stream",
     "text": [
      "Processed: Label - Label_7, Instance - Instance_669.parquet\n",
      "Processed: Label - Label_0, Instance - Instance_245.parquet\n",
      "Processed: Label - Label_0, Instance - Instance_255.parquet\n",
      "Processed: Label - Label_0, Instance - Instance_410.parquet\n",
      "Processed: Label - Label_0, Instance - Instance_568.parquet\n",
      "Processed: Label - Label_0, Instance - Instance_400.parquet\n",
      "Processed: Label - Label_0, Instance - Instance_578.parquet\n",
      "Processed: Label - Label_0, Instance - Instance_123.parquet\n",
      "Processed: Label - Label_0, Instance - Instance_133.parquet\n",
      "Processed: Label - Label_0, Instance - Instance_384.parquet\n",
      "Processed: Label - Label_0, Instance - Instance_394.parquet\n",
      "Processed: Label - Label_0, Instance - Instance_141.parquet\n",
      "Processed: Label - Label_0, Instance - Instance_151.parquet\n",
      "Processed: Label - Label_0, Instance - Instance_63.parquet\n",
      "Processed: Label - Label_0, Instance - Instance_73.parquet\n",
      "Processed: Label - Label_0, Instance - Instance_472.parquet\n",
      "Processed: Label - Label_0, Instance - Instance_462.parquet\n",
      "Processed: Label - Label_0, Instance - Instance_227.parquet\n",
      "Processed: Label - Label_0, Instance - Instance_237.parquet\n",
      "Processed: Label - Label_0, Instance - Instance_496.parquet\n",
      "Processed: Label - Label_0, Instance - Instance_486.parquet\n",
      "Processed: Label - Label_0, Instance - Instance_87.parquet\n",
      "Processed: Label - Label_0, Instance - Instance_97.parquet\n",
      "Processed: Label - Label_0, Instance - Instance_631.parquet\n",
      "Processed: Label - Label_0, Instance - Instance_621.parquet\n",
      "Processed: Label - Label_0, Instance - Instance_302.parquet\n",
      "Processed: Label - Label_0, Instance - Instance_312.parquet\n",
      "Processed: Label - Label_0, Instance - Instance_557.parquet\n",
      "Processed: Label - Label_0, Instance - Instance_547.parquet\n",
      "Processed: Label - Label_0, Instance - Instance_535.parquet\n",
      "Processed: Label - Label_0, Instance - Instance_525.parquet\n",
      "Processed: Label - Label_0, Instance - Instance_218.parquet\n",
      "Processed: Label - Label_0, Instance - Instance_360.parquet\n",
      "Processed: Label - Label_0, Instance - Instance_208.parquet\n",
      "Processed: Label - Label_0, Instance - Instance_370.parquet\n",
      "Processed: Label - Label_0, Instance - Instance_643.parquet\n",
      "Processed: Label - Label_0, Instance - Instance_287.parquet\n",
      "Processed: Label - Label_0, Instance - Instance_297.parquet\n",
      "Processed: Label - Label_0, Instance - Instance_158.parquet\n",
      "Processed: Label - Label_0, Instance - Instance_148.parquet\n",
      "Processed: Label - Label_0, Instance - Instance_513.parquet\n",
      "Processed: Label - Label_0, Instance - Instance_503.parquet\n",
      "Processed: Label - Label_0, Instance - Instance_346.parquet\n",
      "Processed: Label - Label_0, Instance - Instance_356.parquet\n",
      "Processed: Label - Label_0, Instance - Instance_324.parquet\n",
      "Processed: Label - Label_0, Instance - Instance_334.parquet\n",
      "Processed: Label - Label_0, Instance - Instance_409.parquet\n",
      "Processed: Label - Label_0, Instance - Instance_571.parquet\n",
      "Processed: Label - Label_0, Instance - Instance_419.parquet\n",
      "Processed: Label - Label_0, Instance - Instance_561.parquet\n",
      "Processed: Label - Label_0, Instance - Instance_617.parquet\n",
      "Processed: Label - Label_0, Instance - Instance_607.parquet\n",
      "Processed: Label - Label_0, Instance - Instance_183.parquet\n",
      "Processed: Label - Label_0, Instance - Instance_193.parquet\n"
     ]
    },
    {
     "name": "stderr",
     "output_type": "stream",
     "text": [
      "                                                                                \r"
     ]
    },
    {
     "name": "stdout",
     "output_type": "stream",
     "text": [
      "Processed: Label - Label_0, Instance - Instance_454.parquet\n",
      "Processed: Label - Label_0, Instance - Instance_444.parquet\n",
      "Processed: Label - Label_0, Instance - Instance_201.parquet\n",
      "Processed: Label - Label_0, Instance - Instance_379.parquet\n",
      "Processed: Label - Label_0, Instance - Instance_211.parquet\n",
      "Processed: Label - Label_0, Instance - Instance_369.parquet\n",
      "Processed: Label - Label_0, Instance - Instance_167.parquet\n",
      "Processed: Label - Label_0, Instance - Instance_177.parquet\n",
      "Processed: Label - Label_0, Instance - Instance_595.parquet\n",
      "Processed: Label - Label_0, Instance - Instance_585.parquet\n",
      "Processed: Label - Label_0, Instance - Instance_628.parquet\n",
      "Processed: Label - Label_0, Instance - Instance_638.parquet\n",
      "Processed: Label - Label_0, Instance - Instance_105.parquet\n",
      "Processed: Label - Label_0, Instance - Instance_115.parquet\n",
      "Processed: Label - Label_0, Instance - Instance_263.parquet\n",
      "Processed: Label - Label_0, Instance - Instance_273.parquet\n",
      "Processed: Label - Label_0, Instance - Instance_436.parquet\n",
      "Processed: Label - Label_0, Instance - Instance_426.parquet\n",
      "Processed: Label - Label_0, Instance - Instance_149.parquet\n",
      "Processed: Label - Label_0, Instance - Instance_159.parquet\n",
      "Processed: Label - Label_0, Instance - Instance_357.parquet\n",
      "Processed: Label - Label_0, Instance - Instance_347.parquet\n",
      "Processed: Label - Label_0, Instance - Instance_502.parquet\n",
      "Processed: Label - Label_0, Instance - Instance_512.parquet\n",
      "Processed: Label - Label_0, Instance - Instance_296.parquet\n",
      "Processed: Label - Label_0, Instance - Instance_286.parquet\n",
      "Processed: Label - Label_0, Instance - Instance_192.parquet\n",
      "Processed: Label - Label_0, Instance - Instance_182.parquet\n",
      "Processed: Label - Label_0, Instance - Instance_560.parquet\n",
      "Processed: Label - Label_0, Instance - Instance_418.parquet\n"
     ]
    },
    {
     "name": "stderr",
     "output_type": "stream",
     "text": [
      "                                                                                \r"
     ]
    },
    {
     "name": "stdout",
     "output_type": "stream",
     "text": [
      "Processed: Label - Label_0, Instance - Instance_570.parquet\n",
      "Processed: Label - Label_0, Instance - Instance_408.parquet\n",
      "Processed: Label - Label_0, Instance - Instance_335.parquet\n",
      "Processed: Label - Label_0, Instance - Instance_325.parquet\n",
      "Processed: Label - Label_0, Instance - Instance_606.parquet\n",
      "Processed: Label - Label_0, Instance - Instance_616.parquet\n",
      "Processed: Label - Label_0, Instance - Instance_584.parquet\n",
      "Processed: Label - Label_0, Instance - Instance_594.parquet\n",
      "Processed: Label - Label_0, Instance - Instance_368.parquet\n",
      "Processed: Label - Label_0, Instance - Instance_210.parquet\n",
      "Processed: Label - Label_0, Instance - Instance_378.parquet\n",
      "Processed: Label - Label_0, Instance - Instance_200.parquet\n",
      "Processed: Label - Label_0, Instance - Instance_445.parquet\n",
      "Processed: Label - Label_0, Instance - Instance_455.parquet\n",
      "Processed: Label - Label_0, Instance - Instance_176.parquet\n",
      "Processed: Label - Label_0, Instance - Instance_166.parquet\n",
      "Processed: Label - Label_0, Instance - Instance_114.parquet\n",
      "Processed: Label - Label_0, Instance - Instance_104.parquet\n",
      "Processed: Label - Label_0, Instance - Instance_639.parquet\n",
      "Processed: Label - Label_0, Instance - Instance_629.parquet\n",
      "Processed: Label - Label_0, Instance - Instance_427.parquet\n",
      "Processed: Label - Label_0, Instance - Instance_437.parquet\n",
      "Processed: Label - Label_0, Instance - Instance_272.parquet\n",
      "Processed: Label - Label_0, Instance - Instance_262.parquet\n",
      "Processed: Label - Label_0, Instance - Instance_395.parquet\n",
      "Processed: Label - Label_0, Instance - Instance_385.parquet\n",
      "Processed: Label - Label_0, Instance - Instance_579.parquet\n",
      "Processed: Label - Label_0, Instance - Instance_401.parquet\n",
      "Processed: Label - Label_0, Instance - Instance_569.parquet\n",
      "Processed: Label - Label_0, Instance - Instance_411.parquet\n",
      "Processed: Label - Label_0, Instance - Instance_254.parquet\n",
      "Processed: Label - Label_0, Instance - Instance_244.parquet\n",
      "Processed: Label - Label_0, Instance - Instance_132.parquet\n",
      "Processed: Label - Label_0, Instance - Instance_122.parquet\n",
      "Processed: Label - Label_0, Instance - Instance_72.parquet\n",
      "Processed: Label - Label_0, Instance - Instance_62.parquet\n",
      "Processed: Label - Label_0, Instance - Instance_150.parquet\n",
      "Processed: Label - Label_0, Instance - Instance_140.parquet\n",
      "Processed: Label - Label_0, Instance - Instance_236.parquet\n",
      "Processed: Label - Label_0, Instance - Instance_226.parquet\n",
      "Processed: Label - Label_0, Instance - Instance_463.parquet\n",
      "Processed: Label - Label_0, Instance - Instance_473.parquet\n",
      "Processed: Label - Label_0, Instance - Instance_620.parquet\n",
      "Processed: Label - Label_0, Instance - Instance_630.parquet\n",
      "Processed: Label - Label_0, Instance - Instance_546.parquet\n",
      "Processed: Label - Label_0, Instance - Instance_556.parquet\n",
      "Processed: Label - Label_0, Instance - Instance_313.parquet\n",
      "Processed: Label - Label_0, Instance - Instance_303.parquet\n",
      "Processed: Label - Label_0, Instance - Instance_487.parquet\n",
      "Processed: Label - Label_0, Instance - Instance_497.parquet\n",
      "Processed: Label - Label_0, Instance - Instance_96.parquet\n",
      "Processed: Label - Label_0, Instance - Instance_86.parquet\n",
      "Processed: Label - Label_0, Instance - Instance_371.parquet\n",
      "Processed: Label - Label_0, Instance - Instance_209.parquet\n",
      "Processed: Label - Label_0, Instance - Instance_361.parquet\n",
      "Processed: Label - Label_0, Instance - Instance_219.parquet\n",
      "Processed: Label - Label_0, Instance - Instance_524.parquet\n",
      "Processed: Label - Label_0, Instance - Instance_534.parquet\n"
     ]
    },
    {
     "name": "stderr",
     "output_type": "stream",
     "text": [
      "                                                                                \r"
     ]
    },
    {
     "name": "stdout",
     "output_type": "stream",
     "text": [
      "Processed: Label - Label_0, Instance - Instance_642.parquet\n",
      "Processed: Label - Label_0, Instance - Instance_180.parquet\n",
      "Processed: Label - Label_0, Instance - Instance_190.parquet\n",
      "Processed: Label - Label_0, Instance - Instance_614.parquet\n",
      "Processed: Label - Label_0, Instance - Instance_604.parquet\n",
      "Processed: Label - Label_0, Instance - Instance_139.parquet\n",
      "Processed: Label - Label_0, Instance - Instance_129.parquet\n",
      "Processed: Label - Label_0, Instance - Instance_327.parquet\n",
      "Processed: Label - Label_0, Instance - Instance_337.parquet\n",
      "Processed: Label - Label_0, Instance - Instance_572.parquet\n"
     ]
    },
    {
     "name": "stderr",
     "output_type": "stream",
     "text": [
      "                                                                                \r"
     ]
    },
    {
     "name": "stdout",
     "output_type": "stream",
     "text": [
      "Processed: Label - Label_0, Instance - Instance_562.parquet\n",
      "Processed: Label - Label_0, Instance - Instance_510.parquet\n",
      "Processed: Label - Label_0, Instance - Instance_468.parquet\n",
      "Processed: Label - Label_0, Instance - Instance_500.parquet\n",
      "Processed: Label - Label_0, Instance - Instance_478.parquet\n",
      "Processed: Label - Label_0, Instance - Instance_345.parquet\n",
      "Processed: Label - Label_0, Instance - Instance_355.parquet\n",
      "Processed: Label - Label_0, Instance - Instance_79.parquet\n",
      "Processed: Label - Label_0, Instance - Instance_69.parquet\n"
     ]
    },
    {
     "name": "stderr",
     "output_type": "stream",
     "text": [
      "                                                                                \r"
     ]
    },
    {
     "name": "stdout",
     "output_type": "stream",
     "text": [
      "Processed: Label - Label_0, Instance - Instance_284.parquet\n",
      "Processed: Label - Label_0, Instance - Instance_294.parquet\n",
      "Processed: Label - Label_0, Instance - Instance_318.parquet\n",
      "Processed: Label - Label_0, Instance - Instance_260.parquet\n",
      "Processed: Label - Label_0, Instance - Instance_308.parquet\n",
      "Processed: Label - Label_0, Instance - Instance_270.parquet\n",
      "Processed: Label - Label_0, Instance - Instance_435.parquet\n",
      "Processed: Label - Label_0, Instance - Instance_425.parquet\n",
      "Processed: Label - Label_0, Instance - Instance_106.parquet\n",
      "Processed: Label - Label_0, Instance - Instance_116.parquet\n",
      "Processed: Label - Label_0, Instance - Instance_596.parquet\n",
      "Processed: Label - Label_0, Instance - Instance_586.parquet\n",
      "Processed: Label - Label_0, Instance - Instance_164.parquet\n",
      "Processed: Label - Label_0, Instance - Instance_174.parquet\n",
      "Processed: Label - Label_0, Instance - Instance_649.parquet\n",
      "Processed: Label - Label_0, Instance - Instance_457.parquet\n",
      "Processed: Label - Label_0, Instance - Instance_447.parquet\n",
      "Processed: Label - Label_0, Instance - Instance_202.parquet\n"
     ]
    },
    {
     "name": "stderr",
     "output_type": "stream",
     "text": [
      "                                                                                \r"
     ]
    },
    {
     "name": "stdout",
     "output_type": "stream",
     "text": [
      "Processed: Label - Label_0, Instance - Instance_212.parquet\n",
      "Processed: Label - Label_0, Instance - Instance_509.parquet\n",
      "Processed: Label - Label_0, Instance - Instance_471.parquet\n",
      "Processed: Label - Label_0, Instance - Instance_519.parquet\n",
      "Processed: Label - Label_0, Instance - Instance_461.parquet\n",
      "Processed: Label - Label_0, Instance - Instance_224.parquet\n",
      "Processed: Label - Label_0, Instance - Instance_234.parquet\n",
      "Processed: Label - Label_0, Instance - Instance_142.parquet\n",
      "Processed: Label - Label_0, Instance - Instance_152.parquet\n",
      "Processed: Label - Label_0, Instance - Instance_60.parquet\n",
      "Processed: Label - Label_0, Instance - Instance_70.parquet\n",
      "Processed: Label - Label_0, Instance - Instance_387.parquet\n"
     ]
    },
    {
     "name": "stderr",
     "output_type": "stream",
     "text": [
      "                                                                                \r"
     ]
    },
    {
     "name": "stdout",
     "output_type": "stream",
     "text": [
      "Processed: Label - Label_0, Instance - Instance_397.parquet\n",
      "Processed: Label - Label_0, Instance - Instance_199.parquet\n",
      "Processed: Label - Label_0, Instance - Instance_189.parquet\n",
      "Processed: Label - Label_0, Instance - Instance_120.parquet\n",
      "Processed: Label - Label_0, Instance - Instance_130.parquet\n",
      "Processed: Label - Label_0, Instance - Instance_246.parquet\n",
      "Processed: Label - Label_0, Instance - Instance_256.parquet\n",
      "Processed: Label - Label_0, Instance - Instance_413.parquet\n",
      "Processed: Label - Label_0, Instance - Instance_403.parquet\n",
      "Processed: Label - Label_0, Instance - Instance_650.parquet\n"
     ]
    },
    {
     "name": "stderr",
     "output_type": "stream",
     "text": [
      "                                                                                \r"
     ]
    },
    {
     "name": "stdout",
     "output_type": "stream",
     "text": [
      "Processed: Label - Label_0, Instance - Instance_640.parquet\n",
      "Processed: Label - Label_0, Instance - Instance_536.parquet\n",
      "Processed: Label - Label_0, Instance - Instance_526.parquet\n",
      "Processed: Label - Label_0, Instance - Instance_363.parquet\n",
      "Processed: Label - Label_0, Instance - Instance_373.parquet\n",
      "Processed: Label - Label_0, Instance - Instance_301.parquet\n",
      "Processed: Label - Label_0, Instance - Instance_279.parquet\n",
      "Processed: Label - Label_0, Instance - Instance_311.parquet\n",
      "Processed: Label - Label_0, Instance - Instance_269.parquet\n",
      "Processed: Label - Label_0, Instance - Instance_554.parquet\n"
     ]
    },
    {
     "name": "stderr",
     "output_type": "stream",
     "text": [
      "                                                                                \r"
     ]
    },
    {
     "name": "stdout",
     "output_type": "stream",
     "text": [
      "Processed: Label - Label_0, Instance - Instance_544.parquet\n",
      "Processed: Label - Label_0, Instance - Instance_632.parquet\n",
      "Processed: Label - Label_0, Instance - Instance_622.parquet\n",
      "Processed: Label - Label_0, Instance - Instance_84.parquet\n",
      "Processed: Label - Label_0, Instance - Instance_94.parquet\n",
      "Processed: Label - Label_0, Instance - Instance_495.parquet\n",
      "Processed: Label - Label_0, Instance - Instance_485.parquet\n",
      "Processed: Label - Label_0, Instance - Instance_235.parquet\n",
      "Processed: Label - Label_0, Instance - Instance_225.parquet\n",
      "Processed: Label - Label_0, Instance - Instance_460.parquet\n"
     ]
    },
    {
     "name": "stderr",
     "output_type": "stream",
     "text": [
      "                                                                                \r"
     ]
    },
    {
     "name": "stdout",
     "output_type": "stream",
     "text": [
      "Processed: Label - Label_0, Instance - Instance_518.parquet\n",
      "Processed: Label - Label_0, Instance - Instance_470.parquet\n",
      "Processed: Label - Label_0, Instance - Instance_508.parquet\n",
      "Processed: Label - Label_0, Instance - Instance_71.parquet\n",
      "Processed: Label - Label_0, Instance - Instance_61.parquet\n",
      "Processed: Label - Label_0, Instance - Instance_153.parquet\n",
      "Processed: Label - Label_0, Instance - Instance_143.parquet\n",
      "Processed: Label - Label_0, Instance - Instance_131.parquet\n",
      "Processed: Label - Label_0, Instance - Instance_121.parquet\n"
     ]
    },
    {
     "name": "stderr",
     "output_type": "stream",
     "text": [
      "                                                                                \r"
     ]
    },
    {
     "name": "stdout",
     "output_type": "stream",
     "text": [
      "Processed: Label - Label_0, Instance - Instance_402.parquet\n",
      "Processed: Label - Label_0, Instance - Instance_412.parquet\n",
      "Processed: Label - Label_0, Instance - Instance_257.parquet\n",
      "Processed: Label - Label_0, Instance - Instance_247.parquet\n",
      "Processed: Label - Label_0, Instance - Instance_396.parquet\n",
      "Processed: Label - Label_0, Instance - Instance_386.parquet\n",
      "Processed: Label - Label_0, Instance - Instance_188.parquet\n",
      "Processed: Label - Label_0, Instance - Instance_198.parquet\n",
      "Processed: Label - Label_0, Instance - Instance_641.parquet\n",
      "Processed: Label - Label_0, Instance - Instance_372.parquet\n",
      "Processed: Label - Label_0, Instance - Instance_362.parquet\n",
      "Processed: Label - Label_0, Instance - Instance_527.parquet\n",
      "Processed: Label - Label_0, Instance - Instance_537.parquet\n",
      "Processed: Label - Label_0, Instance - Instance_95.parquet\n",
      "Processed: Label - Label_0, Instance - Instance_85.parquet\n",
      "Processed: Label - Label_0, Instance - Instance_484.parquet\n",
      "Processed: Label - Label_0, Instance - Instance_494.parquet\n",
      "Processed: Label - Label_0, Instance - Instance_545.parquet\n",
      "Processed: Label - Label_0, Instance - Instance_555.parquet\n",
      "Processed: Label - Label_0, Instance - Instance_268.parquet\n"
     ]
    },
    {
     "name": "stderr",
     "output_type": "stream",
     "text": [
      "                                                                                \r"
     ]
    },
    {
     "name": "stdout",
     "output_type": "stream",
     "text": [
      "Processed: Label - Label_0, Instance - Instance_310.parquet\n",
      "Processed: Label - Label_0, Instance - Instance_278.parquet\n",
      "Processed: Label - Label_0, Instance - Instance_300.parquet\n",
      "Processed: Label - Label_0, Instance - Instance_623.parquet\n",
      "Processed: Label - Label_0, Instance - Instance_633.parquet\n",
      "Processed: Label - Label_0, Instance - Instance_128.parquet\n",
      "Processed: Label - Label_0, Instance - Instance_138.parquet\n",
      "Processed: Label - Label_0, Instance - Instance_605.parquet\n",
      "Processed: Label - Label_0, Instance - Instance_615.parquet\n",
      "Processed: Label - Label_0, Instance - Instance_563.parquet\n",
      "Processed: Label - Label_0, Instance - Instance_573.parquet\n",
      "Processed: Label - Label_0, Instance - Instance_336.parquet\n",
      "Processed: Label - Label_0, Instance - Instance_326.parquet\n",
      "Processed: Label - Label_0, Instance - Instance_191.parquet\n",
      "Processed: Label - Label_0, Instance - Instance_181.parquet\n",
      "Processed: Label - Label_0, Instance - Instance_295.parquet\n",
      "Processed: Label - Label_0, Instance - Instance_285.parquet\n",
      "Processed: Label - Label_0, Instance - Instance_354.parquet\n",
      "Processed: Label - Label_0, Instance - Instance_344.parquet\n",
      "Processed: Label - Label_0, Instance - Instance_479.parquet\n",
      "Processed: Label - Label_0, Instance - Instance_501.parquet\n"
     ]
    },
    {
     "name": "stderr",
     "output_type": "stream",
     "text": [
      "                                                                                \r"
     ]
    },
    {
     "name": "stdout",
     "output_type": "stream",
     "text": [
      "Processed: Label - Label_0, Instance - Instance_469.parquet\n",
      "Processed: Label - Label_0, Instance - Instance_511.parquet\n",
      "Processed: Label - Label_0, Instance - Instance_68.parquet\n",
      "Processed: Label - Label_0, Instance - Instance_78.parquet\n",
      "Processed: Label - Label_0, Instance - Instance_424.parquet\n",
      "Processed: Label - Label_0, Instance - Instance_434.parquet\n",
      "Processed: Label - Label_0, Instance - Instance_271.parquet\n",
      "Processed: Label - Label_0, Instance - Instance_309.parquet\n",
      "Processed: Label - Label_0, Instance - Instance_261.parquet\n",
      "Processed: Label - Label_0, Instance - Instance_319.parquet\n",
      "Processed: Label - Label_0, Instance - Instance_117.parquet\n",
      "Processed: Label - Label_0, Instance - Instance_107.parquet\n",
      "Processed: Label - Label_0, Instance - Instance_57.parquet\n",
      "Processed: Label - Label_0, Instance - Instance_648.parquet\n",
      "Processed: Label - Label_0, Instance - Instance_175.parquet\n",
      "Processed: Label - Label_0, Instance - Instance_165.parquet\n",
      "Processed: Label - Label_0, Instance - Instance_213.parquet\n",
      "Processed: Label - Label_0, Instance - Instance_203.parquet\n",
      "Processed: Label - Label_0, Instance - Instance_446.parquet\n",
      "Processed: Label - Label_0, Instance - Instance_456.parquet\n",
      "Processed: Label - Label_0, Instance - Instance_587.parquet\n",
      "Processed: Label - Label_0, Instance - Instance_597.parquet\n",
      "Processed: Label - Label_0, Instance - Instance_488.parquet\n",
      "Processed: Label - Label_0, Instance - Instance_498.parquet\n",
      "Processed: Label - Label_0, Instance - Instance_99.parquet\n",
      "Processed: Label - Label_0, Instance - Instance_89.parquet\n",
      "Processed: Label - Label_0, Instance - Instance_102.parquet\n",
      "Processed: Label - Label_0, Instance - Instance_112.parquet\n",
      "Processed: Label - Label_0, Instance - Instance_431.parquet\n",
      "Processed: Label - Label_0, Instance - Instance_549.parquet\n",
      "Processed: Label - Label_0, Instance - Instance_421.parquet\n",
      "Processed: Label - Label_0, Instance - Instance_559.parquet\n",
      "Processed: Label - Label_0, Instance - Instance_264.parquet\n",
      "Processed: Label - Label_0, Instance - Instance_274.parquet\n",
      "Processed: Label - Label_0, Instance - Instance_206.parquet\n",
      "Processed: Label - Label_0, Instance - Instance_216.parquet\n",
      "Processed: Label - Label_0, Instance - Instance_453.parquet\n",
      "Processed: Label - Label_0, Instance - Instance_443.parquet\n",
      "Processed: Label - Label_0, Instance - Instance_160.parquet\n",
      "Processed: Label - Label_0, Instance - Instance_170.parquet\n",
      "Processed: Label - Label_0, Instance - Instance_592.parquet\n",
      "Processed: Label - Label_0, Instance - Instance_582.parquet\n",
      "Processed: Label - Label_0, Instance - Instance_576.parquet\n",
      "Processed: Label - Label_0, Instance - Instance_566.parquet\n",
      "Processed: Label - Label_0, Instance - Instance_323.parquet\n",
      "Processed: Label - Label_0, Instance - Instance_333.parquet\n",
      "Processed: Label - Label_0, Instance - Instance_610.parquet\n",
      "Processed: Label - Label_0, Instance - Instance_600.parquet\n",
      "Processed: Label - Label_0, Instance - Instance_184.parquet\n",
      "Processed: Label - Label_0, Instance - Instance_194.parquet\n",
      "Processed: Label - Label_0, Instance - Instance_280.parquet\n",
      "Processed: Label - Label_0, Instance - Instance_290.parquet\n",
      "Processed: Label - Label_0, Instance - Instance_239.parquet\n",
      "Processed: Label - Label_0, Instance - Instance_341.parquet\n",
      "Processed: Label - Label_0, Instance - Instance_229.parquet\n",
      "Processed: Label - Label_0, Instance - Instance_351.parquet\n",
      "Processed: Label - Label_0, Instance - Instance_514.parquet\n",
      "Processed: Label - Label_0, Instance - Instance_504.parquet\n",
      "Processed: Label - Label_0, Instance - Instance_367.parquet\n",
      "Processed: Label - Label_0, Instance - Instance_377.parquet\n",
      "Processed: Label - Label_0, Instance - Instance_532.parquet\n",
      "Processed: Label - Label_0, Instance - Instance_522.parquet\n",
      "Processed: Label - Label_0, Instance - Instance_644.parquet\n",
      "Processed: Label - Label_0, Instance - Instance_179.parquet\n",
      "Processed: Label - Label_0, Instance - Instance_169.parquet\n",
      "Processed: Label - Label_0, Instance - Instance_491.parquet\n",
      "Processed: Label - Label_0, Instance - Instance_481.parquet\n",
      "Processed: Label - Label_0, Instance - Instance_80.parquet\n",
      "Processed: Label - Label_0, Instance - Instance_90.parquet\n",
      "Processed: Label - Label_0, Instance - Instance_636.parquet\n",
      "Processed: Label - Label_0, Instance - Instance_626.parquet\n",
      "Processed: Label - Label_0, Instance - Instance_428.parquet\n",
      "Processed: Label - Label_0, Instance - Instance_550.parquet\n",
      "Processed: Label - Label_0, Instance - Instance_438.parquet\n",
      "Processed: Label - Label_0, Instance - Instance_540.parquet\n",
      "Processed: Label - Label_0, Instance - Instance_305.parquet\n",
      "Processed: Label - Label_0, Instance - Instance_315.parquet\n",
      "Processed: Label - Label_0, Instance - Instance_299.parquet\n",
      "Processed: Label - Label_0, Instance - Instance_289.parquet\n",
      "Processed: Label - Label_0, Instance - Instance_64.parquet\n",
      "Processed: Label - Label_0, Instance - Instance_74.parquet\n",
      "Processed: Label - Label_0, Instance - Instance_146.parquet\n",
      "Processed: Label - Label_0, Instance - Instance_156.parquet\n",
      "Processed: Label - Label_0, Instance - Instance_220.parquet\n",
      "Processed: Label - Label_0, Instance - Instance_358.parquet\n",
      "Processed: Label - Label_0, Instance - Instance_230.parquet\n",
      "Processed: Label - Label_0, Instance - Instance_348.parquet\n",
      "Processed: Label - Label_0, Instance - Instance_475.parquet\n",
      "Processed: Label - Label_0, Instance - Instance_465.parquet\n",
      "Processed: Label - Label_0, Instance - Instance_417.parquet\n",
      "Processed: Label - Label_0, Instance - Instance_407.parquet\n",
      "Processed: Label - Label_0, Instance - Instance_242.parquet\n",
      "Processed: Label - Label_0, Instance - Instance_252.parquet\n",
      "Processed: Label - Label_0, Instance - Instance_124.parquet\n",
      "Processed: Label - Label_0, Instance - Instance_134.parquet\n",
      "Processed: Label - Label_0, Instance - Instance_609.parquet\n",
      "Processed: Label - Label_0, Instance - Instance_619.parquet\n",
      "Processed: Label - Label_0, Instance - Instance_383.parquet\n",
      "Processed: Label - Label_0, Instance - Instance_393.parquet\n",
      "Processed: Label - Label_0, Instance - Instance_523.parquet\n",
      "Processed: Label - Label_0, Instance - Instance_533.parquet\n",
      "Processed: Label - Label_0, Instance - Instance_376.parquet\n"
     ]
    },
    {
     "name": "stderr",
     "output_type": "stream",
     "text": [
      "                                                                                \r"
     ]
    },
    {
     "name": "stdout",
     "output_type": "stream",
     "text": [
      "Processed: Label - Label_0, Instance - Instance_366.parquet\n",
      "Processed: Label - Label_0, Instance - Instance_168.parquet\n",
      "Processed: Label - Label_0, Instance - Instance_178.parquet\n",
      "Processed: Label - Label_0, Instance - Instance_645.parquet\n",
      "Processed: Label - Label_0, Instance - Instance_627.parquet\n",
      "Processed: Label - Label_0, Instance - Instance_637.parquet\n",
      "Processed: Label - Label_0, Instance - Instance_314.parquet\n",
      "Processed: Label - Label_0, Instance - Instance_304.parquet\n",
      "Processed: Label - Label_0, Instance - Instance_541.parquet\n",
      "Processed: Label - Label_0, Instance - Instance_439.parquet\n",
      "Processed: Label - Label_0, Instance - Instance_551.parquet\n",
      "Processed: Label - Label_0, Instance - Instance_429.parquet\n",
      "Processed: Label - Label_0, Instance - Instance_480.parquet\n",
      "Processed: Label - Label_0, Instance - Instance_490.parquet\n",
      "Processed: Label - Label_0, Instance - Instance_91.parquet\n",
      "Processed: Label - Label_0, Instance - Instance_81.parquet\n",
      "Processed: Label - Label_0, Instance - Instance_157.parquet\n",
      "Processed: Label - Label_0, Instance - Instance_147.parquet\n",
      "Processed: Label - Label_0, Instance - Instance_75.parquet\n",
      "Processed: Label - Label_0, Instance - Instance_65.parquet\n",
      "Processed: Label - Label_0, Instance - Instance_464.parquet\n",
      "Processed: Label - Label_0, Instance - Instance_474.parquet\n",
      "Processed: Label - Label_0, Instance - Instance_349.parquet\n",
      "Processed: Label - Label_0, Instance - Instance_231.parquet\n",
      "Processed: Label - Label_0, Instance - Instance_359.parquet\n",
      "Processed: Label - Label_0, Instance - Instance_221.parquet\n",
      "Processed: Label - Label_0, Instance - Instance_288.parquet\n",
      "Processed: Label - Label_0, Instance - Instance_298.parquet\n",
      "Processed: Label - Label_0, Instance - Instance_392.parquet\n",
      "Processed: Label - Label_0, Instance - Instance_382.parquet\n",
      "Processed: Label - Label_0, Instance - Instance_253.parquet\n",
      "Processed: Label - Label_0, Instance - Instance_243.parquet\n",
      "Processed: Label - Label_0, Instance - Instance_406.parquet\n",
      "Processed: Label - Label_0, Instance - Instance_416.parquet\n",
      "Processed: Label - Label_0, Instance - Instance_618.parquet\n",
      "Processed: Label - Label_0, Instance - Instance_608.parquet\n",
      "Processed: Label - Label_0, Instance - Instance_135.parquet\n",
      "Processed: Label - Label_0, Instance - Instance_125.parquet\n",
      "Processed: Label - Label_0, Instance - Instance_113.parquet\n",
      "Processed: Label - Label_0, Instance - Instance_103.parquet\n",
      "Processed: Label - Label_0, Instance - Instance_275.parquet\n",
      "Processed: Label - Label_0, Instance - Instance_265.parquet\n",
      "Processed: Label - Label_0, Instance - Instance_558.parquet\n",
      "Processed: Label - Label_0, Instance - Instance_420.parquet\n",
      "Processed: Label - Label_0, Instance - Instance_548.parquet\n",
      "Processed: Label - Label_0, Instance - Instance_430.parquet\n",
      "Processed: Label - Label_0, Instance - Instance_499.parquet\n",
      "Processed: Label - Label_0, Instance - Instance_489.parquet\n",
      "Processed: Label - Label_0, Instance - Instance_88.parquet\n",
      "Processed: Label - Label_0, Instance - Instance_98.parquet\n",
      "Processed: Label - Label_0, Instance - Instance_583.parquet\n",
      "Processed: Label - Label_0, Instance - Instance_593.parquet\n",
      "Processed: Label - Label_0, Instance - Instance_442.parquet\n",
      "Processed: Label - Label_0, Instance - Instance_452.parquet\n",
      "Processed: Label - Label_0, Instance - Instance_217.parquet\n",
      "Processed: Label - Label_0, Instance - Instance_207.parquet\n",
      "Processed: Label - Label_0, Instance - Instance_171.parquet\n",
      "Processed: Label - Label_0, Instance - Instance_161.parquet\n",
      "Processed: Label - Label_0, Instance - Instance_195.parquet\n",
      "Processed: Label - Label_0, Instance - Instance_185.parquet\n",
      "Processed: Label - Label_0, Instance - Instance_332.parquet\n",
      "Processed: Label - Label_0, Instance - Instance_322.parquet\n",
      "Processed: Label - Label_0, Instance - Instance_567.parquet\n",
      "Processed: Label - Label_0, Instance - Instance_577.parquet\n",
      "Processed: Label - Label_0, Instance - Instance_601.parquet\n",
      "Processed: Label - Label_0, Instance - Instance_611.parquet\n",
      "Processed: Label - Label_0, Instance - Instance_505.parquet\n",
      "Processed: Label - Label_0, Instance - Instance_515.parquet\n",
      "Processed: Label - Label_0, Instance - Instance_350.parquet\n",
      "Processed: Label - Label_0, Instance - Instance_228.parquet\n",
      "Processed: Label - Label_0, Instance - Instance_340.parquet\n",
      "Processed: Label - Label_0, Instance - Instance_238.parquet\n",
      "Processed: Label - Label_0, Instance - Instance_291.parquet\n",
      "Processed: Label - Label_0, Instance - Instance_281.parquet\n",
      "Processed: Label - Label_0, Instance - Instance_553.parquet\n",
      "Processed: Label - Label_0, Instance - Instance_543.parquet\n",
      "Processed: Label - Label_0, Instance - Instance_306.parquet\n",
      "Processed: Label - Label_0, Instance - Instance_316.parquet\n",
      "Processed: Label - Label_0, Instance - Instance_118.parquet\n",
      "Processed: Label - Label_0, Instance - Instance_108.parquet\n",
      "Processed: Label - Label_0, Instance - Instance_635.parquet\n",
      "Processed: Label - Label_0, Instance - Instance_625.parquet\n",
      "Processed: Label - Label_0, Instance - Instance_83.parquet\n",
      "Processed: Label - Label_0, Instance - Instance_93.parquet\n",
      "Processed: Label - Label_0, Instance - Instance_492.parquet\n",
      "Processed: Label - Label_0, Instance - Instance_482.parquet\n",
      "Processed: Label - Label_0, Instance - Instance_588.parquet\n",
      "Processed: Label - Label_0, Instance - Instance_598.parquet\n",
      "Processed: Label - Label_0, Instance - Instance_58.parquet\n",
      "Processed: Label - Label_0, Instance - Instance_647.parquet\n",
      "Processed: Label - Label_0, Instance - Instance_364.parquet\n",
      "Processed: Label - Label_0, Instance - Instance_374.parquet\n",
      "Processed: Label - Label_0, Instance - Instance_531.parquet\n",
      "Processed: Label - Label_0, Instance - Instance_449.parquet\n",
      "Processed: Label - Label_0, Instance - Instance_521.parquet\n",
      "Processed: Label - Label_0, Instance - Instance_459.parquet\n",
      "Processed: Label - Label_0, Instance - Instance_380.parquet\n",
      "Processed: Label - Label_0, Instance - Instance_390.parquet\n",
      "Processed: Label - Label_0, Instance - Instance_127.parquet\n",
      "Processed: Label - Label_0, Instance - Instance_137.parquet\n",
      "Processed: Label - Label_0, Instance - Instance_414.parquet\n",
      "Processed: Label - Label_0, Instance - Instance_404.parquet\n",
      "Processed: Label - Label_0, Instance - Instance_339.parquet\n",
      "Processed: Label - Label_0, Instance - Instance_241.parquet\n",
      "Processed: Label - Label_0, Instance - Instance_329.parquet\n",
      "Processed: Label - Label_0, Instance - Instance_251.parquet\n",
      "Processed: Label - Label_0, Instance - Instance_223.parquet\n",
      "Processed: Label - Label_0, Instance - Instance_233.parquet\n",
      "Processed: Label - Label_0, Instance - Instance_476.parquet\n",
      "Processed: Label - Label_0, Instance - Instance_466.parquet\n",
      "Processed: Label - Label_0, Instance - Instance_67.parquet\n",
      "Processed: Label - Label_0, Instance - Instance_77.parquet\n",
      "Processed: Label - Label_0, Instance - Instance_145.parquet\n",
      "Processed: Label - Label_0, Instance - Instance_155.parquet\n",
      "Processed: Label - Label_0, Instance - Instance_591.parquet\n",
      "Processed: Label - Label_0, Instance - Instance_581.parquet\n",
      "Processed: Label - Label_0, Instance - Instance_163.parquet\n",
      "Processed: Label - Label_0, Instance - Instance_173.parquet\n",
      "Processed: Label - Label_0, Instance - Instance_205.parquet\n",
      "Processed: Label - Label_0, Instance - Instance_215.parquet\n",
      "Processed: Label - Label_0, Instance - Instance_528.parquet\n",
      "Processed: Label - Label_0, Instance - Instance_450.parquet\n",
      "Processed: Label - Label_0, Instance - Instance_538.parquet\n",
      "Processed: Label - Label_0, Instance - Instance_440.parquet\n",
      "Processed: Label - Label_0, Instance - Instance_432.parquet\n",
      "Processed: Label - Label_0, Instance - Instance_422.parquet\n",
      "Processed: Label - Label_0, Instance - Instance_267.parquet\n",
      "Processed: Label - Label_0, Instance - Instance_277.parquet\n",
      "Processed: Label - Label_0, Instance - Instance_101.parquet\n",
      "Processed: Label - Label_0, Instance - Instance_111.parquet\n",
      "Processed: Label - Label_0, Instance - Instance_342.parquet\n",
      "Processed: Label - Label_0, Instance - Instance_352.parquet\n",
      "Processed: Label - Label_0, Instance - Instance_517.parquet\n",
      "Processed: Label - Label_0, Instance - Instance_507.parquet\n",
      "Processed: Label - Label_0, Instance - Instance_283.parquet\n",
      "Processed: Label - Label_0, Instance - Instance_293.parquet\n",
      "Processed: Label - Label_0, Instance - Instance_399.parquet\n",
      "Processed: Label - Label_0, Instance - Instance_389.parquet\n",
      "Processed: Label - Label_0, Instance - Instance_187.parquet\n",
      "Processed: Label - Label_0, Instance - Instance_197.parquet\n",
      "Processed: Label - Label_0, Instance - Instance_613.parquet\n",
      "Processed: Label - Label_0, Instance - Instance_603.parquet\n",
      "Processed: Label - Label_0, Instance - Instance_575.parquet\n",
      "Processed: Label - Label_0, Instance - Instance_565.parquet\n",
      "Processed: Label - Label_0, Instance - Instance_320.parquet\n",
      "Processed: Label - Label_0, Instance - Instance_258.parquet\n",
      "Processed: Label - Label_0, Instance - Instance_330.parquet\n",
      "Processed: Label - Label_0, Instance - Instance_248.parquet\n",
      "Processed: Label - Label_0, Instance - Instance_172.parquet\n",
      "Processed: Label - Label_0, Instance - Instance_162.parquet\n",
      "Processed: Label - Label_0, Instance - Instance_441.parquet\n",
      "Processed: Label - Label_0, Instance - Instance_539.parquet\n",
      "Processed: Label - Label_0, Instance - Instance_451.parquet\n",
      "Processed: Label - Label_0, Instance - Instance_529.parquet\n",
      "Processed: Label - Label_0, Instance - Instance_214.parquet\n",
      "Processed: Label - Label_0, Instance - Instance_204.parquet\n",
      "Processed: Label - Label_0, Instance - Instance_580.parquet\n",
      "Processed: Label - Label_0, Instance - Instance_590.parquet\n",
      "Processed: Label - Label_0, Instance - Instance_276.parquet\n",
      "Processed: Label - Label_0, Instance - Instance_266.parquet\n",
      "Processed: Label - Label_0, Instance - Instance_423.parquet\n",
      "Processed: Label - Label_0, Instance - Instance_433.parquet\n",
      "Processed: Label - Label_0, Instance - Instance_110.parquet\n",
      "Processed: Label - Label_0, Instance - Instance_100.parquet\n",
      "Processed: Label - Label_0, Instance - Instance_292.parquet\n",
      "Processed: Label - Label_0, Instance - Instance_282.parquet\n",
      "Processed: Label - Label_0, Instance - Instance_506.parquet\n",
      "Processed: Label - Label_0, Instance - Instance_516.parquet\n",
      "Processed: Label - Label_0, Instance - Instance_353.parquet\n",
      "Processed: Label - Label_0, Instance - Instance_343.parquet\n",
      "Processed: Label - Label_0, Instance - Instance_602.parquet\n",
      "Processed: Label - Label_0, Instance - Instance_612.parquet\n",
      "Processed: Label - Label_0, Instance - Instance_249.parquet\n",
      "Processed: Label - Label_0, Instance - Instance_331.parquet\n",
      "Processed: Label - Label_0, Instance - Instance_259.parquet\n",
      "Processed: Label - Label_0, Instance - Instance_321.parquet\n",
      "Processed: Label - Label_0, Instance - Instance_564.parquet\n",
      "Processed: Label - Label_0, Instance - Instance_574.parquet\n",
      "Processed: Label - Label_0, Instance - Instance_388.parquet\n",
      "Processed: Label - Label_0, Instance - Instance_398.parquet\n",
      "Processed: Label - Label_0, Instance - Instance_196.parquet\n",
      "Processed: Label - Label_0, Instance - Instance_186.parquet\n",
      "Processed: Label - Label_0, Instance - Instance_92.parquet\n",
      "Processed: Label - Label_0, Instance - Instance_82.parquet\n",
      "Processed: Label - Label_0, Instance - Instance_483.parquet\n",
      "Processed: Label - Label_0, Instance - Instance_493.parquet\n",
      "Processed: Label - Label_0, Instance - Instance_317.parquet\n",
      "Processed: Label - Label_0, Instance - Instance_307.parquet\n",
      "Processed: Label - Label_0, Instance - Instance_542.parquet\n"
     ]
    },
    {
     "name": "stderr",
     "output_type": "stream",
     "text": [
      "                                                                                \r"
     ]
    },
    {
     "name": "stdout",
     "output_type": "stream",
     "text": [
      "Processed: Label - Label_0, Instance - Instance_552.parquet\n",
      "Processed: Label - Label_0, Instance - Instance_624.parquet\n",
      "Processed: Label - Label_0, Instance - Instance_634.parquet\n",
      "Processed: Label - Label_0, Instance - Instance_109.parquet\n",
      "Processed: Label - Label_0, Instance - Instance_119.parquet\n",
      "Processed: Label - Label_0, Instance - Instance_646.parquet\n",
      "Processed: Label - Label_0, Instance - Instance_59.parquet\n",
      "Processed: Label - Label_0, Instance - Instance_458.parquet\n",
      "Processed: Label - Label_0, Instance - Instance_520.parquet\n",
      "Processed: Label - Label_0, Instance - Instance_448.parquet\n",
      "Processed: Label - Label_0, Instance - Instance_530.parquet\n",
      "Processed: Label - Label_0, Instance - Instance_375.parquet\n",
      "Processed: Label - Label_0, Instance - Instance_365.parquet\n",
      "Processed: Label - Label_0, Instance - Instance_599.parquet\n",
      "Processed: Label - Label_0, Instance - Instance_589.parquet\n",
      "Processed: Label - Label_0, Instance - Instance_136.parquet\n",
      "Processed: Label - Label_0, Instance - Instance_126.parquet\n",
      "Processed: Label - Label_0, Instance - Instance_250.parquet\n",
      "Processed: Label - Label_0, Instance - Instance_328.parquet\n",
      "Processed: Label - Label_0, Instance - Instance_240.parquet\n",
      "Processed: Label - Label_0, Instance - Instance_338.parquet\n",
      "Processed: Label - Label_0, Instance - Instance_405.parquet\n",
      "Processed: Label - Label_0, Instance - Instance_415.parquet\n",
      "Processed: Label - Label_0, Instance - Instance_391.parquet\n",
      "Processed: Label - Label_0, Instance - Instance_381.parquet\n",
      "Processed: Label - Label_0, Instance - Instance_467.parquet\n",
      "Processed: Label - Label_0, Instance - Instance_477.parquet\n",
      "Processed: Label - Label_0, Instance - Instance_232.parquet\n",
      "Processed: Label - Label_0, Instance - Instance_222.parquet\n",
      "Processed: Label - Label_0, Instance - Instance_154.parquet\n",
      "Processed: Label - Label_0, Instance - Instance_144.parquet\n",
      "Processed: Label - Label_0, Instance - Instance_76.parquet\n"
     ]
    },
    {
     "name": "stderr",
     "output_type": "stream",
     "text": [
      "Transforming Class Column:  30%|███       | 3/10 [07:13<21:37, 185.33s/it]"
     ]
    },
    {
     "name": "stdout",
     "output_type": "stream",
     "text": [
      "Processed: Label - Label_0, Instance - Instance_66.parquet\n",
      "Processed: Label - Label_1, Instance - Instance_693.parquet\n",
      "Processed: Label - Label_1, Instance - Instance_696.parquet\n",
      "Processed: Label - Label_1, Instance - Instance_695.parquet\n"
     ]
    },
    {
     "name": "stderr",
     "output_type": "stream",
     "text": [
      "Transforming Class Column:  40%|████      | 4/10 [07:16<11:18, 113.11s/it]"
     ]
    },
    {
     "name": "stdout",
     "output_type": "stream",
     "text": [
      "Processed: Label - Label_1, Instance - Instance_694.parquet\n",
      "Processed: Label - Label_6, Instance - Instance_688.parquet\n",
      "Processed: Label - Label_6, Instance - Instance_691.parquet\n",
      "Processed: Label - Label_6, Instance - Instance_690.parquet\n",
      "Processed: Label - Label_6, Instance - Instance_689.parquet\n",
      "Processed: Label - Label_6, Instance - Instance_692.parquet\n"
     ]
    },
    {
     "name": "stderr",
     "output_type": "stream",
     "text": [
      "Transforming Class Column:  50%|█████     | 5/10 [07:19<06:07, 73.54s/it] "
     ]
    },
    {
     "name": "stdout",
     "output_type": "stream",
     "text": [
      "Processed: Label - Label_6, Instance - Instance_687.parquet\n"
     ]
    },
    {
     "name": "stderr",
     "output_type": "stream",
     "text": [
      "                                                                                \r"
     ]
    },
    {
     "name": "stdout",
     "output_type": "stream",
     "text": [
      "Processed: Label - Label_8, Instance - Instance_704.parquet\n",
      "Processed: Label - Label_8, Instance - Instance_698.parquet\n",
      "Processed: Label - Label_8, Instance - Instance_705.parquet\n",
      "Processed: Label - Label_8, Instance - Instance_699.parquet\n"
     ]
    },
    {
     "name": "stderr",
     "output_type": "stream",
     "text": [
      "                                                                                \r"
     ]
    },
    {
     "name": "stdout",
     "output_type": "stream",
     "text": [
      "Processed: Label - Label_8, Instance - Instance_707.parquet\n"
     ]
    },
    {
     "name": "stderr",
     "output_type": "stream",
     "text": [
      "                                                                                \r"
     ]
    },
    {
     "name": "stdout",
     "output_type": "stream",
     "text": [
      "Processed: Label - Label_8, Instance - Instance_706.parquet\n"
     ]
    },
    {
     "name": "stderr",
     "output_type": "stream",
     "text": [
      "                                                                                \r"
     ]
    },
    {
     "name": "stdout",
     "output_type": "stream",
     "text": [
      "Processed: Label - Label_8, Instance - Instance_703.parquet\n",
      "Processed: Label - Label_8, Instance - Instance_702.parquet\n"
     ]
    },
    {
     "name": "stderr",
     "output_type": "stream",
     "text": [
      "                                                                                \r"
     ]
    },
    {
     "name": "stdout",
     "output_type": "stream",
     "text": [
      "Processed: Label - Label_8, Instance - Instance_697.parquet\n"
     ]
    },
    {
     "name": "stderr",
     "output_type": "stream",
     "text": [
      "                                                                                \r"
     ]
    },
    {
     "name": "stdout",
     "output_type": "stream",
     "text": [
      "Processed: Label - Label_8, Instance - Instance_710.parquet\n",
      "Processed: Label - Label_8, Instance - Instance_700.parquet\n",
      "Processed: Label - Label_8, Instance - Instance_709.parquet\n",
      "Processed: Label - Label_8, Instance - Instance_708.parquet\n"
     ]
    },
    {
     "name": "stderr",
     "output_type": "stream",
     "text": [
      "Transforming Class Column:  60%|██████    | 6/10 [07:31<03:30, 52.68s/it]       "
     ]
    },
    {
     "name": "stdout",
     "output_type": "stream",
     "text": [
      "Processed: Label - Label_8, Instance - Instance_701.parquet\n",
      "Processed: Label - Label_3, Instance - Instance_1085.parquet\n",
      "Processed: Label - Label_3, Instance - Instance_1071.parquet\n",
      "Processed: Label - Label_3, Instance - Instance_1061.parquet\n",
      "Processed: Label - Label_3, Instance - Instance_1057.parquet\n",
      "Processed: Label - Label_3, Instance - Instance_1068.parquet\n",
      "Processed: Label - Label_3, Instance - Instance_1078.parquet\n",
      "Processed: Label - Label_3, Instance - Instance_1056.parquet\n",
      "Processed: Label - Label_3, Instance - Instance_1079.parquet\n",
      "Processed: Label - Label_3, Instance - Instance_1069.parquet\n",
      "Processed: Label - Label_3, Instance - Instance_1084.parquet\n",
      "Processed: Label - Label_3, Instance - Instance_1060.parquet\n",
      "Processed: Label - Label_3, Instance - Instance_1070.parquet\n",
      "Processed: Label - Label_3, Instance - Instance_1054.parquet\n",
      "Processed: Label - Label_3, Instance - Instance_1072.parquet\n",
      "Processed: Label - Label_3, Instance - Instance_1062.parquet\n",
      "Processed: Label - Label_3, Instance - Instance_1063.parquet\n",
      "Processed: Label - Label_3, Instance - Instance_1073.parquet\n",
      "Processed: Label - Label_3, Instance - Instance_1055.parquet\n",
      "Processed: Label - Label_3, Instance - Instance_1076.parquet\n",
      "Processed: Label - Label_3, Instance - Instance_1066.parquet\n",
      "Processed: Label - Label_3, Instance - Instance_1082.parquet\n",
      "Processed: Label - Label_3, Instance - Instance_1059.parquet\n",
      "Processed: Label - Label_3, Instance - Instance_1067.parquet\n",
      "Processed: Label - Label_3, Instance - Instance_1077.parquet\n",
      "Processed: Label - Label_3, Instance - Instance_1083.parquet\n",
      "Processed: Label - Label_3, Instance - Instance_1058.parquet\n",
      "Processed: Label - Label_3, Instance - Instance_1075.parquet\n",
      "Processed: Label - Label_3, Instance - Instance_1065.parquet\n",
      "Processed: Label - Label_3, Instance - Instance_1081.parquet\n",
      "Processed: Label - Label_3, Instance - Instance_1064.parquet\n",
      "Processed: Label - Label_3, Instance - Instance_1074.parquet\n"
     ]
    },
    {
     "name": "stderr",
     "output_type": "stream",
     "text": [
      "Transforming Class Column:  70%|███████   | 7/10 [07:50<02:05, 41.67s/it]"
     ]
    },
    {
     "name": "stdout",
     "output_type": "stream",
     "text": [
      "Processed: Label - Label_3, Instance - Instance_1080.parquet\n",
      "Processed: Label - Label_4, Instance - Instance_776.parquet\n",
      "Processed: Label - Label_4, Instance - Instance_766.parquet\n",
      "Processed: Label - Label_4, Instance - Instance_803.parquet\n",
      "Processed: Label - Label_4, Instance - Instance_813.parquet\n",
      "Processed: Label - Label_4, Instance - Instance_861.parquet\n",
      "Processed: Label - Label_4, Instance - Instance_919.parquet\n",
      "Processed: Label - Label_4, Instance - Instance_871.parquet\n",
      "Processed: Label - Label_4, Instance - Instance_909.parquet\n",
      "Processed: Label - Label_4, Instance - Instance_714.parquet\n",
      "Processed: Label - Label_4, Instance - Instance_944.parquet\n",
      "Processed: Label - Label_4, Instance - Instance_954.parquet\n",
      "Processed: Label - Label_4, Instance - Instance_749.parquet\n",
      "Processed: Label - Label_4, Instance - Instance_759.parquet\n",
      "Processed: Label - Label_4, Instance - Instance_885.parquet\n",
      "Processed: Label - Label_4, Instance - Instance_895.parquet\n",
      "Processed: Label - Label_4, Instance - Instance_1013.parquet\n",
      "Processed: Label - Label_4, Instance - Instance_1003.parquet\n",
      "Processed: Label - Label_4, Instance - Instance_926.parquet\n",
      "Processed: Label - Label_4, Instance - Instance_936.parquet\n",
      "Processed: Label - Label_4, Instance - Instance_792.parquet\n",
      "Processed: Label - Label_4, Instance - Instance_782.parquet\n",
      "Processed: Label - Label_4, Instance - Instance_878.parquet\n",
      "Processed: Label - Label_4, Instance - Instance_900.parquet\n",
      "Processed: Label - Label_4, Instance - Instance_868.parquet\n",
      "Processed: Label - Label_4, Instance - Instance_910.parquet\n",
      "Processed: Label - Label_4, Instance - Instance_1035.parquet\n",
      "Processed: Label - Label_4, Instance - Instance_1025.parquet\n",
      "Processed: Label - Label_4, Instance - Instance_1047.parquet\n",
      "Processed: Label - Label_4, Instance - Instance_962.parquet\n",
      "Processed: Label - Label_4, Instance - Instance_972.parquet\n",
      "Processed: Label - Label_4, Instance - Instance_986.parquet\n",
      "Processed: Label - Label_4, Instance - Instance_996.parquet\n",
      "Processed: Label - Label_4, Instance - Instance_732.parquet\n",
      "Processed: Label - Label_4, Instance - Instance_722.parquet\n",
      "Processed: Label - Label_4, Instance - Instance_847.parquet\n",
      "Processed: Label - Label_4, Instance - Instance_857.parquet\n",
      "Processed: Label - Label_4, Instance - Instance_825.parquet\n",
      "Processed: Label - Label_4, Instance - Instance_835.parquet\n",
      "Processed: Label - Label_4, Instance - Instance_750.parquet\n",
      "Processed: Label - Label_4, Instance - Instance_740.parquet\n",
      "Processed: Label - Label_4, Instance - Instance_1024.parquet\n",
      "Processed: Label - Label_4, Instance - Instance_1034.parquet\n",
      "Processed: Label - Label_4, Instance - Instance_911.parquet\n",
      "Processed: Label - Label_4, Instance - Instance_869.parquet\n",
      "Processed: Label - Label_4, Instance - Instance_901.parquet\n",
      "Processed: Label - Label_4, Instance - Instance_879.parquet\n",
      "Processed: Label - Label_4, Instance - Instance_973.parquet\n",
      "Processed: Label - Label_4, Instance - Instance_963.parquet\n",
      "Processed: Label - Label_4, Instance - Instance_1046.parquet\n",
      "Processed: Label - Label_4, Instance - Instance_856.parquet\n",
      "Processed: Label - Label_4, Instance - Instance_846.parquet\n",
      "Processed: Label - Label_4, Instance - Instance_723.parquet\n",
      "Processed: Label - Label_4, Instance - Instance_733.parquet\n",
      "Processed: Label - Label_4, Instance - Instance_997.parquet\n",
      "Processed: Label - Label_4, Instance - Instance_987.parquet\n",
      "Processed: Label - Label_4, Instance - Instance_741.parquet\n",
      "Processed: Label - Label_4, Instance - Instance_751.parquet\n",
      "Processed: Label - Label_4, Instance - Instance_834.parquet\n",
      "Processed: Label - Label_4, Instance - Instance_824.parquet\n",
      "Processed: Label - Label_4, Instance - Instance_812.parquet\n",
      "Processed: Label - Label_4, Instance - Instance_802.parquet\n",
      "Processed: Label - Label_4, Instance - Instance_767.parquet\n",
      "Processed: Label - Label_4, Instance - Instance_777.parquet\n",
      "Processed: Label - Label_4, Instance - Instance_715.parquet\n",
      "Processed: Label - Label_4, Instance - Instance_908.parquet\n",
      "Processed: Label - Label_4, Instance - Instance_870.parquet\n",
      "Processed: Label - Label_4, Instance - Instance_918.parquet\n",
      "Processed: Label - Label_4, Instance - Instance_860.parquet\n",
      "Processed: Label - Label_4, Instance - Instance_894.parquet\n",
      "Processed: Label - Label_4, Instance - Instance_884.parquet\n",
      "Processed: Label - Label_4, Instance - Instance_758.parquet\n",
      "Processed: Label - Label_4, Instance - Instance_748.parquet\n",
      "Processed: Label - Label_4, Instance - Instance_955.parquet\n",
      "Processed: Label - Label_4, Instance - Instance_945.parquet\n",
      "Processed: Label - Label_4, Instance - Instance_783.parquet\n",
      "Processed: Label - Label_4, Instance - Instance_793.parquet\n",
      "Processed: Label - Label_4, Instance - Instance_937.parquet\n",
      "Processed: Label - Label_4, Instance - Instance_927.parquet\n",
      "Processed: Label - Label_4, Instance - Instance_1002.parquet\n",
      "Processed: Label - Label_4, Instance - Instance_1012.parquet\n",
      "Processed: Label - Label_4, Instance - Instance_961.parquet\n",
      "Processed: Label - Label_4, Instance - Instance_819.parquet\n",
      "Processed: Label - Label_4, Instance - Instance_971.parquet\n",
      "Processed: Label - Label_4, Instance - Instance_809.parquet\n",
      "Processed: Label - Label_4, Instance - Instance_1044.parquet\n",
      "Processed: Label - Label_4, Instance - Instance_1036.parquet\n",
      "Processed: Label - Label_4, Instance - Instance_1026.parquet\n",
      "Processed: Label - Label_4, Instance - Instance_903.parquet\n",
      "Processed: Label - Label_4, Instance - Instance_913.parquet\n",
      "Processed: Label - Label_4, Instance - Instance_753.parquet\n",
      "Processed: Label - Label_4, Instance - Instance_743.parquet\n",
      "Processed: Label - Label_4, Instance - Instance_826.parquet\n",
      "Processed: Label - Label_4, Instance - Instance_836.parquet\n",
      "Processed: Label - Label_4, Instance - Instance_844.parquet\n",
      "Processed: Label - Label_4, Instance - Instance_854.parquet\n",
      "Processed: Label - Label_4, Instance - Instance_788.parquet\n",
      "Processed: Label - Label_4, Instance - Instance_798.parquet\n",
      "Processed: Label - Label_4, Instance - Instance_985.parquet\n",
      "Processed: Label - Label_4, Instance - Instance_995.parquet\n",
      "Processed: Label - Label_4, Instance - Instance_1009.parquet\n",
      "Processed: Label - Label_4, Instance - Instance_731.parquet\n",
      "Processed: Label - Label_4, Instance - Instance_721.parquet\n",
      "Processed: Label - Label_4, Instance - Instance_1019.parquet\n",
      "Processed: Label - Label_4, Instance - Instance_717.parquet\n",
      "Processed: Label - Label_4, Instance - Instance_862.parquet\n",
      "Processed: Label - Label_4, Instance - Instance_872.parquet\n",
      "Processed: Label - Label_4, Instance - Instance_978.parquet\n",
      "Processed: Label - Label_4, Instance - Instance_800.parquet\n",
      "Processed: Label - Label_4, Instance - Instance_968.parquet\n",
      "Processed: Label - Label_4, Instance - Instance_810.parquet\n",
      "Processed: Label - Label_4, Instance - Instance_775.parquet\n",
      "Processed: Label - Label_4, Instance - Instance_765.parquet\n",
      "Processed: Label - Label_4, Instance - Instance_925.parquet\n",
      "Processed: Label - Label_4, Instance - Instance_935.parquet\n",
      "Processed: Label - Label_4, Instance - Instance_791.parquet\n",
      "Processed: Label - Label_4, Instance - Instance_781.parquet\n",
      "Processed: Label - Label_4, Instance - Instance_728.parquet\n",
      "Processed: Label - Label_4, Instance - Instance_1010.parquet\n",
      "Processed: Label - Label_4, Instance - Instance_1000.parquet\n",
      "Processed: Label - Label_4, Instance - Instance_738.parquet\n",
      "Processed: Label - Label_4, Instance - Instance_886.parquet\n",
      "Processed: Label - Label_4, Instance - Instance_896.parquet\n",
      "Processed: Label - Label_4, Instance - Instance_947.parquet\n",
      "Processed: Label - Label_4, Instance - Instance_957.parquet\n",
      "Processed: Label - Label_4, Instance - Instance_873.parquet\n",
      "Processed: Label - Label_4, Instance - Instance_863.parquet\n",
      "Processed: Label - Label_4, Instance - Instance_716.parquet\n",
      "Processed: Label - Label_4, Instance - Instance_764.parquet\n",
      "Processed: Label - Label_4, Instance - Instance_774.parquet\n",
      "Processed: Label - Label_4, Instance - Instance_811.parquet\n",
      "Processed: Label - Label_4, Instance - Instance_969.parquet\n",
      "Processed: Label - Label_4, Instance - Instance_801.parquet\n",
      "Processed: Label - Label_4, Instance - Instance_979.parquet\n",
      "Processed: Label - Label_4, Instance - Instance_1001.parquet\n",
      "Processed: Label - Label_4, Instance - Instance_739.parquet\n",
      "Processed: Label - Label_4, Instance - Instance_729.parquet\n",
      "Processed: Label - Label_4, Instance - Instance_1011.parquet\n",
      "Processed: Label - Label_4, Instance - Instance_780.parquet\n",
      "Processed: Label - Label_4, Instance - Instance_790.parquet\n",
      "Processed: Label - Label_4, Instance - Instance_934.parquet\n",
      "Processed: Label - Label_4, Instance - Instance_924.parquet\n",
      "Processed: Label - Label_4, Instance - Instance_956.parquet\n",
      "Processed: Label - Label_4, Instance - Instance_946.parquet\n",
      "Processed: Label - Label_4, Instance - Instance_897.parquet\n",
      "Processed: Label - Label_4, Instance - Instance_887.parquet\n",
      "Processed: Label - Label_4, Instance - Instance_1045.parquet\n",
      "Processed: Label - Label_4, Instance - Instance_808.parquet\n",
      "Processed: Label - Label_4, Instance - Instance_970.parquet\n",
      "Processed: Label - Label_4, Instance - Instance_818.parquet\n",
      "Processed: Label - Label_4, Instance - Instance_960.parquet\n",
      "Processed: Label - Label_4, Instance - Instance_912.parquet\n",
      "Processed: Label - Label_4, Instance - Instance_902.parquet\n",
      "Processed: Label - Label_4, Instance - Instance_1027.parquet\n",
      "Processed: Label - Label_4, Instance - Instance_1037.parquet\n",
      "Processed: Label - Label_4, Instance - Instance_837.parquet\n",
      "Processed: Label - Label_4, Instance - Instance_827.parquet\n",
      "Processed: Label - Label_4, Instance - Instance_742.parquet\n",
      "Processed: Label - Label_4, Instance - Instance_752.parquet\n",
      "Processed: Label - Label_4, Instance - Instance_720.parquet\n",
      "Processed: Label - Label_4, Instance - Instance_1018.parquet\n",
      "Processed: Label - Label_4, Instance - Instance_1008.parquet\n",
      "Processed: Label - Label_4, Instance - Instance_730.parquet\n",
      "Processed: Label - Label_4, Instance - Instance_994.parquet\n",
      "Processed: Label - Label_4, Instance - Instance_984.parquet\n",
      "Processed: Label - Label_4, Instance - Instance_799.parquet\n",
      "Processed: Label - Label_4, Instance - Instance_789.parquet\n",
      "Processed: Label - Label_4, Instance - Instance_855.parquet\n",
      "Processed: Label - Label_4, Instance - Instance_845.parquet\n",
      "Processed: Label - Label_4, Instance - Instance_822.parquet\n",
      "Processed: Label - Label_4, Instance - Instance_832.parquet\n",
      "Processed: Label - Label_4, Instance - Instance_757.parquet\n",
      "Processed: Label - Label_4, Instance - Instance_747.parquet\n",
      "Processed: Label - Label_4, Instance - Instance_735.parquet\n",
      "Processed: Label - Label_4, Instance - Instance_725.parquet\n",
      "Processed: Label - Label_4, Instance - Instance_981.parquet\n",
      "Processed: Label - Label_4, Instance - Instance_991.parquet\n",
      "Processed: Label - Label_4, Instance - Instance_840.parquet\n",
      "Processed: Label - Label_4, Instance - Instance_938.parquet\n",
      "Processed: Label - Label_4, Instance - Instance_850.parquet\n",
      "Processed: Label - Label_4, Instance - Instance_928.parquet\n",
      "Processed: Label - Label_4, Instance - Instance_1050.parquet\n",
      "Processed: Label - Label_4, Instance - Instance_768.parquet\n",
      "Processed: Label - Label_4, Instance - Instance_778.parquet\n",
      "Processed: Label - Label_4, Instance - Instance_1040.parquet\n",
      "Processed: Label - Label_4, Instance - Instance_965.parquet\n",
      "Processed: Label - Label_4, Instance - Instance_975.parquet\n",
      "Processed: Label - Label_4, Instance - Instance_907.parquet\n",
      "Processed: Label - Label_4, Instance - Instance_917.parquet\n",
      "Processed: Label - Label_4, Instance - Instance_1032.parquet\n",
      "Processed: Label - Label_4, Instance - Instance_1022.parquet\n",
      "Processed: Label - Label_4, Instance - Instance_1014.parquet\n",
      "Processed: Label - Label_4, Instance - Instance_1004.parquet\n",
      "Processed: Label - Label_4, Instance - Instance_998.parquet\n",
      "Processed: Label - Label_4, Instance - Instance_988.parquet\n",
      "Processed: Label - Label_4, Instance - Instance_795.parquet\n",
      "Processed: Label - Label_4, Instance - Instance_785.parquet\n",
      "Processed: Label - Label_4, Instance - Instance_859.parquet\n",
      "Processed: Label - Label_4, Instance - Instance_921.parquet\n",
      "Processed: Label - Label_4, Instance - Instance_849.parquet\n",
      "Processed: Label - Label_4, Instance - Instance_931.parquet\n",
      "Processed: Label - Label_4, Instance - Instance_943.parquet\n",
      "Processed: Label - Label_4, Instance - Instance_953.parquet\n",
      "Processed: Label - Label_4, Instance - Instance_882.parquet\n",
      "Processed: Label - Label_4, Instance - Instance_892.parquet\n",
      "Processed: Label - Label_4, Instance - Instance_866.parquet\n",
      "Processed: Label - Label_4, Instance - Instance_876.parquet\n",
      "Processed: Label - Label_4, Instance - Instance_713.parquet\n",
      "Processed: Label - Label_4, Instance - Instance_771.parquet\n",
      "Processed: Label - Label_4, Instance - Instance_1049.parquet\n",
      "Processed: Label - Label_4, Instance - Instance_761.parquet\n",
      "Processed: Label - Label_4, Instance - Instance_804.parquet\n",
      "Processed: Label - Label_4, Instance - Instance_814.parquet\n",
      "Processed: Label - Label_4, Instance - Instance_930.parquet\n",
      "Processed: Label - Label_4, Instance - Instance_848.parquet\n",
      "Processed: Label - Label_4, Instance - Instance_920.parquet\n",
      "Processed: Label - Label_4, Instance - Instance_858.parquet\n",
      "Processed: Label - Label_4, Instance - Instance_784.parquet\n",
      "Processed: Label - Label_4, Instance - Instance_794.parquet\n",
      "Processed: Label - Label_4, Instance - Instance_989.parquet\n",
      "Processed: Label - Label_4, Instance - Instance_999.parquet\n",
      "Processed: Label - Label_4, Instance - Instance_1005.parquet\n",
      "Processed: Label - Label_4, Instance - Instance_1015.parquet\n",
      "Processed: Label - Label_4, Instance - Instance_893.parquet\n",
      "Processed: Label - Label_4, Instance - Instance_883.parquet\n",
      "Processed: Label - Label_4, Instance - Instance_952.parquet\n",
      "Processed: Label - Label_4, Instance - Instance_942.parquet\n",
      "Processed: Label - Label_4, Instance - Instance_712.parquet\n",
      "Processed: Label - Label_4, Instance - Instance_877.parquet\n",
      "Processed: Label - Label_4, Instance - Instance_867.parquet\n",
      "Processed: Label - Label_4, Instance - Instance_815.parquet\n",
      "Processed: Label - Label_4, Instance - Instance_805.parquet\n"
     ]
    },
    {
     "name": "stderr",
     "output_type": "stream",
     "text": [
      "                                                                                \r"
     ]
    },
    {
     "name": "stdout",
     "output_type": "stream",
     "text": [
      "Processed: Label - Label_4, Instance - Instance_760.parquet\n",
      "Processed: Label - Label_4, Instance - Instance_770.parquet\n",
      "Processed: Label - Label_4, Instance - Instance_1048.parquet\n",
      "Processed: Label - Label_4, Instance - Instance_746.parquet\n",
      "Processed: Label - Label_4, Instance - Instance_756.parquet\n",
      "Processed: Label - Label_4, Instance - Instance_833.parquet\n",
      "Processed: Label - Label_4, Instance - Instance_823.parquet\n",
      "Processed: Label - Label_4, Instance - Instance_929.parquet\n",
      "Processed: Label - Label_4, Instance - Instance_851.parquet\n",
      "Processed: Label - Label_4, Instance - Instance_939.parquet\n",
      "Processed: Label - Label_4, Instance - Instance_841.parquet\n",
      "Processed: Label - Label_4, Instance - Instance_990.parquet\n",
      "Processed: Label - Label_4, Instance - Instance_980.parquet\n",
      "Processed: Label - Label_4, Instance - Instance_724.parquet\n",
      "Processed: Label - Label_4, Instance - Instance_734.parquet\n",
      "Processed: Label - Label_4, Instance - Instance_974.parquet\n",
      "Processed: Label - Label_4, Instance - Instance_964.parquet\n",
      "Processed: Label - Label_4, Instance - Instance_779.parquet\n",
      "Processed: Label - Label_4, Instance - Instance_1041.parquet\n",
      "Processed: Label - Label_4, Instance - Instance_1051.parquet\n",
      "Processed: Label - Label_4, Instance - Instance_769.parquet\n",
      "Processed: Label - Label_4, Instance - Instance_1023.parquet\n",
      "Processed: Label - Label_4, Instance - Instance_1033.parquet\n",
      "Processed: Label - Label_4, Instance - Instance_916.parquet\n",
      "Processed: Label - Label_4, Instance - Instance_906.parquet\n",
      "Processed: Label - Label_4, Instance - Instance_881.parquet\n",
      "Processed: Label - Label_4, Instance - Instance_891.parquet\n",
      "Processed: Label - Label_4, Instance - Instance_940.parquet\n",
      "Processed: Label - Label_4, Instance - Instance_838.parquet\n",
      "Processed: Label - Label_4, Instance - Instance_950.parquet\n",
      "Processed: Label - Label_4, Instance - Instance_828.parquet\n",
      "Processed: Label - Label_4, Instance - Instance_796.parquet\n",
      "Processed: Label - Label_4, Instance - Instance_786.parquet\n",
      "Processed: Label - Label_4, Instance - Instance_922.parquet\n",
      "Processed: Label - Label_4, Instance - Instance_932.parquet\n",
      "Processed: Label - Label_4, Instance - Instance_1017.parquet\n",
      "Processed: Label - Label_4, Instance - Instance_1007.parquet\n",
      "Processed: Label - Label_4, Instance - Instance_807.parquet\n",
      "Processed: Label - Label_4, Instance - Instance_817.parquet\n",
      "Processed: Label - Label_4, Instance - Instance_772.parquet\n",
      "Processed: Label - Label_4, Instance - Instance_762.parquet\n",
      "Processed: Label - Label_4, Instance - Instance_1028.parquet\n",
      "Processed: Label - Label_4, Instance - Instance_1038.parquet\n",
      "Processed: Label - Label_4, Instance - Instance_865.parquet\n",
      "Processed: Label - Label_4, Instance - Instance_875.parquet\n",
      "Processed: Label - Label_4, Instance - Instance_843.parquet\n",
      "Processed: Label - Label_4, Instance - Instance_853.parquet\n",
      "Processed: Label - Label_4, Instance - Instance_736.parquet\n",
      "Processed: Label - Label_4, Instance - Instance_726.parquet\n",
      "Processed: Label - Label_4, Instance - Instance_982.parquet\n",
      "Processed: Label - Label_4, Instance - Instance_992.parquet\n",
      "Processed: Label - Label_4, Instance - Instance_898.parquet\n",
      "Processed: Label - Label_4, Instance - Instance_888.parquet\n",
      "Processed: Label - Label_4, Instance - Instance_754.parquet\n",
      "Processed: Label - Label_4, Instance - Instance_744.parquet\n",
      "Processed: Label - Label_4, Instance - Instance_959.parquet\n",
      "Processed: Label - Label_4, Instance - Instance_821.parquet\n",
      "Processed: Label - Label_4, Instance - Instance_949.parquet\n",
      "Processed: Label - Label_4, Instance - Instance_831.parquet\n",
      "Processed: Label - Label_4, Instance - Instance_1031.parquet\n",
      "Processed: Label - Label_4, Instance - Instance_719.parquet\n",
      "Processed: Label - Label_4, Instance - Instance_1021.parquet\n",
      "Processed: Label - Label_4, Instance - Instance_904.parquet\n",
      "Processed: Label - Label_4, Instance - Instance_914.parquet\n",
      "Processed: Label - Label_4, Instance - Instance_966.parquet\n"
     ]
    },
    {
     "name": "stderr",
     "output_type": "stream",
     "text": [
      "                                                                                \r"
     ]
    },
    {
     "name": "stdout",
     "output_type": "stream",
     "text": [
      "Processed: Label - Label_4, Instance - Instance_976.parquet\n",
      "Processed: Label - Label_4, Instance - Instance_1053.parquet\n",
      "Processed: Label - Label_4, Instance - Instance_1043.parquet\n",
      "Processed: Label - Label_4, Instance - Instance_993.parquet\n",
      "Processed: Label - Label_4, Instance - Instance_983.parquet\n",
      "Processed: Label - Label_4, Instance - Instance_727.parquet\n",
      "Processed: Label - Label_4, Instance - Instance_737.parquet\n",
      "Processed: Label - Label_4, Instance - Instance_852.parquet\n",
      "Processed: Label - Label_4, Instance - Instance_842.parquet\n",
      "Processed: Label - Label_4, Instance - Instance_830.parquet\n",
      "Processed: Label - Label_4, Instance - Instance_948.parquet\n",
      "Processed: Label - Label_4, Instance - Instance_820.parquet\n",
      "Processed: Label - Label_4, Instance - Instance_958.parquet\n",
      "Processed: Label - Label_4, Instance - Instance_745.parquet\n",
      "Processed: Label - Label_4, Instance - Instance_755.parquet\n",
      "Processed: Label - Label_4, Instance - Instance_889.parquet\n",
      "Processed: Label - Label_4, Instance - Instance_899.parquet\n",
      "Processed: Label - Label_4, Instance - Instance_915.parquet\n",
      "Processed: Label - Label_4, Instance - Instance_905.parquet\n",
      "Processed: Label - Label_4, Instance - Instance_718.parquet\n",
      "Processed: Label - Label_4, Instance - Instance_1020.parquet\n",
      "Processed: Label - Label_4, Instance - Instance_1030.parquet\n",
      "Processed: Label - Label_4, Instance - Instance_1042.parquet\n",
      "Processed: Label - Label_4, Instance - Instance_1052.parquet\n",
      "Processed: Label - Label_4, Instance - Instance_977.parquet\n",
      "Processed: Label - Label_4, Instance - Instance_967.parquet\n",
      "Processed: Label - Label_4, Instance - Instance_829.parquet\n",
      "Processed: Label - Label_4, Instance - Instance_951.parquet\n",
      "Processed: Label - Label_4, Instance - Instance_839.parquet\n",
      "Processed: Label - Label_4, Instance - Instance_941.parquet\n",
      "Processed: Label - Label_4, Instance - Instance_890.parquet\n",
      "Processed: Label - Label_4, Instance - Instance_880.parquet\n",
      "Processed: Label - Label_4, Instance - Instance_1006.parquet\n",
      "Processed: Label - Label_4, Instance - Instance_1016.parquet\n",
      "Processed: Label - Label_4, Instance - Instance_933.parquet\n",
      "Processed: Label - Label_4, Instance - Instance_923.parquet\n",
      "Processed: Label - Label_4, Instance - Instance_787.parquet\n",
      "Processed: Label - Label_4, Instance - Instance_797.parquet\n",
      "Processed: Label - Label_4, Instance - Instance_763.parquet\n",
      "Processed: Label - Label_4, Instance - Instance_773.parquet\n",
      "Processed: Label - Label_4, Instance - Instance_816.parquet\n",
      "Processed: Label - Label_4, Instance - Instance_806.parquet\n",
      "Processed: Label - Label_4, Instance - Instance_874.parquet\n",
      "Processed: Label - Label_4, Instance - Instance_864.parquet\n",
      "Processed: Label - Label_4, Instance - Instance_1039.parquet\n",
      "Processed: Label - Label_4, Instance - Instance_711.parquet\n"
     ]
    },
    {
     "name": "stderr",
     "output_type": "stream",
     "text": [
      "Transforming Class Column:  80%|████████  | 8/10 [11:04<03:00, 90.00s/it]"
     ]
    },
    {
     "name": "stdout",
     "output_type": "stream",
     "text": [
      "Processed: Label - Label_4, Instance - Instance_1029.parquet\n",
      "Processed: Label - Label_5, Instance - Instance_1109.parquet\n",
      "Processed: Label - Label_5, Instance - Instance_1110.parquet\n",
      "Processed: Label - Label_5, Instance - Instance_1111.parquet\n",
      "Processed: Label - Label_5, Instance - Instance_1118.parquet\n",
      "Processed: Label - Label_5, Instance - Instance_1108.parquet\n",
      "Processed: Label - Label_5, Instance - Instance_1113.parquet\n",
      "Processed: Label - Label_5, Instance - Instance_1112.parquet\n",
      "Processed: Label - Label_5, Instance - Instance_1117.parquet\n",
      "Processed: Label - Label_5, Instance - Instance_1116.parquet\n",
      "Processed: Label - Label_5, Instance - Instance_1114.parquet\n"
     ]
    },
    {
     "name": "stderr",
     "output_type": "stream",
     "text": [
      "Transforming Class Column:  90%|█████████ | 9/10 [11:10<01:03, 63.92s/it]"
     ]
    },
    {
     "name": "stdout",
     "output_type": "stream",
     "text": [
      "Processed: Label - Label_5, Instance - Instance_1115.parquet\n",
      "Processed: Label - Label_2, Instance - Instance_1095.parquet\n",
      "Processed: Label - Label_2, Instance - Instance_1100.parquet\n"
     ]
    },
    {
     "name": "stderr",
     "output_type": "stream",
     "text": [
      "                                                                                \r"
     ]
    },
    {
     "name": "stdout",
     "output_type": "stream",
     "text": [
      "Processed: Label - Label_2, Instance - Instance_1101.parquet\n",
      "Processed: Label - Label_2, Instance - Instance_1094.parquet\n",
      "Processed: Label - Label_2, Instance - Instance_1103.parquet\n",
      "Processed: Label - Label_2, Instance - Instance_1096.parquet\n",
      "Processed: Label - Label_2, Instance - Instance_1086.parquet\n",
      "Processed: Label - Label_2, Instance - Instance_1087.parquet\n",
      "Processed: Label - Label_2, Instance - Instance_1097.parquet\n",
      "Processed: Label - Label_2, Instance - Instance_1102.parquet\n",
      "Processed: Label - Label_2, Instance - Instance_1107.parquet\n",
      "Processed: Label - Label_2, Instance - Instance_1092.parquet\n",
      "Processed: Label - Label_2, Instance - Instance_1093.parquet\n",
      "Processed: Label - Label_2, Instance - Instance_1106.parquet\n",
      "Processed: Label - Label_2, Instance - Instance_1091.parquet\n",
      "Processed: Label - Label_2, Instance - Instance_1104.parquet\n",
      "Processed: Label - Label_2, Instance - Instance_1088.parquet\n",
      "Processed: Label - Label_2, Instance - Instance_1098.parquet\n",
      "Processed: Label - Label_2, Instance - Instance_1105.parquet\n",
      "Processed: Label - Label_2, Instance - Instance_1099.parquet\n",
      "Processed: Label - Label_2, Instance - Instance_1089.parquet\n"
     ]
    },
    {
     "name": "stderr",
     "output_type": "stream",
     "text": [
      "Transforming Class Column: 100%|██████████| 10/10 [11:24<00:00, 68.45s/it]"
     ]
    },
    {
     "name": "stdout",
     "output_type": "stream",
     "text": [
      "Processed: Label - Label_2, Instance - Instance_1090.parquet\n",
      "Processed data saved to: ../Cleaning & Preparation/Staged Cleaning Data/Stage 2\n"
     ]
    },
    {
     "name": "stderr",
     "output_type": "stream",
     "text": [
      "\n"
     ]
    }
   ],
   "source": [
    "### Transform Class Column to Binary Classification\n",
    "def transform_class_column_in_cleaned_data(base_path, output_path):\n",
    "    \"\"\"\n",
    "    Transforms the 'class' column into a binary classification column ('target').\n",
    "\n",
    "    Parameters:\n",
    "        base_path (str): Directory containing the cleaned instances.\n",
    "        output_path (str): Directory path to save transformed instances.\n",
    "\n",
    "    Returns:\n",
    "        None\n",
    "    \"\"\"\n",
    "    for label_dir in tqdm(os.listdir(base_path), desc=\"Transforming Class Column\"):\n",
    "        label_path = os.path.join(base_path, label_dir)\n",
    "        if not os.path.isdir(label_path):\n",
    "            continue\n",
    "\n",
    "        for instance_dir in os.listdir(label_path):\n",
    "            instance_path = os.path.join(label_path, instance_dir)\n",
    "            if not instance_path.endswith(\".parquet\"):\n",
    "                continue\n",
    "\n",
    "            try:\n",
    "                instance_df = spark.read.parquet(instance_path)\n",
    "                if \"class\" not in instance_df.columns:\n",
    "                    print(f\"Skipping instance {instance_dir}: 'class' column not found.\")\n",
    "                    continue\n",
    "\n",
    "                updated_df = instance_df.withColumn(\n",
    "                    \"target\",\n",
    "                    when(col(\"class\").isin(None, 1, 2, 5, 6, 7, 8, 9), 0)\n",
    "                    .when(col(\"class\").isin(3, 4, 101, 102, 105, 106, 107, 108, 109), 1)\n",
    "                    .otherwise(lit(0))\n",
    "                )\n",
    "\n",
    "                output_label_dir = os.path.join(output_path, label_dir)\n",
    "                os.makedirs(output_label_dir, exist_ok=True)\n",
    "                output_file = os.path.join(output_label_dir, instance_dir)\n",
    "                updated_df.write.mode(\"overwrite\").parquet(output_file)\n",
    "                print(f\"Processed: Label - {label_dir}, Instance - {instance_dir}\")\n",
    "\n",
    "            except Exception as e:\n",
    "                print(f\"Error processing {instance_path}: {e}\")\n",
    "                continue\n",
    "\n",
    "    print(f\"Processed data saved to: {output_path}\")\n",
    "\n",
    "# Transform Class Column\n",
    "transform_class_column_in_cleaned_data(os.path.join(STAGED_DATA_PATH, \"Stage 1\"), os.path.join(STAGED_DATA_PATH, \"Stage 2\"))"
   ]
  },
  {
   "cell_type": "code",
   "execution_count": null,
   "metadata": {},
   "outputs": [
    {
     "name": "stdout",
     "output_type": "stream",
     "text": [
      "Traversing base path: ../Cleaning & Preparation/Staged Cleaning Data/Stage 2\n",
      "Reading instance file: ../Cleaning & Preparation/Staged Cleaning Data/Stage 2/Label_9/Instance_11.parquet\n",
      "Reading instance file: ../Cleaning & Preparation/Staged Cleaning Data/Stage 2/Label_9/Instance_5.parquet\n",
      "Reading instance file: ../Cleaning & Preparation/Staged Cleaning Data/Stage 2/Label_9/Instance_18.parquet\n",
      "Reading instance file: ../Cleaning & Preparation/Staged Cleaning Data/Stage 2/Label_9/Instance_45.parquet\n",
      "Reading instance file: ../Cleaning & Preparation/Staged Cleaning Data/Stage 2/Label_9/Instance_55.parquet\n",
      "Reading instance file: ../Cleaning & Preparation/Staged Cleaning Data/Stage 2/Label_9/Instance_27.parquet\n",
      "Reading instance file: ../Cleaning & Preparation/Staged Cleaning Data/Stage 2/Label_9/Instance_37.parquet\n",
      "Reading instance file: ../Cleaning & Preparation/Staged Cleaning Data/Stage 2/Label_9/Instance_19.parquet\n",
      "Reading instance file: ../Cleaning & Preparation/Staged Cleaning Data/Stage 2/Label_9/Instance_54.parquet\n",
      "Reading instance file: ../Cleaning & Preparation/Staged Cleaning Data/Stage 2/Label_9/Instance_44.parquet\n",
      "Reading instance file: ../Cleaning & Preparation/Staged Cleaning Data/Stage 2/Label_9/Instance_36.parquet\n",
      "Reading instance file: ../Cleaning & Preparation/Staged Cleaning Data/Stage 2/Label_9/Instance_26.parquet\n",
      "Reading instance file: ../Cleaning & Preparation/Staged Cleaning Data/Stage 2/Label_9/Instance_10.parquet\n",
      "Reading instance file: ../Cleaning & Preparation/Staged Cleaning Data/Stage 2/Label_9/Instance_4.parquet\n",
      "Reading instance file: ../Cleaning & Preparation/Staged Cleaning Data/Stage 2/Label_9/Instance_24.parquet\n",
      "Reading instance file: ../Cleaning & Preparation/Staged Cleaning Data/Stage 2/Label_9/Instance_34.parquet\n",
      "Reading instance file: ../Cleaning & Preparation/Staged Cleaning Data/Stage 2/Label_9/Instance_46.parquet\n",
      "Reading instance file: ../Cleaning & Preparation/Staged Cleaning Data/Stage 2/Label_9/Instance_56.parquet\n",
      "Reading instance file: ../Cleaning & Preparation/Staged Cleaning Data/Stage 2/Label_9/Instance_6.parquet\n",
      "Reading instance file: ../Cleaning & Preparation/Staged Cleaning Data/Stage 2/Label_9/Instance_12.parquet\n",
      "Reading instance file: ../Cleaning & Preparation/Staged Cleaning Data/Stage 2/Label_9/Instance_7.parquet\n",
      "Reading instance file: ../Cleaning & Preparation/Staged Cleaning Data/Stage 2/Label_9/Instance_13.parquet\n",
      "Reading instance file: ../Cleaning & Preparation/Staged Cleaning Data/Stage 2/Label_9/Instance_35.parquet\n",
      "Reading instance file: ../Cleaning & Preparation/Staged Cleaning Data/Stage 2/Label_9/Instance_25.parquet\n",
      "Reading instance file: ../Cleaning & Preparation/Staged Cleaning Data/Stage 2/Label_9/Instance_47.parquet\n",
      "Reading instance file: ../Cleaning & Preparation/Staged Cleaning Data/Stage 2/Label_9/Instance_20.parquet\n",
      "Reading instance file: ../Cleaning & Preparation/Staged Cleaning Data/Stage 2/Label_9/Instance_30.parquet\n",
      "Reading instance file: ../Cleaning & Preparation/Staged Cleaning Data/Stage 2/Label_9/Instance_42.parquet\n",
      "Reading instance file: ../Cleaning & Preparation/Staged Cleaning Data/Stage 2/Label_9/Instance_52.parquet\n",
      "Reading instance file: ../Cleaning & Preparation/Staged Cleaning Data/Stage 2/Label_9/Instance_39.parquet\n",
      "Reading instance file: ../Cleaning & Preparation/Staged Cleaning Data/Stage 2/Label_9/Instance_29.parquet\n",
      "Reading instance file: ../Cleaning & Preparation/Staged Cleaning Data/Stage 2/Label_9/Instance_2.parquet\n",
      "Reading instance file: ../Cleaning & Preparation/Staged Cleaning Data/Stage 2/Label_9/Instance_16.parquet\n",
      "Reading instance file: ../Cleaning & Preparation/Staged Cleaning Data/Stage 2/Label_9/Instance_28.parquet\n",
      "Reading instance file: ../Cleaning & Preparation/Staged Cleaning Data/Stage 2/Label_9/Instance_38.parquet\n",
      "Reading instance file: ../Cleaning & Preparation/Staged Cleaning Data/Stage 2/Label_9/Instance_3.parquet\n",
      "Reading instance file: ../Cleaning & Preparation/Staged Cleaning Data/Stage 2/Label_9/Instance_17.parquet\n",
      "Reading instance file: ../Cleaning & Preparation/Staged Cleaning Data/Stage 2/Label_9/Instance_31.parquet\n",
      "Reading instance file: ../Cleaning & Preparation/Staged Cleaning Data/Stage 2/Label_9/Instance_21.parquet\n",
      "Reading instance file: ../Cleaning & Preparation/Staged Cleaning Data/Stage 2/Label_9/Instance_53.parquet\n",
      "Reading instance file: ../Cleaning & Preparation/Staged Cleaning Data/Stage 2/Label_9/Instance_43.parquet\n",
      "Reading instance file: ../Cleaning & Preparation/Staged Cleaning Data/Stage 2/Label_9/Instance_48.parquet\n",
      "Reading instance file: ../Cleaning & Preparation/Staged Cleaning Data/Stage 2/Label_9/Instance_15.parquet\n",
      "Reading instance file: ../Cleaning & Preparation/Staged Cleaning Data/Stage 2/Label_9/Instance_1.parquet\n",
      "Reading instance file: ../Cleaning & Preparation/Staged Cleaning Data/Stage 2/Label_9/Instance_41.parquet\n",
      "Reading instance file: ../Cleaning & Preparation/Staged Cleaning Data/Stage 2/Label_9/Instance_51.parquet\n",
      "Reading instance file: ../Cleaning & Preparation/Staged Cleaning Data/Stage 2/Label_9/Instance_23.parquet\n",
      "Reading instance file: ../Cleaning & Preparation/Staged Cleaning Data/Stage 2/Label_9/Instance_33.parquet\n",
      "Reading instance file: ../Cleaning & Preparation/Staged Cleaning Data/Stage 2/Label_9/Instance_8.parquet\n",
      "Reading instance file: ../Cleaning & Preparation/Staged Cleaning Data/Stage 2/Label_9/Instance_50.parquet\n",
      "Reading instance file: ../Cleaning & Preparation/Staged Cleaning Data/Stage 2/Label_9/Instance_40.parquet\n",
      "Reading instance file: ../Cleaning & Preparation/Staged Cleaning Data/Stage 2/Label_9/Instance_32.parquet\n",
      "Reading instance file: ../Cleaning & Preparation/Staged Cleaning Data/Stage 2/Label_9/Instance_22.parquet\n",
      "Reading instance file: ../Cleaning & Preparation/Staged Cleaning Data/Stage 2/Label_9/Instance_9.parquet\n",
      "Reading instance file: ../Cleaning & Preparation/Staged Cleaning Data/Stage 2/Label_9/Instance_49.parquet\n",
      "Reading instance file: ../Cleaning & Preparation/Staged Cleaning Data/Stage 2/Label_9/Instance_14.parquet\n",
      "Reading instance file: ../Cleaning & Preparation/Staged Cleaning Data/Stage 2/Label_9/Instance_0.parquet\n",
      "Reading instance file: ../Cleaning & Preparation/Staged Cleaning Data/Stage 2/Label_7/Instance_653.parquet\n",
      "Reading instance file: ../Cleaning & Preparation/Staged Cleaning Data/Stage 2/Label_7/Instance_675.parquet\n",
      "Reading instance file: ../Cleaning & Preparation/Staged Cleaning Data/Stage 2/Label_7/Instance_665.parquet\n",
      "Reading instance file: ../Cleaning & Preparation/Staged Cleaning Data/Stage 2/Label_7/Instance_681.parquet\n",
      "Reading instance file: ../Cleaning & Preparation/Staged Cleaning Data/Stage 2/Label_7/Instance_664.parquet\n",
      "Reading instance file: ../Cleaning & Preparation/Staged Cleaning Data/Stage 2/Label_7/Instance_674.parquet\n",
      "Reading instance file: ../Cleaning & Preparation/Staged Cleaning Data/Stage 2/Label_7/Instance_680.parquet\n",
      "Reading instance file: ../Cleaning & Preparation/Staged Cleaning Data/Stage 2/Label_7/Instance_652.parquet\n",
      "Reading instance file: ../Cleaning & Preparation/Staged Cleaning Data/Stage 2/Label_7/Instance_676.parquet\n",
      "Reading instance file: ../Cleaning & Preparation/Staged Cleaning Data/Stage 2/Label_7/Instance_666.parquet\n",
      "Reading instance file: ../Cleaning & Preparation/Staged Cleaning Data/Stage 2/Label_7/Instance_682.parquet\n",
      "Reading instance file: ../Cleaning & Preparation/Staged Cleaning Data/Stage 2/Label_7/Instance_659.parquet\n",
      "Reading instance file: ../Cleaning & Preparation/Staged Cleaning Data/Stage 2/Label_7/Instance_651.parquet\n",
      "Reading instance file: ../Cleaning & Preparation/Staged Cleaning Data/Stage 2/Label_7/Instance_667.parquet\n",
      "Reading instance file: ../Cleaning & Preparation/Staged Cleaning Data/Stage 2/Label_7/Instance_677.parquet\n",
      "Reading instance file: ../Cleaning & Preparation/Staged Cleaning Data/Stage 2/Label_7/Instance_683.parquet\n",
      "Reading instance file: ../Cleaning & Preparation/Staged Cleaning Data/Stage 2/Label_7/Instance_658.parquet\n",
      "Reading instance file: ../Cleaning & Preparation/Staged Cleaning Data/Stage 2/Label_7/Instance_686.parquet\n",
      "Reading instance file: ../Cleaning & Preparation/Staged Cleaning Data/Stage 2/Label_7/Instance_672.parquet\n",
      "Reading instance file: ../Cleaning & Preparation/Staged Cleaning Data/Stage 2/Label_7/Instance_662.parquet\n",
      "Reading instance file: ../Cleaning & Preparation/Staged Cleaning Data/Stage 2/Label_7/Instance_654.parquet\n",
      "Reading instance file: ../Cleaning & Preparation/Staged Cleaning Data/Stage 2/Label_7/Instance_655.parquet\n",
      "Reading instance file: ../Cleaning & Preparation/Staged Cleaning Data/Stage 2/Label_7/Instance_663.parquet\n",
      "Reading instance file: ../Cleaning & Preparation/Staged Cleaning Data/Stage 2/Label_7/Instance_673.parquet\n",
      "Reading instance file: ../Cleaning & Preparation/Staged Cleaning Data/Stage 2/Label_7/Instance_657.parquet\n",
      "Reading instance file: ../Cleaning & Preparation/Staged Cleaning Data/Stage 2/Label_7/Instance_668.parquet\n",
      "Reading instance file: ../Cleaning & Preparation/Staged Cleaning Data/Stage 2/Label_7/Instance_678.parquet\n",
      "Reading instance file: ../Cleaning & Preparation/Staged Cleaning Data/Stage 2/Label_7/Instance_685.parquet\n",
      "Reading instance file: ../Cleaning & Preparation/Staged Cleaning Data/Stage 2/Label_7/Instance_671.parquet\n",
      "Reading instance file: ../Cleaning & Preparation/Staged Cleaning Data/Stage 2/Label_7/Instance_661.parquet\n",
      "Reading instance file: ../Cleaning & Preparation/Staged Cleaning Data/Stage 2/Label_7/Instance_684.parquet\n",
      "Reading instance file: ../Cleaning & Preparation/Staged Cleaning Data/Stage 2/Label_7/Instance_660.parquet\n",
      "Reading instance file: ../Cleaning & Preparation/Staged Cleaning Data/Stage 2/Label_7/Instance_670.parquet\n",
      "Reading instance file: ../Cleaning & Preparation/Staged Cleaning Data/Stage 2/Label_7/Instance_656.parquet\n",
      "Reading instance file: ../Cleaning & Preparation/Staged Cleaning Data/Stage 2/Label_7/Instance_679.parquet\n",
      "Reading instance file: ../Cleaning & Preparation/Staged Cleaning Data/Stage 2/Label_7/Instance_669.parquet\n",
      "Reading instance file: ../Cleaning & Preparation/Staged Cleaning Data/Stage 2/Label_0/Instance_245.parquet\n",
      "Reading instance file: ../Cleaning & Preparation/Staged Cleaning Data/Stage 2/Label_0/Instance_255.parquet\n",
      "Reading instance file: ../Cleaning & Preparation/Staged Cleaning Data/Stage 2/Label_0/Instance_410.parquet\n",
      "Reading instance file: ../Cleaning & Preparation/Staged Cleaning Data/Stage 2/Label_0/Instance_568.parquet\n",
      "Reading instance file: ../Cleaning & Preparation/Staged Cleaning Data/Stage 2/Label_0/Instance_400.parquet\n",
      "Reading instance file: ../Cleaning & Preparation/Staged Cleaning Data/Stage 2/Label_0/Instance_578.parquet\n",
      "Reading instance file: ../Cleaning & Preparation/Staged Cleaning Data/Stage 2/Label_0/Instance_123.parquet\n",
      "Reading instance file: ../Cleaning & Preparation/Staged Cleaning Data/Stage 2/Label_0/Instance_133.parquet\n",
      "Reading instance file: ../Cleaning & Preparation/Staged Cleaning Data/Stage 2/Label_0/Instance_384.parquet\n",
      "Reading instance file: ../Cleaning & Preparation/Staged Cleaning Data/Stage 2/Label_0/Instance_394.parquet\n",
      "Reading instance file: ../Cleaning & Preparation/Staged Cleaning Data/Stage 2/Label_0/Instance_141.parquet\n",
      "Reading instance file: ../Cleaning & Preparation/Staged Cleaning Data/Stage 2/Label_0/Instance_151.parquet\n",
      "Reading instance file: ../Cleaning & Preparation/Staged Cleaning Data/Stage 2/Label_0/Instance_63.parquet\n",
      "Reading instance file: ../Cleaning & Preparation/Staged Cleaning Data/Stage 2/Label_0/Instance_73.parquet\n",
      "Reading instance file: ../Cleaning & Preparation/Staged Cleaning Data/Stage 2/Label_0/Instance_472.parquet\n",
      "Reading instance file: ../Cleaning & Preparation/Staged Cleaning Data/Stage 2/Label_0/Instance_462.parquet\n",
      "Reading instance file: ../Cleaning & Preparation/Staged Cleaning Data/Stage 2/Label_0/Instance_227.parquet\n",
      "Reading instance file: ../Cleaning & Preparation/Staged Cleaning Data/Stage 2/Label_0/Instance_237.parquet\n",
      "Reading instance file: ../Cleaning & Preparation/Staged Cleaning Data/Stage 2/Label_0/Instance_496.parquet\n",
      "Reading instance file: ../Cleaning & Preparation/Staged Cleaning Data/Stage 2/Label_0/Instance_486.parquet\n",
      "Reading instance file: ../Cleaning & Preparation/Staged Cleaning Data/Stage 2/Label_0/Instance_87.parquet\n",
      "Reading instance file: ../Cleaning & Preparation/Staged Cleaning Data/Stage 2/Label_0/Instance_97.parquet\n",
      "Reading instance file: ../Cleaning & Preparation/Staged Cleaning Data/Stage 2/Label_0/Instance_631.parquet\n",
      "Reading instance file: ../Cleaning & Preparation/Staged Cleaning Data/Stage 2/Label_0/Instance_621.parquet\n",
      "Reading instance file: ../Cleaning & Preparation/Staged Cleaning Data/Stage 2/Label_0/Instance_302.parquet\n",
      "Reading instance file: ../Cleaning & Preparation/Staged Cleaning Data/Stage 2/Label_0/Instance_312.parquet\n",
      "Reading instance file: ../Cleaning & Preparation/Staged Cleaning Data/Stage 2/Label_0/Instance_557.parquet\n",
      "Reading instance file: ../Cleaning & Preparation/Staged Cleaning Data/Stage 2/Label_0/Instance_547.parquet\n",
      "Reading instance file: ../Cleaning & Preparation/Staged Cleaning Data/Stage 2/Label_0/Instance_535.parquet\n",
      "Reading instance file: ../Cleaning & Preparation/Staged Cleaning Data/Stage 2/Label_0/Instance_525.parquet\n",
      "Reading instance file: ../Cleaning & Preparation/Staged Cleaning Data/Stage 2/Label_0/Instance_218.parquet\n",
      "Reading instance file: ../Cleaning & Preparation/Staged Cleaning Data/Stage 2/Label_0/Instance_360.parquet\n",
      "Reading instance file: ../Cleaning & Preparation/Staged Cleaning Data/Stage 2/Label_0/Instance_208.parquet\n",
      "Reading instance file: ../Cleaning & Preparation/Staged Cleaning Data/Stage 2/Label_0/Instance_370.parquet\n",
      "Reading instance file: ../Cleaning & Preparation/Staged Cleaning Data/Stage 2/Label_0/Instance_643.parquet\n",
      "Reading instance file: ../Cleaning & Preparation/Staged Cleaning Data/Stage 2/Label_0/Instance_287.parquet\n",
      "Reading instance file: ../Cleaning & Preparation/Staged Cleaning Data/Stage 2/Label_0/Instance_297.parquet\n",
      "Reading instance file: ../Cleaning & Preparation/Staged Cleaning Data/Stage 2/Label_0/Instance_158.parquet\n",
      "Reading instance file: ../Cleaning & Preparation/Staged Cleaning Data/Stage 2/Label_0/Instance_148.parquet\n",
      "Reading instance file: ../Cleaning & Preparation/Staged Cleaning Data/Stage 2/Label_0/Instance_513.parquet\n",
      "Reading instance file: ../Cleaning & Preparation/Staged Cleaning Data/Stage 2/Label_0/Instance_503.parquet\n",
      "Reading instance file: ../Cleaning & Preparation/Staged Cleaning Data/Stage 2/Label_0/Instance_346.parquet\n",
      "Reading instance file: ../Cleaning & Preparation/Staged Cleaning Data/Stage 2/Label_0/Instance_356.parquet\n",
      "Reading instance file: ../Cleaning & Preparation/Staged Cleaning Data/Stage 2/Label_0/Instance_324.parquet\n",
      "Reading instance file: ../Cleaning & Preparation/Staged Cleaning Data/Stage 2/Label_0/Instance_334.parquet\n",
      "Reading instance file: ../Cleaning & Preparation/Staged Cleaning Data/Stage 2/Label_0/Instance_409.parquet\n",
      "Reading instance file: ../Cleaning & Preparation/Staged Cleaning Data/Stage 2/Label_0/Instance_571.parquet\n",
      "Reading instance file: ../Cleaning & Preparation/Staged Cleaning Data/Stage 2/Label_0/Instance_419.parquet\n",
      "Reading instance file: ../Cleaning & Preparation/Staged Cleaning Data/Stage 2/Label_0/Instance_561.parquet\n",
      "Reading instance file: ../Cleaning & Preparation/Staged Cleaning Data/Stage 2/Label_0/Instance_617.parquet\n",
      "Reading instance file: ../Cleaning & Preparation/Staged Cleaning Data/Stage 2/Label_0/Instance_607.parquet\n",
      "Reading instance file: ../Cleaning & Preparation/Staged Cleaning Data/Stage 2/Label_0/Instance_183.parquet\n",
      "Reading instance file: ../Cleaning & Preparation/Staged Cleaning Data/Stage 2/Label_0/Instance_193.parquet\n",
      "Reading instance file: ../Cleaning & Preparation/Staged Cleaning Data/Stage 2/Label_0/Instance_454.parquet\n",
      "Reading instance file: ../Cleaning & Preparation/Staged Cleaning Data/Stage 2/Label_0/Instance_444.parquet\n",
      "Reading instance file: ../Cleaning & Preparation/Staged Cleaning Data/Stage 2/Label_0/Instance_201.parquet\n",
      "Reading instance file: ../Cleaning & Preparation/Staged Cleaning Data/Stage 2/Label_0/Instance_379.parquet\n",
      "Reading instance file: ../Cleaning & Preparation/Staged Cleaning Data/Stage 2/Label_0/Instance_211.parquet\n",
      "Reading instance file: ../Cleaning & Preparation/Staged Cleaning Data/Stage 2/Label_0/Instance_369.parquet\n",
      "Reading instance file: ../Cleaning & Preparation/Staged Cleaning Data/Stage 2/Label_0/Instance_167.parquet\n",
      "Reading instance file: ../Cleaning & Preparation/Staged Cleaning Data/Stage 2/Label_0/Instance_177.parquet\n",
      "Reading instance file: ../Cleaning & Preparation/Staged Cleaning Data/Stage 2/Label_0/Instance_595.parquet\n",
      "Reading instance file: ../Cleaning & Preparation/Staged Cleaning Data/Stage 2/Label_0/Instance_585.parquet\n",
      "Reading instance file: ../Cleaning & Preparation/Staged Cleaning Data/Stage 2/Label_0/Instance_628.parquet\n",
      "Reading instance file: ../Cleaning & Preparation/Staged Cleaning Data/Stage 2/Label_0/Instance_638.parquet\n",
      "Reading instance file: ../Cleaning & Preparation/Staged Cleaning Data/Stage 2/Label_0/Instance_105.parquet\n",
      "Reading instance file: ../Cleaning & Preparation/Staged Cleaning Data/Stage 2/Label_0/Instance_115.parquet\n",
      "Reading instance file: ../Cleaning & Preparation/Staged Cleaning Data/Stage 2/Label_0/Instance_263.parquet\n",
      "Reading instance file: ../Cleaning & Preparation/Staged Cleaning Data/Stage 2/Label_0/Instance_273.parquet\n",
      "Reading instance file: ../Cleaning & Preparation/Staged Cleaning Data/Stage 2/Label_0/Instance_436.parquet\n",
      "Reading instance file: ../Cleaning & Preparation/Staged Cleaning Data/Stage 2/Label_0/Instance_426.parquet\n",
      "Reading instance file: ../Cleaning & Preparation/Staged Cleaning Data/Stage 2/Label_0/Instance_149.parquet\n",
      "Reading instance file: ../Cleaning & Preparation/Staged Cleaning Data/Stage 2/Label_0/Instance_159.parquet\n",
      "Reading instance file: ../Cleaning & Preparation/Staged Cleaning Data/Stage 2/Label_0/Instance_357.parquet\n",
      "Reading instance file: ../Cleaning & Preparation/Staged Cleaning Data/Stage 2/Label_0/Instance_347.parquet\n",
      "Reading instance file: ../Cleaning & Preparation/Staged Cleaning Data/Stage 2/Label_0/Instance_502.parquet\n",
      "Reading instance file: ../Cleaning & Preparation/Staged Cleaning Data/Stage 2/Label_0/Instance_512.parquet\n",
      "Reading instance file: ../Cleaning & Preparation/Staged Cleaning Data/Stage 2/Label_0/Instance_296.parquet\n",
      "Reading instance file: ../Cleaning & Preparation/Staged Cleaning Data/Stage 2/Label_0/Instance_286.parquet\n",
      "Reading instance file: ../Cleaning & Preparation/Staged Cleaning Data/Stage 2/Label_0/Instance_192.parquet\n",
      "Reading instance file: ../Cleaning & Preparation/Staged Cleaning Data/Stage 2/Label_0/Instance_182.parquet\n",
      "Reading instance file: ../Cleaning & Preparation/Staged Cleaning Data/Stage 2/Label_0/Instance_560.parquet\n",
      "Reading instance file: ../Cleaning & Preparation/Staged Cleaning Data/Stage 2/Label_0/Instance_418.parquet\n",
      "Reading instance file: ../Cleaning & Preparation/Staged Cleaning Data/Stage 2/Label_0/Instance_570.parquet\n",
      "Reading instance file: ../Cleaning & Preparation/Staged Cleaning Data/Stage 2/Label_0/Instance_408.parquet\n",
      "Reading instance file: ../Cleaning & Preparation/Staged Cleaning Data/Stage 2/Label_0/Instance_335.parquet\n",
      "Reading instance file: ../Cleaning & Preparation/Staged Cleaning Data/Stage 2/Label_0/Instance_325.parquet\n",
      "Reading instance file: ../Cleaning & Preparation/Staged Cleaning Data/Stage 2/Label_0/Instance_606.parquet\n",
      "Reading instance file: ../Cleaning & Preparation/Staged Cleaning Data/Stage 2/Label_0/Instance_616.parquet\n",
      "Reading instance file: ../Cleaning & Preparation/Staged Cleaning Data/Stage 2/Label_0/Instance_584.parquet\n",
      "Reading instance file: ../Cleaning & Preparation/Staged Cleaning Data/Stage 2/Label_0/Instance_594.parquet\n",
      "Reading instance file: ../Cleaning & Preparation/Staged Cleaning Data/Stage 2/Label_0/Instance_368.parquet\n",
      "Reading instance file: ../Cleaning & Preparation/Staged Cleaning Data/Stage 2/Label_0/Instance_210.parquet\n",
      "Reading instance file: ../Cleaning & Preparation/Staged Cleaning Data/Stage 2/Label_0/Instance_378.parquet\n",
      "Reading instance file: ../Cleaning & Preparation/Staged Cleaning Data/Stage 2/Label_0/Instance_200.parquet\n",
      "Reading instance file: ../Cleaning & Preparation/Staged Cleaning Data/Stage 2/Label_0/Instance_445.parquet\n",
      "Reading instance file: ../Cleaning & Preparation/Staged Cleaning Data/Stage 2/Label_0/Instance_455.parquet\n",
      "Reading instance file: ../Cleaning & Preparation/Staged Cleaning Data/Stage 2/Label_0/Instance_176.parquet\n",
      "Reading instance file: ../Cleaning & Preparation/Staged Cleaning Data/Stage 2/Label_0/Instance_166.parquet\n",
      "Reading instance file: ../Cleaning & Preparation/Staged Cleaning Data/Stage 2/Label_0/Instance_114.parquet\n",
      "Reading instance file: ../Cleaning & Preparation/Staged Cleaning Data/Stage 2/Label_0/Instance_104.parquet\n",
      "Reading instance file: ../Cleaning & Preparation/Staged Cleaning Data/Stage 2/Label_0/Instance_639.parquet\n",
      "Reading instance file: ../Cleaning & Preparation/Staged Cleaning Data/Stage 2/Label_0/Instance_629.parquet\n",
      "Reading instance file: ../Cleaning & Preparation/Staged Cleaning Data/Stage 2/Label_0/Instance_427.parquet\n",
      "Reading instance file: ../Cleaning & Preparation/Staged Cleaning Data/Stage 2/Label_0/Instance_437.parquet\n",
      "Reading instance file: ../Cleaning & Preparation/Staged Cleaning Data/Stage 2/Label_0/Instance_272.parquet\n",
      "Reading instance file: ../Cleaning & Preparation/Staged Cleaning Data/Stage 2/Label_0/Instance_262.parquet\n",
      "Reading instance file: ../Cleaning & Preparation/Staged Cleaning Data/Stage 2/Label_0/Instance_395.parquet\n",
      "Reading instance file: ../Cleaning & Preparation/Staged Cleaning Data/Stage 2/Label_0/Instance_385.parquet\n",
      "Reading instance file: ../Cleaning & Preparation/Staged Cleaning Data/Stage 2/Label_0/Instance_579.parquet\n",
      "Reading instance file: ../Cleaning & Preparation/Staged Cleaning Data/Stage 2/Label_0/Instance_401.parquet\n",
      "Reading instance file: ../Cleaning & Preparation/Staged Cleaning Data/Stage 2/Label_0/Instance_569.parquet\n",
      "Reading instance file: ../Cleaning & Preparation/Staged Cleaning Data/Stage 2/Label_0/Instance_411.parquet\n",
      "Reading instance file: ../Cleaning & Preparation/Staged Cleaning Data/Stage 2/Label_0/Instance_254.parquet\n",
      "Reading instance file: ../Cleaning & Preparation/Staged Cleaning Data/Stage 2/Label_0/Instance_244.parquet\n",
      "Reading instance file: ../Cleaning & Preparation/Staged Cleaning Data/Stage 2/Label_0/Instance_132.parquet\n",
      "Reading instance file: ../Cleaning & Preparation/Staged Cleaning Data/Stage 2/Label_0/Instance_122.parquet\n",
      "Reading instance file: ../Cleaning & Preparation/Staged Cleaning Data/Stage 2/Label_0/Instance_72.parquet\n",
      "Reading instance file: ../Cleaning & Preparation/Staged Cleaning Data/Stage 2/Label_0/Instance_62.parquet\n",
      "Reading instance file: ../Cleaning & Preparation/Staged Cleaning Data/Stage 2/Label_0/Instance_150.parquet\n",
      "Reading instance file: ../Cleaning & Preparation/Staged Cleaning Data/Stage 2/Label_0/Instance_140.parquet\n",
      "Reading instance file: ../Cleaning & Preparation/Staged Cleaning Data/Stage 2/Label_0/Instance_236.parquet\n",
      "Reading instance file: ../Cleaning & Preparation/Staged Cleaning Data/Stage 2/Label_0/Instance_226.parquet\n",
      "Reading instance file: ../Cleaning & Preparation/Staged Cleaning Data/Stage 2/Label_0/Instance_463.parquet\n",
      "Reading instance file: ../Cleaning & Preparation/Staged Cleaning Data/Stage 2/Label_0/Instance_473.parquet\n",
      "Reading instance file: ../Cleaning & Preparation/Staged Cleaning Data/Stage 2/Label_0/Instance_620.parquet\n",
      "Reading instance file: ../Cleaning & Preparation/Staged Cleaning Data/Stage 2/Label_0/Instance_630.parquet\n",
      "Reading instance file: ../Cleaning & Preparation/Staged Cleaning Data/Stage 2/Label_0/Instance_546.parquet\n",
      "Reading instance file: ../Cleaning & Preparation/Staged Cleaning Data/Stage 2/Label_0/Instance_556.parquet\n",
      "Reading instance file: ../Cleaning & Preparation/Staged Cleaning Data/Stage 2/Label_0/Instance_313.parquet\n",
      "Reading instance file: ../Cleaning & Preparation/Staged Cleaning Data/Stage 2/Label_0/Instance_303.parquet\n",
      "Reading instance file: ../Cleaning & Preparation/Staged Cleaning Data/Stage 2/Label_0/Instance_487.parquet\n",
      "Reading instance file: ../Cleaning & Preparation/Staged Cleaning Data/Stage 2/Label_0/Instance_497.parquet\n",
      "Reading instance file: ../Cleaning & Preparation/Staged Cleaning Data/Stage 2/Label_0/Instance_96.parquet\n",
      "Reading instance file: ../Cleaning & Preparation/Staged Cleaning Data/Stage 2/Label_0/Instance_86.parquet\n",
      "Reading instance file: ../Cleaning & Preparation/Staged Cleaning Data/Stage 2/Label_0/Instance_371.parquet\n",
      "Reading instance file: ../Cleaning & Preparation/Staged Cleaning Data/Stage 2/Label_0/Instance_209.parquet\n",
      "Reading instance file: ../Cleaning & Preparation/Staged Cleaning Data/Stage 2/Label_0/Instance_361.parquet\n",
      "Reading instance file: ../Cleaning & Preparation/Staged Cleaning Data/Stage 2/Label_0/Instance_219.parquet\n",
      "Reading instance file: ../Cleaning & Preparation/Staged Cleaning Data/Stage 2/Label_0/Instance_524.parquet\n",
      "Reading instance file: ../Cleaning & Preparation/Staged Cleaning Data/Stage 2/Label_0/Instance_534.parquet\n",
      "Reading instance file: ../Cleaning & Preparation/Staged Cleaning Data/Stage 2/Label_0/Instance_642.parquet\n",
      "Reading instance file: ../Cleaning & Preparation/Staged Cleaning Data/Stage 2/Label_0/Instance_180.parquet\n",
      "Reading instance file: ../Cleaning & Preparation/Staged Cleaning Data/Stage 2/Label_0/Instance_190.parquet\n",
      "Reading instance file: ../Cleaning & Preparation/Staged Cleaning Data/Stage 2/Label_0/Instance_614.parquet\n",
      "Reading instance file: ../Cleaning & Preparation/Staged Cleaning Data/Stage 2/Label_0/Instance_604.parquet\n",
      "Reading instance file: ../Cleaning & Preparation/Staged Cleaning Data/Stage 2/Label_0/Instance_139.parquet\n",
      "Reading instance file: ../Cleaning & Preparation/Staged Cleaning Data/Stage 2/Label_0/Instance_129.parquet\n",
      "Reading instance file: ../Cleaning & Preparation/Staged Cleaning Data/Stage 2/Label_0/Instance_327.parquet\n",
      "Reading instance file: ../Cleaning & Preparation/Staged Cleaning Data/Stage 2/Label_0/Instance_337.parquet\n",
      "Reading instance file: ../Cleaning & Preparation/Staged Cleaning Data/Stage 2/Label_0/Instance_572.parquet\n",
      "Reading instance file: ../Cleaning & Preparation/Staged Cleaning Data/Stage 2/Label_0/Instance_562.parquet\n",
      "Reading instance file: ../Cleaning & Preparation/Staged Cleaning Data/Stage 2/Label_0/Instance_510.parquet\n",
      "Reading instance file: ../Cleaning & Preparation/Staged Cleaning Data/Stage 2/Label_0/Instance_468.parquet\n",
      "Reading instance file: ../Cleaning & Preparation/Staged Cleaning Data/Stage 2/Label_0/Instance_500.parquet\n",
      "Reading instance file: ../Cleaning & Preparation/Staged Cleaning Data/Stage 2/Label_0/Instance_478.parquet\n",
      "Reading instance file: ../Cleaning & Preparation/Staged Cleaning Data/Stage 2/Label_0/Instance_345.parquet\n",
      "Reading instance file: ../Cleaning & Preparation/Staged Cleaning Data/Stage 2/Label_0/Instance_355.parquet\n",
      "Reading instance file: ../Cleaning & Preparation/Staged Cleaning Data/Stage 2/Label_0/Instance_79.parquet\n",
      "Reading instance file: ../Cleaning & Preparation/Staged Cleaning Data/Stage 2/Label_0/Instance_69.parquet\n",
      "Reading instance file: ../Cleaning & Preparation/Staged Cleaning Data/Stage 2/Label_0/Instance_284.parquet\n",
      "Reading instance file: ../Cleaning & Preparation/Staged Cleaning Data/Stage 2/Label_0/Instance_294.parquet\n",
      "Reading instance file: ../Cleaning & Preparation/Staged Cleaning Data/Stage 2/Label_0/Instance_318.parquet\n",
      "Reading instance file: ../Cleaning & Preparation/Staged Cleaning Data/Stage 2/Label_0/Instance_260.parquet\n",
      "Reading instance file: ../Cleaning & Preparation/Staged Cleaning Data/Stage 2/Label_0/Instance_308.parquet\n",
      "Reading instance file: ../Cleaning & Preparation/Staged Cleaning Data/Stage 2/Label_0/Instance_270.parquet\n",
      "Reading instance file: ../Cleaning & Preparation/Staged Cleaning Data/Stage 2/Label_0/Instance_435.parquet\n",
      "Reading instance file: ../Cleaning & Preparation/Staged Cleaning Data/Stage 2/Label_0/Instance_425.parquet\n",
      "Reading instance file: ../Cleaning & Preparation/Staged Cleaning Data/Stage 2/Label_0/Instance_106.parquet\n",
      "Reading instance file: ../Cleaning & Preparation/Staged Cleaning Data/Stage 2/Label_0/Instance_116.parquet\n",
      "Reading instance file: ../Cleaning & Preparation/Staged Cleaning Data/Stage 2/Label_0/Instance_596.parquet\n",
      "Reading instance file: ../Cleaning & Preparation/Staged Cleaning Data/Stage 2/Label_0/Instance_586.parquet\n",
      "Reading instance file: ../Cleaning & Preparation/Staged Cleaning Data/Stage 2/Label_0/Instance_164.parquet\n",
      "Reading instance file: ../Cleaning & Preparation/Staged Cleaning Data/Stage 2/Label_0/Instance_174.parquet\n",
      "Reading instance file: ../Cleaning & Preparation/Staged Cleaning Data/Stage 2/Label_0/Instance_649.parquet\n",
      "Reading instance file: ../Cleaning & Preparation/Staged Cleaning Data/Stage 2/Label_0/Instance_457.parquet\n",
      "Reading instance file: ../Cleaning & Preparation/Staged Cleaning Data/Stage 2/Label_0/Instance_447.parquet\n",
      "Reading instance file: ../Cleaning & Preparation/Staged Cleaning Data/Stage 2/Label_0/Instance_202.parquet\n",
      "Reading instance file: ../Cleaning & Preparation/Staged Cleaning Data/Stage 2/Label_0/Instance_212.parquet\n",
      "Reading instance file: ../Cleaning & Preparation/Staged Cleaning Data/Stage 2/Label_0/Instance_509.parquet\n",
      "Reading instance file: ../Cleaning & Preparation/Staged Cleaning Data/Stage 2/Label_0/Instance_471.parquet\n",
      "Reading instance file: ../Cleaning & Preparation/Staged Cleaning Data/Stage 2/Label_0/Instance_519.parquet\n",
      "Reading instance file: ../Cleaning & Preparation/Staged Cleaning Data/Stage 2/Label_0/Instance_461.parquet\n",
      "Reading instance file: ../Cleaning & Preparation/Staged Cleaning Data/Stage 2/Label_0/Instance_224.parquet\n",
      "Reading instance file: ../Cleaning & Preparation/Staged Cleaning Data/Stage 2/Label_0/Instance_234.parquet\n",
      "Reading instance file: ../Cleaning & Preparation/Staged Cleaning Data/Stage 2/Label_0/Instance_142.parquet\n",
      "Reading instance file: ../Cleaning & Preparation/Staged Cleaning Data/Stage 2/Label_0/Instance_152.parquet\n",
      "Reading instance file: ../Cleaning & Preparation/Staged Cleaning Data/Stage 2/Label_0/Instance_60.parquet\n",
      "Reading instance file: ../Cleaning & Preparation/Staged Cleaning Data/Stage 2/Label_0/Instance_70.parquet\n",
      "Reading instance file: ../Cleaning & Preparation/Staged Cleaning Data/Stage 2/Label_0/Instance_387.parquet\n",
      "Reading instance file: ../Cleaning & Preparation/Staged Cleaning Data/Stage 2/Label_0/Instance_397.parquet\n",
      "Reading instance file: ../Cleaning & Preparation/Staged Cleaning Data/Stage 2/Label_0/Instance_199.parquet\n",
      "Reading instance file: ../Cleaning & Preparation/Staged Cleaning Data/Stage 2/Label_0/Instance_189.parquet\n",
      "Reading instance file: ../Cleaning & Preparation/Staged Cleaning Data/Stage 2/Label_0/Instance_120.parquet\n",
      "Reading instance file: ../Cleaning & Preparation/Staged Cleaning Data/Stage 2/Label_0/Instance_130.parquet\n",
      "Reading instance file: ../Cleaning & Preparation/Staged Cleaning Data/Stage 2/Label_0/Instance_246.parquet\n",
      "Reading instance file: ../Cleaning & Preparation/Staged Cleaning Data/Stage 2/Label_0/Instance_256.parquet\n",
      "Reading instance file: ../Cleaning & Preparation/Staged Cleaning Data/Stage 2/Label_0/Instance_413.parquet\n",
      "Reading instance file: ../Cleaning & Preparation/Staged Cleaning Data/Stage 2/Label_0/Instance_403.parquet\n",
      "Reading instance file: ../Cleaning & Preparation/Staged Cleaning Data/Stage 2/Label_0/Instance_650.parquet\n",
      "Reading instance file: ../Cleaning & Preparation/Staged Cleaning Data/Stage 2/Label_0/Instance_640.parquet\n",
      "Reading instance file: ../Cleaning & Preparation/Staged Cleaning Data/Stage 2/Label_0/Instance_536.parquet\n",
      "Reading instance file: ../Cleaning & Preparation/Staged Cleaning Data/Stage 2/Label_0/Instance_526.parquet\n",
      "Reading instance file: ../Cleaning & Preparation/Staged Cleaning Data/Stage 2/Label_0/Instance_363.parquet\n",
      "Reading instance file: ../Cleaning & Preparation/Staged Cleaning Data/Stage 2/Label_0/Instance_373.parquet\n",
      "Reading instance file: ../Cleaning & Preparation/Staged Cleaning Data/Stage 2/Label_0/Instance_301.parquet\n",
      "Reading instance file: ../Cleaning & Preparation/Staged Cleaning Data/Stage 2/Label_0/Instance_279.parquet\n",
      "Reading instance file: ../Cleaning & Preparation/Staged Cleaning Data/Stage 2/Label_0/Instance_311.parquet\n",
      "Reading instance file: ../Cleaning & Preparation/Staged Cleaning Data/Stage 2/Label_0/Instance_269.parquet\n",
      "Reading instance file: ../Cleaning & Preparation/Staged Cleaning Data/Stage 2/Label_0/Instance_554.parquet\n",
      "Reading instance file: ../Cleaning & Preparation/Staged Cleaning Data/Stage 2/Label_0/Instance_544.parquet\n",
      "Reading instance file: ../Cleaning & Preparation/Staged Cleaning Data/Stage 2/Label_0/Instance_632.parquet\n",
      "Reading instance file: ../Cleaning & Preparation/Staged Cleaning Data/Stage 2/Label_0/Instance_622.parquet\n",
      "Reading instance file: ../Cleaning & Preparation/Staged Cleaning Data/Stage 2/Label_0/Instance_84.parquet\n",
      "Reading instance file: ../Cleaning & Preparation/Staged Cleaning Data/Stage 2/Label_0/Instance_94.parquet\n",
      "Reading instance file: ../Cleaning & Preparation/Staged Cleaning Data/Stage 2/Label_0/Instance_495.parquet\n",
      "Reading instance file: ../Cleaning & Preparation/Staged Cleaning Data/Stage 2/Label_0/Instance_485.parquet\n",
      "Reading instance file: ../Cleaning & Preparation/Staged Cleaning Data/Stage 2/Label_0/Instance_235.parquet\n",
      "Reading instance file: ../Cleaning & Preparation/Staged Cleaning Data/Stage 2/Label_0/Instance_225.parquet\n",
      "Reading instance file: ../Cleaning & Preparation/Staged Cleaning Data/Stage 2/Label_0/Instance_460.parquet\n",
      "Reading instance file: ../Cleaning & Preparation/Staged Cleaning Data/Stage 2/Label_0/Instance_518.parquet\n",
      "Reading instance file: ../Cleaning & Preparation/Staged Cleaning Data/Stage 2/Label_0/Instance_470.parquet\n",
      "Reading instance file: ../Cleaning & Preparation/Staged Cleaning Data/Stage 2/Label_0/Instance_508.parquet\n",
      "Reading instance file: ../Cleaning & Preparation/Staged Cleaning Data/Stage 2/Label_0/Instance_71.parquet\n",
      "Reading instance file: ../Cleaning & Preparation/Staged Cleaning Data/Stage 2/Label_0/Instance_61.parquet\n",
      "Reading instance file: ../Cleaning & Preparation/Staged Cleaning Data/Stage 2/Label_0/Instance_153.parquet\n",
      "Reading instance file: ../Cleaning & Preparation/Staged Cleaning Data/Stage 2/Label_0/Instance_143.parquet\n",
      "Reading instance file: ../Cleaning & Preparation/Staged Cleaning Data/Stage 2/Label_0/Instance_131.parquet\n",
      "Reading instance file: ../Cleaning & Preparation/Staged Cleaning Data/Stage 2/Label_0/Instance_121.parquet\n",
      "Reading instance file: ../Cleaning & Preparation/Staged Cleaning Data/Stage 2/Label_0/Instance_402.parquet\n",
      "Reading instance file: ../Cleaning & Preparation/Staged Cleaning Data/Stage 2/Label_0/Instance_412.parquet\n",
      "Reading instance file: ../Cleaning & Preparation/Staged Cleaning Data/Stage 2/Label_0/Instance_257.parquet\n",
      "Reading instance file: ../Cleaning & Preparation/Staged Cleaning Data/Stage 2/Label_0/Instance_247.parquet\n",
      "Reading instance file: ../Cleaning & Preparation/Staged Cleaning Data/Stage 2/Label_0/Instance_396.parquet\n",
      "Reading instance file: ../Cleaning & Preparation/Staged Cleaning Data/Stage 2/Label_0/Instance_386.parquet\n",
      "Reading instance file: ../Cleaning & Preparation/Staged Cleaning Data/Stage 2/Label_0/Instance_188.parquet\n",
      "Reading instance file: ../Cleaning & Preparation/Staged Cleaning Data/Stage 2/Label_0/Instance_198.parquet\n",
      "Reading instance file: ../Cleaning & Preparation/Staged Cleaning Data/Stage 2/Label_0/Instance_641.parquet\n",
      "Reading instance file: ../Cleaning & Preparation/Staged Cleaning Data/Stage 2/Label_0/Instance_372.parquet\n",
      "Reading instance file: ../Cleaning & Preparation/Staged Cleaning Data/Stage 2/Label_0/Instance_362.parquet\n",
      "Reading instance file: ../Cleaning & Preparation/Staged Cleaning Data/Stage 2/Label_0/Instance_527.parquet\n",
      "Reading instance file: ../Cleaning & Preparation/Staged Cleaning Data/Stage 2/Label_0/Instance_537.parquet\n",
      "Reading instance file: ../Cleaning & Preparation/Staged Cleaning Data/Stage 2/Label_0/Instance_95.parquet\n",
      "Reading instance file: ../Cleaning & Preparation/Staged Cleaning Data/Stage 2/Label_0/Instance_85.parquet\n",
      "Reading instance file: ../Cleaning & Preparation/Staged Cleaning Data/Stage 2/Label_0/Instance_484.parquet\n",
      "Reading instance file: ../Cleaning & Preparation/Staged Cleaning Data/Stage 2/Label_0/Instance_494.parquet\n",
      "Reading instance file: ../Cleaning & Preparation/Staged Cleaning Data/Stage 2/Label_0/Instance_545.parquet\n",
      "Reading instance file: ../Cleaning & Preparation/Staged Cleaning Data/Stage 2/Label_0/Instance_555.parquet\n",
      "Reading instance file: ../Cleaning & Preparation/Staged Cleaning Data/Stage 2/Label_0/Instance_268.parquet\n",
      "Reading instance file: ../Cleaning & Preparation/Staged Cleaning Data/Stage 2/Label_0/Instance_310.parquet\n",
      "Reading instance file: ../Cleaning & Preparation/Staged Cleaning Data/Stage 2/Label_0/Instance_278.parquet\n",
      "Reading instance file: ../Cleaning & Preparation/Staged Cleaning Data/Stage 2/Label_0/Instance_300.parquet\n",
      "Reading instance file: ../Cleaning & Preparation/Staged Cleaning Data/Stage 2/Label_0/Instance_623.parquet\n",
      "Reading instance file: ../Cleaning & Preparation/Staged Cleaning Data/Stage 2/Label_0/Instance_633.parquet\n",
      "Reading instance file: ../Cleaning & Preparation/Staged Cleaning Data/Stage 2/Label_0/Instance_128.parquet\n",
      "Reading instance file: ../Cleaning & Preparation/Staged Cleaning Data/Stage 2/Label_0/Instance_138.parquet\n",
      "Reading instance file: ../Cleaning & Preparation/Staged Cleaning Data/Stage 2/Label_0/Instance_605.parquet\n",
      "Reading instance file: ../Cleaning & Preparation/Staged Cleaning Data/Stage 2/Label_0/Instance_615.parquet\n",
      "Reading instance file: ../Cleaning & Preparation/Staged Cleaning Data/Stage 2/Label_0/Instance_563.parquet\n",
      "Reading instance file: ../Cleaning & Preparation/Staged Cleaning Data/Stage 2/Label_0/Instance_573.parquet\n",
      "Reading instance file: ../Cleaning & Preparation/Staged Cleaning Data/Stage 2/Label_0/Instance_336.parquet\n",
      "Reading instance file: ../Cleaning & Preparation/Staged Cleaning Data/Stage 2/Label_0/Instance_326.parquet\n",
      "Reading instance file: ../Cleaning & Preparation/Staged Cleaning Data/Stage 2/Label_0/Instance_191.parquet\n",
      "Reading instance file: ../Cleaning & Preparation/Staged Cleaning Data/Stage 2/Label_0/Instance_181.parquet\n",
      "Reading instance file: ../Cleaning & Preparation/Staged Cleaning Data/Stage 2/Label_0/Instance_295.parquet\n",
      "Reading instance file: ../Cleaning & Preparation/Staged Cleaning Data/Stage 2/Label_0/Instance_285.parquet\n",
      "Reading instance file: ../Cleaning & Preparation/Staged Cleaning Data/Stage 2/Label_0/Instance_354.parquet\n",
      "Reading instance file: ../Cleaning & Preparation/Staged Cleaning Data/Stage 2/Label_0/Instance_344.parquet\n",
      "Reading instance file: ../Cleaning & Preparation/Staged Cleaning Data/Stage 2/Label_0/Instance_479.parquet\n",
      "Reading instance file: ../Cleaning & Preparation/Staged Cleaning Data/Stage 2/Label_0/Instance_501.parquet\n",
      "Reading instance file: ../Cleaning & Preparation/Staged Cleaning Data/Stage 2/Label_0/Instance_469.parquet\n",
      "Reading instance file: ../Cleaning & Preparation/Staged Cleaning Data/Stage 2/Label_0/Instance_511.parquet\n",
      "Reading instance file: ../Cleaning & Preparation/Staged Cleaning Data/Stage 2/Label_0/Instance_68.parquet\n",
      "Reading instance file: ../Cleaning & Preparation/Staged Cleaning Data/Stage 2/Label_0/Instance_78.parquet\n",
      "Reading instance file: ../Cleaning & Preparation/Staged Cleaning Data/Stage 2/Label_0/Instance_424.parquet\n",
      "Reading instance file: ../Cleaning & Preparation/Staged Cleaning Data/Stage 2/Label_0/Instance_434.parquet\n",
      "Reading instance file: ../Cleaning & Preparation/Staged Cleaning Data/Stage 2/Label_0/Instance_271.parquet\n",
      "Reading instance file: ../Cleaning & Preparation/Staged Cleaning Data/Stage 2/Label_0/Instance_309.parquet\n",
      "Reading instance file: ../Cleaning & Preparation/Staged Cleaning Data/Stage 2/Label_0/Instance_261.parquet\n",
      "Reading instance file: ../Cleaning & Preparation/Staged Cleaning Data/Stage 2/Label_0/Instance_319.parquet\n",
      "Reading instance file: ../Cleaning & Preparation/Staged Cleaning Data/Stage 2/Label_0/Instance_117.parquet\n",
      "Reading instance file: ../Cleaning & Preparation/Staged Cleaning Data/Stage 2/Label_0/Instance_107.parquet\n",
      "Reading instance file: ../Cleaning & Preparation/Staged Cleaning Data/Stage 2/Label_0/Instance_57.parquet\n",
      "Reading instance file: ../Cleaning & Preparation/Staged Cleaning Data/Stage 2/Label_0/Instance_648.parquet\n",
      "Reading instance file: ../Cleaning & Preparation/Staged Cleaning Data/Stage 2/Label_0/Instance_175.parquet\n",
      "Reading instance file: ../Cleaning & Preparation/Staged Cleaning Data/Stage 2/Label_0/Instance_165.parquet\n",
      "Reading instance file: ../Cleaning & Preparation/Staged Cleaning Data/Stage 2/Label_0/Instance_213.parquet\n",
      "Reading instance file: ../Cleaning & Preparation/Staged Cleaning Data/Stage 2/Label_0/Instance_203.parquet\n",
      "Reading instance file: ../Cleaning & Preparation/Staged Cleaning Data/Stage 2/Label_0/Instance_446.parquet\n",
      "Reading instance file: ../Cleaning & Preparation/Staged Cleaning Data/Stage 2/Label_0/Instance_456.parquet\n",
      "Reading instance file: ../Cleaning & Preparation/Staged Cleaning Data/Stage 2/Label_0/Instance_587.parquet\n",
      "Reading instance file: ../Cleaning & Preparation/Staged Cleaning Data/Stage 2/Label_0/Instance_597.parquet\n",
      "Reading instance file: ../Cleaning & Preparation/Staged Cleaning Data/Stage 2/Label_0/Instance_488.parquet\n",
      "Reading instance file: ../Cleaning & Preparation/Staged Cleaning Data/Stage 2/Label_0/Instance_498.parquet\n",
      "Reading instance file: ../Cleaning & Preparation/Staged Cleaning Data/Stage 2/Label_0/Instance_99.parquet\n",
      "Reading instance file: ../Cleaning & Preparation/Staged Cleaning Data/Stage 2/Label_0/Instance_89.parquet\n",
      "Reading instance file: ../Cleaning & Preparation/Staged Cleaning Data/Stage 2/Label_0/Instance_102.parquet\n",
      "Reading instance file: ../Cleaning & Preparation/Staged Cleaning Data/Stage 2/Label_0/Instance_112.parquet\n",
      "Reading instance file: ../Cleaning & Preparation/Staged Cleaning Data/Stage 2/Label_0/Instance_431.parquet\n",
      "Reading instance file: ../Cleaning & Preparation/Staged Cleaning Data/Stage 2/Label_0/Instance_549.parquet\n",
      "Reading instance file: ../Cleaning & Preparation/Staged Cleaning Data/Stage 2/Label_0/Instance_421.parquet\n",
      "Reading instance file: ../Cleaning & Preparation/Staged Cleaning Data/Stage 2/Label_0/Instance_559.parquet\n",
      "Reading instance file: ../Cleaning & Preparation/Staged Cleaning Data/Stage 2/Label_0/Instance_264.parquet\n",
      "Reading instance file: ../Cleaning & Preparation/Staged Cleaning Data/Stage 2/Label_0/Instance_274.parquet\n",
      "Reading instance file: ../Cleaning & Preparation/Staged Cleaning Data/Stage 2/Label_0/Instance_206.parquet\n",
      "Reading instance file: ../Cleaning & Preparation/Staged Cleaning Data/Stage 2/Label_0/Instance_216.parquet\n",
      "Reading instance file: ../Cleaning & Preparation/Staged Cleaning Data/Stage 2/Label_0/Instance_453.parquet\n",
      "Reading instance file: ../Cleaning & Preparation/Staged Cleaning Data/Stage 2/Label_0/Instance_443.parquet\n",
      "Reading instance file: ../Cleaning & Preparation/Staged Cleaning Data/Stage 2/Label_0/Instance_160.parquet\n",
      "Reading instance file: ../Cleaning & Preparation/Staged Cleaning Data/Stage 2/Label_0/Instance_170.parquet\n",
      "Reading instance file: ../Cleaning & Preparation/Staged Cleaning Data/Stage 2/Label_0/Instance_592.parquet\n",
      "Reading instance file: ../Cleaning & Preparation/Staged Cleaning Data/Stage 2/Label_0/Instance_582.parquet\n",
      "Reading instance file: ../Cleaning & Preparation/Staged Cleaning Data/Stage 2/Label_0/Instance_576.parquet\n",
      "Reading instance file: ../Cleaning & Preparation/Staged Cleaning Data/Stage 2/Label_0/Instance_566.parquet\n",
      "Reading instance file: ../Cleaning & Preparation/Staged Cleaning Data/Stage 2/Label_0/Instance_323.parquet\n",
      "Reading instance file: ../Cleaning & Preparation/Staged Cleaning Data/Stage 2/Label_0/Instance_333.parquet\n",
      "Reading instance file: ../Cleaning & Preparation/Staged Cleaning Data/Stage 2/Label_0/Instance_610.parquet\n",
      "Reading instance file: ../Cleaning & Preparation/Staged Cleaning Data/Stage 2/Label_0/Instance_600.parquet\n",
      "Reading instance file: ../Cleaning & Preparation/Staged Cleaning Data/Stage 2/Label_0/Instance_184.parquet\n",
      "Reading instance file: ../Cleaning & Preparation/Staged Cleaning Data/Stage 2/Label_0/Instance_194.parquet\n",
      "Reading instance file: ../Cleaning & Preparation/Staged Cleaning Data/Stage 2/Label_0/Instance_280.parquet\n",
      "Reading instance file: ../Cleaning & Preparation/Staged Cleaning Data/Stage 2/Label_0/Instance_290.parquet\n",
      "Reading instance file: ../Cleaning & Preparation/Staged Cleaning Data/Stage 2/Label_0/Instance_239.parquet\n",
      "Reading instance file: ../Cleaning & Preparation/Staged Cleaning Data/Stage 2/Label_0/Instance_341.parquet\n",
      "Reading instance file: ../Cleaning & Preparation/Staged Cleaning Data/Stage 2/Label_0/Instance_229.parquet\n",
      "Reading instance file: ../Cleaning & Preparation/Staged Cleaning Data/Stage 2/Label_0/Instance_351.parquet\n",
      "Reading instance file: ../Cleaning & Preparation/Staged Cleaning Data/Stage 2/Label_0/Instance_514.parquet\n",
      "Reading instance file: ../Cleaning & Preparation/Staged Cleaning Data/Stage 2/Label_0/Instance_504.parquet\n",
      "Reading instance file: ../Cleaning & Preparation/Staged Cleaning Data/Stage 2/Label_0/Instance_367.parquet\n",
      "Reading instance file: ../Cleaning & Preparation/Staged Cleaning Data/Stage 2/Label_0/Instance_377.parquet\n",
      "Reading instance file: ../Cleaning & Preparation/Staged Cleaning Data/Stage 2/Label_0/Instance_532.parquet\n",
      "Reading instance file: ../Cleaning & Preparation/Staged Cleaning Data/Stage 2/Label_0/Instance_522.parquet\n",
      "Reading instance file: ../Cleaning & Preparation/Staged Cleaning Data/Stage 2/Label_0/Instance_644.parquet\n",
      "Reading instance file: ../Cleaning & Preparation/Staged Cleaning Data/Stage 2/Label_0/Instance_179.parquet\n",
      "Reading instance file: ../Cleaning & Preparation/Staged Cleaning Data/Stage 2/Label_0/Instance_169.parquet\n",
      "Reading instance file: ../Cleaning & Preparation/Staged Cleaning Data/Stage 2/Label_0/Instance_491.parquet\n",
      "Reading instance file: ../Cleaning & Preparation/Staged Cleaning Data/Stage 2/Label_0/Instance_481.parquet\n",
      "Reading instance file: ../Cleaning & Preparation/Staged Cleaning Data/Stage 2/Label_0/Instance_80.parquet\n",
      "Reading instance file: ../Cleaning & Preparation/Staged Cleaning Data/Stage 2/Label_0/Instance_90.parquet\n",
      "Reading instance file: ../Cleaning & Preparation/Staged Cleaning Data/Stage 2/Label_0/Instance_636.parquet\n",
      "Reading instance file: ../Cleaning & Preparation/Staged Cleaning Data/Stage 2/Label_0/Instance_626.parquet\n",
      "Reading instance file: ../Cleaning & Preparation/Staged Cleaning Data/Stage 2/Label_0/Instance_428.parquet\n",
      "Reading instance file: ../Cleaning & Preparation/Staged Cleaning Data/Stage 2/Label_0/Instance_550.parquet\n",
      "Reading instance file: ../Cleaning & Preparation/Staged Cleaning Data/Stage 2/Label_0/Instance_438.parquet\n",
      "Reading instance file: ../Cleaning & Preparation/Staged Cleaning Data/Stage 2/Label_0/Instance_540.parquet\n",
      "Reading instance file: ../Cleaning & Preparation/Staged Cleaning Data/Stage 2/Label_0/Instance_305.parquet\n",
      "Reading instance file: ../Cleaning & Preparation/Staged Cleaning Data/Stage 2/Label_0/Instance_315.parquet\n",
      "Reading instance file: ../Cleaning & Preparation/Staged Cleaning Data/Stage 2/Label_0/Instance_299.parquet\n",
      "Reading instance file: ../Cleaning & Preparation/Staged Cleaning Data/Stage 2/Label_0/Instance_289.parquet\n",
      "Reading instance file: ../Cleaning & Preparation/Staged Cleaning Data/Stage 2/Label_0/Instance_64.parquet\n",
      "Reading instance file: ../Cleaning & Preparation/Staged Cleaning Data/Stage 2/Label_0/Instance_74.parquet\n",
      "Reading instance file: ../Cleaning & Preparation/Staged Cleaning Data/Stage 2/Label_0/Instance_146.parquet\n",
      "Reading instance file: ../Cleaning & Preparation/Staged Cleaning Data/Stage 2/Label_0/Instance_156.parquet\n",
      "Reading instance file: ../Cleaning & Preparation/Staged Cleaning Data/Stage 2/Label_0/Instance_220.parquet\n",
      "Reading instance file: ../Cleaning & Preparation/Staged Cleaning Data/Stage 2/Label_0/Instance_358.parquet\n",
      "Reading instance file: ../Cleaning & Preparation/Staged Cleaning Data/Stage 2/Label_0/Instance_230.parquet\n",
      "Reading instance file: ../Cleaning & Preparation/Staged Cleaning Data/Stage 2/Label_0/Instance_348.parquet\n",
      "Reading instance file: ../Cleaning & Preparation/Staged Cleaning Data/Stage 2/Label_0/Instance_475.parquet\n",
      "Reading instance file: ../Cleaning & Preparation/Staged Cleaning Data/Stage 2/Label_0/Instance_465.parquet\n",
      "Reading instance file: ../Cleaning & Preparation/Staged Cleaning Data/Stage 2/Label_0/Instance_417.parquet\n",
      "Reading instance file: ../Cleaning & Preparation/Staged Cleaning Data/Stage 2/Label_0/Instance_407.parquet\n",
      "Reading instance file: ../Cleaning & Preparation/Staged Cleaning Data/Stage 2/Label_0/Instance_242.parquet\n",
      "Reading instance file: ../Cleaning & Preparation/Staged Cleaning Data/Stage 2/Label_0/Instance_252.parquet\n",
      "Reading instance file: ../Cleaning & Preparation/Staged Cleaning Data/Stage 2/Label_0/Instance_124.parquet\n",
      "Reading instance file: ../Cleaning & Preparation/Staged Cleaning Data/Stage 2/Label_0/Instance_134.parquet\n",
      "Reading instance file: ../Cleaning & Preparation/Staged Cleaning Data/Stage 2/Label_0/Instance_609.parquet\n",
      "Reading instance file: ../Cleaning & Preparation/Staged Cleaning Data/Stage 2/Label_0/Instance_619.parquet\n",
      "Reading instance file: ../Cleaning & Preparation/Staged Cleaning Data/Stage 2/Label_0/Instance_383.parquet\n",
      "Reading instance file: ../Cleaning & Preparation/Staged Cleaning Data/Stage 2/Label_0/Instance_393.parquet\n",
      "Reading instance file: ../Cleaning & Preparation/Staged Cleaning Data/Stage 2/Label_0/Instance_523.parquet\n",
      "Reading instance file: ../Cleaning & Preparation/Staged Cleaning Data/Stage 2/Label_0/Instance_533.parquet\n",
      "Reading instance file: ../Cleaning & Preparation/Staged Cleaning Data/Stage 2/Label_0/Instance_376.parquet\n",
      "Reading instance file: ../Cleaning & Preparation/Staged Cleaning Data/Stage 2/Label_0/Instance_366.parquet\n",
      "Reading instance file: ../Cleaning & Preparation/Staged Cleaning Data/Stage 2/Label_0/Instance_168.parquet\n",
      "Reading instance file: ../Cleaning & Preparation/Staged Cleaning Data/Stage 2/Label_0/Instance_178.parquet\n",
      "Reading instance file: ../Cleaning & Preparation/Staged Cleaning Data/Stage 2/Label_0/Instance_645.parquet\n",
      "Reading instance file: ../Cleaning & Preparation/Staged Cleaning Data/Stage 2/Label_0/Instance_627.parquet\n",
      "Reading instance file: ../Cleaning & Preparation/Staged Cleaning Data/Stage 2/Label_0/Instance_637.parquet\n",
      "Reading instance file: ../Cleaning & Preparation/Staged Cleaning Data/Stage 2/Label_0/Instance_314.parquet\n",
      "Reading instance file: ../Cleaning & Preparation/Staged Cleaning Data/Stage 2/Label_0/Instance_304.parquet\n",
      "Reading instance file: ../Cleaning & Preparation/Staged Cleaning Data/Stage 2/Label_0/Instance_541.parquet\n",
      "Reading instance file: ../Cleaning & Preparation/Staged Cleaning Data/Stage 2/Label_0/Instance_439.parquet\n",
      "Reading instance file: ../Cleaning & Preparation/Staged Cleaning Data/Stage 2/Label_0/Instance_551.parquet\n",
      "Reading instance file: ../Cleaning & Preparation/Staged Cleaning Data/Stage 2/Label_0/Instance_429.parquet\n",
      "Reading instance file: ../Cleaning & Preparation/Staged Cleaning Data/Stage 2/Label_0/Instance_480.parquet\n",
      "Reading instance file: ../Cleaning & Preparation/Staged Cleaning Data/Stage 2/Label_0/Instance_490.parquet\n",
      "Reading instance file: ../Cleaning & Preparation/Staged Cleaning Data/Stage 2/Label_0/Instance_91.parquet\n",
      "Reading instance file: ../Cleaning & Preparation/Staged Cleaning Data/Stage 2/Label_0/Instance_81.parquet\n",
      "Reading instance file: ../Cleaning & Preparation/Staged Cleaning Data/Stage 2/Label_0/Instance_157.parquet\n",
      "Reading instance file: ../Cleaning & Preparation/Staged Cleaning Data/Stage 2/Label_0/Instance_147.parquet\n",
      "Reading instance file: ../Cleaning & Preparation/Staged Cleaning Data/Stage 2/Label_0/Instance_75.parquet\n",
      "Reading instance file: ../Cleaning & Preparation/Staged Cleaning Data/Stage 2/Label_0/Instance_65.parquet\n",
      "Reading instance file: ../Cleaning & Preparation/Staged Cleaning Data/Stage 2/Label_0/Instance_464.parquet\n",
      "Reading instance file: ../Cleaning & Preparation/Staged Cleaning Data/Stage 2/Label_0/Instance_474.parquet\n",
      "Reading instance file: ../Cleaning & Preparation/Staged Cleaning Data/Stage 2/Label_0/Instance_349.parquet\n",
      "Reading instance file: ../Cleaning & Preparation/Staged Cleaning Data/Stage 2/Label_0/Instance_231.parquet\n",
      "Reading instance file: ../Cleaning & Preparation/Staged Cleaning Data/Stage 2/Label_0/Instance_359.parquet\n",
      "Reading instance file: ../Cleaning & Preparation/Staged Cleaning Data/Stage 2/Label_0/Instance_221.parquet\n",
      "Reading instance file: ../Cleaning & Preparation/Staged Cleaning Data/Stage 2/Label_0/Instance_288.parquet\n",
      "Reading instance file: ../Cleaning & Preparation/Staged Cleaning Data/Stage 2/Label_0/Instance_298.parquet\n",
      "Reading instance file: ../Cleaning & Preparation/Staged Cleaning Data/Stage 2/Label_0/Instance_392.parquet\n",
      "Reading instance file: ../Cleaning & Preparation/Staged Cleaning Data/Stage 2/Label_0/Instance_382.parquet\n",
      "Reading instance file: ../Cleaning & Preparation/Staged Cleaning Data/Stage 2/Label_0/Instance_253.parquet\n",
      "Reading instance file: ../Cleaning & Preparation/Staged Cleaning Data/Stage 2/Label_0/Instance_243.parquet\n",
      "Reading instance file: ../Cleaning & Preparation/Staged Cleaning Data/Stage 2/Label_0/Instance_406.parquet\n",
      "Reading instance file: ../Cleaning & Preparation/Staged Cleaning Data/Stage 2/Label_0/Instance_416.parquet\n",
      "Reading instance file: ../Cleaning & Preparation/Staged Cleaning Data/Stage 2/Label_0/Instance_618.parquet\n",
      "Reading instance file: ../Cleaning & Preparation/Staged Cleaning Data/Stage 2/Label_0/Instance_608.parquet\n",
      "Reading instance file: ../Cleaning & Preparation/Staged Cleaning Data/Stage 2/Label_0/Instance_135.parquet\n",
      "Reading instance file: ../Cleaning & Preparation/Staged Cleaning Data/Stage 2/Label_0/Instance_125.parquet\n",
      "Reading instance file: ../Cleaning & Preparation/Staged Cleaning Data/Stage 2/Label_0/Instance_113.parquet\n",
      "Reading instance file: ../Cleaning & Preparation/Staged Cleaning Data/Stage 2/Label_0/Instance_103.parquet\n",
      "Reading instance file: ../Cleaning & Preparation/Staged Cleaning Data/Stage 2/Label_0/Instance_275.parquet\n",
      "Reading instance file: ../Cleaning & Preparation/Staged Cleaning Data/Stage 2/Label_0/Instance_265.parquet\n",
      "Reading instance file: ../Cleaning & Preparation/Staged Cleaning Data/Stage 2/Label_0/Instance_558.parquet\n",
      "Reading instance file: ../Cleaning & Preparation/Staged Cleaning Data/Stage 2/Label_0/Instance_420.parquet\n",
      "Reading instance file: ../Cleaning & Preparation/Staged Cleaning Data/Stage 2/Label_0/Instance_548.parquet\n",
      "Reading instance file: ../Cleaning & Preparation/Staged Cleaning Data/Stage 2/Label_0/Instance_430.parquet\n",
      "Reading instance file: ../Cleaning & Preparation/Staged Cleaning Data/Stage 2/Label_0/Instance_499.parquet\n",
      "Reading instance file: ../Cleaning & Preparation/Staged Cleaning Data/Stage 2/Label_0/Instance_489.parquet\n",
      "Reading instance file: ../Cleaning & Preparation/Staged Cleaning Data/Stage 2/Label_0/Instance_88.parquet\n",
      "Reading instance file: ../Cleaning & Preparation/Staged Cleaning Data/Stage 2/Label_0/Instance_98.parquet\n",
      "Reading instance file: ../Cleaning & Preparation/Staged Cleaning Data/Stage 2/Label_0/Instance_583.parquet\n",
      "Reading instance file: ../Cleaning & Preparation/Staged Cleaning Data/Stage 2/Label_0/Instance_593.parquet\n",
      "Reading instance file: ../Cleaning & Preparation/Staged Cleaning Data/Stage 2/Label_0/Instance_442.parquet\n",
      "Reading instance file: ../Cleaning & Preparation/Staged Cleaning Data/Stage 2/Label_0/Instance_452.parquet\n",
      "Reading instance file: ../Cleaning & Preparation/Staged Cleaning Data/Stage 2/Label_0/Instance_217.parquet\n",
      "Reading instance file: ../Cleaning & Preparation/Staged Cleaning Data/Stage 2/Label_0/Instance_207.parquet\n",
      "Reading instance file: ../Cleaning & Preparation/Staged Cleaning Data/Stage 2/Label_0/Instance_171.parquet\n",
      "Reading instance file: ../Cleaning & Preparation/Staged Cleaning Data/Stage 2/Label_0/Instance_161.parquet\n",
      "Reading instance file: ../Cleaning & Preparation/Staged Cleaning Data/Stage 2/Label_0/Instance_195.parquet\n",
      "Reading instance file: ../Cleaning & Preparation/Staged Cleaning Data/Stage 2/Label_0/Instance_185.parquet\n",
      "Reading instance file: ../Cleaning & Preparation/Staged Cleaning Data/Stage 2/Label_0/Instance_332.parquet\n",
      "Reading instance file: ../Cleaning & Preparation/Staged Cleaning Data/Stage 2/Label_0/Instance_322.parquet\n",
      "Reading instance file: ../Cleaning & Preparation/Staged Cleaning Data/Stage 2/Label_0/Instance_567.parquet\n",
      "Reading instance file: ../Cleaning & Preparation/Staged Cleaning Data/Stage 2/Label_0/Instance_577.parquet\n",
      "Reading instance file: ../Cleaning & Preparation/Staged Cleaning Data/Stage 2/Label_0/Instance_601.parquet\n",
      "Reading instance file: ../Cleaning & Preparation/Staged Cleaning Data/Stage 2/Label_0/Instance_611.parquet\n",
      "Reading instance file: ../Cleaning & Preparation/Staged Cleaning Data/Stage 2/Label_0/Instance_505.parquet\n",
      "Reading instance file: ../Cleaning & Preparation/Staged Cleaning Data/Stage 2/Label_0/Instance_515.parquet\n",
      "Reading instance file: ../Cleaning & Preparation/Staged Cleaning Data/Stage 2/Label_0/Instance_350.parquet\n",
      "Reading instance file: ../Cleaning & Preparation/Staged Cleaning Data/Stage 2/Label_0/Instance_228.parquet\n",
      "Reading instance file: ../Cleaning & Preparation/Staged Cleaning Data/Stage 2/Label_0/Instance_340.parquet\n",
      "Reading instance file: ../Cleaning & Preparation/Staged Cleaning Data/Stage 2/Label_0/Instance_238.parquet\n",
      "Reading instance file: ../Cleaning & Preparation/Staged Cleaning Data/Stage 2/Label_0/Instance_291.parquet\n",
      "Reading instance file: ../Cleaning & Preparation/Staged Cleaning Data/Stage 2/Label_0/Instance_281.parquet\n",
      "Reading instance file: ../Cleaning & Preparation/Staged Cleaning Data/Stage 2/Label_0/Instance_553.parquet\n",
      "Reading instance file: ../Cleaning & Preparation/Staged Cleaning Data/Stage 2/Label_0/Instance_543.parquet\n",
      "Reading instance file: ../Cleaning & Preparation/Staged Cleaning Data/Stage 2/Label_0/Instance_306.parquet\n",
      "Reading instance file: ../Cleaning & Preparation/Staged Cleaning Data/Stage 2/Label_0/Instance_316.parquet\n",
      "Reading instance file: ../Cleaning & Preparation/Staged Cleaning Data/Stage 2/Label_0/Instance_118.parquet\n",
      "Reading instance file: ../Cleaning & Preparation/Staged Cleaning Data/Stage 2/Label_0/Instance_108.parquet\n",
      "Reading instance file: ../Cleaning & Preparation/Staged Cleaning Data/Stage 2/Label_0/Instance_635.parquet\n",
      "Reading instance file: ../Cleaning & Preparation/Staged Cleaning Data/Stage 2/Label_0/Instance_625.parquet\n",
      "Reading instance file: ../Cleaning & Preparation/Staged Cleaning Data/Stage 2/Label_0/Instance_83.parquet\n",
      "Reading instance file: ../Cleaning & Preparation/Staged Cleaning Data/Stage 2/Label_0/Instance_93.parquet\n",
      "Reading instance file: ../Cleaning & Preparation/Staged Cleaning Data/Stage 2/Label_0/Instance_492.parquet\n",
      "Reading instance file: ../Cleaning & Preparation/Staged Cleaning Data/Stage 2/Label_0/Instance_482.parquet\n",
      "Reading instance file: ../Cleaning & Preparation/Staged Cleaning Data/Stage 2/Label_0/Instance_588.parquet\n",
      "Reading instance file: ../Cleaning & Preparation/Staged Cleaning Data/Stage 2/Label_0/Instance_598.parquet\n",
      "Reading instance file: ../Cleaning & Preparation/Staged Cleaning Data/Stage 2/Label_0/Instance_58.parquet\n",
      "Reading instance file: ../Cleaning & Preparation/Staged Cleaning Data/Stage 2/Label_0/Instance_647.parquet\n",
      "Reading instance file: ../Cleaning & Preparation/Staged Cleaning Data/Stage 2/Label_0/Instance_364.parquet\n",
      "Reading instance file: ../Cleaning & Preparation/Staged Cleaning Data/Stage 2/Label_0/Instance_374.parquet\n",
      "Reading instance file: ../Cleaning & Preparation/Staged Cleaning Data/Stage 2/Label_0/Instance_531.parquet\n",
      "Reading instance file: ../Cleaning & Preparation/Staged Cleaning Data/Stage 2/Label_0/Instance_449.parquet\n",
      "Reading instance file: ../Cleaning & Preparation/Staged Cleaning Data/Stage 2/Label_0/Instance_521.parquet\n",
      "Reading instance file: ../Cleaning & Preparation/Staged Cleaning Data/Stage 2/Label_0/Instance_459.parquet\n",
      "Reading instance file: ../Cleaning & Preparation/Staged Cleaning Data/Stage 2/Label_0/Instance_380.parquet\n",
      "Reading instance file: ../Cleaning & Preparation/Staged Cleaning Data/Stage 2/Label_0/Instance_390.parquet\n",
      "Reading instance file: ../Cleaning & Preparation/Staged Cleaning Data/Stage 2/Label_0/Instance_127.parquet\n",
      "Reading instance file: ../Cleaning & Preparation/Staged Cleaning Data/Stage 2/Label_0/Instance_137.parquet\n",
      "Reading instance file: ../Cleaning & Preparation/Staged Cleaning Data/Stage 2/Label_0/Instance_414.parquet\n",
      "Reading instance file: ../Cleaning & Preparation/Staged Cleaning Data/Stage 2/Label_0/Instance_404.parquet\n",
      "Reading instance file: ../Cleaning & Preparation/Staged Cleaning Data/Stage 2/Label_0/Instance_339.parquet\n",
      "Reading instance file: ../Cleaning & Preparation/Staged Cleaning Data/Stage 2/Label_0/Instance_241.parquet\n",
      "Reading instance file: ../Cleaning & Preparation/Staged Cleaning Data/Stage 2/Label_0/Instance_329.parquet\n",
      "Reading instance file: ../Cleaning & Preparation/Staged Cleaning Data/Stage 2/Label_0/Instance_251.parquet\n",
      "Reading instance file: ../Cleaning & Preparation/Staged Cleaning Data/Stage 2/Label_0/Instance_223.parquet\n",
      "Reading instance file: ../Cleaning & Preparation/Staged Cleaning Data/Stage 2/Label_0/Instance_233.parquet\n",
      "Reading instance file: ../Cleaning & Preparation/Staged Cleaning Data/Stage 2/Label_0/Instance_476.parquet\n",
      "Reading instance file: ../Cleaning & Preparation/Staged Cleaning Data/Stage 2/Label_0/Instance_466.parquet\n",
      "Reading instance file: ../Cleaning & Preparation/Staged Cleaning Data/Stage 2/Label_0/Instance_67.parquet\n",
      "Reading instance file: ../Cleaning & Preparation/Staged Cleaning Data/Stage 2/Label_0/Instance_77.parquet\n",
      "Reading instance file: ../Cleaning & Preparation/Staged Cleaning Data/Stage 2/Label_0/Instance_145.parquet\n",
      "Reading instance file: ../Cleaning & Preparation/Staged Cleaning Data/Stage 2/Label_0/Instance_155.parquet\n",
      "Reading instance file: ../Cleaning & Preparation/Staged Cleaning Data/Stage 2/Label_0/Instance_591.parquet\n",
      "Reading instance file: ../Cleaning & Preparation/Staged Cleaning Data/Stage 2/Label_0/Instance_581.parquet\n",
      "Reading instance file: ../Cleaning & Preparation/Staged Cleaning Data/Stage 2/Label_0/Instance_163.parquet\n",
      "Reading instance file: ../Cleaning & Preparation/Staged Cleaning Data/Stage 2/Label_0/Instance_173.parquet\n",
      "Reading instance file: ../Cleaning & Preparation/Staged Cleaning Data/Stage 2/Label_0/Instance_205.parquet\n",
      "Reading instance file: ../Cleaning & Preparation/Staged Cleaning Data/Stage 2/Label_0/Instance_215.parquet\n",
      "Reading instance file: ../Cleaning & Preparation/Staged Cleaning Data/Stage 2/Label_0/Instance_528.parquet\n",
      "Reading instance file: ../Cleaning & Preparation/Staged Cleaning Data/Stage 2/Label_0/Instance_450.parquet\n",
      "Reading instance file: ../Cleaning & Preparation/Staged Cleaning Data/Stage 2/Label_0/Instance_538.parquet\n",
      "Reading instance file: ../Cleaning & Preparation/Staged Cleaning Data/Stage 2/Label_0/Instance_440.parquet\n",
      "Reading instance file: ../Cleaning & Preparation/Staged Cleaning Data/Stage 2/Label_0/Instance_432.parquet\n",
      "Reading instance file: ../Cleaning & Preparation/Staged Cleaning Data/Stage 2/Label_0/Instance_422.parquet\n",
      "Reading instance file: ../Cleaning & Preparation/Staged Cleaning Data/Stage 2/Label_0/Instance_267.parquet\n",
      "Reading instance file: ../Cleaning & Preparation/Staged Cleaning Data/Stage 2/Label_0/Instance_277.parquet\n",
      "Reading instance file: ../Cleaning & Preparation/Staged Cleaning Data/Stage 2/Label_0/Instance_101.parquet\n",
      "Reading instance file: ../Cleaning & Preparation/Staged Cleaning Data/Stage 2/Label_0/Instance_111.parquet\n",
      "Reading instance file: ../Cleaning & Preparation/Staged Cleaning Data/Stage 2/Label_0/Instance_342.parquet\n",
      "Reading instance file: ../Cleaning & Preparation/Staged Cleaning Data/Stage 2/Label_0/Instance_352.parquet\n",
      "Reading instance file: ../Cleaning & Preparation/Staged Cleaning Data/Stage 2/Label_0/Instance_517.parquet\n",
      "Reading instance file: ../Cleaning & Preparation/Staged Cleaning Data/Stage 2/Label_0/Instance_507.parquet\n",
      "Reading instance file: ../Cleaning & Preparation/Staged Cleaning Data/Stage 2/Label_0/Instance_283.parquet\n",
      "Reading instance file: ../Cleaning & Preparation/Staged Cleaning Data/Stage 2/Label_0/Instance_293.parquet\n",
      "Reading instance file: ../Cleaning & Preparation/Staged Cleaning Data/Stage 2/Label_0/Instance_399.parquet\n",
      "Reading instance file: ../Cleaning & Preparation/Staged Cleaning Data/Stage 2/Label_0/Instance_389.parquet\n",
      "Reading instance file: ../Cleaning & Preparation/Staged Cleaning Data/Stage 2/Label_0/Instance_187.parquet\n",
      "Reading instance file: ../Cleaning & Preparation/Staged Cleaning Data/Stage 2/Label_0/Instance_197.parquet\n",
      "Reading instance file: ../Cleaning & Preparation/Staged Cleaning Data/Stage 2/Label_0/Instance_613.parquet\n",
      "Reading instance file: ../Cleaning & Preparation/Staged Cleaning Data/Stage 2/Label_0/Instance_603.parquet\n",
      "Reading instance file: ../Cleaning & Preparation/Staged Cleaning Data/Stage 2/Label_0/Instance_575.parquet\n",
      "Reading instance file: ../Cleaning & Preparation/Staged Cleaning Data/Stage 2/Label_0/Instance_565.parquet\n",
      "Reading instance file: ../Cleaning & Preparation/Staged Cleaning Data/Stage 2/Label_0/Instance_320.parquet\n",
      "Reading instance file: ../Cleaning & Preparation/Staged Cleaning Data/Stage 2/Label_0/Instance_258.parquet\n",
      "Reading instance file: ../Cleaning & Preparation/Staged Cleaning Data/Stage 2/Label_0/Instance_330.parquet\n",
      "Reading instance file: ../Cleaning & Preparation/Staged Cleaning Data/Stage 2/Label_0/Instance_248.parquet\n",
      "Reading instance file: ../Cleaning & Preparation/Staged Cleaning Data/Stage 2/Label_0/Instance_172.parquet\n",
      "Reading instance file: ../Cleaning & Preparation/Staged Cleaning Data/Stage 2/Label_0/Instance_162.parquet\n",
      "Reading instance file: ../Cleaning & Preparation/Staged Cleaning Data/Stage 2/Label_0/Instance_441.parquet\n",
      "Reading instance file: ../Cleaning & Preparation/Staged Cleaning Data/Stage 2/Label_0/Instance_539.parquet\n",
      "Reading instance file: ../Cleaning & Preparation/Staged Cleaning Data/Stage 2/Label_0/Instance_451.parquet\n",
      "Reading instance file: ../Cleaning & Preparation/Staged Cleaning Data/Stage 2/Label_0/Instance_529.parquet\n",
      "Reading instance file: ../Cleaning & Preparation/Staged Cleaning Data/Stage 2/Label_0/Instance_214.parquet\n",
      "Reading instance file: ../Cleaning & Preparation/Staged Cleaning Data/Stage 2/Label_0/Instance_204.parquet\n",
      "Reading instance file: ../Cleaning & Preparation/Staged Cleaning Data/Stage 2/Label_0/Instance_580.parquet\n",
      "Reading instance file: ../Cleaning & Preparation/Staged Cleaning Data/Stage 2/Label_0/Instance_590.parquet\n",
      "Reading instance file: ../Cleaning & Preparation/Staged Cleaning Data/Stage 2/Label_0/Instance_276.parquet\n",
      "Reading instance file: ../Cleaning & Preparation/Staged Cleaning Data/Stage 2/Label_0/Instance_266.parquet\n",
      "Reading instance file: ../Cleaning & Preparation/Staged Cleaning Data/Stage 2/Label_0/Instance_423.parquet\n",
      "Reading instance file: ../Cleaning & Preparation/Staged Cleaning Data/Stage 2/Label_0/Instance_433.parquet\n",
      "Reading instance file: ../Cleaning & Preparation/Staged Cleaning Data/Stage 2/Label_0/Instance_110.parquet\n",
      "Reading instance file: ../Cleaning & Preparation/Staged Cleaning Data/Stage 2/Label_0/Instance_100.parquet\n",
      "Reading instance file: ../Cleaning & Preparation/Staged Cleaning Data/Stage 2/Label_0/Instance_292.parquet\n",
      "Reading instance file: ../Cleaning & Preparation/Staged Cleaning Data/Stage 2/Label_0/Instance_282.parquet\n",
      "Reading instance file: ../Cleaning & Preparation/Staged Cleaning Data/Stage 2/Label_0/Instance_506.parquet\n",
      "Reading instance file: ../Cleaning & Preparation/Staged Cleaning Data/Stage 2/Label_0/Instance_516.parquet\n",
      "Reading instance file: ../Cleaning & Preparation/Staged Cleaning Data/Stage 2/Label_0/Instance_353.parquet\n",
      "Reading instance file: ../Cleaning & Preparation/Staged Cleaning Data/Stage 2/Label_0/Instance_343.parquet\n",
      "Reading instance file: ../Cleaning & Preparation/Staged Cleaning Data/Stage 2/Label_0/Instance_602.parquet\n",
      "Reading instance file: ../Cleaning & Preparation/Staged Cleaning Data/Stage 2/Label_0/Instance_612.parquet\n",
      "Reading instance file: ../Cleaning & Preparation/Staged Cleaning Data/Stage 2/Label_0/Instance_249.parquet\n",
      "Reading instance file: ../Cleaning & Preparation/Staged Cleaning Data/Stage 2/Label_0/Instance_331.parquet\n",
      "Reading instance file: ../Cleaning & Preparation/Staged Cleaning Data/Stage 2/Label_0/Instance_259.parquet\n",
      "Reading instance file: ../Cleaning & Preparation/Staged Cleaning Data/Stage 2/Label_0/Instance_321.parquet\n",
      "Reading instance file: ../Cleaning & Preparation/Staged Cleaning Data/Stage 2/Label_0/Instance_564.parquet\n",
      "Reading instance file: ../Cleaning & Preparation/Staged Cleaning Data/Stage 2/Label_0/Instance_574.parquet\n",
      "Reading instance file: ../Cleaning & Preparation/Staged Cleaning Data/Stage 2/Label_0/Instance_388.parquet\n",
      "Reading instance file: ../Cleaning & Preparation/Staged Cleaning Data/Stage 2/Label_0/Instance_398.parquet\n",
      "Reading instance file: ../Cleaning & Preparation/Staged Cleaning Data/Stage 2/Label_0/Instance_196.parquet\n",
      "Reading instance file: ../Cleaning & Preparation/Staged Cleaning Data/Stage 2/Label_0/Instance_186.parquet\n",
      "Reading instance file: ../Cleaning & Preparation/Staged Cleaning Data/Stage 2/Label_0/Instance_92.parquet\n",
      "Reading instance file: ../Cleaning & Preparation/Staged Cleaning Data/Stage 2/Label_0/Instance_82.parquet\n",
      "Reading instance file: ../Cleaning & Preparation/Staged Cleaning Data/Stage 2/Label_0/Instance_483.parquet\n",
      "Reading instance file: ../Cleaning & Preparation/Staged Cleaning Data/Stage 2/Label_0/Instance_493.parquet\n",
      "Reading instance file: ../Cleaning & Preparation/Staged Cleaning Data/Stage 2/Label_0/Instance_317.parquet\n",
      "Reading instance file: ../Cleaning & Preparation/Staged Cleaning Data/Stage 2/Label_0/Instance_307.parquet\n",
      "Reading instance file: ../Cleaning & Preparation/Staged Cleaning Data/Stage 2/Label_0/Instance_542.parquet\n",
      "Reading instance file: ../Cleaning & Preparation/Staged Cleaning Data/Stage 2/Label_0/Instance_552.parquet\n",
      "Reading instance file: ../Cleaning & Preparation/Staged Cleaning Data/Stage 2/Label_0/Instance_624.parquet\n",
      "Reading instance file: ../Cleaning & Preparation/Staged Cleaning Data/Stage 2/Label_0/Instance_634.parquet\n",
      "Reading instance file: ../Cleaning & Preparation/Staged Cleaning Data/Stage 2/Label_0/Instance_109.parquet\n",
      "Reading instance file: ../Cleaning & Preparation/Staged Cleaning Data/Stage 2/Label_0/Instance_119.parquet\n",
      "Reading instance file: ../Cleaning & Preparation/Staged Cleaning Data/Stage 2/Label_0/Instance_646.parquet\n",
      "Reading instance file: ../Cleaning & Preparation/Staged Cleaning Data/Stage 2/Label_0/Instance_59.parquet\n",
      "Reading instance file: ../Cleaning & Preparation/Staged Cleaning Data/Stage 2/Label_0/Instance_458.parquet\n",
      "Reading instance file: ../Cleaning & Preparation/Staged Cleaning Data/Stage 2/Label_0/Instance_520.parquet\n",
      "Reading instance file: ../Cleaning & Preparation/Staged Cleaning Data/Stage 2/Label_0/Instance_448.parquet\n",
      "Reading instance file: ../Cleaning & Preparation/Staged Cleaning Data/Stage 2/Label_0/Instance_530.parquet\n",
      "Reading instance file: ../Cleaning & Preparation/Staged Cleaning Data/Stage 2/Label_0/Instance_375.parquet\n",
      "Reading instance file: ../Cleaning & Preparation/Staged Cleaning Data/Stage 2/Label_0/Instance_365.parquet\n",
      "Reading instance file: ../Cleaning & Preparation/Staged Cleaning Data/Stage 2/Label_0/Instance_599.parquet\n",
      "Reading instance file: ../Cleaning & Preparation/Staged Cleaning Data/Stage 2/Label_0/Instance_589.parquet\n",
      "Reading instance file: ../Cleaning & Preparation/Staged Cleaning Data/Stage 2/Label_0/Instance_136.parquet\n",
      "Reading instance file: ../Cleaning & Preparation/Staged Cleaning Data/Stage 2/Label_0/Instance_126.parquet\n",
      "Reading instance file: ../Cleaning & Preparation/Staged Cleaning Data/Stage 2/Label_0/Instance_250.parquet\n",
      "Reading instance file: ../Cleaning & Preparation/Staged Cleaning Data/Stage 2/Label_0/Instance_328.parquet\n",
      "Reading instance file: ../Cleaning & Preparation/Staged Cleaning Data/Stage 2/Label_0/Instance_240.parquet\n",
      "Reading instance file: ../Cleaning & Preparation/Staged Cleaning Data/Stage 2/Label_0/Instance_338.parquet\n",
      "Reading instance file: ../Cleaning & Preparation/Staged Cleaning Data/Stage 2/Label_0/Instance_405.parquet\n",
      "Reading instance file: ../Cleaning & Preparation/Staged Cleaning Data/Stage 2/Label_0/Instance_415.parquet\n",
      "Reading instance file: ../Cleaning & Preparation/Staged Cleaning Data/Stage 2/Label_0/Instance_391.parquet\n",
      "Reading instance file: ../Cleaning & Preparation/Staged Cleaning Data/Stage 2/Label_0/Instance_381.parquet\n",
      "Reading instance file: ../Cleaning & Preparation/Staged Cleaning Data/Stage 2/Label_0/Instance_467.parquet\n",
      "Reading instance file: ../Cleaning & Preparation/Staged Cleaning Data/Stage 2/Label_0/Instance_477.parquet\n",
      "Reading instance file: ../Cleaning & Preparation/Staged Cleaning Data/Stage 2/Label_0/Instance_232.parquet\n",
      "Reading instance file: ../Cleaning & Preparation/Staged Cleaning Data/Stage 2/Label_0/Instance_222.parquet\n",
      "Reading instance file: ../Cleaning & Preparation/Staged Cleaning Data/Stage 2/Label_0/Instance_154.parquet\n",
      "Reading instance file: ../Cleaning & Preparation/Staged Cleaning Data/Stage 2/Label_0/Instance_144.parquet\n",
      "Reading instance file: ../Cleaning & Preparation/Staged Cleaning Data/Stage 2/Label_0/Instance_76.parquet\n",
      "Reading instance file: ../Cleaning & Preparation/Staged Cleaning Data/Stage 2/Label_0/Instance_66.parquet\n",
      "Reading instance file: ../Cleaning & Preparation/Staged Cleaning Data/Stage 2/Label_1/Instance_693.parquet\n",
      "Reading instance file: ../Cleaning & Preparation/Staged Cleaning Data/Stage 2/Label_1/Instance_696.parquet\n",
      "Reading instance file: ../Cleaning & Preparation/Staged Cleaning Data/Stage 2/Label_1/Instance_695.parquet\n",
      "Reading instance file: ../Cleaning & Preparation/Staged Cleaning Data/Stage 2/Label_1/Instance_694.parquet\n",
      "Reading instance file: ../Cleaning & Preparation/Staged Cleaning Data/Stage 2/Label_6/Instance_688.parquet\n",
      "Reading instance file: ../Cleaning & Preparation/Staged Cleaning Data/Stage 2/Label_6/Instance_691.parquet\n",
      "Reading instance file: ../Cleaning & Preparation/Staged Cleaning Data/Stage 2/Label_6/Instance_690.parquet\n",
      "Reading instance file: ../Cleaning & Preparation/Staged Cleaning Data/Stage 2/Label_6/Instance_689.parquet\n",
      "Reading instance file: ../Cleaning & Preparation/Staged Cleaning Data/Stage 2/Label_6/Instance_692.parquet\n",
      "Reading instance file: ../Cleaning & Preparation/Staged Cleaning Data/Stage 2/Label_6/Instance_687.parquet\n",
      "Reading instance file: ../Cleaning & Preparation/Staged Cleaning Data/Stage 2/Label_8/Instance_704.parquet\n",
      "Reading instance file: ../Cleaning & Preparation/Staged Cleaning Data/Stage 2/Label_8/Instance_698.parquet\n",
      "Reading instance file: ../Cleaning & Preparation/Staged Cleaning Data/Stage 2/Label_8/Instance_705.parquet\n",
      "Reading instance file: ../Cleaning & Preparation/Staged Cleaning Data/Stage 2/Label_8/Instance_699.parquet\n",
      "Reading instance file: ../Cleaning & Preparation/Staged Cleaning Data/Stage 2/Label_8/Instance_707.parquet\n",
      "Reading instance file: ../Cleaning & Preparation/Staged Cleaning Data/Stage 2/Label_8/Instance_706.parquet\n",
      "Reading instance file: ../Cleaning & Preparation/Staged Cleaning Data/Stage 2/Label_8/Instance_703.parquet\n",
      "Reading instance file: ../Cleaning & Preparation/Staged Cleaning Data/Stage 2/Label_8/Instance_702.parquet\n",
      "Reading instance file: ../Cleaning & Preparation/Staged Cleaning Data/Stage 2/Label_8/Instance_697.parquet\n",
      "Reading instance file: ../Cleaning & Preparation/Staged Cleaning Data/Stage 2/Label_8/Instance_710.parquet\n",
      "Reading instance file: ../Cleaning & Preparation/Staged Cleaning Data/Stage 2/Label_8/Instance_700.parquet\n",
      "Reading instance file: ../Cleaning & Preparation/Staged Cleaning Data/Stage 2/Label_8/Instance_709.parquet\n",
      "Reading instance file: ../Cleaning & Preparation/Staged Cleaning Data/Stage 2/Label_8/Instance_708.parquet\n",
      "Reading instance file: ../Cleaning & Preparation/Staged Cleaning Data/Stage 2/Label_8/Instance_701.parquet\n",
      "Reading instance file: ../Cleaning & Preparation/Staged Cleaning Data/Stage 2/Label_3/Instance_1085.parquet\n",
      "Reading instance file: ../Cleaning & Preparation/Staged Cleaning Data/Stage 2/Label_3/Instance_1071.parquet\n",
      "Reading instance file: ../Cleaning & Preparation/Staged Cleaning Data/Stage 2/Label_3/Instance_1061.parquet\n",
      "Reading instance file: ../Cleaning & Preparation/Staged Cleaning Data/Stage 2/Label_3/Instance_1057.parquet\n",
      "Reading instance file: ../Cleaning & Preparation/Staged Cleaning Data/Stage 2/Label_3/Instance_1068.parquet\n",
      "Reading instance file: ../Cleaning & Preparation/Staged Cleaning Data/Stage 2/Label_3/Instance_1078.parquet\n",
      "Reading instance file: ../Cleaning & Preparation/Staged Cleaning Data/Stage 2/Label_3/Instance_1056.parquet\n",
      "Reading instance file: ../Cleaning & Preparation/Staged Cleaning Data/Stage 2/Label_3/Instance_1079.parquet\n",
      "Reading instance file: ../Cleaning & Preparation/Staged Cleaning Data/Stage 2/Label_3/Instance_1069.parquet\n",
      "Reading instance file: ../Cleaning & Preparation/Staged Cleaning Data/Stage 2/Label_3/Instance_1084.parquet\n",
      "Reading instance file: ../Cleaning & Preparation/Staged Cleaning Data/Stage 2/Label_3/Instance_1060.parquet\n",
      "Reading instance file: ../Cleaning & Preparation/Staged Cleaning Data/Stage 2/Label_3/Instance_1070.parquet\n",
      "Reading instance file: ../Cleaning & Preparation/Staged Cleaning Data/Stage 2/Label_3/Instance_1054.parquet\n",
      "Reading instance file: ../Cleaning & Preparation/Staged Cleaning Data/Stage 2/Label_3/Instance_1072.parquet\n",
      "Reading instance file: ../Cleaning & Preparation/Staged Cleaning Data/Stage 2/Label_3/Instance_1062.parquet\n",
      "Reading instance file: ../Cleaning & Preparation/Staged Cleaning Data/Stage 2/Label_3/Instance_1063.parquet\n",
      "Reading instance file: ../Cleaning & Preparation/Staged Cleaning Data/Stage 2/Label_3/Instance_1073.parquet\n",
      "Reading instance file: ../Cleaning & Preparation/Staged Cleaning Data/Stage 2/Label_3/Instance_1055.parquet\n",
      "Reading instance file: ../Cleaning & Preparation/Staged Cleaning Data/Stage 2/Label_3/Instance_1076.parquet\n",
      "Reading instance file: ../Cleaning & Preparation/Staged Cleaning Data/Stage 2/Label_3/Instance_1066.parquet\n",
      "Reading instance file: ../Cleaning & Preparation/Staged Cleaning Data/Stage 2/Label_3/Instance_1082.parquet\n",
      "Reading instance file: ../Cleaning & Preparation/Staged Cleaning Data/Stage 2/Label_3/Instance_1059.parquet\n",
      "Reading instance file: ../Cleaning & Preparation/Staged Cleaning Data/Stage 2/Label_3/Instance_1067.parquet\n",
      "Reading instance file: ../Cleaning & Preparation/Staged Cleaning Data/Stage 2/Label_3/Instance_1077.parquet\n",
      "Reading instance file: ../Cleaning & Preparation/Staged Cleaning Data/Stage 2/Label_3/Instance_1083.parquet\n",
      "Reading instance file: ../Cleaning & Preparation/Staged Cleaning Data/Stage 2/Label_3/Instance_1058.parquet\n",
      "Reading instance file: ../Cleaning & Preparation/Staged Cleaning Data/Stage 2/Label_3/Instance_1075.parquet\n",
      "Reading instance file: ../Cleaning & Preparation/Staged Cleaning Data/Stage 2/Label_3/Instance_1065.parquet\n",
      "Reading instance file: ../Cleaning & Preparation/Staged Cleaning Data/Stage 2/Label_3/Instance_1081.parquet\n",
      "Reading instance file: ../Cleaning & Preparation/Staged Cleaning Data/Stage 2/Label_3/Instance_1064.parquet\n",
      "Reading instance file: ../Cleaning & Preparation/Staged Cleaning Data/Stage 2/Label_3/Instance_1074.parquet\n",
      "Reading instance file: ../Cleaning & Preparation/Staged Cleaning Data/Stage 2/Label_3/Instance_1080.parquet\n",
      "Reading instance file: ../Cleaning & Preparation/Staged Cleaning Data/Stage 2/Label_4/Instance_776.parquet\n",
      "Reading instance file: ../Cleaning & Preparation/Staged Cleaning Data/Stage 2/Label_4/Instance_766.parquet\n",
      "Reading instance file: ../Cleaning & Preparation/Staged Cleaning Data/Stage 2/Label_4/Instance_803.parquet\n",
      "Reading instance file: ../Cleaning & Preparation/Staged Cleaning Data/Stage 2/Label_4/Instance_813.parquet\n",
      "Reading instance file: ../Cleaning & Preparation/Staged Cleaning Data/Stage 2/Label_4/Instance_861.parquet\n",
      "Reading instance file: ../Cleaning & Preparation/Staged Cleaning Data/Stage 2/Label_4/Instance_919.parquet\n",
      "Reading instance file: ../Cleaning & Preparation/Staged Cleaning Data/Stage 2/Label_4/Instance_871.parquet\n",
      "Reading instance file: ../Cleaning & Preparation/Staged Cleaning Data/Stage 2/Label_4/Instance_909.parquet\n",
      "Reading instance file: ../Cleaning & Preparation/Staged Cleaning Data/Stage 2/Label_4/Instance_714.parquet\n",
      "Reading instance file: ../Cleaning & Preparation/Staged Cleaning Data/Stage 2/Label_4/Instance_944.parquet\n",
      "Reading instance file: ../Cleaning & Preparation/Staged Cleaning Data/Stage 2/Label_4/Instance_954.parquet\n",
      "Reading instance file: ../Cleaning & Preparation/Staged Cleaning Data/Stage 2/Label_4/Instance_749.parquet\n",
      "Reading instance file: ../Cleaning & Preparation/Staged Cleaning Data/Stage 2/Label_4/Instance_759.parquet\n",
      "Reading instance file: ../Cleaning & Preparation/Staged Cleaning Data/Stage 2/Label_4/Instance_885.parquet\n",
      "Reading instance file: ../Cleaning & Preparation/Staged Cleaning Data/Stage 2/Label_4/Instance_895.parquet\n",
      "Reading instance file: ../Cleaning & Preparation/Staged Cleaning Data/Stage 2/Label_4/Instance_1013.parquet\n",
      "Reading instance file: ../Cleaning & Preparation/Staged Cleaning Data/Stage 2/Label_4/Instance_1003.parquet\n",
      "Reading instance file: ../Cleaning & Preparation/Staged Cleaning Data/Stage 2/Label_4/Instance_926.parquet\n",
      "Reading instance file: ../Cleaning & Preparation/Staged Cleaning Data/Stage 2/Label_4/Instance_936.parquet\n",
      "Reading instance file: ../Cleaning & Preparation/Staged Cleaning Data/Stage 2/Label_4/Instance_792.parquet\n",
      "Reading instance file: ../Cleaning & Preparation/Staged Cleaning Data/Stage 2/Label_4/Instance_782.parquet\n",
      "Reading instance file: ../Cleaning & Preparation/Staged Cleaning Data/Stage 2/Label_4/Instance_878.parquet\n",
      "Reading instance file: ../Cleaning & Preparation/Staged Cleaning Data/Stage 2/Label_4/Instance_900.parquet\n",
      "Reading instance file: ../Cleaning & Preparation/Staged Cleaning Data/Stage 2/Label_4/Instance_868.parquet\n",
      "Reading instance file: ../Cleaning & Preparation/Staged Cleaning Data/Stage 2/Label_4/Instance_910.parquet\n",
      "Reading instance file: ../Cleaning & Preparation/Staged Cleaning Data/Stage 2/Label_4/Instance_1035.parquet\n",
      "Reading instance file: ../Cleaning & Preparation/Staged Cleaning Data/Stage 2/Label_4/Instance_1025.parquet\n",
      "Reading instance file: ../Cleaning & Preparation/Staged Cleaning Data/Stage 2/Label_4/Instance_1047.parquet\n",
      "Reading instance file: ../Cleaning & Preparation/Staged Cleaning Data/Stage 2/Label_4/Instance_962.parquet\n",
      "Reading instance file: ../Cleaning & Preparation/Staged Cleaning Data/Stage 2/Label_4/Instance_972.parquet\n",
      "Reading instance file: ../Cleaning & Preparation/Staged Cleaning Data/Stage 2/Label_4/Instance_986.parquet\n",
      "Reading instance file: ../Cleaning & Preparation/Staged Cleaning Data/Stage 2/Label_4/Instance_996.parquet\n",
      "Reading instance file: ../Cleaning & Preparation/Staged Cleaning Data/Stage 2/Label_4/Instance_732.parquet\n",
      "Reading instance file: ../Cleaning & Preparation/Staged Cleaning Data/Stage 2/Label_4/Instance_722.parquet\n",
      "Reading instance file: ../Cleaning & Preparation/Staged Cleaning Data/Stage 2/Label_4/Instance_847.parquet\n",
      "Reading instance file: ../Cleaning & Preparation/Staged Cleaning Data/Stage 2/Label_4/Instance_857.parquet\n",
      "Reading instance file: ../Cleaning & Preparation/Staged Cleaning Data/Stage 2/Label_4/Instance_825.parquet\n",
      "Reading instance file: ../Cleaning & Preparation/Staged Cleaning Data/Stage 2/Label_4/Instance_835.parquet\n",
      "Reading instance file: ../Cleaning & Preparation/Staged Cleaning Data/Stage 2/Label_4/Instance_750.parquet\n",
      "Reading instance file: ../Cleaning & Preparation/Staged Cleaning Data/Stage 2/Label_4/Instance_740.parquet\n",
      "Reading instance file: ../Cleaning & Preparation/Staged Cleaning Data/Stage 2/Label_4/Instance_1024.parquet\n",
      "Reading instance file: ../Cleaning & Preparation/Staged Cleaning Data/Stage 2/Label_4/Instance_1034.parquet\n",
      "Reading instance file: ../Cleaning & Preparation/Staged Cleaning Data/Stage 2/Label_4/Instance_911.parquet\n",
      "Reading instance file: ../Cleaning & Preparation/Staged Cleaning Data/Stage 2/Label_4/Instance_869.parquet\n",
      "Reading instance file: ../Cleaning & Preparation/Staged Cleaning Data/Stage 2/Label_4/Instance_901.parquet\n",
      "Reading instance file: ../Cleaning & Preparation/Staged Cleaning Data/Stage 2/Label_4/Instance_879.parquet\n",
      "Reading instance file: ../Cleaning & Preparation/Staged Cleaning Data/Stage 2/Label_4/Instance_973.parquet\n",
      "Reading instance file: ../Cleaning & Preparation/Staged Cleaning Data/Stage 2/Label_4/Instance_963.parquet\n",
      "Reading instance file: ../Cleaning & Preparation/Staged Cleaning Data/Stage 2/Label_4/Instance_1046.parquet\n",
      "Reading instance file: ../Cleaning & Preparation/Staged Cleaning Data/Stage 2/Label_4/Instance_856.parquet\n",
      "Reading instance file: ../Cleaning & Preparation/Staged Cleaning Data/Stage 2/Label_4/Instance_846.parquet\n",
      "Reading instance file: ../Cleaning & Preparation/Staged Cleaning Data/Stage 2/Label_4/Instance_723.parquet\n",
      "Reading instance file: ../Cleaning & Preparation/Staged Cleaning Data/Stage 2/Label_4/Instance_733.parquet\n",
      "Reading instance file: ../Cleaning & Preparation/Staged Cleaning Data/Stage 2/Label_4/Instance_997.parquet\n",
      "Reading instance file: ../Cleaning & Preparation/Staged Cleaning Data/Stage 2/Label_4/Instance_987.parquet\n",
      "Reading instance file: ../Cleaning & Preparation/Staged Cleaning Data/Stage 2/Label_4/Instance_741.parquet\n",
      "Reading instance file: ../Cleaning & Preparation/Staged Cleaning Data/Stage 2/Label_4/Instance_751.parquet\n",
      "Reading instance file: ../Cleaning & Preparation/Staged Cleaning Data/Stage 2/Label_4/Instance_834.parquet\n",
      "Reading instance file: ../Cleaning & Preparation/Staged Cleaning Data/Stage 2/Label_4/Instance_824.parquet\n",
      "Reading instance file: ../Cleaning & Preparation/Staged Cleaning Data/Stage 2/Label_4/Instance_812.parquet\n",
      "Reading instance file: ../Cleaning & Preparation/Staged Cleaning Data/Stage 2/Label_4/Instance_802.parquet\n",
      "Reading instance file: ../Cleaning & Preparation/Staged Cleaning Data/Stage 2/Label_4/Instance_767.parquet\n",
      "Reading instance file: ../Cleaning & Preparation/Staged Cleaning Data/Stage 2/Label_4/Instance_777.parquet\n",
      "Reading instance file: ../Cleaning & Preparation/Staged Cleaning Data/Stage 2/Label_4/Instance_715.parquet\n",
      "Reading instance file: ../Cleaning & Preparation/Staged Cleaning Data/Stage 2/Label_4/Instance_908.parquet\n",
      "Reading instance file: ../Cleaning & Preparation/Staged Cleaning Data/Stage 2/Label_4/Instance_870.parquet\n",
      "Reading instance file: ../Cleaning & Preparation/Staged Cleaning Data/Stage 2/Label_4/Instance_918.parquet\n",
      "Reading instance file: ../Cleaning & Preparation/Staged Cleaning Data/Stage 2/Label_4/Instance_860.parquet\n",
      "Reading instance file: ../Cleaning & Preparation/Staged Cleaning Data/Stage 2/Label_4/Instance_894.parquet\n",
      "Reading instance file: ../Cleaning & Preparation/Staged Cleaning Data/Stage 2/Label_4/Instance_884.parquet\n",
      "Reading instance file: ../Cleaning & Preparation/Staged Cleaning Data/Stage 2/Label_4/Instance_758.parquet\n",
      "Reading instance file: ../Cleaning & Preparation/Staged Cleaning Data/Stage 2/Label_4/Instance_748.parquet\n",
      "Reading instance file: ../Cleaning & Preparation/Staged Cleaning Data/Stage 2/Label_4/Instance_955.parquet\n",
      "Reading instance file: ../Cleaning & Preparation/Staged Cleaning Data/Stage 2/Label_4/Instance_945.parquet\n",
      "Reading instance file: ../Cleaning & Preparation/Staged Cleaning Data/Stage 2/Label_4/Instance_783.parquet\n",
      "Reading instance file: ../Cleaning & Preparation/Staged Cleaning Data/Stage 2/Label_4/Instance_793.parquet\n",
      "Reading instance file: ../Cleaning & Preparation/Staged Cleaning Data/Stage 2/Label_4/Instance_937.parquet\n",
      "Reading instance file: ../Cleaning & Preparation/Staged Cleaning Data/Stage 2/Label_4/Instance_927.parquet\n",
      "Reading instance file: ../Cleaning & Preparation/Staged Cleaning Data/Stage 2/Label_4/Instance_1002.parquet\n",
      "Reading instance file: ../Cleaning & Preparation/Staged Cleaning Data/Stage 2/Label_4/Instance_1012.parquet\n",
      "Reading instance file: ../Cleaning & Preparation/Staged Cleaning Data/Stage 2/Label_4/Instance_961.parquet\n",
      "Reading instance file: ../Cleaning & Preparation/Staged Cleaning Data/Stage 2/Label_4/Instance_819.parquet\n",
      "Reading instance file: ../Cleaning & Preparation/Staged Cleaning Data/Stage 2/Label_4/Instance_971.parquet\n",
      "Reading instance file: ../Cleaning & Preparation/Staged Cleaning Data/Stage 2/Label_4/Instance_809.parquet\n",
      "Reading instance file: ../Cleaning & Preparation/Staged Cleaning Data/Stage 2/Label_4/Instance_1044.parquet\n",
      "Reading instance file: ../Cleaning & Preparation/Staged Cleaning Data/Stage 2/Label_4/Instance_1036.parquet\n",
      "Reading instance file: ../Cleaning & Preparation/Staged Cleaning Data/Stage 2/Label_4/Instance_1026.parquet\n",
      "Reading instance file: ../Cleaning & Preparation/Staged Cleaning Data/Stage 2/Label_4/Instance_903.parquet\n",
      "Reading instance file: ../Cleaning & Preparation/Staged Cleaning Data/Stage 2/Label_4/Instance_913.parquet\n",
      "Reading instance file: ../Cleaning & Preparation/Staged Cleaning Data/Stage 2/Label_4/Instance_753.parquet\n",
      "Reading instance file: ../Cleaning & Preparation/Staged Cleaning Data/Stage 2/Label_4/Instance_743.parquet\n",
      "Reading instance file: ../Cleaning & Preparation/Staged Cleaning Data/Stage 2/Label_4/Instance_826.parquet\n",
      "Reading instance file: ../Cleaning & Preparation/Staged Cleaning Data/Stage 2/Label_4/Instance_836.parquet\n",
      "Reading instance file: ../Cleaning & Preparation/Staged Cleaning Data/Stage 2/Label_4/Instance_844.parquet\n",
      "Reading instance file: ../Cleaning & Preparation/Staged Cleaning Data/Stage 2/Label_4/Instance_854.parquet\n",
      "Reading instance file: ../Cleaning & Preparation/Staged Cleaning Data/Stage 2/Label_4/Instance_788.parquet\n",
      "Reading instance file: ../Cleaning & Preparation/Staged Cleaning Data/Stage 2/Label_4/Instance_798.parquet\n",
      "Reading instance file: ../Cleaning & Preparation/Staged Cleaning Data/Stage 2/Label_4/Instance_985.parquet\n",
      "Reading instance file: ../Cleaning & Preparation/Staged Cleaning Data/Stage 2/Label_4/Instance_995.parquet\n",
      "Reading instance file: ../Cleaning & Preparation/Staged Cleaning Data/Stage 2/Label_4/Instance_1009.parquet\n",
      "Reading instance file: ../Cleaning & Preparation/Staged Cleaning Data/Stage 2/Label_4/Instance_731.parquet\n",
      "Reading instance file: ../Cleaning & Preparation/Staged Cleaning Data/Stage 2/Label_4/Instance_721.parquet\n",
      "Reading instance file: ../Cleaning & Preparation/Staged Cleaning Data/Stage 2/Label_4/Instance_1019.parquet\n",
      "Reading instance file: ../Cleaning & Preparation/Staged Cleaning Data/Stage 2/Label_4/Instance_717.parquet\n",
      "Reading instance file: ../Cleaning & Preparation/Staged Cleaning Data/Stage 2/Label_4/Instance_862.parquet\n",
      "Reading instance file: ../Cleaning & Preparation/Staged Cleaning Data/Stage 2/Label_4/Instance_872.parquet\n",
      "Reading instance file: ../Cleaning & Preparation/Staged Cleaning Data/Stage 2/Label_4/Instance_978.parquet\n",
      "Reading instance file: ../Cleaning & Preparation/Staged Cleaning Data/Stage 2/Label_4/Instance_800.parquet\n",
      "Reading instance file: ../Cleaning & Preparation/Staged Cleaning Data/Stage 2/Label_4/Instance_968.parquet\n",
      "Reading instance file: ../Cleaning & Preparation/Staged Cleaning Data/Stage 2/Label_4/Instance_810.parquet\n",
      "Reading instance file: ../Cleaning & Preparation/Staged Cleaning Data/Stage 2/Label_4/Instance_775.parquet\n",
      "Reading instance file: ../Cleaning & Preparation/Staged Cleaning Data/Stage 2/Label_4/Instance_765.parquet\n",
      "Reading instance file: ../Cleaning & Preparation/Staged Cleaning Data/Stage 2/Label_4/Instance_925.parquet\n",
      "Reading instance file: ../Cleaning & Preparation/Staged Cleaning Data/Stage 2/Label_4/Instance_935.parquet\n",
      "Reading instance file: ../Cleaning & Preparation/Staged Cleaning Data/Stage 2/Label_4/Instance_791.parquet\n",
      "Reading instance file: ../Cleaning & Preparation/Staged Cleaning Data/Stage 2/Label_4/Instance_781.parquet\n",
      "Reading instance file: ../Cleaning & Preparation/Staged Cleaning Data/Stage 2/Label_4/Instance_728.parquet\n",
      "Reading instance file: ../Cleaning & Preparation/Staged Cleaning Data/Stage 2/Label_4/Instance_1010.parquet\n",
      "Reading instance file: ../Cleaning & Preparation/Staged Cleaning Data/Stage 2/Label_4/Instance_1000.parquet\n",
      "Reading instance file: ../Cleaning & Preparation/Staged Cleaning Data/Stage 2/Label_4/Instance_738.parquet\n",
      "Reading instance file: ../Cleaning & Preparation/Staged Cleaning Data/Stage 2/Label_4/Instance_886.parquet\n",
      "Reading instance file: ../Cleaning & Preparation/Staged Cleaning Data/Stage 2/Label_4/Instance_896.parquet\n",
      "Reading instance file: ../Cleaning & Preparation/Staged Cleaning Data/Stage 2/Label_4/Instance_947.parquet\n",
      "Reading instance file: ../Cleaning & Preparation/Staged Cleaning Data/Stage 2/Label_4/Instance_957.parquet\n",
      "Reading instance file: ../Cleaning & Preparation/Staged Cleaning Data/Stage 2/Label_4/Instance_873.parquet\n",
      "Reading instance file: ../Cleaning & Preparation/Staged Cleaning Data/Stage 2/Label_4/Instance_863.parquet\n",
      "Reading instance file: ../Cleaning & Preparation/Staged Cleaning Data/Stage 2/Label_4/Instance_716.parquet\n",
      "Reading instance file: ../Cleaning & Preparation/Staged Cleaning Data/Stage 2/Label_4/Instance_764.parquet\n",
      "Reading instance file: ../Cleaning & Preparation/Staged Cleaning Data/Stage 2/Label_4/Instance_774.parquet\n",
      "Reading instance file: ../Cleaning & Preparation/Staged Cleaning Data/Stage 2/Label_4/Instance_811.parquet\n",
      "Reading instance file: ../Cleaning & Preparation/Staged Cleaning Data/Stage 2/Label_4/Instance_969.parquet\n",
      "Reading instance file: ../Cleaning & Preparation/Staged Cleaning Data/Stage 2/Label_4/Instance_801.parquet\n",
      "Reading instance file: ../Cleaning & Preparation/Staged Cleaning Data/Stage 2/Label_4/Instance_979.parquet\n",
      "Reading instance file: ../Cleaning & Preparation/Staged Cleaning Data/Stage 2/Label_4/Instance_1001.parquet\n",
      "Reading instance file: ../Cleaning & Preparation/Staged Cleaning Data/Stage 2/Label_4/Instance_739.parquet\n",
      "Reading instance file: ../Cleaning & Preparation/Staged Cleaning Data/Stage 2/Label_4/Instance_729.parquet\n",
      "Reading instance file: ../Cleaning & Preparation/Staged Cleaning Data/Stage 2/Label_4/Instance_1011.parquet\n",
      "Reading instance file: ../Cleaning & Preparation/Staged Cleaning Data/Stage 2/Label_4/Instance_780.parquet\n",
      "Reading instance file: ../Cleaning & Preparation/Staged Cleaning Data/Stage 2/Label_4/Instance_790.parquet\n",
      "Reading instance file: ../Cleaning & Preparation/Staged Cleaning Data/Stage 2/Label_4/Instance_934.parquet\n",
      "Reading instance file: ../Cleaning & Preparation/Staged Cleaning Data/Stage 2/Label_4/Instance_924.parquet\n",
      "Reading instance file: ../Cleaning & Preparation/Staged Cleaning Data/Stage 2/Label_4/Instance_956.parquet\n",
      "Reading instance file: ../Cleaning & Preparation/Staged Cleaning Data/Stage 2/Label_4/Instance_946.parquet\n",
      "Reading instance file: ../Cleaning & Preparation/Staged Cleaning Data/Stage 2/Label_4/Instance_897.parquet\n",
      "Reading instance file: ../Cleaning & Preparation/Staged Cleaning Data/Stage 2/Label_4/Instance_887.parquet\n",
      "Reading instance file: ../Cleaning & Preparation/Staged Cleaning Data/Stage 2/Label_4/Instance_1045.parquet\n",
      "Reading instance file: ../Cleaning & Preparation/Staged Cleaning Data/Stage 2/Label_4/Instance_808.parquet\n",
      "Reading instance file: ../Cleaning & Preparation/Staged Cleaning Data/Stage 2/Label_4/Instance_970.parquet\n",
      "Reading instance file: ../Cleaning & Preparation/Staged Cleaning Data/Stage 2/Label_4/Instance_818.parquet\n",
      "Reading instance file: ../Cleaning & Preparation/Staged Cleaning Data/Stage 2/Label_4/Instance_960.parquet\n",
      "Reading instance file: ../Cleaning & Preparation/Staged Cleaning Data/Stage 2/Label_4/Instance_912.parquet\n",
      "Reading instance file: ../Cleaning & Preparation/Staged Cleaning Data/Stage 2/Label_4/Instance_902.parquet\n",
      "Reading instance file: ../Cleaning & Preparation/Staged Cleaning Data/Stage 2/Label_4/Instance_1027.parquet\n",
      "Reading instance file: ../Cleaning & Preparation/Staged Cleaning Data/Stage 2/Label_4/Instance_1037.parquet\n",
      "Reading instance file: ../Cleaning & Preparation/Staged Cleaning Data/Stage 2/Label_4/Instance_837.parquet\n",
      "Reading instance file: ../Cleaning & Preparation/Staged Cleaning Data/Stage 2/Label_4/Instance_827.parquet\n",
      "Reading instance file: ../Cleaning & Preparation/Staged Cleaning Data/Stage 2/Label_4/Instance_742.parquet\n",
      "Reading instance file: ../Cleaning & Preparation/Staged Cleaning Data/Stage 2/Label_4/Instance_752.parquet\n",
      "Reading instance file: ../Cleaning & Preparation/Staged Cleaning Data/Stage 2/Label_4/Instance_720.parquet\n",
      "Reading instance file: ../Cleaning & Preparation/Staged Cleaning Data/Stage 2/Label_4/Instance_1018.parquet\n",
      "Reading instance file: ../Cleaning & Preparation/Staged Cleaning Data/Stage 2/Label_4/Instance_1008.parquet\n",
      "Reading instance file: ../Cleaning & Preparation/Staged Cleaning Data/Stage 2/Label_4/Instance_730.parquet\n",
      "Reading instance file: ../Cleaning & Preparation/Staged Cleaning Data/Stage 2/Label_4/Instance_994.parquet\n",
      "Reading instance file: ../Cleaning & Preparation/Staged Cleaning Data/Stage 2/Label_4/Instance_984.parquet\n",
      "Reading instance file: ../Cleaning & Preparation/Staged Cleaning Data/Stage 2/Label_4/Instance_799.parquet\n",
      "Reading instance file: ../Cleaning & Preparation/Staged Cleaning Data/Stage 2/Label_4/Instance_789.parquet\n",
      "Reading instance file: ../Cleaning & Preparation/Staged Cleaning Data/Stage 2/Label_4/Instance_855.parquet\n",
      "Reading instance file: ../Cleaning & Preparation/Staged Cleaning Data/Stage 2/Label_4/Instance_845.parquet\n",
      "Reading instance file: ../Cleaning & Preparation/Staged Cleaning Data/Stage 2/Label_4/Instance_822.parquet\n",
      "Reading instance file: ../Cleaning & Preparation/Staged Cleaning Data/Stage 2/Label_4/Instance_832.parquet\n",
      "Reading instance file: ../Cleaning & Preparation/Staged Cleaning Data/Stage 2/Label_4/Instance_757.parquet\n",
      "Reading instance file: ../Cleaning & Preparation/Staged Cleaning Data/Stage 2/Label_4/Instance_747.parquet\n",
      "Reading instance file: ../Cleaning & Preparation/Staged Cleaning Data/Stage 2/Label_4/Instance_735.parquet\n",
      "Reading instance file: ../Cleaning & Preparation/Staged Cleaning Data/Stage 2/Label_4/Instance_725.parquet\n",
      "Reading instance file: ../Cleaning & Preparation/Staged Cleaning Data/Stage 2/Label_4/Instance_981.parquet\n",
      "Reading instance file: ../Cleaning & Preparation/Staged Cleaning Data/Stage 2/Label_4/Instance_991.parquet\n",
      "Reading instance file: ../Cleaning & Preparation/Staged Cleaning Data/Stage 2/Label_4/Instance_840.parquet\n",
      "Reading instance file: ../Cleaning & Preparation/Staged Cleaning Data/Stage 2/Label_4/Instance_938.parquet\n",
      "Reading instance file: ../Cleaning & Preparation/Staged Cleaning Data/Stage 2/Label_4/Instance_850.parquet\n",
      "Reading instance file: ../Cleaning & Preparation/Staged Cleaning Data/Stage 2/Label_4/Instance_928.parquet\n",
      "Reading instance file: ../Cleaning & Preparation/Staged Cleaning Data/Stage 2/Label_4/Instance_1050.parquet\n",
      "Reading instance file: ../Cleaning & Preparation/Staged Cleaning Data/Stage 2/Label_4/Instance_768.parquet\n",
      "Reading instance file: ../Cleaning & Preparation/Staged Cleaning Data/Stage 2/Label_4/Instance_778.parquet\n",
      "Reading instance file: ../Cleaning & Preparation/Staged Cleaning Data/Stage 2/Label_4/Instance_1040.parquet\n",
      "Reading instance file: ../Cleaning & Preparation/Staged Cleaning Data/Stage 2/Label_4/Instance_965.parquet\n",
      "Reading instance file: ../Cleaning & Preparation/Staged Cleaning Data/Stage 2/Label_4/Instance_975.parquet\n",
      "Reading instance file: ../Cleaning & Preparation/Staged Cleaning Data/Stage 2/Label_4/Instance_907.parquet\n",
      "Reading instance file: ../Cleaning & Preparation/Staged Cleaning Data/Stage 2/Label_4/Instance_917.parquet\n",
      "Reading instance file: ../Cleaning & Preparation/Staged Cleaning Data/Stage 2/Label_4/Instance_1032.parquet\n",
      "Reading instance file: ../Cleaning & Preparation/Staged Cleaning Data/Stage 2/Label_4/Instance_1022.parquet\n",
      "Reading instance file: ../Cleaning & Preparation/Staged Cleaning Data/Stage 2/Label_4/Instance_1014.parquet\n",
      "Reading instance file: ../Cleaning & Preparation/Staged Cleaning Data/Stage 2/Label_4/Instance_1004.parquet\n",
      "Reading instance file: ../Cleaning & Preparation/Staged Cleaning Data/Stage 2/Label_4/Instance_998.parquet\n",
      "Reading instance file: ../Cleaning & Preparation/Staged Cleaning Data/Stage 2/Label_4/Instance_988.parquet\n",
      "Reading instance file: ../Cleaning & Preparation/Staged Cleaning Data/Stage 2/Label_4/Instance_795.parquet\n",
      "Reading instance file: ../Cleaning & Preparation/Staged Cleaning Data/Stage 2/Label_4/Instance_785.parquet\n",
      "Reading instance file: ../Cleaning & Preparation/Staged Cleaning Data/Stage 2/Label_4/Instance_859.parquet\n",
      "Reading instance file: ../Cleaning & Preparation/Staged Cleaning Data/Stage 2/Label_4/Instance_921.parquet\n",
      "Reading instance file: ../Cleaning & Preparation/Staged Cleaning Data/Stage 2/Label_4/Instance_849.parquet\n",
      "Reading instance file: ../Cleaning & Preparation/Staged Cleaning Data/Stage 2/Label_4/Instance_931.parquet\n",
      "Reading instance file: ../Cleaning & Preparation/Staged Cleaning Data/Stage 2/Label_4/Instance_943.parquet\n",
      "Reading instance file: ../Cleaning & Preparation/Staged Cleaning Data/Stage 2/Label_4/Instance_953.parquet\n",
      "Reading instance file: ../Cleaning & Preparation/Staged Cleaning Data/Stage 2/Label_4/Instance_882.parquet\n",
      "Reading instance file: ../Cleaning & Preparation/Staged Cleaning Data/Stage 2/Label_4/Instance_892.parquet\n",
      "Reading instance file: ../Cleaning & Preparation/Staged Cleaning Data/Stage 2/Label_4/Instance_866.parquet\n",
      "Reading instance file: ../Cleaning & Preparation/Staged Cleaning Data/Stage 2/Label_4/Instance_876.parquet\n",
      "Reading instance file: ../Cleaning & Preparation/Staged Cleaning Data/Stage 2/Label_4/Instance_713.parquet\n",
      "Reading instance file: ../Cleaning & Preparation/Staged Cleaning Data/Stage 2/Label_4/Instance_771.parquet\n",
      "Reading instance file: ../Cleaning & Preparation/Staged Cleaning Data/Stage 2/Label_4/Instance_1049.parquet\n",
      "Reading instance file: ../Cleaning & Preparation/Staged Cleaning Data/Stage 2/Label_4/Instance_761.parquet\n",
      "Reading instance file: ../Cleaning & Preparation/Staged Cleaning Data/Stage 2/Label_4/Instance_804.parquet\n",
      "Reading instance file: ../Cleaning & Preparation/Staged Cleaning Data/Stage 2/Label_4/Instance_814.parquet\n",
      "Reading instance file: ../Cleaning & Preparation/Staged Cleaning Data/Stage 2/Label_4/Instance_930.parquet\n",
      "Reading instance file: ../Cleaning & Preparation/Staged Cleaning Data/Stage 2/Label_4/Instance_848.parquet\n",
      "Reading instance file: ../Cleaning & Preparation/Staged Cleaning Data/Stage 2/Label_4/Instance_920.parquet\n",
      "Reading instance file: ../Cleaning & Preparation/Staged Cleaning Data/Stage 2/Label_4/Instance_858.parquet\n",
      "Reading instance file: ../Cleaning & Preparation/Staged Cleaning Data/Stage 2/Label_4/Instance_784.parquet\n",
      "Reading instance file: ../Cleaning & Preparation/Staged Cleaning Data/Stage 2/Label_4/Instance_794.parquet\n",
      "Reading instance file: ../Cleaning & Preparation/Staged Cleaning Data/Stage 2/Label_4/Instance_989.parquet\n",
      "Reading instance file: ../Cleaning & Preparation/Staged Cleaning Data/Stage 2/Label_4/Instance_999.parquet\n",
      "Reading instance file: ../Cleaning & Preparation/Staged Cleaning Data/Stage 2/Label_4/Instance_1005.parquet\n",
      "Reading instance file: ../Cleaning & Preparation/Staged Cleaning Data/Stage 2/Label_4/Instance_1015.parquet\n",
      "Reading instance file: ../Cleaning & Preparation/Staged Cleaning Data/Stage 2/Label_4/Instance_893.parquet\n",
      "Reading instance file: ../Cleaning & Preparation/Staged Cleaning Data/Stage 2/Label_4/Instance_883.parquet\n",
      "Reading instance file: ../Cleaning & Preparation/Staged Cleaning Data/Stage 2/Label_4/Instance_952.parquet\n",
      "Reading instance file: ../Cleaning & Preparation/Staged Cleaning Data/Stage 2/Label_4/Instance_942.parquet\n",
      "Reading instance file: ../Cleaning & Preparation/Staged Cleaning Data/Stage 2/Label_4/Instance_712.parquet\n",
      "Reading instance file: ../Cleaning & Preparation/Staged Cleaning Data/Stage 2/Label_4/Instance_877.parquet\n",
      "Reading instance file: ../Cleaning & Preparation/Staged Cleaning Data/Stage 2/Label_4/Instance_867.parquet\n",
      "Reading instance file: ../Cleaning & Preparation/Staged Cleaning Data/Stage 2/Label_4/Instance_815.parquet\n",
      "Reading instance file: ../Cleaning & Preparation/Staged Cleaning Data/Stage 2/Label_4/Instance_805.parquet\n",
      "Reading instance file: ../Cleaning & Preparation/Staged Cleaning Data/Stage 2/Label_4/Instance_760.parquet\n",
      "Reading instance file: ../Cleaning & Preparation/Staged Cleaning Data/Stage 2/Label_4/Instance_770.parquet\n",
      "Reading instance file: ../Cleaning & Preparation/Staged Cleaning Data/Stage 2/Label_4/Instance_1048.parquet\n",
      "Reading instance file: ../Cleaning & Preparation/Staged Cleaning Data/Stage 2/Label_4/Instance_746.parquet\n",
      "Reading instance file: ../Cleaning & Preparation/Staged Cleaning Data/Stage 2/Label_4/Instance_756.parquet\n",
      "Reading instance file: ../Cleaning & Preparation/Staged Cleaning Data/Stage 2/Label_4/Instance_833.parquet\n",
      "Reading instance file: ../Cleaning & Preparation/Staged Cleaning Data/Stage 2/Label_4/Instance_823.parquet\n",
      "Reading instance file: ../Cleaning & Preparation/Staged Cleaning Data/Stage 2/Label_4/Instance_929.parquet\n",
      "Reading instance file: ../Cleaning & Preparation/Staged Cleaning Data/Stage 2/Label_4/Instance_851.parquet\n",
      "Reading instance file: ../Cleaning & Preparation/Staged Cleaning Data/Stage 2/Label_4/Instance_939.parquet\n",
      "Reading instance file: ../Cleaning & Preparation/Staged Cleaning Data/Stage 2/Label_4/Instance_841.parquet\n",
      "Reading instance file: ../Cleaning & Preparation/Staged Cleaning Data/Stage 2/Label_4/Instance_990.parquet\n",
      "Reading instance file: ../Cleaning & Preparation/Staged Cleaning Data/Stage 2/Label_4/Instance_980.parquet\n",
      "Reading instance file: ../Cleaning & Preparation/Staged Cleaning Data/Stage 2/Label_4/Instance_724.parquet\n",
      "Reading instance file: ../Cleaning & Preparation/Staged Cleaning Data/Stage 2/Label_4/Instance_734.parquet\n",
      "Reading instance file: ../Cleaning & Preparation/Staged Cleaning Data/Stage 2/Label_4/Instance_974.parquet\n",
      "Reading instance file: ../Cleaning & Preparation/Staged Cleaning Data/Stage 2/Label_4/Instance_964.parquet\n",
      "Reading instance file: ../Cleaning & Preparation/Staged Cleaning Data/Stage 2/Label_4/Instance_779.parquet\n",
      "Reading instance file: ../Cleaning & Preparation/Staged Cleaning Data/Stage 2/Label_4/Instance_1041.parquet\n",
      "Reading instance file: ../Cleaning & Preparation/Staged Cleaning Data/Stage 2/Label_4/Instance_1051.parquet\n",
      "Reading instance file: ../Cleaning & Preparation/Staged Cleaning Data/Stage 2/Label_4/Instance_769.parquet\n",
      "Reading instance file: ../Cleaning & Preparation/Staged Cleaning Data/Stage 2/Label_4/Instance_1023.parquet\n",
      "Reading instance file: ../Cleaning & Preparation/Staged Cleaning Data/Stage 2/Label_4/Instance_1033.parquet\n",
      "Reading instance file: ../Cleaning & Preparation/Staged Cleaning Data/Stage 2/Label_4/Instance_916.parquet\n",
      "Reading instance file: ../Cleaning & Preparation/Staged Cleaning Data/Stage 2/Label_4/Instance_906.parquet\n",
      "Reading instance file: ../Cleaning & Preparation/Staged Cleaning Data/Stage 2/Label_4/Instance_881.parquet\n",
      "Reading instance file: ../Cleaning & Preparation/Staged Cleaning Data/Stage 2/Label_4/Instance_891.parquet\n",
      "Reading instance file: ../Cleaning & Preparation/Staged Cleaning Data/Stage 2/Label_4/Instance_940.parquet\n",
      "Reading instance file: ../Cleaning & Preparation/Staged Cleaning Data/Stage 2/Label_4/Instance_838.parquet\n",
      "Reading instance file: ../Cleaning & Preparation/Staged Cleaning Data/Stage 2/Label_4/Instance_950.parquet\n",
      "Reading instance file: ../Cleaning & Preparation/Staged Cleaning Data/Stage 2/Label_4/Instance_828.parquet\n",
      "Reading instance file: ../Cleaning & Preparation/Staged Cleaning Data/Stage 2/Label_4/Instance_796.parquet\n",
      "Reading instance file: ../Cleaning & Preparation/Staged Cleaning Data/Stage 2/Label_4/Instance_786.parquet\n",
      "Reading instance file: ../Cleaning & Preparation/Staged Cleaning Data/Stage 2/Label_4/Instance_922.parquet\n",
      "Reading instance file: ../Cleaning & Preparation/Staged Cleaning Data/Stage 2/Label_4/Instance_932.parquet\n",
      "Reading instance file: ../Cleaning & Preparation/Staged Cleaning Data/Stage 2/Label_4/Instance_1017.parquet\n",
      "Reading instance file: ../Cleaning & Preparation/Staged Cleaning Data/Stage 2/Label_4/Instance_1007.parquet\n",
      "Reading instance file: ../Cleaning & Preparation/Staged Cleaning Data/Stage 2/Label_4/Instance_807.parquet\n",
      "Reading instance file: ../Cleaning & Preparation/Staged Cleaning Data/Stage 2/Label_4/Instance_817.parquet\n",
      "Reading instance file: ../Cleaning & Preparation/Staged Cleaning Data/Stage 2/Label_4/Instance_772.parquet\n",
      "Reading instance file: ../Cleaning & Preparation/Staged Cleaning Data/Stage 2/Label_4/Instance_762.parquet\n",
      "Reading instance file: ../Cleaning & Preparation/Staged Cleaning Data/Stage 2/Label_4/Instance_1028.parquet\n",
      "Reading instance file: ../Cleaning & Preparation/Staged Cleaning Data/Stage 2/Label_4/Instance_1038.parquet\n",
      "Reading instance file: ../Cleaning & Preparation/Staged Cleaning Data/Stage 2/Label_4/Instance_865.parquet\n",
      "Reading instance file: ../Cleaning & Preparation/Staged Cleaning Data/Stage 2/Label_4/Instance_875.parquet\n",
      "Reading instance file: ../Cleaning & Preparation/Staged Cleaning Data/Stage 2/Label_4/Instance_843.parquet\n",
      "Reading instance file: ../Cleaning & Preparation/Staged Cleaning Data/Stage 2/Label_4/Instance_853.parquet\n",
      "Reading instance file: ../Cleaning & Preparation/Staged Cleaning Data/Stage 2/Label_4/Instance_736.parquet\n",
      "Reading instance file: ../Cleaning & Preparation/Staged Cleaning Data/Stage 2/Label_4/Instance_726.parquet\n",
      "Reading instance file: ../Cleaning & Preparation/Staged Cleaning Data/Stage 2/Label_4/Instance_982.parquet\n",
      "Reading instance file: ../Cleaning & Preparation/Staged Cleaning Data/Stage 2/Label_4/Instance_992.parquet\n",
      "Reading instance file: ../Cleaning & Preparation/Staged Cleaning Data/Stage 2/Label_4/Instance_898.parquet\n",
      "Reading instance file: ../Cleaning & Preparation/Staged Cleaning Data/Stage 2/Label_4/Instance_888.parquet\n",
      "Reading instance file: ../Cleaning & Preparation/Staged Cleaning Data/Stage 2/Label_4/Instance_754.parquet\n",
      "Reading instance file: ../Cleaning & Preparation/Staged Cleaning Data/Stage 2/Label_4/Instance_744.parquet\n",
      "Reading instance file: ../Cleaning & Preparation/Staged Cleaning Data/Stage 2/Label_4/Instance_959.parquet\n",
      "Reading instance file: ../Cleaning & Preparation/Staged Cleaning Data/Stage 2/Label_4/Instance_821.parquet\n",
      "Reading instance file: ../Cleaning & Preparation/Staged Cleaning Data/Stage 2/Label_4/Instance_949.parquet\n",
      "Reading instance file: ../Cleaning & Preparation/Staged Cleaning Data/Stage 2/Label_4/Instance_831.parquet\n",
      "Reading instance file: ../Cleaning & Preparation/Staged Cleaning Data/Stage 2/Label_4/Instance_1031.parquet\n",
      "Reading instance file: ../Cleaning & Preparation/Staged Cleaning Data/Stage 2/Label_4/Instance_719.parquet\n",
      "Reading instance file: ../Cleaning & Preparation/Staged Cleaning Data/Stage 2/Label_4/Instance_1021.parquet\n",
      "Reading instance file: ../Cleaning & Preparation/Staged Cleaning Data/Stage 2/Label_4/Instance_904.parquet\n",
      "Reading instance file: ../Cleaning & Preparation/Staged Cleaning Data/Stage 2/Label_4/Instance_914.parquet\n",
      "Reading instance file: ../Cleaning & Preparation/Staged Cleaning Data/Stage 2/Label_4/Instance_966.parquet\n",
      "Reading instance file: ../Cleaning & Preparation/Staged Cleaning Data/Stage 2/Label_4/Instance_976.parquet\n",
      "Reading instance file: ../Cleaning & Preparation/Staged Cleaning Data/Stage 2/Label_4/Instance_1053.parquet\n",
      "Reading instance file: ../Cleaning & Preparation/Staged Cleaning Data/Stage 2/Label_4/Instance_1043.parquet\n",
      "Reading instance file: ../Cleaning & Preparation/Staged Cleaning Data/Stage 2/Label_4/Instance_993.parquet\n",
      "Reading instance file: ../Cleaning & Preparation/Staged Cleaning Data/Stage 2/Label_4/Instance_983.parquet\n",
      "Reading instance file: ../Cleaning & Preparation/Staged Cleaning Data/Stage 2/Label_4/Instance_727.parquet\n",
      "Reading instance file: ../Cleaning & Preparation/Staged Cleaning Data/Stage 2/Label_4/Instance_737.parquet\n",
      "Reading instance file: ../Cleaning & Preparation/Staged Cleaning Data/Stage 2/Label_4/Instance_852.parquet\n",
      "Reading instance file: ../Cleaning & Preparation/Staged Cleaning Data/Stage 2/Label_4/Instance_842.parquet\n",
      "Reading instance file: ../Cleaning & Preparation/Staged Cleaning Data/Stage 2/Label_4/Instance_830.parquet\n",
      "Reading instance file: ../Cleaning & Preparation/Staged Cleaning Data/Stage 2/Label_4/Instance_948.parquet\n",
      "Reading instance file: ../Cleaning & Preparation/Staged Cleaning Data/Stage 2/Label_4/Instance_820.parquet\n",
      "Reading instance file: ../Cleaning & Preparation/Staged Cleaning Data/Stage 2/Label_4/Instance_958.parquet\n",
      "Reading instance file: ../Cleaning & Preparation/Staged Cleaning Data/Stage 2/Label_4/Instance_745.parquet\n",
      "Reading instance file: ../Cleaning & Preparation/Staged Cleaning Data/Stage 2/Label_4/Instance_755.parquet\n",
      "Reading instance file: ../Cleaning & Preparation/Staged Cleaning Data/Stage 2/Label_4/Instance_889.parquet\n",
      "Reading instance file: ../Cleaning & Preparation/Staged Cleaning Data/Stage 2/Label_4/Instance_899.parquet\n",
      "Reading instance file: ../Cleaning & Preparation/Staged Cleaning Data/Stage 2/Label_4/Instance_915.parquet\n",
      "Reading instance file: ../Cleaning & Preparation/Staged Cleaning Data/Stage 2/Label_4/Instance_905.parquet\n",
      "Reading instance file: ../Cleaning & Preparation/Staged Cleaning Data/Stage 2/Label_4/Instance_718.parquet\n",
      "Reading instance file: ../Cleaning & Preparation/Staged Cleaning Data/Stage 2/Label_4/Instance_1020.parquet\n",
      "Reading instance file: ../Cleaning & Preparation/Staged Cleaning Data/Stage 2/Label_4/Instance_1030.parquet\n",
      "Reading instance file: ../Cleaning & Preparation/Staged Cleaning Data/Stage 2/Label_4/Instance_1042.parquet\n",
      "Reading instance file: ../Cleaning & Preparation/Staged Cleaning Data/Stage 2/Label_4/Instance_1052.parquet\n",
      "Reading instance file: ../Cleaning & Preparation/Staged Cleaning Data/Stage 2/Label_4/Instance_977.parquet\n",
      "Reading instance file: ../Cleaning & Preparation/Staged Cleaning Data/Stage 2/Label_4/Instance_967.parquet\n",
      "Reading instance file: ../Cleaning & Preparation/Staged Cleaning Data/Stage 2/Label_4/Instance_829.parquet\n",
      "Reading instance file: ../Cleaning & Preparation/Staged Cleaning Data/Stage 2/Label_4/Instance_951.parquet\n",
      "Reading instance file: ../Cleaning & Preparation/Staged Cleaning Data/Stage 2/Label_4/Instance_839.parquet\n",
      "Reading instance file: ../Cleaning & Preparation/Staged Cleaning Data/Stage 2/Label_4/Instance_941.parquet\n",
      "Reading instance file: ../Cleaning & Preparation/Staged Cleaning Data/Stage 2/Label_4/Instance_890.parquet\n",
      "Reading instance file: ../Cleaning & Preparation/Staged Cleaning Data/Stage 2/Label_4/Instance_880.parquet\n",
      "Reading instance file: ../Cleaning & Preparation/Staged Cleaning Data/Stage 2/Label_4/Instance_1006.parquet\n",
      "Reading instance file: ../Cleaning & Preparation/Staged Cleaning Data/Stage 2/Label_4/Instance_1016.parquet\n",
      "Reading instance file: ../Cleaning & Preparation/Staged Cleaning Data/Stage 2/Label_4/Instance_933.parquet\n",
      "Reading instance file: ../Cleaning & Preparation/Staged Cleaning Data/Stage 2/Label_4/Instance_923.parquet\n",
      "Reading instance file: ../Cleaning & Preparation/Staged Cleaning Data/Stage 2/Label_4/Instance_787.parquet\n",
      "Reading instance file: ../Cleaning & Preparation/Staged Cleaning Data/Stage 2/Label_4/Instance_797.parquet\n",
      "Reading instance file: ../Cleaning & Preparation/Staged Cleaning Data/Stage 2/Label_4/Instance_763.parquet\n",
      "Reading instance file: ../Cleaning & Preparation/Staged Cleaning Data/Stage 2/Label_4/Instance_773.parquet\n",
      "Reading instance file: ../Cleaning & Preparation/Staged Cleaning Data/Stage 2/Label_4/Instance_816.parquet\n",
      "Reading instance file: ../Cleaning & Preparation/Staged Cleaning Data/Stage 2/Label_4/Instance_806.parquet\n",
      "Reading instance file: ../Cleaning & Preparation/Staged Cleaning Data/Stage 2/Label_4/Instance_874.parquet\n",
      "Reading instance file: ../Cleaning & Preparation/Staged Cleaning Data/Stage 2/Label_4/Instance_864.parquet\n",
      "Reading instance file: ../Cleaning & Preparation/Staged Cleaning Data/Stage 2/Label_4/Instance_1039.parquet\n",
      "Reading instance file: ../Cleaning & Preparation/Staged Cleaning Data/Stage 2/Label_4/Instance_711.parquet\n",
      "Reading instance file: ../Cleaning & Preparation/Staged Cleaning Data/Stage 2/Label_4/Instance_1029.parquet\n",
      "Reading instance file: ../Cleaning & Preparation/Staged Cleaning Data/Stage 2/Label_5/Instance_1109.parquet\n",
      "Reading instance file: ../Cleaning & Preparation/Staged Cleaning Data/Stage 2/Label_5/Instance_1110.parquet\n",
      "Reading instance file: ../Cleaning & Preparation/Staged Cleaning Data/Stage 2/Label_5/Instance_1111.parquet\n",
      "Reading instance file: ../Cleaning & Preparation/Staged Cleaning Data/Stage 2/Label_5/Instance_1118.parquet\n",
      "Reading instance file: ../Cleaning & Preparation/Staged Cleaning Data/Stage 2/Label_5/Instance_1108.parquet\n",
      "Reading instance file: ../Cleaning & Preparation/Staged Cleaning Data/Stage 2/Label_5/Instance_1113.parquet\n",
      "Reading instance file: ../Cleaning & Preparation/Staged Cleaning Data/Stage 2/Label_5/Instance_1112.parquet\n",
      "Reading instance file: ../Cleaning & Preparation/Staged Cleaning Data/Stage 2/Label_5/Instance_1117.parquet\n",
      "Reading instance file: ../Cleaning & Preparation/Staged Cleaning Data/Stage 2/Label_5/Instance_1116.parquet\n",
      "Reading instance file: ../Cleaning & Preparation/Staged Cleaning Data/Stage 2/Label_5/Instance_1114.parquet\n",
      "Reading instance file: ../Cleaning & Preparation/Staged Cleaning Data/Stage 2/Label_5/Instance_1115.parquet\n",
      "Reading instance file: ../Cleaning & Preparation/Staged Cleaning Data/Stage 2/Label_2/Instance_1095.parquet\n",
      "Reading instance file: ../Cleaning & Preparation/Staged Cleaning Data/Stage 2/Label_2/Instance_1100.parquet\n",
      "Reading instance file: ../Cleaning & Preparation/Staged Cleaning Data/Stage 2/Label_2/Instance_1101.parquet\n",
      "Reading instance file: ../Cleaning & Preparation/Staged Cleaning Data/Stage 2/Label_2/Instance_1094.parquet\n",
      "Reading instance file: ../Cleaning & Preparation/Staged Cleaning Data/Stage 2/Label_2/Instance_1103.parquet\n",
      "Reading instance file: ../Cleaning & Preparation/Staged Cleaning Data/Stage 2/Label_2/Instance_1096.parquet\n",
      "Reading instance file: ../Cleaning & Preparation/Staged Cleaning Data/Stage 2/Label_2/Instance_1086.parquet\n",
      "Reading instance file: ../Cleaning & Preparation/Staged Cleaning Data/Stage 2/Label_2/Instance_1087.parquet\n",
      "Reading instance file: ../Cleaning & Preparation/Staged Cleaning Data/Stage 2/Label_2/Instance_1097.parquet\n",
      "Reading instance file: ../Cleaning & Preparation/Staged Cleaning Data/Stage 2/Label_2/Instance_1102.parquet\n",
      "Reading instance file: ../Cleaning & Preparation/Staged Cleaning Data/Stage 2/Label_2/Instance_1107.parquet\n",
      "Reading instance file: ../Cleaning & Preparation/Staged Cleaning Data/Stage 2/Label_2/Instance_1092.parquet\n",
      "Reading instance file: ../Cleaning & Preparation/Staged Cleaning Data/Stage 2/Label_2/Instance_1093.parquet\n",
      "Reading instance file: ../Cleaning & Preparation/Staged Cleaning Data/Stage 2/Label_2/Instance_1106.parquet\n",
      "Reading instance file: ../Cleaning & Preparation/Staged Cleaning Data/Stage 2/Label_2/Instance_1091.parquet\n",
      "Reading instance file: ../Cleaning & Preparation/Staged Cleaning Data/Stage 2/Label_2/Instance_1104.parquet\n",
      "Reading instance file: ../Cleaning & Preparation/Staged Cleaning Data/Stage 2/Label_2/Instance_1088.parquet\n",
      "Reading instance file: ../Cleaning & Preparation/Staged Cleaning Data/Stage 2/Label_2/Instance_1098.parquet\n",
      "Reading instance file: ../Cleaning & Preparation/Staged Cleaning Data/Stage 2/Label_2/Instance_1105.parquet\n",
      "Reading instance file: ../Cleaning & Preparation/Staged Cleaning Data/Stage 2/Label_2/Instance_1099.parquet\n",
      "Reading instance file: ../Cleaning & Preparation/Staged Cleaning Data/Stage 2/Label_2/Instance_1089.parquet\n",
      "Reading instance file: ../Cleaning & Preparation/Staged Cleaning Data/Stage 2/Label_2/Instance_1090.parquet\n",
      "Dropping VOID columns: ['QBS', 'P-MON-SDV-P', 'P-JUS-BS', 'PT-P']\n",
      "Saving combined dataset to: ../Cleaning & Preparation/Staged Cleaning Data/Stage 3/real_instances_clean.parquet\n"
     ]
    },
    {
     "name": "stderr",
     "output_type": "stream",
     "text": [
      "24/11/27 02:44:35 WARN DAGScheduler: Broadcasting large task binary with size 19.6 MiB\n",
      "                                                                                \r"
     ]
    },
    {
     "name": "stdout",
     "output_type": "stream",
     "text": [
      "Combined dataset saved successfully at: ../Cleaning & Preparation/Staged Cleaning Data/Stage 3/real_instances_clean.parquet\n"
     ]
    }
   ],
   "source": [
    "### Combine Partitioned Data\n",
    "def combine_partitioned_data_with_aligned_schema(base_path: str, original_df: DataFrame, output_file: str):\n",
    "    \"\"\"\n",
    "    Combines partitioned Parquet files into a single dataset while aligning schemas.\n",
    "\n",
    "    Parameters:\n",
    "        base_path (str): Directory containing partitioned Parquet files.\n",
    "        original_df (DataFrame): Original DataFrame to infer the schema.\n",
    "        output_file (str): Path to save the combined dataset.\n",
    "\n",
    "    Returns:\n",
    "        DataFrame: Combined Spark DataFrame.\n",
    "    \"\"\"\n",
    "    try:\n",
    "        # Define the full schema (original schema + target column)\n",
    "        full_schema = original_df.schema\n",
    "        full_schema_fields = set(col.name for col in full_schema.fields)\n",
    "        full_schema_fields.add(\"target\")  # Ensure the 'target' column is included\n",
    "\n",
    "        combined_df = None\n",
    "        print(f\"Traversing base path: {base_path}\")\n",
    "        \n",
    "        for label_dir in os.listdir(base_path):\n",
    "            label_path = os.path.join(base_path, label_dir)\n",
    "            if not os.path.isdir(label_path):\n",
    "                continue\n",
    "\n",
    "            for instance_file in os.listdir(label_path):\n",
    "                instance_path = os.path.join(label_path, instance_file)\n",
    "                if not instance_path.endswith(\".parquet\"):\n",
    "                    continue\n",
    "                \n",
    "                try:\n",
    "                    instance_df = spark.read.parquet(instance_path)\n",
    "                    print(f\"Reading instance file: {instance_path}\")\n",
    "                    \n",
    "                    # Align schema: Add missing columns with null values\n",
    "                    instance_fields = set(instance_df.columns)\n",
    "                    for col_name in full_schema_fields - instance_fields:\n",
    "                        instance_df = instance_df.withColumn(col_name, lit(None))\n",
    "                    \n",
    "                    instance_df = instance_df.select(*full_schema_fields)\n",
    "\n",
    "                    # Combine with the existing DataFrame\n",
    "                    if combined_df is None:\n",
    "                        combined_df = instance_df\n",
    "                    else:\n",
    "                        combined_df = combined_df.union(instance_df)\n",
    "\n",
    "                except Exception as e:\n",
    "                    print(f\"Error reading {instance_path}: {type(e).__name__}: {e}\")\n",
    "                    continue\n",
    "\n",
    "        # Drop VOID columns\n",
    "        if combined_df is not None:\n",
    "            void_columns = [col_name for col_name, dtype in combined_df.dtypes if dtype == \"void\"]\n",
    "            if void_columns:\n",
    "                print(f\"Dropping VOID columns: {void_columns}\")\n",
    "                combined_df = combined_df.drop(*void_columns)\n",
    "\n",
    "\n",
    "            # Save the combined dataset\n",
    "            print(f\"Saving combined dataset to: {output_file}\")\n",
    "            os.makedirs(os.path.dirname(output_file), exist_ok=True)\n",
    "            combined_df.write.mode(\"overwrite\").parquet(output_file)\n",
    "            print(f\"Combined dataset saved successfully at: {output_file}\")\n",
    "\n",
    "        else:\n",
    "            print(\"No data to combine. Ensure the directory structure is correct and contains Parquet files.\")\n",
    "\n",
    "        return combined_df\n",
    "\n",
    "    except Exception as e:\n",
    "        print(f\"Error combining partitioned data: {type(e).__name__}: {e}\")\n",
    "        return None\n",
    "\n",
    "# Combine Partitioned Data\n",
    "combined_df_real = combine_partitioned_data_with_aligned_schema(\n",
    "    os.path.join(STAGED_DATA_PATH, \"Stage 2\"),\n",
    "    spark_df_real,\n",
    "    os.path.join(STAGED_DATA_PATH, \"Stage 3\", \"real_instances_clean.parquet\")\n",
    ")"
   ]
  },
  {
   "cell_type": "code",
   "execution_count": null,
   "metadata": {},
   "outputs": [
    {
     "name": "stderr",
     "output_type": "stream",
     "text": [
      "24/11/27 02:58:24 WARN SharedInMemoryCache: Evicting cached table partition metadata from memory due to size constraints (spark.sql.hive.filesourcePartitionFileCacheSize = 262144000 bytes). This may impact query planning performance.\n"
     ]
    }
   ],
   "source": [
    "# Stage 3 Combined Clean by Instance Dataset Path\n",
    "df_clean = spark.read.parquet(os.path.join(STAGED_DATA_PATH, \"Stage 3\", \"real_instances_clean.parquet\"))"
   ]
  },
  {
   "cell_type": "code",
   "execution_count": null,
   "metadata": {},
   "outputs": [],
   "source": [
    "# Add Missingness Indicators\n",
    "def create_missingness_columns(df, feature_names):\n",
    "    \"\"\"\n",
    "    Adds missingness indicator columns for each feature in the dataset.\n",
    "\n",
    "    Parameters:\n",
    "        df (DataFrame): Input Spark DataFrame.\n",
    "        feature_names (list): List of feature columns to process.\n",
    "\n",
    "    Returns:\n",
    "        DataFrame: Spark DataFrame with missingness indicator columns added.\n",
    "    \"\"\"\n",
    "    for feature in feature_names:\n",
    "        missing_indicator = f\"{feature}_missing\"\n",
    "        df = df.withColumn(\n",
    "            missing_indicator, when(col(feature).isNull(), lit(1)).otherwise(lit(0))\n",
    "        )\n",
    "    return df\n",
    "\n",
    "df_with_missingness = create_missingness_columns(df_clean, feature_names)"
   ]
  },
  {
   "cell_type": "code",
   "execution_count": null,
   "metadata": {},
   "outputs": [
    {
     "name": "stderr",
     "output_type": "stream",
     "text": [
      "                                                                                \r"
     ]
    }
   ],
   "source": [
    "# Impute Continuous Features\n",
    "def impute_continuous_features(df, features_continuous, strategy=\"mean\"):\n",
    "    \"\"\"\n",
    "    Imputes missing values in continuous features using the specified strategy.\n",
    "\n",
    "    Parameters:\n",
    "        df (DataFrame): Input Spark DataFrame.\n",
    "        features_continuous (list): List of continuous feature columns to impute.\n",
    "        strategy (str): Imputation strategy (\"mean\" or \"median\").\n",
    "\n",
    "    Returns:\n",
    "        DataFrame: Spark DataFrame with imputed continuous features.\n",
    "    \"\"\"\n",
    "    for feature in features_continuous:\n",
    "        if strategy == \"mean\":\n",
    "            imputed_value = df.select(mean(col(feature))).first()[0]\n",
    "        elif strategy == \"median\":\n",
    "            imputed_value = (\n",
    "                df.approxQuantile(feature, [0.5], 0.01)[0]\n",
    "                if df.select(col(feature)).dropna().count() > 0\n",
    "                else None\n",
    "            )\n",
    "        else:\n",
    "            raise ValueError(\"Unsupported strategy. Use 'mean' or 'median'.\")\n",
    "\n",
    "        if imputed_value is not None:\n",
    "            df = df.withColumn(\n",
    "                feature, when(col(feature).isNull(), lit(imputed_value)).otherwise(col(feature))\n",
    "            )\n",
    "    return df\n",
    "\n",
    "df_imputed_continuous = impute_continuous_features(df_with_missingness, features_continuous, strategy=\"mean\")"
   ]
  },
  {
   "cell_type": "code",
   "execution_count": null,
   "metadata": {},
   "outputs": [
    {
     "name": "stderr",
     "output_type": "stream",
     "text": [
      "                                                                                \r"
     ]
    }
   ],
   "source": [
    "# Impute Categorical Features\n",
    "def impute_categorical_features(df, features_categorical):\n",
    "    \"\"\"\n",
    "    Imputes missing values in categorical features using the mode (most frequent value).\n",
    "\n",
    "    Parameters:\n",
    "        df (DataFrame): Input Spark DataFrame.\n",
    "        features_categorical (list): List of categorical feature columns to impute.\n",
    "\n",
    "    Returns:\n",
    "        DataFrame: Spark DataFrame with imputed categorical features.\n",
    "    \"\"\"\n",
    "    for feature in features_categorical:\n",
    "        mode_value = (\n",
    "            df.filter(col(feature).isNotNull())\n",
    "              .groupBy(feature)\n",
    "              .agg(count(\"*\").alias(\"freq\"))\n",
    "              .orderBy(col(\"freq\").desc())\n",
    "              .select(feature)\n",
    "              .first()[0]\n",
    "        )\n",
    "        if mode_value is not None:\n",
    "            df = df.withColumn(\n",
    "                feature, when(col(feature).isNull(), lit(mode_value)).otherwise(col(feature))\n",
    "            )\n",
    "    return df\n",
    "\n",
    "df_clean = impute_categorical_features(df_imputed_continuous, features_categorical)"
   ]
  },
  {
   "cell_type": "code",
   "execution_count": null,
   "metadata": {},
   "outputs": [
    {
     "name": "stderr",
     "output_type": "stream",
     "text": [
      "                                                                                \r"
     ]
    }
   ],
   "source": [
    "# Save Cleaned Dataset\n",
    "cleaned_dataset_path = os.path.join(CLEANED_DATA_PATH, \"cleaned_data.parquet\")\n",
    "df_clean.write.parquet(cleaned_dataset_path, mode=\"overwrite\")"
   ]
  },
  {
   "cell_type": "markdown",
   "metadata": {},
   "source": [
    "# Split Data"
   ]
  },
  {
   "cell_type": "code",
   "execution_count": null,
   "metadata": {},
   "outputs": [],
   "source": [
    "### Data Splitting into Train and Test Sets\n",
    "def split_data(df, train_ratio=0.8):\n",
    "    \"\"\"\n",
    "    Splits the DataFrame into train and test sets based on 'Instance', ensuring no overlap.\n",
    "    \"\"\"\n",
    "    # Get distinct instances\n",
    "    instances_df = df.select(\"Instance\", \"label\").distinct()\n",
    "    \n",
    "    # Assign a random number to each instance\n",
    "    instances_df = instances_df.withColumn(\"rand\", rand(seed=42))\n",
    "    \n",
    "    # Handle labels with low number of instances\n",
    "    window = Window.partitionBy(\"label\").orderBy(\"rand\")\n",
    "    instances_df = instances_df.withColumn(\"row_number\", row_number().over(window))\n",
    "    instances_df = instances_df.withColumn(\"total_instances\", F.count(\"*\").over(Window.partitionBy(\"label\")))\n",
    "    \n",
    "    # Define train and test indices\n",
    "    instances_df = instances_df.withColumn(\n",
    "        \"split\",\n",
    "        when(\n",
    "            (col(\"total_instances\") > 4) & (col(\"row_number\") <= col(\"total_instances\") * train_ratio),\n",
    "            \"train\"\n",
    "        ).when(\n",
    "            (col(\"total_instances\") > 4),\n",
    "            \"test\"\n",
    "        ).when(\n",
    "            (col(\"total_instances\") <= 4) & (col(\"row_number\") < col(\"total_instances\")),\n",
    "            \"train\"\n",
    "        ).otherwise(\"test\")\n",
    "    )\n",
    "    \n",
    "    # Extract train and test instances\n",
    "    train_instances = instances_df.filter(col(\"split\") == \"train\").select(\"Instance\")\n",
    "    test_instances = instances_df.filter(col(\"split\") == \"test\").select(\"Instance\")\n",
    "    \n",
    "    # Join back to the main DataFrame\n",
    "    train_df = df.join(train_instances, on=\"Instance\", how=\"inner\")\n",
    "    test_df = df.join(test_instances, on=\"Instance\", how=\"inner\")\n",
    "    \n",
    "    return train_df, test_df\n",
    "\n",
    "df_clean = spark.read.parquet(os.path.join(CLEANED_DATA_PATH, \"cleaned_data.parquet\"))\n",
    "train_df, test_df = split_data(df_clean)"
   ]
  },
  {
   "cell_type": "code",
   "execution_count": null,
   "metadata": {},
   "outputs": [
    {
     "name": "stderr",
     "output_type": "stream",
     "text": [
      "24/11/27 08:03:42 WARN SparkStringUtils: Truncated the string representation of a plan since it was too large. This behavior can be adjusted by setting 'spark.sql.debug.maxToStringFields'.\n",
      "                                                                                \r"
     ]
    }
   ],
   "source": [
    "# Save Train and Test Data\n",
    "train_data_path = os.path.join(TRAIN_TEST_DATA_PATH, \"train_data.parquet\")\n",
    "test_data_path = os.path.join(TRAIN_TEST_DATA_PATH, \"test_data.parquet\")\n",
    "\n",
    "train_df.write.parquet(train_data_path, mode=\"overwrite\")\n",
    "test_df.write.parquet(test_data_path, mode=\"overwrite\")"
   ]
  },
  {
   "cell_type": "code",
   "execution_count": null,
   "metadata": {},
   "outputs": [
    {
     "name": "stderr",
     "output_type": "stream",
     "text": [
      "                                                                                \r"
     ]
    },
    {
     "name": "stdout",
     "output_type": "stream",
     "text": [
      "No overlap in Instances between train and test sets.\n",
      "Train set counts per label:\n",
      "+-----+--------------+\n",
      "|label|instance_count|\n",
      "+-----+--------------+\n",
      "|    9|            45|\n",
      "|    3|            25|\n",
      "|    4|           274|\n",
      "|    6|             4|\n",
      "|    2|            17|\n",
      "|    7|            28|\n",
      "|    8|            11|\n",
      "|    5|             8|\n",
      "|    0|           475|\n",
      "|    1|             3|\n",
      "+-----+--------------+\n",
      "\n",
      "Test set counts per label:\n",
      "+-----+--------------+\n",
      "|label|instance_count|\n",
      "+-----+--------------+\n",
      "|    9|            12|\n",
      "|    3|             7|\n",
      "|    4|            69|\n",
      "|    6|             2|\n",
      "|    2|             5|\n",
      "|    7|             8|\n",
      "|    5|             3|\n",
      "|    8|             3|\n",
      "|    0|           119|\n",
      "|    1|             1|\n",
      "+-----+--------------+\n",
      "\n"
     ]
    }
   ],
   "source": [
    "### Verify Splits\n",
    "def verify_splits(train_df, test_df):\n",
    "    # Ensure no overlap in Instances\n",
    "    train_instances = train_df.select(\"Instance\").distinct()\n",
    "    test_instances = test_df.select(\"Instance\").distinct()\n",
    "    overlapping_instances = train_instances.intersect(test_instances)\n",
    "    overlap_count = overlapping_instances.count()\n",
    "    if overlap_count > 0:\n",
    "        print(f\"Overlap detected in Instances: {overlap_count}\")\n",
    "    else:\n",
    "        print(\"No overlap in Instances between train and test sets.\")\n",
    "\n",
    "    # Show counts per label\n",
    "    print(\"Train set counts per label:\")\n",
    "    train_df.groupBy(\"label\").agg(countDistinct(\"Instance\").alias(\"instance_count\")).show()\n",
    "    print(\"Test set counts per label:\")\n",
    "    test_df.groupBy(\"label\").agg(countDistinct(\"Instance\").alias(\"instance_count\")).show()\n",
    "\n",
    "train_df = spark.read.parquet(train_data_path)\n",
    "test_df = spark.read.parquet(test_data_path)\n",
    "verify_splits(train_df, test_df)"
   ]
  },
  {
   "cell_type": "markdown",
   "metadata": {},
   "source": [
    "# Scale Features"
   ]
  },
  {
   "cell_type": "code",
   "execution_count": null,
   "metadata": {},
   "outputs": [
    {
     "name": "stderr",
     "output_type": "stream",
     "text": [
      "                                                                                \r"
     ]
    }
   ],
   "source": [
    "### Apply Standard Scaler to Train and Test Data\n",
    "def scale_features(train_df, test_df, feature_names):\n",
    "    # Assemble features\n",
    "    assembler = VectorAssembler(inputCols=feature_names, outputCol=\"features_vector\", handleInvalid=\"skip\")\n",
    "    \n",
    "    # Fit scaler on training data\n",
    "    train_vectorized = assembler.transform(train_df)\n",
    "    scaler = StandardScaler(inputCol=\"features_vector\", outputCol=\"scaled_features\", withStd=True, withMean=True)\n",
    "    scaler_model = scaler.fit(train_vectorized)\n",
    "    train_scaled = scaler_model.transform(train_vectorized)\n",
    "    \n",
    "    # Apply scaler to test data\n",
    "    test_vectorized = assembler.transform(test_df)\n",
    "    test_scaled = scaler_model.transform(test_vectorized)\n",
    "    \n",
    "    # Convert scaled features to array and update feature columns\n",
    "    def extract_scaled_features(df):\n",
    "        df = df.withColumn(\"scaled_features_array\", vector_to_array(col(\"scaled_features\")))\n",
    "        for idx, feature in enumerate(feature_names):\n",
    "            df = df.withColumn(feature, col(\"scaled_features_array\")[idx])\n",
    "        return df\n",
    "    \n",
    "    train_scaled = extract_scaled_features(train_scaled)\n",
    "    test_scaled = extract_scaled_features(test_scaled)\n",
    "    \n",
    "    # Select relevant columns\n",
    "    columns_to_keep = [col_name for col_name in df_clean.columns if col_name not in feature_names] + feature_names\n",
    "    train_final_scaled = train_scaled.select(*columns_to_keep)\n",
    "    test_final_scaled = test_scaled.select(*columns_to_keep)\n",
    "    \n",
    "    return train_final_scaled, test_final_scaled, scaler_model\n",
    "\n",
    "train_final_scaled, test_final_scaled, scaler_model = scale_features(train_df, test_df, feature_names)"
   ]
  },
  {
   "cell_type": "code",
   "execution_count": null,
   "metadata": {},
   "outputs": [],
   "source": [
    "# save the scaler model\n",
    "scaler_model_path = os.path.join(BASE_DIR, \"scaler_model\")\n",
    "scaler_model.write().overwrite().save(scaler_model_path)"
   ]
  },
  {
   "cell_type": "code",
   "execution_count": null,
   "metadata": {},
   "outputs": [
    {
     "name": "stderr",
     "output_type": "stream",
     "text": [
      "                                                                                \r"
     ]
    }
   ],
   "source": [
    "### Save Scaled Data\n",
    "scaled_train_path = os.path.join(SCALED_DATA_PATH, \"scaled_train_data.parquet\")\n",
    "scaled_test_path = os.path.join(SCALED_DATA_PATH, \"scaled_test_data.parquet\")\n",
    "\n",
    "train_final_scaled.write.mode(\"overwrite\").parquet(scaled_train_path)\n",
    "test_final_scaled.write.mode(\"overwrite\").parquet(scaled_test_path)"
   ]
  },
  {
   "cell_type": "code",
   "execution_count": null,
   "metadata": {},
   "outputs": [],
   "source": [
    "### End Spark Session\n",
    "spark.stop()"
   ]
  },
  {
   "cell_type": "code",
   "execution_count": null,
   "metadata": {},
   "outputs": [],
   "source": []
  }
 ],
 "metadata": {
  "kernelspec": {
   "display_name": "pyspark_env",
   "language": "python",
   "name": "python3"
  },
  "language_info": {
   "codemirror_mode": {
    "name": "ipython",
    "version": 3
   },
   "file_extension": ".py",
   "mimetype": "text/x-python",
   "name": "python",
   "nbconvert_exporter": "python",
   "pygments_lexer": "ipython3",
   "version": "3.12.7"
  }
 },
 "nbformat": 4,
 "nbformat_minor": 2
}
