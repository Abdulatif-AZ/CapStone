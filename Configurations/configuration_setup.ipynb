{
 "cells": [
  {
   "cell_type": "markdown",
   "metadata": {},
   "source": [
    "# Capston Project: Environment Setup and Instructions\n",
    "\n",
    "This repository contains Jupyter notebooks and configurations for processing and analyzing 3W datasets. To ensure smooth execution, Conda environments are provided for each set of notebooks. Follow the instructions below to set up the environments and associate them with the correct files."
   ]
  },
  {
   "cell_type": "markdown",
   "metadata": {},
   "source": [
    "## **Environments Overview**\n",
    "\n",
    "1. **`3w_env.yml`**:\n",
    "   - **Location**: `Configurations/3w_env.yml`\n",
    "   - **Purpose**: Supports the `3W_Data_Extraction.ipynb` notebook.\n",
    "\n",
    "2. **`pyspark_env.yml`**:\n",
    "   - **Location**: `Configurations/pyspark_env.yml`\n",
    "   - **Purpose**: Supports the following notebooks:\n",
    "     - `EDA/3W_Real.ipynb`\n",
    "     - `Cleaning & Preparation/3W_Real_Cleaning_Preparation.ipynb`\n",
    "     - `ML/Attempts/3W_PySpark_MLlib_Binary_by_label.ipynb`\n",
    "     - `ML/Attempts/3W_PySpark_MLlib_MultiClassification.ipynb`\n",
    "     - `ML/3W_PySpark_MLlib_Stacked_Model.ipynb`"
   ]
  },
  {
   "cell_type": "markdown",
   "metadata": {},
   "source": [
    "## **Setup Instructions**"
   ]
  },
  {
   "cell_type": "markdown",
   "metadata": {},
   "source": [
    "### 1. Clone the Repositories \n",
    "\n",
    "Clone both repositories to your local machine and ensure that they are both saved in the same directory:\n",
    "\n",
    "Capstone: https://github.com/Abdulatif-AZ/CapStone  \n",
    "3W Petrobras: https://github.com/petrobras/3W\n",
    "\n",
    "```bash\n",
    "git clone <repository_url>\n",
    "cd <repository_name>\n",
    "```"
   ]
  },
  {
   "cell_type": "markdown",
   "metadata": {},
   "source": [
    "### 2. Install Conda (if not already installed)\n",
    "\n",
    "Download and install Conda from the [official Conda website](https://docs.conda.io/projects/conda/en/latest/user-guide/install/index.html)."
   ]
  },
  {
   "cell_type": "markdown",
   "metadata": {},
   "source": [
    "### 3. Install Java for PySpark\n",
    "\n",
    "The `pyspark_env` environment requires Java. Use one of the following methods to install Java:"
   ]
  },
  {
   "cell_type": "markdown",
   "metadata": {},
   "source": [
    "1. Download java from the [Java website](https://www.java.com/en/download/).  \n",
    "   - Ensure to download the appropriate version for your device.\n",
    "   ```\n",
    "2. Verify Java installation:  \n",
    "\n",
    "   ```bash\n",
    "   java -version\n",
    "   ```\n",
    "   This should display the installed Java version."
   ]
  },
  {
   "cell_type": "markdown",
   "metadata": {},
   "source": [
    "### 4. Create Conda Environments"
   ]
  },
  {
   "cell_type": "markdown",
   "metadata": {},
   "source": [
    "#### a. **Setting Up `3w_env`**\n",
    "\n",
    "This environment is required for the `Data/3W_Data_Extraction.ipynb` notebook.\n",
    "\n",
    "1. Navigate to the `Configurations` folder:\n",
    "   ```bash\n",
    "   cd Configurations\n",
    "   ```\n",
    "2. Create the environment from the `3w_env.yml` file:\n",
    "   ```bash\n",
    "   conda env create -f 3w_env.yml\n",
    "   ```\n",
    "3. Activate the environment:\n",
    "   ```bash\n",
    "   conda activate 3w_env\n",
    "   ```\n",
    "\n"
   ]
  },
  {
   "cell_type": "markdown",
   "metadata": {},
   "source": [
    "#### b. **Setting Up `pyspark_env`**\n",
    "\n",
    "This environment is required for notebooks in the `EDA`, `Cleaning & Preparation`, and `ML` directories.\n",
    "\n",
    "1. Navigate to the `Configurations` folder:\n",
    "   ```bash\n",
    "   cd Configurations\n",
    "   ```\n",
    "2. Create the environment from the `pyspark_env.yml` file:\n",
    "   ```bash\n",
    "   conda env create -f pyspark_env.yml\n",
    "   ```\n",
    "3. Activate the environment:\n",
    "   ```bash\n",
    "   conda activate pyspark_env\n",
    "   ```"
   ]
  },
  {
   "cell_type": "markdown",
   "metadata": {},
   "source": [
    "## **Notebook-Specific Instructions**\n",
    "\n",
    "Below is the mapping of environments to notebooks:\n",
    "\n",
    "| Notebook                                                                                  | Required Environment  |\n",
    "|-------------------------------------------------------------------------------------------|-----------------------|\n",
    "| `Data/3W_Data_Extraction.ipynb`                                                           | `3w_env`              |\n",
    "| `EDA/3W_Real.ipynb`                                                                       | `pyspark_env`         |\n",
    "| `Cleaning & Preparation/3W_Real_Cleaning_Preparation.ipynb`                               | `pyspark_env`         |\n",
    "| `ML/Attempts/3W_PySpark_MLlib_Binary_by_label.ipynb`                                      | `pyspark_env`         |\n",
    "| `ML/Attempts/3W_PySpark_MLlib_MultiClassification.ipynb`                                  | `pyspark_env`         |\n",
    "| `ML/3W_PySpark_MLlib_Stacked_Model.ipynb`                                                 | `pyspark_env`         |\n",
    "\n"
   ]
  },
  {
   "cell_type": "markdown",
   "metadata": {},
   "source": [
    "## **Verifying Setup**\n",
    "\n",
    "After activating the appropriate environment, verify that the required packages are installed:\n",
    "```bash\n",
    "conda list\n",
    "```\n",
    "\n",
    "If any required package is missing, install it using:\n",
    "```bash\n",
    "conda install <package_name>\n",
    "```"
   ]
  },
  {
   "cell_type": "markdown",
   "metadata": {},
   "source": [
    "## **Running the Notebooks**\n",
    "\n",
    "1. Activate the correct environment based on the notebook:\n",
    "   - For `3w_env`: `conda activate 3w_env`\n",
    "   - For `pyspark_env`: `conda activate pyspark_env`\n",
    "2. Start Jupyter Notebook:\n",
    "   ```bash\n",
    "   jupyter notebook\n",
    "   ```\n",
    "3. Navigate to the required notebook and run it."
   ]
  },
  {
   "cell_type": "markdown",
   "metadata": {},
   "source": [
    "## **Troubleshooting**\n",
    "\n",
    "### Environment Issues\n",
    "\n",
    "- **Environment Not Found**: Ensure the correct Conda base is activated. If multiple Conda installations exist, explicitly specify the Conda binary path, e.g.:\n",
    "  ```bash\n",
    "  /path/to/conda/bin/conda env create -f <environment_file.yml>\n",
    "  ```\n",
    "- **Missing Packages**: Update the environment or install missing packages:\n",
    "  ```bash\n",
    "  conda env update -f <environment_file.yml>\n",
    "  conda install <package_name>\n",
    "  ```\n",
    "\n",
    "### Common Errors\n",
    "\n",
    "- **Java Not Found**: Ensure Java is installed and the `JAVA_HOME` environment variable is correctly configured.\n",
    "- **Dependency Issues**: Run the following commands to resolve dependency conflicts:\n",
    "  ```bash\n",
    "  conda update conda\n",
    "  conda update --all\n",
    "  ```"
   ]
  }
 ],
 "metadata": {
  "kernelspec": {
   "display_name": "base",
   "language": "python",
   "name": "python3"
  },
  "language_info": {
   "name": "python",
   "version": "3.12.7"
  }
 },
 "nbformat": 4,
 "nbformat_minor": 2
}
