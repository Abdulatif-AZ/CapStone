{
 "cells": [
  {
   "cell_type": "markdown",
   "metadata": {},
   "source": [
    "# Capston Project: Environment Setup and Instructions\n",
    "\n",
    "This repository contains Jupyter notebooks and configurations for processing and analyzing 3W datasets. To ensure smooth execution, Conda environments are provided for each set of notebooks. Follow the instructions below to set up the environments and associate them with the correct files."
   ]
  },
  {
   "cell_type": "markdown",
   "metadata": {},
   "source": [
    "## **Environments Overview**\n",
    "\n",
    "1. **`3w_env.yml`**:\n",
    "   - **Location**: `Configurations/3w_env.yml`\n",
    "   - **Purpose**: Supports the `3W_Data_Extraction.ipynb` notebook.\n",
    "\n",
    "2. **`pyspark_env.yml`**:\n",
    "   - **Location**: `Configurations/pyspark_env.yml`\n",
    "   - **Purpose**: Supports the following notebooks:\n",
    "     - `EDA/3W_Real.ipynb`\n",
    "     - `Cleaning & Preparation/3W_Real_Cleaning_Preparation.ipynb`\n",
    "     - `ML/3W_PySpark_MLlib_Binary_by_label.ipynb`\n",
    "     - `ML/3W_PySpark_MLlib_MultiClassification.ipynb`\n",
    "     - `ML/3W_PySpark_MLlib_Stacked_Model.ipynb`"
   ]
  },
  {
   "cell_type": "markdown",
   "metadata": {},
   "source": [
    "## **Setup Instructions**"
   ]
  },
  {
   "cell_type": "markdown",
   "metadata": {},
   "source": [
    "### 1. Clone the Repository\n",
    "\n",
    "Clone the repository to your local machine:\n",
    "```bash\n",
    "git clone <repository_url>\n",
    "cd <repository_name>\n",
    "```"
   ]
  },
  {
   "cell_type": "markdown",
   "metadata": {},
   "source": [
    "### 2. Install Conda (if not already installed)\n",
    "\n",
    "Download and install Conda from the [official Conda website](https://docs.conda.io/projects/conda/en/latest/user-guide/install/index.html)."
   ]
  },
  {
   "cell_type": "markdown",
   "metadata": {},
   "source": [
    "### 3. Install Java for PySpark\n",
    "\n",
    "The `pyspark_env` environment requires Java. Use one of the following methods to install Java:"
   ]
  },
  {
   "cell_type": "markdown",
   "metadata": {},
   "source": [
    "#### **Option 1: Using Homebrew (Preferred for macOS Users)**\n",
    "\n",
    "1. Check if Homebrew is installed:\n",
    "   ```bash\n",
    "   brew --version\n",
    "   ```\n",
    "   - If you see the version number, Homebrew is installed.\n",
    "   - If not, install Homebrew by running:\n",
    "     ```bash\n",
    "     /bin/bash -c \"$(curl -fsSL https://raw.githubusercontent.com/Homebrew/install/HEAD/install.sh)\"\n",
    "     ```\n",
    "     Then, add it to your `PATH`:\n",
    "     ```bash\n",
    "     echo 'eval \"$(/opt/homebrew/bin/brew shellenv)\"' >> ~/.zprofile\n",
    "     eval \"$(/opt/homebrew/bin/brew shellenv)\"\n",
    "     ```\n",
    "\n",
    "2. Install Java:\n",
    "   ```bash\n",
    "   brew install openjdk\n",
    "   ```\n",
    "\n",
    "3. Set the `JAVA_HOME` environment variable:\n",
    "   ```bash\n",
    "   echo 'export JAVA_HOME=\"/usr/local/opt/openjdk/libexec/openjdk.jdk/Contents/Home\"' >> ~/.zprofile\n",
    "   echo 'export PATH=\"$JAVA_HOME/bin:$PATH\"' >> ~/.zprofile\n",
    "   source ~/.zprofile\n",
    "   ```"
   ]
  },
  {
   "cell_type": "markdown",
   "metadata": {},
   "source": [
    "#### **Option 2: Without Homebrew (Direct Installation)**\n",
    "\n",
    "1. Download and install Java directly from the [OpenJDK website](https://openjdk.org/).\n",
    "   - Select the appropriate version for your operating system.\n",
    "\n",
    "2. After installation, set the `JAVA_HOME` environment variable:\n",
    "   - **MacOS/Linux**: Add the following to your `~/.bash_profile` or `~/.zshrc` file:\n",
    "     ```bash\n",
    "     export JAVA_HOME=<path_to_java_installation>\n",
    "     export PATH=\"$JAVA_HOME/bin:$PATH\"\n",
    "     ```\n",
    "     Replace `<path_to_java_installation>` with the installation path, e.g., `/Library/Java/JavaVirtualMachines/jdk-XX.jdk/Contents/Home`.\n",
    "\n",
    "   - **Windows**: Add the installation path to the `JAVA_HOME` environment variable and include `%JAVA_HOME%\\bin` in the `Path`.\n",
    "\n",
    "3. Verify Java installation:\n",
    "   ```bash\n",
    "   java -version\n",
    "   ```\n",
    "   This should display the installed Java version.\n",
    "\n"
   ]
  },
  {
   "cell_type": "markdown",
   "metadata": {},
   "source": [
    "### 4. Create Conda Environments"
   ]
  },
  {
   "cell_type": "markdown",
   "metadata": {},
   "source": [
    "#### a. **Setting Up `3w_env`**\n",
    "\n",
    "This environment is required for the `Data/3W_Data_Extraction.ipynb` notebook.\n",
    "\n",
    "1. Navigate to the `Configurations` folder:\n",
    "   ```bash\n",
    "   cd Configurations\n",
    "   ```\n",
    "2. Create the environment from the `3w_env.yml` file:\n",
    "   ```bash\n",
    "   conda env create -f 3w_env.yml\n",
    "   ```\n",
    "3. Activate the environment:\n",
    "   ```bash\n",
    "   conda activate 3w_env\n",
    "   ```\n",
    "\n"
   ]
  },
  {
   "cell_type": "markdown",
   "metadata": {},
   "source": [
    "#### b. **Setting Up `pyspark_env`**\n",
    "\n",
    "This environment is required for notebooks in the `EDA`, `Cleaning & Preparation`, and `ML` directories.\n",
    "\n",
    "1. Navigate to the `Configurations` folder:\n",
    "   ```bash\n",
    "   cd Configurations\n",
    "   ```\n",
    "2. Create the environment from the `pyspark_env.yml` file:\n",
    "   ```bash\n",
    "   conda env create -f pyspark_env.yml\n",
    "   ```\n",
    "3. Activate the environment:\n",
    "   ```bash\n",
    "   conda activate pyspark_env\n",
    "   ```"
   ]
  },
  {
   "cell_type": "markdown",
   "metadata": {},
   "source": [
    "## **Notebook-Specific Instructions**\n",
    "\n",
    "Below is the mapping of environments to notebooks:\n",
    "\n",
    "| Notebook                                                                                  | Required Environment  |\n",
    "|-------------------------------------------------------------------------------------------|-----------------------|\n",
    "| `Data/3W_Data_Extraction.ipynb`                                                           | `3w_env`              |\n",
    "| `EDA/3W_Real.ipynb`                                                                       | `pyspark_env`         |\n",
    "| `Cleaning & Preparation/3W_Real_Cleaning_Preparation.ipynb`                               | `pyspark_env`         |\n",
    "| `ML/3W_PySpark_MLlib_Binary_by_label.ipynb`                                               | `pyspark_env`         |\n",
    "| `ML/3W_PySpark_MLlib_MultiClassification.ipynb`                                           | `pyspark_env`         |\n",
    "| `ML/3W_PySpark_MLlib_Stacked_Model.ipynb`                                                 | `pyspark_env`         |\n",
    "\n"
   ]
  },
  {
   "cell_type": "markdown",
   "metadata": {},
   "source": [
    "## **Verifying Setup**\n",
    "\n",
    "After activating the appropriate environment, verify that the required packages are installed:\n",
    "```bash\n",
    "conda list\n",
    "```\n",
    "\n",
    "If any required package is missing, install it using:\n",
    "```bash\n",
    "conda install <package_name>\n",
    "```"
   ]
  },
  {
   "cell_type": "markdown",
   "metadata": {},
   "source": [
    "## **Running the Notebooks**\n",
    "\n",
    "1. Activate the correct environment based on the notebook:\n",
    "   - For `3w_env`: `conda activate 3w_env`\n",
    "   - For `pyspark_env`: `conda activate pyspark_env`\n",
    "2. Start Jupyter Notebook:\n",
    "   ```bash\n",
    "   jupyter notebook\n",
    "   ```\n",
    "3. Navigate to the required notebook and run it."
   ]
  },
  {
   "cell_type": "markdown",
   "metadata": {},
   "source": [
    "## **Troubleshooting**\n",
    "\n",
    "### Environment Issues\n",
    "\n",
    "- **Environment Not Found**: Ensure the correct Conda base is activated. If multiple Conda installations exist, explicitly specify the Conda binary path, e.g.:\n",
    "  ```bash\n",
    "  /path/to/conda/bin/conda env create -f <environment_file.yml>\n",
    "  ```\n",
    "- **Missing Packages**: Update the environment or install missing packages:\n",
    "  ```bash\n",
    "  conda env update -f <environment_file.yml>\n",
    "  conda install <package_name>\n",
    "  ```\n",
    "\n",
    "### Common Errors\n",
    "\n",
    "- **Java Not Found**: Ensure Java is installed and the `JAVA_HOME` environment variable is correctly configured.\n",
    "- **Dependency Issues**: Run the following commands to resolve dependency conflicts:\n",
    "  ```bash\n",
    "  conda update conda\n",
    "  conda update --all\n",
    "  ```"
   ]
  }
 ],
 "metadata": {
  "kernelspec": {
   "display_name": "base",
   "language": "python",
   "name": "python3"
  },
  "language_info": {
   "name": "python",
   "version": "3.12.7"
  }
 },
 "nbformat": 4,
 "nbformat_minor": 2
}
