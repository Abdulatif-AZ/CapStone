{
 "cells": [
  {
   "cell_type": "markdown",
   "metadata": {},
   "source": [
    "# 3W Real Dataset "
   ]
  },
  {
   "cell_type": "markdown",
   "metadata": {},
   "source": [
    "# Improts & Configuration"
   ]
  },
  {
   "cell_type": "code",
   "execution_count": 1,
   "metadata": {},
   "outputs": [],
   "source": [
    "import pandas as pd\n",
    "pd.set_option('display.max_columns', None)\n",
    "\n",
    "import numpy as np\n",
    "\n",
    "import matplotlib.pyplot as plt\n",
    "%matplotlib inline\n",
    "\n",
    "import seaborn as sns\n",
    "\n",
    "import os\n",
    "\n",
    "from pyspark.sql import SparkSession, Window\n",
    "from pyspark.sql import functions as F\n",
    "from pyspark.sql.functions import col, when, count, mean, isnan, expr, lit, countDistinct, round\n",
    "from pyspark.sql.types import IntegerType, StringType, StructType, StructField\n",
    "from functools import reduce\n"
   ]
  },
  {
   "cell_type": "code",
   "execution_count": 2,
   "metadata": {},
   "outputs": [
    {
     "name": "stderr",
     "output_type": "stream",
     "text": [
      "Setting default log level to \"WARN\".\n",
      "To adjust logging level use sc.setLogLevel(newLevel). For SparkR, use setLogLevel(newLevel).\n",
      "24/11/13 00:28:58 WARN NativeCodeLoader: Unable to load native-hadoop library for your platform... using builtin-java classes where applicable\n"
     ]
    }
   ],
   "source": [
    "# Initialize Spark session\n",
    "spark = SparkSession.builder \\\n",
    "    .appName(\"3W Real Dataset\") \\\n",
    "    .config(\"spark.sql.shuffle.partitions\", \"200\") \\\n",
    "    .getOrCreate()"
   ]
  },
  {
   "cell_type": "markdown",
   "metadata": {},
   "source": [
    "# Loading the Datasets"
   ]
  },
  {
   "cell_type": "code",
   "execution_count": 3,
   "metadata": {},
   "outputs": [
    {
     "name": "stderr",
     "output_type": "stream",
     "text": [
      "                                                                                \r"
     ]
    }
   ],
   "source": [
    "# Load the dataset with Spark\n",
    "data_path = \"/Users/ghazijalal/Documents/IE University/Term 3/CAPSTONE PROJECT/Git/CapStone/Data/real_instances.parquet\"\n",
    "spark_df_real = spark.read.parquet(data_path)"
   ]
  },
  {
   "cell_type": "code",
   "execution_count": 4,
   "metadata": {},
   "outputs": [
    {
     "name": "stdout",
     "output_type": "stream",
     "text": [
      "root\n",
      " |-- timestamp: string (nullable = true)\n",
      " |-- label: long (nullable = true)\n",
      " |-- well: string (nullable = true)\n",
      " |-- id: long (nullable = true)\n",
      " |-- ABER-CKGL: double (nullable = true)\n",
      " |-- ABER-CKP: double (nullable = true)\n",
      " |-- ESTADO-DHSV: double (nullable = true)\n",
      " |-- ESTADO-M1: double (nullable = true)\n",
      " |-- ESTADO-M2: double (nullable = true)\n",
      " |-- ESTADO-PXO: double (nullable = true)\n",
      " |-- ESTADO-SDV-GL: double (nullable = true)\n",
      " |-- ESTADO-SDV-P: double (nullable = true)\n",
      " |-- ESTADO-W1: double (nullable = true)\n",
      " |-- ESTADO-W2: double (nullable = true)\n",
      " |-- ESTADO-XO: double (nullable = true)\n",
      " |-- P-ANULAR: double (nullable = true)\n",
      " |-- P-JUS-BS: double (nullable = true)\n",
      " |-- P-JUS-CKGL: double (nullable = true)\n",
      " |-- P-JUS-CKP: double (nullable = true)\n",
      " |-- P-MON-CKGL: double (nullable = true)\n",
      " |-- P-MON-CKP: double (nullable = true)\n",
      " |-- P-MON-SDV-P: double (nullable = true)\n",
      " |-- P-PDG: double (nullable = true)\n",
      " |-- PT-P: double (nullable = true)\n",
      " |-- P-TPT: double (nullable = true)\n",
      " |-- QBS: double (nullable = true)\n",
      " |-- QGL: double (nullable = true)\n",
      " |-- T-JUS-CKP: double (nullable = true)\n",
      " |-- T-MON-CKP: double (nullable = true)\n",
      " |-- T-PDG: double (nullable = true)\n",
      " |-- T-TPT: double (nullable = true)\n",
      " |-- class: double (nullable = true)\n",
      " |-- state: double (nullable = true)\n",
      " |-- Instance: long (nullable = true)\n",
      " |-- DataType: string (nullable = true)\n",
      " |-- __index_level_0__: long (nullable = true)\n",
      "\n"
     ]
    }
   ],
   "source": [
    "# Quick view of data schema\n",
    "spark_df_real.printSchema()"
   ]
  },
  {
   "cell_type": "code",
   "execution_count": 5,
   "metadata": {},
   "outputs": [
    {
     "name": "stdout",
     "output_type": "stream",
     "text": [
      "Total records: 32872250\n"
     ]
    }
   ],
   "source": [
    "# Basic Data Exploration with Spark SQL\n",
    "record_count = spark_df_real.count()\n",
    "print(f\"Total records: {record_count}\")"
   ]
  },
  {
   "cell_type": "markdown",
   "metadata": {},
   "source": [
    "# Dataset References"
   ]
  },
  {
   "cell_type": "markdown",
   "metadata": {},
   "source": [
    "### Event Reference Table"
   ]
  },
  {
   "cell_type": "code",
   "execution_count": 6,
   "metadata": {},
   "outputs": [
    {
     "name": "stderr",
     "output_type": "stream",
     "text": [
      "                                                                                \r"
     ]
    },
    {
     "name": "stdout",
     "output_type": "stream",
     "text": [
      "+-----+--------------------------+\n",
      "|label|Description               |\n",
      "+-----+--------------------------+\n",
      "|0    |NORMAL                    |\n",
      "|1    |ABRUPT INCREASE OF BSW    |\n",
      "|2    |SPURIOUS CLOSURE OF DHSV  |\n",
      "|3    |SEVERE SLUGGING           |\n",
      "|4    |FLOW INSTABILITY          |\n",
      "|5    |RAPID PRODUCTIVITY LOSS   |\n",
      "|6    |QUICK RESTRICTION IN PCK  |\n",
      "|7    |SCALING IN PCK            |\n",
      "|8    |HYDRATE IN PRODUCTION LINE|\n",
      "|9    |HYDRATE IN SERVICE LINE   |\n",
      "+-----+--------------------------+\n",
      "\n"
     ]
    }
   ],
   "source": [
    "# Define label_descriptions dictionary and convert it to Spark DataFrame\n",
    "label_descriptions = {\n",
    "    0: 'NORMAL',\n",
    "    1: 'ABRUPT INCREASE OF BSW',\n",
    "    2: 'SPURIOUS CLOSURE OF DHSV',\n",
    "    3: 'SEVERE SLUGGING',\n",
    "    4: 'FLOW INSTABILITY',\n",
    "    5: 'RAPID PRODUCTIVITY LOSS',\n",
    "    6: 'QUICK RESTRICTION IN PCK',\n",
    "    7: 'SCALING IN PCK',\n",
    "    8: 'HYDRATE IN PRODUCTION LINE',\n",
    "    9: 'HYDRATE IN SERVICE LINE'\n",
    "}\n",
    "\n",
    "label_schema = StructType([\n",
    "    StructField(\"label\", IntegerType(), True),\n",
    "    StructField(\"Description\", StringType(), True)\n",
    "])\n",
    "\n",
    "label_descriptions_df = spark.createDataFrame(\n",
    "    [(k, v) for k, v in label_descriptions.items()], schema=label_schema\n",
    ")\n",
    "\n",
    "# Display label descriptions\n",
    "label_descriptions_df.show(truncate=False)"
   ]
  },
  {
   "cell_type": "markdown",
   "metadata": {},
   "source": [
    "### Feature Reference Table"
   ]
  },
  {
   "cell_type": "code",
   "execution_count": 7,
   "metadata": {},
   "outputs": [
    {
     "name": "stdout",
     "output_type": "stream",
     "text": [
      "+-------------+------------------------------------------------------------+--------------------+\n",
      "|Tag          |Name                                                        |Unit                |\n",
      "+-------------+------------------------------------------------------------+--------------------+\n",
      "|ABER-CKGL    |Opening of the GLCK (gas lift choke)                        |%                   |\n",
      "|ABER-CKP     |Opening of the PCK (production choke)                       |%                   |\n",
      "|ESTADO-DHSV  |State of the DHSV (downhole safety valve)                   |[0, 0.5, 1]         |\n",
      "|ESTADO-M1    |State of the PMV (production master valve)                  |[0, 0.5, 1]         |\n",
      "|ESTADO-M2    |State of the AMV (annulus master valve)                     |[0, 0.5, 1]         |\n",
      "|ESTADO-PXO   |State of the PXO (pig-crossover) valve                      |[0, 0.5, 1]         |\n",
      "|ESTADO-SDV-GL|State of the gas lift SDV (shutdown valve)                  |[0, 0.5, 1]         |\n",
      "|ESTADO-SDV-P |State of the production SDV (shutdown valve)                |[0, 0.5, 1]         |\n",
      "|ESTADO-W1    |State of the PWV (production wing valve)                    |[0, 0.5, 1]         |\n",
      "|ESTADO-W2    |State of the AWV (annulus wing valve)                       |[0, 0.5, 1]         |\n",
      "|ESTADO-XO    |State of the XO (crossover) valve                           |[0, 0.5, 1]         |\n",
      "|P-ANULAR     |Pressure in the well annulus                                |Pa                  |\n",
      "|P-JUS-BS     |Downstream pressure of the SP (service pump)                |Pa                  |\n",
      "|P-JUS-CKGL   |Downstream pressure of the GLCK (gas lift choke)            |Pa                  |\n",
      "|P-JUS-CKP    |Downstream pressure of the PCK (production choke)           |Pa                  |\n",
      "|P-MON-CKGL   |Upstream pressure of the GLCK (gas lift choke)              |Pa                  |\n",
      "|P-MON-CKP    |Upstream pressure of the PCK (production choke)             |Pa                  |\n",
      "|P-MON-SDV-P  |Upstream pressure of the production SDV (shutdown valve)    |Pa                  |\n",
      "|P-PDG        |Pressure at the PDG (permanent downhole gauge)              |Pa                  |\n",
      "|PT-P         |Downstream pressure of the PWV in the production tube       |Pa                  |\n",
      "|P-TPT        |Pressure at the TPT (temperature and pressure transducer)   |Pa                  |\n",
      "|QBS          |Flow rate at the SP (service pump)                          |m3/s                |\n",
      "|QGL          |Gas lift flow rate                                          |m3/s                |\n",
      "|T-JUS-CKP    |Downstream temperature of the PCK (production choke)        |°C                  |\n",
      "|T-MON-CKP    |Upstream temperature of the PCK (production choke)          |°C                  |\n",
      "|T-PDG        |Temperature at the PDG (permanent downhole gauge)           |°C                  |\n",
      "|T-TPT        |Temperature at the TPT (temperature and pressure transducer)|°C                  |\n",
      "|class        |Label of the observation                                    |Label               |\n",
      "|state        |Well operational status                                     |Operational Status  |\n",
      "|label        |Instance label (event type)                                 |Instance Label      |\n",
      "|well         |Well name                                                   |Well Name           |\n",
      "|id           |Instance identifier                                         |Instance ID         |\n",
      "|Instance     |Instance count based on manual labeling                     |Instance ID (Manual)|\n",
      "|DataType     |Real , simulated or hand-drawn                              |Dataset Type        |\n",
      "|timestamp    |Timestamp                                                   |Timestamp           |\n",
      "+-------------+------------------------------------------------------------+--------------------+\n",
      "\n"
     ]
    }
   ],
   "source": [
    "# Define tags and human-readable names for the reference table\n",
    "tags = {\n",
    "    'ABER-CKGL': '%',\n",
    "    'ABER-CKP': '%',\n",
    "    'ESTADO-DHSV': '[0, 0.5, 1]',\n",
    "    'ESTADO-M1': '[0, 0.5, 1]',\n",
    "    'ESTADO-M2': '[0, 0.5, 1]',\n",
    "    'ESTADO-PXO': '[0, 0.5, 1]',\n",
    "    'ESTADO-SDV-GL': '[0, 0.5, 1]',\n",
    "    'ESTADO-SDV-P': '[0, 0.5, 1]',\n",
    "    'ESTADO-W1': '[0, 0.5, 1]',\n",
    "    'ESTADO-W2': '[0, 0.5, 1]',\n",
    "    'ESTADO-XO': '[0, 0.5, 1]',\n",
    "    'P-ANULAR': 'Pa',\n",
    "    'P-JUS-BS': 'Pa',\n",
    "    'P-JUS-CKGL': 'Pa',\n",
    "    'P-JUS-CKP': 'Pa',\n",
    "    'P-MON-CKGL': 'Pa',\n",
    "    'P-MON-CKP': 'Pa',\n",
    "    'P-MON-SDV-P': 'Pa',\n",
    "    'P-PDG': 'Pa',\n",
    "    'PT-P': 'Pa',\n",
    "    'P-TPT': 'Pa',\n",
    "    'QBS': 'm3/s',\n",
    "    'QGL': 'm3/s',\n",
    "    'T-JUS-CKP': '°C',\n",
    "    'T-MON-CKP': '°C',\n",
    "    'T-PDG': '°C',\n",
    "    'T-TPT': '°C',\n",
    "    'class': 'Label',\n",
    "    'state': 'Operational Status',\n",
    "    'label': 'Instance Label',\n",
    "    'well': 'Well Name',\n",
    "    'id': 'Instance ID',\n",
    "    'Instance': 'Instance ID (Manual)',\n",
    "    'DataType': 'Dataset Type',\n",
    "    'timestamp': 'Timestamp'\n",
    "}\n",
    "\n",
    "names = [\n",
    "    'Opening of the GLCK (gas lift choke)',\n",
    "    'Opening of the PCK (production choke)',\n",
    "    'State of the DHSV (downhole safety valve)',\n",
    "    'State of the PMV (production master valve)',\n",
    "    'State of the AMV (annulus master valve)',\n",
    "    'State of the PXO (pig-crossover) valve',\n",
    "    'State of the gas lift SDV (shutdown valve)',\n",
    "    'State of the production SDV (shutdown valve)',\n",
    "    'State of the PWV (production wing valve)',\n",
    "    'State of the AWV (annulus wing valve)',\n",
    "    'State of the XO (crossover) valve',\n",
    "    'Pressure in the well annulus',\n",
    "    'Downstream pressure of the SP (service pump)',\n",
    "    'Downstream pressure of the GLCK (gas lift choke)',\n",
    "    'Downstream pressure of the PCK (production choke)',\n",
    "    'Upstream pressure of the GLCK (gas lift choke)',\n",
    "    'Upstream pressure of the PCK (production choke)',\n",
    "    'Upstream pressure of the production SDV (shutdown valve)',\n",
    "    'Pressure at the PDG (permanent downhole gauge)',\n",
    "    'Downstream pressure of the PWV in the production tube',\n",
    "    'Pressure at the TPT (temperature and pressure transducer)',\n",
    "    'Flow rate at the SP (service pump)',\n",
    "    'Gas lift flow rate',\n",
    "    'Downstream temperature of the PCK (production choke)',\n",
    "    'Upstream temperature of the PCK (production choke)',\n",
    "    'Temperature at the PDG (permanent downhole gauge)',\n",
    "    'Temperature at the TPT (temperature and pressure transducer)',\n",
    "    'Label of the observation',\n",
    "    'Well operational status',\n",
    "    'Instance label (event type)',\n",
    "    'Well name',\n",
    "    'Instance identifier',\n",
    "    'Instance count based on manual labeling',\n",
    "    'Real , simulated or hand-drawn',\n",
    "    'Timestamp'\n",
    "]\n",
    "\n",
    "# Convert reference table to a Spark DataFrame\n",
    "reference_schema = StructType([\n",
    "    StructField(\"Tag\", StringType(), True),\n",
    "    StructField(\"Name\", StringType(), True),\n",
    "    StructField(\"Unit\", StringType(), True)\n",
    "])\n",
    "\n",
    "reference_table = spark.createDataFrame(\n",
    "    [(tag, name, unit) for tag, name, unit in zip(tags.keys(), names, tags.values())],\n",
    "    schema=reference_schema\n",
    ")\n",
    "\n",
    "# Display reference table. Do not truncate the columns. Show all rows.\n",
    "reference_table.show(truncate=False, n=999)"
   ]
  },
  {
   "cell_type": "markdown",
   "metadata": {},
   "source": [
    "# Unique Values"
   ]
  },
  {
   "cell_type": "code",
   "execution_count": 8,
   "metadata": {},
   "outputs": [],
   "source": [
    "# Unique Values Function without stack\n",
    "def generate_unique_values_table(reference_table, spark_df, column_name):\n",
    "    # Step 1: Generate unique value counts for each column in the dataset\n",
    "    unique_counts = [(c, spark_df.select(countDistinct(col(c)).alias(\"unique_count\")).first()[\"unique_count\"])\n",
    "                     for c in spark_df.columns]\n",
    "    \n",
    "    # Step 2: Convert list of tuples to Spark DataFrame\n",
    "    unique_counts_df = spark.createDataFrame(unique_counts, [\"Tag\", column_name])\n",
    "    \n",
    "    # Step 3: Join with reference table to align unique counts with tags\n",
    "    unique_values_df = reference_table.join(unique_counts_df, on=\"Tag\", how=\"left\")\n",
    "    \n",
    "    return unique_values_df\n"
   ]
  },
  {
   "cell_type": "code",
   "execution_count": 9,
   "metadata": {},
   "outputs": [
    {
     "name": "stderr",
     "output_type": "stream",
     "text": [
      "24/11/13 00:29:09 WARN RowBasedKeyValueBatch: Calling spill() on RowBasedKeyValueBatch. Will not spill but return 0.\n",
      "24/11/13 00:29:09 WARN RowBasedKeyValueBatch: Calling spill() on RowBasedKeyValueBatch. Will not spill but return 0.\n",
      "24/11/13 00:29:09 WARN RowBasedKeyValueBatch: Calling spill() on RowBasedKeyValueBatch. Will not spill but return 0.\n",
      "24/11/13 00:29:09 WARN RowBasedKeyValueBatch: Calling spill() on RowBasedKeyValueBatch. Will not spill but return 0.\n",
      "24/11/13 00:29:09 WARN RowBasedKeyValueBatch: Calling spill() on RowBasedKeyValueBatch. Will not spill but return 0.\n",
      "24/11/13 00:29:09 WARN RowBasedKeyValueBatch: Calling spill() on RowBasedKeyValueBatch. Will not spill but return 0.\n",
      "24/11/13 00:29:09 WARN RowBasedKeyValueBatch: Calling spill() on RowBasedKeyValueBatch. Will not spill but return 0.\n",
      "24/11/13 00:29:09 WARN RowBasedKeyValueBatch: Calling spill() on RowBasedKeyValueBatch. Will not spill but return 0.\n",
      "24/11/13 00:29:09 WARN RowBasedKeyValueBatch: Calling spill() on RowBasedKeyValueBatch. Will not spill but return 0.\n",
      "24/11/13 00:29:09 WARN RowBasedKeyValueBatch: Calling spill() on RowBasedKeyValueBatch. Will not spill but return 0.\n",
      "24/11/13 00:29:09 WARN RowBasedKeyValueBatch: Calling spill() on RowBasedKeyValueBatch. Will not spill but return 0.\n",
      "24/11/13 00:29:09 WARN RowBasedKeyValueBatch: Calling spill() on RowBasedKeyValueBatch. Will not spill but return 0.\n",
      "24/11/13 00:29:09 WARN RowBasedKeyValueBatch: Calling spill() on RowBasedKeyValueBatch. Will not spill but return 0.\n",
      "24/11/13 00:29:09 WARN RowBasedKeyValueBatch: Calling spill() on RowBasedKeyValueBatch. Will not spill but return 0.\n",
      "24/11/13 00:29:09 WARN RowBasedKeyValueBatch: Calling spill() on RowBasedKeyValueBatch. Will not spill but return 0.\n",
      "24/11/13 00:29:09 WARN RowBasedKeyValueBatch: Calling spill() on RowBasedKeyValueBatch. Will not spill but return 0.\n",
      "24/11/13 00:29:09 WARN RowBasedKeyValueBatch: Calling spill() on RowBasedKeyValueBatch. Will not spill but return 0.\n",
      "24/11/13 00:29:09 WARN RowBasedKeyValueBatch: Calling spill() on RowBasedKeyValueBatch. Will not spill but return 0.\n",
      "24/11/13 00:29:09 WARN RowBasedKeyValueBatch: Calling spill() on RowBasedKeyValueBatch. Will not spill but return 0.\n",
      "24/11/13 00:29:09 WARN RowBasedKeyValueBatch: Calling spill() on RowBasedKeyValueBatch. Will not spill but return 0.\n",
      "24/11/13 00:29:09 WARN RowBasedKeyValueBatch: Calling spill() on RowBasedKeyValueBatch. Will not spill but return 0.\n",
      "24/11/13 00:29:09 WARN RowBasedKeyValueBatch: Calling spill() on RowBasedKeyValueBatch. Will not spill but return 0.\n",
      "24/11/13 00:29:09 WARN RowBasedKeyValueBatch: Calling spill() on RowBasedKeyValueBatch. Will not spill but return 0.\n",
      "24/11/13 00:29:09 WARN RowBasedKeyValueBatch: Calling spill() on RowBasedKeyValueBatch. Will not spill but return 0.\n",
      "24/11/13 00:29:09 WARN RowBasedKeyValueBatch: Calling spill() on RowBasedKeyValueBatch. Will not spill but return 0.\n",
      "24/11/13 00:29:09 WARN RowBasedKeyValueBatch: Calling spill() on RowBasedKeyValueBatch. Will not spill but return 0.\n",
      "24/11/13 00:29:09 WARN RowBasedKeyValueBatch: Calling spill() on RowBasedKeyValueBatch. Will not spill but return 0.\n",
      "24/11/13 00:29:09 WARN RowBasedKeyValueBatch: Calling spill() on RowBasedKeyValueBatch. Will not spill but return 0.\n",
      "24/11/13 00:29:09 WARN RowBasedKeyValueBatch: Calling spill() on RowBasedKeyValueBatch. Will not spill but return 0.\n",
      "24/11/13 00:29:09 WARN RowBasedKeyValueBatch: Calling spill() on RowBasedKeyValueBatch. Will not spill but return 0.\n",
      "24/11/13 00:29:09 WARN RowBasedKeyValueBatch: Calling spill() on RowBasedKeyValueBatch. Will not spill but return 0.\n",
      "24/11/13 00:29:09 WARN RowBasedKeyValueBatch: Calling spill() on RowBasedKeyValueBatch. Will not spill but return 0.\n",
      "24/11/13 00:29:10 WARN RowBasedKeyValueBatch: Calling spill() on RowBasedKeyValueBatch. Will not spill but return 0.\n",
      "24/11/13 00:29:10 WARN RowBasedKeyValueBatch: Calling spill() on RowBasedKeyValueBatch. Will not spill but return 0.\n",
      "24/11/13 00:29:10 WARN RowBasedKeyValueBatch: Calling spill() on RowBasedKeyValueBatch. Will not spill but return 0.\n",
      "24/11/13 00:29:10 WARN RowBasedKeyValueBatch: Calling spill() on RowBasedKeyValueBatch. Will not spill but return 0.\n",
      "24/11/13 00:29:10 WARN RowBasedKeyValueBatch: Calling spill() on RowBasedKeyValueBatch. Will not spill but return 0.\n",
      "24/11/13 00:29:10 WARN RowBasedKeyValueBatch: Calling spill() on RowBasedKeyValueBatch. Will not spill but return 0.\n",
      "24/11/13 00:29:10 WARN RowBasedKeyValueBatch: Calling spill() on RowBasedKeyValueBatch. Will not spill but return 0.\n",
      "24/11/13 00:29:10 WARN RowBasedKeyValueBatch: Calling spill() on RowBasedKeyValueBatch. Will not spill but return 0.\n",
      "24/11/13 00:29:10 WARN RowBasedKeyValueBatch: Calling spill() on RowBasedKeyValueBatch. Will not spill but return 0.\n",
      "24/11/13 00:29:10 WARN RowBasedKeyValueBatch: Calling spill() on RowBasedKeyValueBatch. Will not spill but return 0.\n",
      "24/11/13 00:29:10 WARN RowBasedKeyValueBatch: Calling spill() on RowBasedKeyValueBatch. Will not spill but return 0.\n",
      "24/11/13 00:29:10 WARN RowBasedKeyValueBatch: Calling spill() on RowBasedKeyValueBatch. Will not spill but return 0.\n",
      "24/11/13 00:29:10 WARN RowBasedKeyValueBatch: Calling spill() on RowBasedKeyValueBatch. Will not spill but return 0.\n",
      "24/11/13 00:29:10 WARN RowBasedKeyValueBatch: Calling spill() on RowBasedKeyValueBatch. Will not spill but return 0.\n",
      "24/11/13 00:29:10 WARN RowBasedKeyValueBatch: Calling spill() on RowBasedKeyValueBatch. Will not spill but return 0.\n",
      "24/11/13 00:29:10 WARN RowBasedKeyValueBatch: Calling spill() on RowBasedKeyValueBatch. Will not spill but return 0.\n",
      "24/11/13 00:29:10 WARN RowBasedKeyValueBatch: Calling spill() on RowBasedKeyValueBatch. Will not spill but return 0.\n",
      "24/11/13 00:29:10 WARN RowBasedKeyValueBatch: Calling spill() on RowBasedKeyValueBatch. Will not spill but return 0.\n",
      "24/11/13 00:29:10 WARN RowBasedKeyValueBatch: Calling spill() on RowBasedKeyValueBatch. Will not spill but return 0.\n",
      "24/11/13 00:29:10 WARN RowBasedKeyValueBatch: Calling spill() on RowBasedKeyValueBatch. Will not spill but return 0.\n",
      "24/11/13 00:29:10 WARN RowBasedKeyValueBatch: Calling spill() on RowBasedKeyValueBatch. Will not spill but return 0.\n",
      "24/11/13 00:29:10 WARN RowBasedKeyValueBatch: Calling spill() on RowBasedKeyValueBatch. Will not spill but return 0.\n",
      "24/11/13 00:29:10 WARN RowBasedKeyValueBatch: Calling spill() on RowBasedKeyValueBatch. Will not spill but return 0.\n",
      "24/11/13 00:29:10 WARN RowBasedKeyValueBatch: Calling spill() on RowBasedKeyValueBatch. Will not spill but return 0.\n",
      "24/11/13 00:29:10 WARN RowBasedKeyValueBatch: Calling spill() on RowBasedKeyValueBatch. Will not spill but return 0.\n",
      "24/11/13 00:29:10 WARN RowBasedKeyValueBatch: Calling spill() on RowBasedKeyValueBatch. Will not spill but return 0.\n",
      "24/11/13 00:29:10 WARN RowBasedKeyValueBatch: Calling spill() on RowBasedKeyValueBatch. Will not spill but return 0.\n",
      "24/11/13 00:29:10 WARN RowBasedKeyValueBatch: Calling spill() on RowBasedKeyValueBatch. Will not spill but return 0.\n",
      "24/11/13 00:29:10 WARN RowBasedKeyValueBatch: Calling spill() on RowBasedKeyValueBatch. Will not spill but return 0.\n",
      "24/11/13 00:29:10 WARN RowBasedKeyValueBatch: Calling spill() on RowBasedKeyValueBatch. Will not spill but return 0.\n",
      "24/11/13 00:29:10 WARN RowBasedKeyValueBatch: Calling spill() on RowBasedKeyValueBatch. Will not spill but return 0.\n",
      "24/11/13 00:29:10 WARN RowBasedKeyValueBatch: Calling spill() on RowBasedKeyValueBatch. Will not spill but return 0.\n",
      "24/11/13 00:29:11 WARN RowBasedKeyValueBatch: Calling spill() on RowBasedKeyValueBatch. Will not spill but return 0.\n",
      "24/11/13 00:29:11 WARN RowBasedKeyValueBatch: Calling spill() on RowBasedKeyValueBatch. Will not spill but return 0.\n",
      "24/11/13 00:29:11 WARN RowBasedKeyValueBatch: Calling spill() on RowBasedKeyValueBatch. Will not spill but return 0.\n",
      "24/11/13 00:29:11 WARN RowBasedKeyValueBatch: Calling spill() on RowBasedKeyValueBatch. Will not spill but return 0.\n",
      "24/11/13 00:29:11 WARN RowBasedKeyValueBatch: Calling spill() on RowBasedKeyValueBatch. Will not spill but return 0.\n",
      "24/11/13 00:29:11 WARN RowBasedKeyValueBatch: Calling spill() on RowBasedKeyValueBatch. Will not spill but return 0.\n",
      "24/11/13 00:29:11 WARN RowBasedKeyValueBatch: Calling spill() on RowBasedKeyValueBatch. Will not spill but return 0.\n",
      "24/11/13 00:29:11 WARN RowBasedKeyValueBatch: Calling spill() on RowBasedKeyValueBatch. Will not spill but return 0.\n",
      "24/11/13 00:29:11 WARN RowBasedKeyValueBatch: Calling spill() on RowBasedKeyValueBatch. Will not spill but return 0.\n",
      "24/11/13 00:29:11 WARN RowBasedKeyValueBatch: Calling spill() on RowBasedKeyValueBatch. Will not spill but return 0.\n",
      "24/11/13 00:29:11 WARN RowBasedKeyValueBatch: Calling spill() on RowBasedKeyValueBatch. Will not spill but return 0.\n",
      "24/11/13 00:29:11 WARN RowBasedKeyValueBatch: Calling spill() on RowBasedKeyValueBatch. Will not spill but return 0.\n",
      "24/11/13 00:29:11 WARN RowBasedKeyValueBatch: Calling spill() on RowBasedKeyValueBatch. Will not spill but return 0.\n",
      "24/11/13 00:29:11 WARN RowBasedKeyValueBatch: Calling spill() on RowBasedKeyValueBatch. Will not spill but return 0.\n",
      "24/11/13 00:29:11 WARN RowBasedKeyValueBatch: Calling spill() on RowBasedKeyValueBatch. Will not spill but return 0.\n",
      "24/11/13 00:29:11 WARN RowBasedKeyValueBatch: Calling spill() on RowBasedKeyValueBatch. Will not spill but return 0.\n",
      "24/11/13 00:29:11 WARN RowBasedKeyValueBatch: Calling spill() on RowBasedKeyValueBatch. Will not spill but return 0.\n",
      "24/11/13 00:29:11 WARN RowBasedKeyValueBatch: Calling spill() on RowBasedKeyValueBatch. Will not spill but return 0.\n",
      "24/11/13 00:29:11 WARN RowBasedKeyValueBatch: Calling spill() on RowBasedKeyValueBatch. Will not spill but return 0.\n",
      "24/11/13 00:29:11 WARN RowBasedKeyValueBatch: Calling spill() on RowBasedKeyValueBatch. Will not spill but return 0.\n",
      "24/11/13 00:29:11 WARN RowBasedKeyValueBatch: Calling spill() on RowBasedKeyValueBatch. Will not spill but return 0.\n",
      "24/11/13 00:29:11 WARN RowBasedKeyValueBatch: Calling spill() on RowBasedKeyValueBatch. Will not spill but return 0.\n",
      "24/11/13 00:29:11 WARN RowBasedKeyValueBatch: Calling spill() on RowBasedKeyValueBatch. Will not spill but return 0.\n",
      "24/11/13 00:29:11 WARN RowBasedKeyValueBatch: Calling spill() on RowBasedKeyValueBatch. Will not spill but return 0.\n",
      "24/11/13 00:29:11 WARN RowBasedKeyValueBatch: Calling spill() on RowBasedKeyValueBatch. Will not spill but return 0.\n",
      "24/11/13 00:29:11 WARN RowBasedKeyValueBatch: Calling spill() on RowBasedKeyValueBatch. Will not spill but return 0.\n",
      "24/11/13 00:29:11 WARN RowBasedKeyValueBatch: Calling spill() on RowBasedKeyValueBatch. Will not spill but return 0.\n",
      "24/11/13 00:29:11 WARN RowBasedKeyValueBatch: Calling spill() on RowBasedKeyValueBatch. Will not spill but return 0.\n",
      "24/11/13 00:29:11 WARN RowBasedKeyValueBatch: Calling spill() on RowBasedKeyValueBatch. Will not spill but return 0.\n",
      "24/11/13 00:29:11 WARN RowBasedKeyValueBatch: Calling spill() on RowBasedKeyValueBatch. Will not spill but return 0.\n",
      "24/11/13 00:29:11 WARN RowBasedKeyValueBatch: Calling spill() on RowBasedKeyValueBatch. Will not spill but return 0.\n",
      "24/11/13 00:29:11 WARN RowBasedKeyValueBatch: Calling spill() on RowBasedKeyValueBatch. Will not spill but return 0.\n",
      "24/11/13 00:29:12 WARN RowBasedKeyValueBatch: Calling spill() on RowBasedKeyValueBatch. Will not spill but return 0.\n",
      "24/11/13 00:29:12 WARN RowBasedKeyValueBatch: Calling spill() on RowBasedKeyValueBatch. Will not spill but return 0.\n",
      "24/11/13 00:29:12 WARN RowBasedKeyValueBatch: Calling spill() on RowBasedKeyValueBatch. Will not spill but return 0.\n",
      "24/11/13 00:29:12 WARN RowBasedKeyValueBatch: Calling spill() on RowBasedKeyValueBatch. Will not spill but return 0.\n",
      "24/11/13 00:29:12 WARN RowBasedKeyValueBatch: Calling spill() on RowBasedKeyValueBatch. Will not spill but return 0.\n",
      "24/11/13 00:29:12 WARN RowBasedKeyValueBatch: Calling spill() on RowBasedKeyValueBatch. Will not spill but return 0.\n",
      "24/11/13 00:29:12 WARN RowBasedKeyValueBatch: Calling spill() on RowBasedKeyValueBatch. Will not spill but return 0.\n",
      "24/11/13 00:29:12 WARN RowBasedKeyValueBatch: Calling spill() on RowBasedKeyValueBatch. Will not spill but return 0.\n",
      "24/11/13 00:29:12 WARN RowBasedKeyValueBatch: Calling spill() on RowBasedKeyValueBatch. Will not spill but return 0.\n",
      "24/11/13 00:29:12 WARN RowBasedKeyValueBatch: Calling spill() on RowBasedKeyValueBatch. Will not spill but return 0.\n",
      "24/11/13 00:29:12 WARN RowBasedKeyValueBatch: Calling spill() on RowBasedKeyValueBatch. Will not spill but return 0.\n",
      "24/11/13 00:29:12 WARN RowBasedKeyValueBatch: Calling spill() on RowBasedKeyValueBatch. Will not spill but return 0.\n",
      "24/11/13 00:29:12 WARN RowBasedKeyValueBatch: Calling spill() on RowBasedKeyValueBatch. Will not spill but return 0.\n",
      "24/11/13 00:29:12 WARN RowBasedKeyValueBatch: Calling spill() on RowBasedKeyValueBatch. Will not spill but return 0.\n",
      "24/11/13 00:29:12 WARN RowBasedKeyValueBatch: Calling spill() on RowBasedKeyValueBatch. Will not spill but return 0.\n",
      "24/11/13 00:29:12 WARN RowBasedKeyValueBatch: Calling spill() on RowBasedKeyValueBatch. Will not spill but return 0.\n",
      "24/11/13 00:29:12 WARN RowBasedKeyValueBatch: Calling spill() on RowBasedKeyValueBatch. Will not spill but return 0.\n",
      "24/11/13 00:29:12 WARN RowBasedKeyValueBatch: Calling spill() on RowBasedKeyValueBatch. Will not spill but return 0.\n",
      "24/11/13 00:29:12 WARN RowBasedKeyValueBatch: Calling spill() on RowBasedKeyValueBatch. Will not spill but return 0.\n",
      "24/11/13 00:29:12 WARN RowBasedKeyValueBatch: Calling spill() on RowBasedKeyValueBatch. Will not spill but return 0.\n",
      "24/11/13 00:29:12 WARN RowBasedKeyValueBatch: Calling spill() on RowBasedKeyValueBatch. Will not spill but return 0.\n",
      "24/11/13 00:29:12 WARN RowBasedKeyValueBatch: Calling spill() on RowBasedKeyValueBatch. Will not spill but return 0.\n",
      "24/11/13 00:29:12 WARN RowBasedKeyValueBatch: Calling spill() on RowBasedKeyValueBatch. Will not spill but return 0.\n",
      "24/11/13 00:29:12 WARN RowBasedKeyValueBatch: Calling spill() on RowBasedKeyValueBatch. Will not spill but return 0.\n",
      "24/11/13 00:29:12 WARN RowBasedKeyValueBatch: Calling spill() on RowBasedKeyValueBatch. Will not spill but return 0.\n",
      "24/11/13 00:29:12 WARN RowBasedKeyValueBatch: Calling spill() on RowBasedKeyValueBatch. Will not spill but return 0.\n",
      "24/11/13 00:29:13 WARN RowBasedKeyValueBatch: Calling spill() on RowBasedKeyValueBatch. Will not spill but return 0.\n",
      "24/11/13 00:29:13 WARN RowBasedKeyValueBatch: Calling spill() on RowBasedKeyValueBatch. Will not spill but return 0.\n",
      "24/11/13 00:29:13 WARN RowBasedKeyValueBatch: Calling spill() on RowBasedKeyValueBatch. Will not spill but return 0.\n",
      "24/11/13 00:29:13 WARN RowBasedKeyValueBatch: Calling spill() on RowBasedKeyValueBatch. Will not spill but return 0.\n",
      "24/11/13 00:29:13 WARN RowBasedKeyValueBatch: Calling spill() on RowBasedKeyValueBatch. Will not spill but return 0.\n",
      "24/11/13 00:29:13 WARN RowBasedKeyValueBatch: Calling spill() on RowBasedKeyValueBatch. Will not spill but return 0.\n",
      "24/11/13 00:29:13 WARN RowBasedKeyValueBatch: Calling spill() on RowBasedKeyValueBatch. Will not spill but return 0.\n",
      "24/11/13 00:29:13 WARN RowBasedKeyValueBatch: Calling spill() on RowBasedKeyValueBatch. Will not spill but return 0.\n",
      "24/11/13 00:29:13 WARN RowBasedKeyValueBatch: Calling spill() on RowBasedKeyValueBatch. Will not spill but return 0.\n",
      "24/11/13 00:29:13 WARN RowBasedKeyValueBatch: Calling spill() on RowBasedKeyValueBatch. Will not spill but return 0.\n",
      "24/11/13 00:29:13 WARN RowBasedKeyValueBatch: Calling spill() on RowBasedKeyValueBatch. Will not spill but return 0.\n",
      "24/11/13 00:29:13 WARN RowBasedKeyValueBatch: Calling spill() on RowBasedKeyValueBatch. Will not spill but return 0.\n",
      "24/11/13 00:29:13 WARN RowBasedKeyValueBatch: Calling spill() on RowBasedKeyValueBatch. Will not spill but return 0.\n",
      "24/11/13 00:29:13 WARN RowBasedKeyValueBatch: Calling spill() on RowBasedKeyValueBatch. Will not spill but return 0.\n",
      "24/11/13 00:29:13 WARN RowBasedKeyValueBatch: Calling spill() on RowBasedKeyValueBatch. Will not spill but return 0.\n",
      "24/11/13 00:29:14 WARN RowBasedKeyValueBatch: Calling spill() on RowBasedKeyValueBatch. Will not spill but return 0.\n",
      "24/11/13 00:29:14 WARN RowBasedKeyValueBatch: Calling spill() on RowBasedKeyValueBatch. Will not spill but return 0.\n",
      "24/11/13 00:29:14 WARN RowBasedKeyValueBatch: Calling spill() on RowBasedKeyValueBatch. Will not spill but return 0.\n",
      "24/11/13 00:29:14 WARN RowBasedKeyValueBatch: Calling spill() on RowBasedKeyValueBatch. Will not spill but return 0.\n",
      "24/11/13 00:29:14 WARN RowBasedKeyValueBatch: Calling spill() on RowBasedKeyValueBatch. Will not spill but return 0.\n",
      "24/11/13 00:29:14 WARN RowBasedKeyValueBatch: Calling spill() on RowBasedKeyValueBatch. Will not spill but return 0.\n",
      "24/11/13 00:29:14 WARN RowBasedKeyValueBatch: Calling spill() on RowBasedKeyValueBatch. Will not spill but return 0.\n",
      "24/11/13 00:29:14 WARN RowBasedKeyValueBatch: Calling spill() on RowBasedKeyValueBatch. Will not spill but return 0.\n",
      "24/11/13 00:29:14 WARN RowBasedKeyValueBatch: Calling spill() on RowBasedKeyValueBatch. Will not spill but return 0.\n",
      "24/11/13 00:29:14 WARN RowBasedKeyValueBatch: Calling spill() on RowBasedKeyValueBatch. Will not spill but return 0.\n",
      "24/11/13 00:29:14 WARN RowBasedKeyValueBatch: Calling spill() on RowBasedKeyValueBatch. Will not spill but return 0.\n",
      "24/11/13 00:29:14 WARN RowBasedKeyValueBatch: Calling spill() on RowBasedKeyValueBatch. Will not spill but return 0.\n",
      "24/11/13 00:29:15 WARN RowBasedKeyValueBatch: Calling spill() on RowBasedKeyValueBatch. Will not spill but return 0.\n",
      "24/11/13 00:29:15 WARN RowBasedKeyValueBatch: Calling spill() on RowBasedKeyValueBatch. Will not spill but return 0.\n",
      "24/11/13 00:29:15 WARN RowBasedKeyValueBatch: Calling spill() on RowBasedKeyValueBatch. Will not spill but return 0.\n",
      "24/11/13 00:29:15 WARN RowBasedKeyValueBatch: Calling spill() on RowBasedKeyValueBatch. Will not spill but return 0.\n",
      "24/11/13 00:29:15 WARN RowBasedKeyValueBatch: Calling spill() on RowBasedKeyValueBatch. Will not spill but return 0.\n",
      "24/11/13 00:29:15 WARN RowBasedKeyValueBatch: Calling spill() on RowBasedKeyValueBatch. Will not spill but return 0.\n",
      "24/11/13 00:29:15 WARN RowBasedKeyValueBatch: Calling spill() on RowBasedKeyValueBatch. Will not spill but return 0.\n",
      "24/11/13 00:29:15 WARN RowBasedKeyValueBatch: Calling spill() on RowBasedKeyValueBatch. Will not spill but return 0.\n",
      "24/11/13 00:29:15 WARN RowBasedKeyValueBatch: Calling spill() on RowBasedKeyValueBatch. Will not spill but return 0.\n",
      "24/11/13 00:29:15 WARN RowBasedKeyValueBatch: Calling spill() on RowBasedKeyValueBatch. Will not spill but return 0.\n",
      "24/11/13 00:29:15 WARN RowBasedKeyValueBatch: Calling spill() on RowBasedKeyValueBatch. Will not spill but return 0.\n",
      "24/11/13 00:29:15 WARN RowBasedKeyValueBatch: Calling spill() on RowBasedKeyValueBatch. Will not spill but return 0.\n",
      "24/11/13 00:29:15 WARN RowBasedKeyValueBatch: Calling spill() on RowBasedKeyValueBatch. Will not spill but return 0.\n",
      "24/11/13 00:29:15 WARN RowBasedKeyValueBatch: Calling spill() on RowBasedKeyValueBatch. Will not spill but return 0.\n",
      "24/11/13 00:29:16 WARN RowBasedKeyValueBatch: Calling spill() on RowBasedKeyValueBatch. Will not spill but return 0.\n",
      "24/11/13 00:29:20 WARN TaskMemoryManager: Failed to allocate a page (33554432 bytes), try again.\n",
      "24/11/13 00:29:20 WARN TaskMemoryManager: Failed to allocate a page (33554432 bytes), try again.\n",
      "24/11/13 00:29:20 WARN RowBasedKeyValueBatch: Calling spill() on RowBasedKeyValueBatch. Will not spill but return 0.\n",
      "24/11/13 00:29:30 WARN RowBasedKeyValueBatch: Calling spill() on RowBasedKeyValueBatch. Will not spill but return 0.\n",
      "24/11/13 00:29:30 WARN RowBasedKeyValueBatch: Calling spill() on RowBasedKeyValueBatch. Will not spill but return 0.\n",
      "24/11/13 00:29:30 WARN RowBasedKeyValueBatch: Calling spill() on RowBasedKeyValueBatch. Will not spill but return 0.\n",
      "24/11/13 00:29:30 WARN RowBasedKeyValueBatch: Calling spill() on RowBasedKeyValueBatch. Will not spill but return 0.\n",
      "24/11/13 00:29:30 WARN RowBasedKeyValueBatch: Calling spill() on RowBasedKeyValueBatch. Will not spill but return 0.\n",
      "24/11/13 00:29:30 WARN RowBasedKeyValueBatch: Calling spill() on RowBasedKeyValueBatch. Will not spill but return 0.\n",
      "24/11/13 00:29:30 WARN RowBasedKeyValueBatch: Calling spill() on RowBasedKeyValueBatch. Will not spill but return 0.\n",
      "24/11/13 00:29:30 WARN RowBasedKeyValueBatch: Calling spill() on RowBasedKeyValueBatch. Will not spill but return 0.\n",
      "24/11/13 00:29:30 WARN RowBasedKeyValueBatch: Calling spill() on RowBasedKeyValueBatch. Will not spill but return 0.\n",
      "24/11/13 00:29:30 WARN RowBasedKeyValueBatch: Calling spill() on RowBasedKeyValueBatch. Will not spill but return 0.\n",
      "24/11/13 00:29:30 WARN RowBasedKeyValueBatch: Calling spill() on RowBasedKeyValueBatch. Will not spill but return 0.\n",
      "24/11/13 00:29:30 WARN RowBasedKeyValueBatch: Calling spill() on RowBasedKeyValueBatch. Will not spill but return 0.\n",
      "24/11/13 00:29:30 WARN RowBasedKeyValueBatch: Calling spill() on RowBasedKeyValueBatch. Will not spill but return 0.\n",
      "24/11/13 00:29:30 WARN RowBasedKeyValueBatch: Calling spill() on RowBasedKeyValueBatch. Will not spill but return 0.\n",
      "24/11/13 00:29:30 WARN RowBasedKeyValueBatch: Calling spill() on RowBasedKeyValueBatch. Will not spill but return 0.\n",
      "24/11/13 00:29:30 WARN RowBasedKeyValueBatch: Calling spill() on RowBasedKeyValueBatch. Will not spill but return 0.\n",
      "24/11/13 00:29:30 WARN RowBasedKeyValueBatch: Calling spill() on RowBasedKeyValueBatch. Will not spill but return 0.\n",
      "24/11/13 00:29:30 WARN RowBasedKeyValueBatch: Calling spill() on RowBasedKeyValueBatch. Will not spill but return 0.\n",
      "24/11/13 00:29:30 WARN RowBasedKeyValueBatch: Calling spill() on RowBasedKeyValueBatch. Will not spill but return 0.\n",
      "24/11/13 00:29:30 WARN RowBasedKeyValueBatch: Calling spill() on RowBasedKeyValueBatch. Will not spill but return 0.\n",
      "24/11/13 00:29:30 WARN RowBasedKeyValueBatch: Calling spill() on RowBasedKeyValueBatch. Will not spill but return 0.\n",
      "24/11/13 00:29:30 WARN RowBasedKeyValueBatch: Calling spill() on RowBasedKeyValueBatch. Will not spill but return 0.\n",
      "24/11/13 00:29:30 WARN RowBasedKeyValueBatch: Calling spill() on RowBasedKeyValueBatch. Will not spill but return 0.\n",
      "24/11/13 00:29:30 WARN RowBasedKeyValueBatch: Calling spill() on RowBasedKeyValueBatch. Will not spill but return 0.\n",
      "24/11/13 00:29:30 WARN RowBasedKeyValueBatch: Calling spill() on RowBasedKeyValueBatch. Will not spill but return 0.\n",
      "24/11/13 00:29:30 WARN RowBasedKeyValueBatch: Calling spill() on RowBasedKeyValueBatch. Will not spill but return 0.\n",
      "24/11/13 00:29:30 WARN RowBasedKeyValueBatch: Calling spill() on RowBasedKeyValueBatch. Will not spill but return 0.\n",
      "24/11/13 00:29:30 WARN RowBasedKeyValueBatch: Calling spill() on RowBasedKeyValueBatch. Will not spill but return 0.\n",
      "24/11/13 00:29:30 WARN RowBasedKeyValueBatch: Calling spill() on RowBasedKeyValueBatch. Will not spill but return 0.\n",
      "24/11/13 00:29:30 WARN RowBasedKeyValueBatch: Calling spill() on RowBasedKeyValueBatch. Will not spill but return 0.\n",
      "24/11/13 00:29:30 WARN RowBasedKeyValueBatch: Calling spill() on RowBasedKeyValueBatch. Will not spill but return 0.\n",
      "24/11/13 00:29:30 WARN RowBasedKeyValueBatch: Calling spill() on RowBasedKeyValueBatch. Will not spill but return 0.\n",
      "24/11/13 00:29:31 WARN RowBasedKeyValueBatch: Calling spill() on RowBasedKeyValueBatch. Will not spill but return 0.\n",
      "24/11/13 00:29:31 WARN RowBasedKeyValueBatch: Calling spill() on RowBasedKeyValueBatch. Will not spill but return 0.\n",
      "24/11/13 00:29:31 WARN RowBasedKeyValueBatch: Calling spill() on RowBasedKeyValueBatch. Will not spill but return 0.\n",
      "24/11/13 00:29:31 WARN RowBasedKeyValueBatch: Calling spill() on RowBasedKeyValueBatch. Will not spill but return 0.\n",
      "24/11/13 00:29:31 WARN RowBasedKeyValueBatch: Calling spill() on RowBasedKeyValueBatch. Will not spill but return 0.\n",
      "24/11/13 00:29:31 WARN RowBasedKeyValueBatch: Calling spill() on RowBasedKeyValueBatch. Will not spill but return 0.\n",
      "24/11/13 00:29:31 WARN RowBasedKeyValueBatch: Calling spill() on RowBasedKeyValueBatch. Will not spill but return 0.\n",
      "24/11/13 00:29:31 WARN RowBasedKeyValueBatch: Calling spill() on RowBasedKeyValueBatch. Will not spill but return 0.\n",
      "24/11/13 00:29:31 WARN RowBasedKeyValueBatch: Calling spill() on RowBasedKeyValueBatch. Will not spill but return 0.\n",
      "24/11/13 00:29:31 WARN RowBasedKeyValueBatch: Calling spill() on RowBasedKeyValueBatch. Will not spill but return 0.\n",
      "24/11/13 00:29:31 WARN RowBasedKeyValueBatch: Calling spill() on RowBasedKeyValueBatch. Will not spill but return 0.\n",
      "24/11/13 00:29:31 WARN RowBasedKeyValueBatch: Calling spill() on RowBasedKeyValueBatch. Will not spill but return 0.\n",
      "24/11/13 00:29:31 WARN RowBasedKeyValueBatch: Calling spill() on RowBasedKeyValueBatch. Will not spill but return 0.\n",
      "24/11/13 00:29:31 WARN RowBasedKeyValueBatch: Calling spill() on RowBasedKeyValueBatch. Will not spill but return 0.\n",
      "24/11/13 00:29:31 WARN RowBasedKeyValueBatch: Calling spill() on RowBasedKeyValueBatch. Will not spill but return 0.\n",
      "24/11/13 00:29:31 WARN RowBasedKeyValueBatch: Calling spill() on RowBasedKeyValueBatch. Will not spill but return 0.\n",
      "24/11/13 00:29:31 WARN RowBasedKeyValueBatch: Calling spill() on RowBasedKeyValueBatch. Will not spill but return 0.\n",
      "24/11/13 00:29:31 WARN RowBasedKeyValueBatch: Calling spill() on RowBasedKeyValueBatch. Will not spill but return 0.\n",
      "24/11/13 00:29:31 WARN RowBasedKeyValueBatch: Calling spill() on RowBasedKeyValueBatch. Will not spill but return 0.\n",
      "24/11/13 00:29:31 WARN RowBasedKeyValueBatch: Calling spill() on RowBasedKeyValueBatch. Will not spill but return 0.\n",
      "24/11/13 00:29:31 WARN RowBasedKeyValueBatch: Calling spill() on RowBasedKeyValueBatch. Will not spill but return 0.\n",
      "24/11/13 00:29:31 WARN RowBasedKeyValueBatch: Calling spill() on RowBasedKeyValueBatch. Will not spill but return 0.\n",
      "24/11/13 00:29:31 WARN RowBasedKeyValueBatch: Calling spill() on RowBasedKeyValueBatch. Will not spill but return 0.\n",
      "24/11/13 00:29:31 WARN RowBasedKeyValueBatch: Calling spill() on RowBasedKeyValueBatch. Will not spill but return 0.\n",
      "24/11/13 00:29:31 WARN RowBasedKeyValueBatch: Calling spill() on RowBasedKeyValueBatch. Will not spill but return 0.\n",
      "24/11/13 00:29:31 WARN RowBasedKeyValueBatch: Calling spill() on RowBasedKeyValueBatch. Will not spill but return 0.\n",
      "24/11/13 00:29:31 WARN RowBasedKeyValueBatch: Calling spill() on RowBasedKeyValueBatch. Will not spill but return 0.\n",
      "24/11/13 00:29:31 WARN RowBasedKeyValueBatch: Calling spill() on RowBasedKeyValueBatch. Will not spill but return 0.\n",
      "24/11/13 00:29:31 WARN RowBasedKeyValueBatch: Calling spill() on RowBasedKeyValueBatch. Will not spill but return 0.\n",
      "24/11/13 00:29:31 WARN RowBasedKeyValueBatch: Calling spill() on RowBasedKeyValueBatch. Will not spill but return 0.\n",
      "24/11/13 00:29:31 WARN RowBasedKeyValueBatch: Calling spill() on RowBasedKeyValueBatch. Will not spill but return 0.\n",
      "24/11/13 00:29:31 WARN RowBasedKeyValueBatch: Calling spill() on RowBasedKeyValueBatch. Will not spill but return 0.\n",
      "24/11/13 00:29:31 WARN RowBasedKeyValueBatch: Calling spill() on RowBasedKeyValueBatch. Will not spill but return 0.\n",
      "24/11/13 00:29:31 WARN RowBasedKeyValueBatch: Calling spill() on RowBasedKeyValueBatch. Will not spill but return 0.\n",
      "24/11/13 00:29:31 WARN RowBasedKeyValueBatch: Calling spill() on RowBasedKeyValueBatch. Will not spill but return 0.\n",
      "24/11/13 00:29:31 WARN RowBasedKeyValueBatch: Calling spill() on RowBasedKeyValueBatch. Will not spill but return 0.\n",
      "24/11/13 00:29:31 WARN RowBasedKeyValueBatch: Calling spill() on RowBasedKeyValueBatch. Will not spill but return 0.\n",
      "24/11/13 00:29:31 WARN RowBasedKeyValueBatch: Calling spill() on RowBasedKeyValueBatch. Will not spill but return 0.\n",
      "24/11/13 00:29:31 WARN RowBasedKeyValueBatch: Calling spill() on RowBasedKeyValueBatch. Will not spill but return 0.\n",
      "24/11/13 00:29:31 WARN RowBasedKeyValueBatch: Calling spill() on RowBasedKeyValueBatch. Will not spill but return 0.\n",
      "24/11/13 00:29:31 WARN RowBasedKeyValueBatch: Calling spill() on RowBasedKeyValueBatch. Will not spill but return 0.\n",
      "24/11/13 00:29:31 WARN RowBasedKeyValueBatch: Calling spill() on RowBasedKeyValueBatch. Will not spill but return 0.\n",
      "24/11/13 00:29:31 WARN RowBasedKeyValueBatch: Calling spill() on RowBasedKeyValueBatch. Will not spill but return 0.\n",
      "24/11/13 00:29:31 WARN RowBasedKeyValueBatch: Calling spill() on RowBasedKeyValueBatch. Will not spill but return 0.\n",
      "24/11/13 00:29:31 WARN RowBasedKeyValueBatch: Calling spill() on RowBasedKeyValueBatch. Will not spill but return 0.\n",
      "24/11/13 00:29:31 WARN RowBasedKeyValueBatch: Calling spill() on RowBasedKeyValueBatch. Will not spill but return 0.\n",
      "24/11/13 00:29:31 WARN RowBasedKeyValueBatch: Calling spill() on RowBasedKeyValueBatch. Will not spill but return 0.\n",
      "24/11/13 00:29:31 WARN RowBasedKeyValueBatch: Calling spill() on RowBasedKeyValueBatch. Will not spill but return 0.\n",
      "24/11/13 00:29:31 WARN RowBasedKeyValueBatch: Calling spill() on RowBasedKeyValueBatch. Will not spill but return 0.\n",
      "24/11/13 00:29:31 WARN RowBasedKeyValueBatch: Calling spill() on RowBasedKeyValueBatch. Will not spill but return 0.\n",
      "24/11/13 00:29:31 WARN RowBasedKeyValueBatch: Calling spill() on RowBasedKeyValueBatch. Will not spill but return 0.\n",
      "24/11/13 00:29:31 WARN RowBasedKeyValueBatch: Calling spill() on RowBasedKeyValueBatch. Will not spill but return 0.\n",
      "24/11/13 00:29:31 WARN RowBasedKeyValueBatch: Calling spill() on RowBasedKeyValueBatch. Will not spill but return 0.\n",
      "24/11/13 00:29:31 WARN RowBasedKeyValueBatch: Calling spill() on RowBasedKeyValueBatch. Will not spill but return 0.\n",
      "24/11/13 00:29:31 WARN RowBasedKeyValueBatch: Calling spill() on RowBasedKeyValueBatch. Will not spill but return 0.\n",
      "24/11/13 00:29:31 WARN RowBasedKeyValueBatch: Calling spill() on RowBasedKeyValueBatch. Will not spill but return 0.\n",
      "24/11/13 00:29:31 WARN RowBasedKeyValueBatch: Calling spill() on RowBasedKeyValueBatch. Will not spill but return 0.\n",
      "24/11/13 00:29:31 WARN RowBasedKeyValueBatch: Calling spill() on RowBasedKeyValueBatch. Will not spill but return 0.\n",
      "24/11/13 00:29:31 WARN RowBasedKeyValueBatch: Calling spill() on RowBasedKeyValueBatch. Will not spill but return 0.\n",
      "24/11/13 00:29:31 WARN RowBasedKeyValueBatch: Calling spill() on RowBasedKeyValueBatch. Will not spill but return 0.\n",
      "24/11/13 00:29:31 WARN RowBasedKeyValueBatch: Calling spill() on RowBasedKeyValueBatch. Will not spill but return 0.\n",
      "24/11/13 00:29:31 WARN RowBasedKeyValueBatch: Calling spill() on RowBasedKeyValueBatch. Will not spill but return 0.\n",
      "24/11/13 00:29:31 WARN RowBasedKeyValueBatch: Calling spill() on RowBasedKeyValueBatch. Will not spill but return 0.\n",
      "24/11/13 00:29:31 WARN RowBasedKeyValueBatch: Calling spill() on RowBasedKeyValueBatch. Will not spill but return 0.\n",
      "24/11/13 00:29:31 WARN RowBasedKeyValueBatch: Calling spill() on RowBasedKeyValueBatch. Will not spill but return 0.\n",
      "24/11/13 00:29:31 WARN RowBasedKeyValueBatch: Calling spill() on RowBasedKeyValueBatch. Will not spill but return 0.\n",
      "24/11/13 00:29:31 WARN RowBasedKeyValueBatch: Calling spill() on RowBasedKeyValueBatch. Will not spill but return 0.\n",
      "24/11/13 00:29:31 WARN RowBasedKeyValueBatch: Calling spill() on RowBasedKeyValueBatch. Will not spill but return 0.\n",
      "24/11/13 00:29:31 WARN RowBasedKeyValueBatch: Calling spill() on RowBasedKeyValueBatch. Will not spill but return 0.\n",
      "24/11/13 00:29:31 WARN RowBasedKeyValueBatch: Calling spill() on RowBasedKeyValueBatch. Will not spill but return 0.\n",
      "24/11/13 00:29:31 WARN RowBasedKeyValueBatch: Calling spill() on RowBasedKeyValueBatch. Will not spill but return 0.\n",
      "24/11/13 00:29:31 WARN RowBasedKeyValueBatch: Calling spill() on RowBasedKeyValueBatch. Will not spill but return 0.\n",
      "24/11/13 00:29:31 WARN RowBasedKeyValueBatch: Calling spill() on RowBasedKeyValueBatch. Will not spill but return 0.\n",
      "24/11/13 00:29:31 WARN RowBasedKeyValueBatch: Calling spill() on RowBasedKeyValueBatch. Will not spill but return 0.\n",
      "24/11/13 00:29:31 WARN RowBasedKeyValueBatch: Calling spill() on RowBasedKeyValueBatch. Will not spill but return 0.\n",
      "24/11/13 00:29:31 WARN RowBasedKeyValueBatch: Calling spill() on RowBasedKeyValueBatch. Will not spill but return 0.\n",
      "24/11/13 00:29:31 WARN RowBasedKeyValueBatch: Calling spill() on RowBasedKeyValueBatch. Will not spill but return 0.\n",
      "24/11/13 00:29:31 WARN RowBasedKeyValueBatch: Calling spill() on RowBasedKeyValueBatch. Will not spill but return 0.\n",
      "24/11/13 00:29:31 WARN RowBasedKeyValueBatch: Calling spill() on RowBasedKeyValueBatch. Will not spill but return 0.\n",
      "24/11/13 00:29:31 WARN RowBasedKeyValueBatch: Calling spill() on RowBasedKeyValueBatch. Will not spill but return 0.\n",
      "24/11/13 00:29:31 WARN RowBasedKeyValueBatch: Calling spill() on RowBasedKeyValueBatch. Will not spill but return 0.\n",
      "24/11/13 00:29:31 WARN RowBasedKeyValueBatch: Calling spill() on RowBasedKeyValueBatch. Will not spill but return 0.\n",
      "24/11/13 00:29:31 WARN RowBasedKeyValueBatch: Calling spill() on RowBasedKeyValueBatch. Will not spill but return 0.\n",
      "24/11/13 00:29:31 WARN RowBasedKeyValueBatch: Calling spill() on RowBasedKeyValueBatch. Will not spill but return 0.\n",
      "24/11/13 00:29:31 WARN RowBasedKeyValueBatch: Calling spill() on RowBasedKeyValueBatch. Will not spill but return 0.\n",
      "24/11/13 00:29:31 WARN RowBasedKeyValueBatch: Calling spill() on RowBasedKeyValueBatch. Will not spill but return 0.\n",
      "24/11/13 00:29:31 WARN RowBasedKeyValueBatch: Calling spill() on RowBasedKeyValueBatch. Will not spill but return 0.\n",
      "24/11/13 00:29:31 WARN RowBasedKeyValueBatch: Calling spill() on RowBasedKeyValueBatch. Will not spill but return 0.\n",
      "24/11/13 00:29:31 WARN RowBasedKeyValueBatch: Calling spill() on RowBasedKeyValueBatch. Will not spill but return 0.\n",
      "24/11/13 00:29:31 WARN RowBasedKeyValueBatch: Calling spill() on RowBasedKeyValueBatch. Will not spill but return 0.\n",
      "24/11/13 00:29:31 WARN RowBasedKeyValueBatch: Calling spill() on RowBasedKeyValueBatch. Will not spill but return 0.\n",
      "24/11/13 00:29:31 WARN RowBasedKeyValueBatch: Calling spill() on RowBasedKeyValueBatch. Will not spill but return 0.\n",
      "24/11/13 00:29:31 WARN RowBasedKeyValueBatch: Calling spill() on RowBasedKeyValueBatch. Will not spill but return 0.\n",
      "24/11/13 00:29:31 WARN RowBasedKeyValueBatch: Calling spill() on RowBasedKeyValueBatch. Will not spill but return 0.\n",
      "24/11/13 00:29:31 WARN RowBasedKeyValueBatch: Calling spill() on RowBasedKeyValueBatch. Will not spill but return 0.\n",
      "24/11/13 00:29:31 WARN RowBasedKeyValueBatch: Calling spill() on RowBasedKeyValueBatch. Will not spill but return 0.\n",
      "24/11/13 00:29:32 WARN RowBasedKeyValueBatch: Calling spill() on RowBasedKeyValueBatch. Will not spill but return 0.\n",
      "24/11/13 00:29:32 WARN RowBasedKeyValueBatch: Calling spill() on RowBasedKeyValueBatch. Will not spill but return 0.\n",
      "24/11/13 00:29:32 WARN RowBasedKeyValueBatch: Calling spill() on RowBasedKeyValueBatch. Will not spill but return 0.\n",
      "24/11/13 00:29:32 WARN RowBasedKeyValueBatch: Calling spill() on RowBasedKeyValueBatch. Will not spill but return 0.\n",
      "24/11/13 00:29:32 WARN RowBasedKeyValueBatch: Calling spill() on RowBasedKeyValueBatch. Will not spill but return 0.\n",
      "24/11/13 00:29:32 WARN RowBasedKeyValueBatch: Calling spill() on RowBasedKeyValueBatch. Will not spill but return 0.\n",
      "24/11/13 00:29:32 WARN RowBasedKeyValueBatch: Calling spill() on RowBasedKeyValueBatch. Will not spill but return 0.\n",
      "24/11/13 00:29:32 WARN RowBasedKeyValueBatch: Calling spill() on RowBasedKeyValueBatch. Will not spill but return 0.\n",
      "24/11/13 00:29:32 WARN RowBasedKeyValueBatch: Calling spill() on RowBasedKeyValueBatch. Will not spill but return 0.\n",
      "24/11/13 00:29:32 WARN RowBasedKeyValueBatch: Calling spill() on RowBasedKeyValueBatch. Will not spill but return 0.\n",
      "24/11/13 00:29:32 WARN RowBasedKeyValueBatch: Calling spill() on RowBasedKeyValueBatch. Will not spill but return 0.\n",
      "24/11/13 00:29:32 WARN RowBasedKeyValueBatch: Calling spill() on RowBasedKeyValueBatch. Will not spill but return 0.\n",
      "24/11/13 00:29:32 WARN RowBasedKeyValueBatch: Calling spill() on RowBasedKeyValueBatch. Will not spill but return 0.\n",
      "24/11/13 00:29:32 WARN RowBasedKeyValueBatch: Calling spill() on RowBasedKeyValueBatch. Will not spill but return 0.\n",
      "24/11/13 00:29:32 WARN RowBasedKeyValueBatch: Calling spill() on RowBasedKeyValueBatch. Will not spill but return 0.\n",
      "24/11/13 00:29:32 WARN RowBasedKeyValueBatch: Calling spill() on RowBasedKeyValueBatch. Will not spill but return 0.\n",
      "24/11/13 00:29:32 WARN RowBasedKeyValueBatch: Calling spill() on RowBasedKeyValueBatch. Will not spill but return 0.\n",
      "24/11/13 00:29:32 WARN RowBasedKeyValueBatch: Calling spill() on RowBasedKeyValueBatch. Will not spill but return 0.\n",
      "24/11/13 00:29:32 WARN RowBasedKeyValueBatch: Calling spill() on RowBasedKeyValueBatch. Will not spill but return 0.\n",
      "24/11/13 00:29:32 WARN RowBasedKeyValueBatch: Calling spill() on RowBasedKeyValueBatch. Will not spill but return 0.\n",
      "24/11/13 00:29:32 WARN RowBasedKeyValueBatch: Calling spill() on RowBasedKeyValueBatch. Will not spill but return 0.\n",
      "24/11/13 00:29:32 WARN RowBasedKeyValueBatch: Calling spill() on RowBasedKeyValueBatch. Will not spill but return 0.\n",
      "24/11/13 00:29:32 WARN RowBasedKeyValueBatch: Calling spill() on RowBasedKeyValueBatch. Will not spill but return 0.\n",
      "24/11/13 00:29:32 WARN RowBasedKeyValueBatch: Calling spill() on RowBasedKeyValueBatch. Will not spill but return 0.\n",
      "24/11/13 00:29:32 WARN RowBasedKeyValueBatch: Calling spill() on RowBasedKeyValueBatch. Will not spill but return 0.\n",
      "24/11/13 00:29:32 WARN RowBasedKeyValueBatch: Calling spill() on RowBasedKeyValueBatch. Will not spill but return 0.\n",
      "24/11/13 00:29:32 WARN RowBasedKeyValueBatch: Calling spill() on RowBasedKeyValueBatch. Will not spill but return 0.\n",
      "24/11/13 00:29:32 WARN RowBasedKeyValueBatch: Calling spill() on RowBasedKeyValueBatch. Will not spill but return 0.\n",
      "24/11/13 00:29:32 WARN RowBasedKeyValueBatch: Calling spill() on RowBasedKeyValueBatch. Will not spill but return 0.\n",
      "24/11/13 00:29:32 WARN RowBasedKeyValueBatch: Calling spill() on RowBasedKeyValueBatch. Will not spill but return 0.\n",
      "24/11/13 00:29:32 WARN RowBasedKeyValueBatch: Calling spill() on RowBasedKeyValueBatch. Will not spill but return 0.\n",
      "24/11/13 00:29:32 WARN RowBasedKeyValueBatch: Calling spill() on RowBasedKeyValueBatch. Will not spill but return 0.\n",
      "24/11/13 00:29:32 WARN RowBasedKeyValueBatch: Calling spill() on RowBasedKeyValueBatch. Will not spill but return 0.\n",
      "24/11/13 00:29:32 WARN RowBasedKeyValueBatch: Calling spill() on RowBasedKeyValueBatch. Will not spill but return 0.\n",
      "24/11/13 00:29:32 WARN RowBasedKeyValueBatch: Calling spill() on RowBasedKeyValueBatch. Will not spill but return 0.\n",
      "24/11/13 00:29:32 WARN RowBasedKeyValueBatch: Calling spill() on RowBasedKeyValueBatch. Will not spill but return 0.\n",
      "24/11/13 00:29:32 WARN RowBasedKeyValueBatch: Calling spill() on RowBasedKeyValueBatch. Will not spill but return 0.\n",
      "24/11/13 00:29:32 WARN RowBasedKeyValueBatch: Calling spill() on RowBasedKeyValueBatch. Will not spill but return 0.\n",
      "24/11/13 00:29:32 WARN RowBasedKeyValueBatch: Calling spill() on RowBasedKeyValueBatch. Will not spill but return 0.\n",
      "24/11/13 00:29:32 WARN RowBasedKeyValueBatch: Calling spill() on RowBasedKeyValueBatch. Will not spill but return 0.\n",
      "24/11/13 00:29:32 WARN RowBasedKeyValueBatch: Calling spill() on RowBasedKeyValueBatch. Will not spill but return 0.\n",
      "24/11/13 00:29:32 WARN RowBasedKeyValueBatch: Calling spill() on RowBasedKeyValueBatch. Will not spill but return 0.\n",
      "24/11/13 00:29:32 WARN RowBasedKeyValueBatch: Calling spill() on RowBasedKeyValueBatch. Will not spill but return 0.\n",
      "24/11/13 00:29:32 WARN RowBasedKeyValueBatch: Calling spill() on RowBasedKeyValueBatch. Will not spill but return 0.\n",
      "24/11/13 00:29:32 WARN RowBasedKeyValueBatch: Calling spill() on RowBasedKeyValueBatch. Will not spill but return 0.\n",
      "24/11/13 00:29:32 WARN RowBasedKeyValueBatch: Calling spill() on RowBasedKeyValueBatch. Will not spill but return 0.\n",
      "24/11/13 00:29:32 WARN RowBasedKeyValueBatch: Calling spill() on RowBasedKeyValueBatch. Will not spill but return 0.\n",
      "24/11/13 00:29:32 WARN RowBasedKeyValueBatch: Calling spill() on RowBasedKeyValueBatch. Will not spill but return 0.\n",
      "24/11/13 00:29:32 WARN RowBasedKeyValueBatch: Calling spill() on RowBasedKeyValueBatch. Will not spill but return 0.\n",
      "24/11/13 00:29:32 WARN RowBasedKeyValueBatch: Calling spill() on RowBasedKeyValueBatch. Will not spill but return 0.\n",
      "24/11/13 00:29:32 WARN RowBasedKeyValueBatch: Calling spill() on RowBasedKeyValueBatch. Will not spill but return 0.\n",
      "24/11/13 00:29:32 WARN RowBasedKeyValueBatch: Calling spill() on RowBasedKeyValueBatch. Will not spill but return 0.\n",
      "24/11/13 00:29:32 WARN RowBasedKeyValueBatch: Calling spill() on RowBasedKeyValueBatch. Will not spill but return 0.\n",
      "24/11/13 00:29:32 WARN RowBasedKeyValueBatch: Calling spill() on RowBasedKeyValueBatch. Will not spill but return 0.\n",
      "24/11/13 00:29:32 WARN RowBasedKeyValueBatch: Calling spill() on RowBasedKeyValueBatch. Will not spill but return 0.\n",
      "24/11/13 00:29:32 WARN RowBasedKeyValueBatch: Calling spill() on RowBasedKeyValueBatch. Will not spill but return 0.\n",
      "24/11/13 00:29:32 WARN RowBasedKeyValueBatch: Calling spill() on RowBasedKeyValueBatch. Will not spill but return 0.\n",
      "24/11/13 00:29:32 WARN RowBasedKeyValueBatch: Calling spill() on RowBasedKeyValueBatch. Will not spill but return 0.\n",
      "24/11/13 00:29:32 WARN RowBasedKeyValueBatch: Calling spill() on RowBasedKeyValueBatch. Will not spill but return 0.\n",
      "24/11/13 00:29:32 WARN RowBasedKeyValueBatch: Calling spill() on RowBasedKeyValueBatch. Will not spill but return 0.\n",
      "24/11/13 00:29:32 WARN RowBasedKeyValueBatch: Calling spill() on RowBasedKeyValueBatch. Will not spill but return 0.\n",
      "24/11/13 00:29:32 WARN RowBasedKeyValueBatch: Calling spill() on RowBasedKeyValueBatch. Will not spill but return 0.\n",
      "24/11/13 00:29:32 WARN RowBasedKeyValueBatch: Calling spill() on RowBasedKeyValueBatch. Will not spill but return 0.\n",
      "24/11/13 00:29:32 WARN RowBasedKeyValueBatch: Calling spill() on RowBasedKeyValueBatch. Will not spill but return 0.\n",
      "24/11/13 00:29:37 WARN RowBasedKeyValueBatch: Calling spill() on RowBasedKeyValueBatch. Will not spill but return 0.\n",
      "24/11/13 00:29:42 WARN RowBasedKeyValueBatch: Calling spill() on RowBasedKeyValueBatch. Will not spill but return 0.\n",
      "24/11/13 00:29:42 WARN RowBasedKeyValueBatch: Calling spill() on RowBasedKeyValueBatch. Will not spill but return 0.\n",
      "24/11/13 00:29:42 WARN RowBasedKeyValueBatch: Calling spill() on RowBasedKeyValueBatch. Will not spill but return 0.\n",
      "24/11/13 00:29:43 WARN RowBasedKeyValueBatch: Calling spill() on RowBasedKeyValueBatch. Will not spill but return 0.\n",
      "24/11/13 00:29:43 WARN RowBasedKeyValueBatch: Calling spill() on RowBasedKeyValueBatch. Will not spill but return 0.\n",
      "24/11/13 00:29:43 WARN RowBasedKeyValueBatch: Calling spill() on RowBasedKeyValueBatch. Will not spill but return 0.\n",
      "24/11/13 00:29:43 WARN RowBasedKeyValueBatch: Calling spill() on RowBasedKeyValueBatch. Will not spill but return 0.\n",
      "24/11/13 00:29:43 WARN RowBasedKeyValueBatch: Calling spill() on RowBasedKeyValueBatch. Will not spill but return 0.\n",
      "24/11/13 00:29:43 WARN RowBasedKeyValueBatch: Calling spill() on RowBasedKeyValueBatch. Will not spill but return 0.\n",
      "24/11/13 00:29:44 WARN RowBasedKeyValueBatch: Calling spill() on RowBasedKeyValueBatch. Will not spill but return 0.\n",
      "24/11/13 00:29:44 WARN RowBasedKeyValueBatch: Calling spill() on RowBasedKeyValueBatch. Will not spill but return 0.\n",
      "24/11/13 00:29:44 WARN RowBasedKeyValueBatch: Calling spill() on RowBasedKeyValueBatch. Will not spill but return 0.\n",
      "24/11/13 00:29:44 WARN RowBasedKeyValueBatch: Calling spill() on RowBasedKeyValueBatch. Will not spill but return 0.\n",
      "24/11/13 00:29:46 WARN RowBasedKeyValueBatch: Calling spill() on RowBasedKeyValueBatch. Will not spill but return 0.\n",
      "24/11/13 00:29:46 WARN RowBasedKeyValueBatch: Calling spill() on RowBasedKeyValueBatch. Will not spill but return 0.\n",
      "24/11/13 00:29:47 WARN RowBasedKeyValueBatch: Calling spill() on RowBasedKeyValueBatch. Will not spill but return 0.\n",
      "24/11/13 00:29:47 WARN RowBasedKeyValueBatch: Calling spill() on RowBasedKeyValueBatch. Will not spill but return 0.\n",
      "24/11/13 00:29:47 WARN RowBasedKeyValueBatch: Calling spill() on RowBasedKeyValueBatch. Will not spill but return 0.\n",
      "24/11/13 00:29:47 WARN RowBasedKeyValueBatch: Calling spill() on RowBasedKeyValueBatch. Will not spill but return 0.\n",
      "24/11/13 00:29:47 WARN RowBasedKeyValueBatch: Calling spill() on RowBasedKeyValueBatch. Will not spill but return 0.\n",
      "24/11/13 00:29:47 WARN RowBasedKeyValueBatch: Calling spill() on RowBasedKeyValueBatch. Will not spill but return 0.\n",
      "24/11/13 00:29:51 WARN RowBasedKeyValueBatch: Calling spill() on RowBasedKeyValueBatch. Will not spill but return 0.\n",
      "24/11/13 00:29:51 WARN RowBasedKeyValueBatch: Calling spill() on RowBasedKeyValueBatch. Will not spill but return 0.\n",
      "24/11/13 00:29:51 WARN RowBasedKeyValueBatch: Calling spill() on RowBasedKeyValueBatch. Will not spill but return 0.\n",
      "24/11/13 00:29:51 WARN RowBasedKeyValueBatch: Calling spill() on RowBasedKeyValueBatch. Will not spill but return 0.\n",
      "24/11/13 00:29:51 WARN RowBasedKeyValueBatch: Calling spill() on RowBasedKeyValueBatch. Will not spill but return 0.\n",
      "24/11/13 00:29:51 WARN RowBasedKeyValueBatch: Calling spill() on RowBasedKeyValueBatch. Will not spill but return 0.\n",
      "24/11/13 00:29:51 WARN RowBasedKeyValueBatch: Calling spill() on RowBasedKeyValueBatch. Will not spill but return 0.\n",
      "24/11/13 00:29:52 WARN RowBasedKeyValueBatch: Calling spill() on RowBasedKeyValueBatch. Will not spill but return 0.\n",
      "24/11/13 00:29:53 WARN RowBasedKeyValueBatch: Calling spill() on RowBasedKeyValueBatch. Will not spill but return 0.\n",
      "24/11/13 00:29:53 WARN RowBasedKeyValueBatch: Calling spill() on RowBasedKeyValueBatch. Will not spill but return 0.\n",
      "24/11/13 00:29:55 WARN RowBasedKeyValueBatch: Calling spill() on RowBasedKeyValueBatch. Will not spill but return 0.\n",
      "24/11/13 00:29:55 WARN RowBasedKeyValueBatch: Calling spill() on RowBasedKeyValueBatch. Will not spill but return 0.\n",
      "24/11/13 00:29:55 WARN RowBasedKeyValueBatch: Calling spill() on RowBasedKeyValueBatch. Will not spill but return 0.\n",
      "24/11/13 00:29:55 WARN RowBasedKeyValueBatch: Calling spill() on RowBasedKeyValueBatch. Will not spill but return 0.\n",
      "24/11/13 00:29:55 WARN RowBasedKeyValueBatch: Calling spill() on RowBasedKeyValueBatch. Will not spill but return 0.\n",
      "24/11/13 00:29:55 WARN RowBasedKeyValueBatch: Calling spill() on RowBasedKeyValueBatch. Will not spill but return 0.\n",
      "24/11/13 00:29:55 WARN RowBasedKeyValueBatch: Calling spill() on RowBasedKeyValueBatch. Will not spill but return 0.\n",
      "24/11/13 00:29:55 WARN RowBasedKeyValueBatch: Calling spill() on RowBasedKeyValueBatch. Will not spill but return 0.\n",
      "24/11/13 00:29:55 WARN RowBasedKeyValueBatch: Calling spill() on RowBasedKeyValueBatch. Will not spill but return 0.\n",
      "24/11/13 00:29:55 WARN RowBasedKeyValueBatch: Calling spill() on RowBasedKeyValueBatch. Will not spill but return 0.\n",
      "24/11/13 00:29:55 WARN RowBasedKeyValueBatch: Calling spill() on RowBasedKeyValueBatch. Will not spill but return 0.\n",
      "24/11/13 00:29:55 WARN RowBasedKeyValueBatch: Calling spill() on RowBasedKeyValueBatch. Will not spill but return 0.\n",
      "24/11/13 00:29:55 WARN RowBasedKeyValueBatch: Calling spill() on RowBasedKeyValueBatch. Will not spill but return 0.\n",
      "24/11/13 00:29:55 WARN RowBasedKeyValueBatch: Calling spill() on RowBasedKeyValueBatch. Will not spill but return 0.\n",
      "24/11/13 00:29:55 WARN RowBasedKeyValueBatch: Calling spill() on RowBasedKeyValueBatch. Will not spill but return 0.\n",
      "24/11/13 00:29:55 WARN RowBasedKeyValueBatch: Calling spill() on RowBasedKeyValueBatch. Will not spill but return 0.\n",
      "24/11/13 00:29:57 WARN RowBasedKeyValueBatch: Calling spill() on RowBasedKeyValueBatch. Will not spill but return 0.\n",
      "24/11/13 00:29:57 WARN RowBasedKeyValueBatch: Calling spill() on RowBasedKeyValueBatch. Will not spill but return 0.\n",
      "24/11/13 00:29:59 WARN RowBasedKeyValueBatch: Calling spill() on RowBasedKeyValueBatch. Will not spill but return 0.\n",
      "24/11/13 00:30:02 WARN RowBasedKeyValueBatch: Calling spill() on RowBasedKeyValueBatch. Will not spill but return 0.\n",
      "24/11/13 00:30:02 WARN RowBasedKeyValueBatch: Calling spill() on RowBasedKeyValueBatch. Will not spill but return 0.\n",
      "24/11/13 00:30:02 WARN RowBasedKeyValueBatch: Calling spill() on RowBasedKeyValueBatch. Will not spill but return 0.\n",
      "24/11/13 00:30:02 WARN RowBasedKeyValueBatch: Calling spill() on RowBasedKeyValueBatch. Will not spill but return 0.\n",
      "24/11/13 00:30:02 WARN RowBasedKeyValueBatch: Calling spill() on RowBasedKeyValueBatch. Will not spill but return 0.\n",
      "24/11/13 00:30:02 WARN RowBasedKeyValueBatch: Calling spill() on RowBasedKeyValueBatch. Will not spill but return 0.\n",
      "24/11/13 00:30:02 WARN RowBasedKeyValueBatch: Calling spill() on RowBasedKeyValueBatch. Will not spill but return 0.\n",
      "24/11/13 00:30:02 WARN RowBasedKeyValueBatch: Calling spill() on RowBasedKeyValueBatch. Will not spill but return 0.\n",
      "24/11/13 00:30:02 WARN RowBasedKeyValueBatch: Calling spill() on RowBasedKeyValueBatch. Will not spill but return 0.\n",
      "24/11/13 00:30:02 WARN RowBasedKeyValueBatch: Calling spill() on RowBasedKeyValueBatch. Will not spill but return 0.\n",
      "24/11/13 00:30:02 WARN RowBasedKeyValueBatch: Calling spill() on RowBasedKeyValueBatch. Will not spill but return 0.\n",
      "24/11/13 00:30:02 WARN RowBasedKeyValueBatch: Calling spill() on RowBasedKeyValueBatch. Will not spill but return 0.\n",
      "24/11/13 00:30:02 WARN RowBasedKeyValueBatch: Calling spill() on RowBasedKeyValueBatch. Will not spill but return 0.\n",
      "24/11/13 00:30:02 WARN RowBasedKeyValueBatch: Calling spill() on RowBasedKeyValueBatch. Will not spill but return 0.\n",
      "24/11/13 00:30:02 WARN RowBasedKeyValueBatch: Calling spill() on RowBasedKeyValueBatch. Will not spill but return 0.\n",
      "24/11/13 00:30:02 WARN RowBasedKeyValueBatch: Calling spill() on RowBasedKeyValueBatch. Will not spill but return 0.\n",
      "24/11/13 00:30:03 WARN RowBasedKeyValueBatch: Calling spill() on RowBasedKeyValueBatch. Will not spill but return 0.\n",
      "24/11/13 00:30:03 WARN RowBasedKeyValueBatch: Calling spill() on RowBasedKeyValueBatch. Will not spill but return 0.\n",
      "24/11/13 00:30:03 WARN RowBasedKeyValueBatch: Calling spill() on RowBasedKeyValueBatch. Will not spill but return 0.\n",
      "24/11/13 00:30:03 WARN RowBasedKeyValueBatch: Calling spill() on RowBasedKeyValueBatch. Will not spill but return 0.\n",
      "24/11/13 00:30:03 WARN RowBasedKeyValueBatch: Calling spill() on RowBasedKeyValueBatch. Will not spill but return 0.\n",
      "24/11/13 00:30:03 WARN RowBasedKeyValueBatch: Calling spill() on RowBasedKeyValueBatch. Will not spill but return 0.\n",
      "24/11/13 00:30:03 WARN RowBasedKeyValueBatch: Calling spill() on RowBasedKeyValueBatch. Will not spill but return 0.\n",
      "24/11/13 00:30:03 WARN RowBasedKeyValueBatch: Calling spill() on RowBasedKeyValueBatch. Will not spill but return 0.\n",
      "24/11/13 00:30:03 WARN RowBasedKeyValueBatch: Calling spill() on RowBasedKeyValueBatch. Will not spill but return 0.\n",
      "24/11/13 00:30:03 WARN RowBasedKeyValueBatch: Calling spill() on RowBasedKeyValueBatch. Will not spill but return 0.\n",
      "24/11/13 00:30:03 WARN RowBasedKeyValueBatch: Calling spill() on RowBasedKeyValueBatch. Will not spill but return 0.\n",
      "24/11/13 00:30:03 WARN RowBasedKeyValueBatch: Calling spill() on RowBasedKeyValueBatch. Will not spill but return 0.\n",
      "24/11/13 00:30:03 WARN RowBasedKeyValueBatch: Calling spill() on RowBasedKeyValueBatch. Will not spill but return 0.\n",
      "24/11/13 00:30:03 WARN RowBasedKeyValueBatch: Calling spill() on RowBasedKeyValueBatch. Will not spill but return 0.\n",
      "24/11/13 00:30:03 WARN RowBasedKeyValueBatch: Calling spill() on RowBasedKeyValueBatch. Will not spill but return 0.\n",
      "24/11/13 00:30:03 WARN RowBasedKeyValueBatch: Calling spill() on RowBasedKeyValueBatch. Will not spill but return 0.\n",
      "24/11/13 00:30:03 WARN RowBasedKeyValueBatch: Calling spill() on RowBasedKeyValueBatch. Will not spill but return 0.\n",
      "24/11/13 00:30:03 WARN RowBasedKeyValueBatch: Calling spill() on RowBasedKeyValueBatch. Will not spill but return 0.\n",
      "24/11/13 00:30:03 WARN RowBasedKeyValueBatch: Calling spill() on RowBasedKeyValueBatch. Will not spill but return 0.\n",
      "24/11/13 00:30:03 WARN RowBasedKeyValueBatch: Calling spill() on RowBasedKeyValueBatch. Will not spill but return 0.\n",
      "24/11/13 00:30:03 WARN RowBasedKeyValueBatch: Calling spill() on RowBasedKeyValueBatch. Will not spill but return 0.\n",
      "24/11/13 00:30:03 WARN RowBasedKeyValueBatch: Calling spill() on RowBasedKeyValueBatch. Will not spill but return 0.\n",
      "24/11/13 00:30:03 WARN RowBasedKeyValueBatch: Calling spill() on RowBasedKeyValueBatch. Will not spill but return 0.\n",
      "24/11/13 00:30:03 WARN RowBasedKeyValueBatch: Calling spill() on RowBasedKeyValueBatch. Will not spill but return 0.\n",
      "24/11/13 00:30:03 WARN RowBasedKeyValueBatch: Calling spill() on RowBasedKeyValueBatch. Will not spill but return 0.\n",
      "24/11/13 00:30:03 WARN RowBasedKeyValueBatch: Calling spill() on RowBasedKeyValueBatch. Will not spill but return 0.\n",
      "24/11/13 00:30:03 WARN RowBasedKeyValueBatch: Calling spill() on RowBasedKeyValueBatch. Will not spill but return 0.\n",
      "24/11/13 00:30:03 WARN RowBasedKeyValueBatch: Calling spill() on RowBasedKeyValueBatch. Will not spill but return 0.\n",
      "24/11/13 00:30:03 WARN RowBasedKeyValueBatch: Calling spill() on RowBasedKeyValueBatch. Will not spill but return 0.\n",
      "24/11/13 00:30:03 WARN RowBasedKeyValueBatch: Calling spill() on RowBasedKeyValueBatch. Will not spill but return 0.\n",
      "24/11/13 00:30:03 WARN RowBasedKeyValueBatch: Calling spill() on RowBasedKeyValueBatch. Will not spill but return 0.\n",
      "24/11/13 00:30:03 WARN RowBasedKeyValueBatch: Calling spill() on RowBasedKeyValueBatch. Will not spill but return 0.\n",
      "24/11/13 00:30:03 WARN RowBasedKeyValueBatch: Calling spill() on RowBasedKeyValueBatch. Will not spill but return 0.\n",
      "24/11/13 00:30:03 WARN RowBasedKeyValueBatch: Calling spill() on RowBasedKeyValueBatch. Will not spill but return 0.\n",
      "24/11/13 00:30:03 WARN RowBasedKeyValueBatch: Calling spill() on RowBasedKeyValueBatch. Will not spill but return 0.\n",
      "24/11/13 00:30:03 WARN RowBasedKeyValueBatch: Calling spill() on RowBasedKeyValueBatch. Will not spill but return 0.\n",
      "24/11/13 00:30:03 WARN RowBasedKeyValueBatch: Calling spill() on RowBasedKeyValueBatch. Will not spill but return 0.\n",
      "24/11/13 00:30:03 WARN RowBasedKeyValueBatch: Calling spill() on RowBasedKeyValueBatch. Will not spill but return 0.\n",
      "24/11/13 00:30:03 WARN RowBasedKeyValueBatch: Calling spill() on RowBasedKeyValueBatch. Will not spill but return 0.\n",
      "24/11/13 00:30:03 WARN RowBasedKeyValueBatch: Calling spill() on RowBasedKeyValueBatch. Will not spill but return 0.\n",
      "24/11/13 00:30:03 WARN RowBasedKeyValueBatch: Calling spill() on RowBasedKeyValueBatch. Will not spill but return 0.\n",
      "24/11/13 00:30:03 WARN RowBasedKeyValueBatch: Calling spill() on RowBasedKeyValueBatch. Will not spill but return 0.\n",
      "24/11/13 00:30:03 WARN RowBasedKeyValueBatch: Calling spill() on RowBasedKeyValueBatch. Will not spill but return 0.\n",
      "24/11/13 00:30:03 WARN RowBasedKeyValueBatch: Calling spill() on RowBasedKeyValueBatch. Will not spill but return 0.\n",
      "24/11/13 00:30:03 WARN RowBasedKeyValueBatch: Calling spill() on RowBasedKeyValueBatch. Will not spill but return 0.\n",
      "24/11/13 00:30:04 WARN RowBasedKeyValueBatch: Calling spill() on RowBasedKeyValueBatch. Will not spill but return 0.\n",
      "24/11/13 00:30:04 WARN RowBasedKeyValueBatch: Calling spill() on RowBasedKeyValueBatch. Will not spill but return 0.\n",
      "24/11/13 00:30:04 WARN RowBasedKeyValueBatch: Calling spill() on RowBasedKeyValueBatch. Will not spill but return 0.\n",
      "24/11/13 00:30:04 WARN RowBasedKeyValueBatch: Calling spill() on RowBasedKeyValueBatch. Will not spill but return 0.\n",
      "24/11/13 00:30:04 WARN RowBasedKeyValueBatch: Calling spill() on RowBasedKeyValueBatch. Will not spill but return 0.\n",
      "24/11/13 00:30:04 WARN RowBasedKeyValueBatch: Calling spill() on RowBasedKeyValueBatch. Will not spill but return 0.\n",
      "24/11/13 00:30:04 WARN RowBasedKeyValueBatch: Calling spill() on RowBasedKeyValueBatch. Will not spill but return 0.\n",
      "24/11/13 00:30:04 WARN RowBasedKeyValueBatch: Calling spill() on RowBasedKeyValueBatch. Will not spill but return 0.\n",
      "24/11/13 00:30:04 WARN RowBasedKeyValueBatch: Calling spill() on RowBasedKeyValueBatch. Will not spill but return 0.\n",
      "24/11/13 00:30:04 WARN RowBasedKeyValueBatch: Calling spill() on RowBasedKeyValueBatch. Will not spill but return 0.\n",
      "24/11/13 00:30:04 WARN RowBasedKeyValueBatch: Calling spill() on RowBasedKeyValueBatch. Will not spill but return 0.\n",
      "24/11/13 00:30:04 WARN RowBasedKeyValueBatch: Calling spill() on RowBasedKeyValueBatch. Will not spill but return 0.\n",
      "24/11/13 00:30:04 WARN RowBasedKeyValueBatch: Calling spill() on RowBasedKeyValueBatch. Will not spill but return 0.\n",
      "24/11/13 00:30:04 WARN RowBasedKeyValueBatch: Calling spill() on RowBasedKeyValueBatch. Will not spill but return 0.\n",
      "24/11/13 00:30:04 WARN RowBasedKeyValueBatch: Calling spill() on RowBasedKeyValueBatch. Will not spill but return 0.\n",
      "24/11/13 00:30:04 WARN RowBasedKeyValueBatch: Calling spill() on RowBasedKeyValueBatch. Will not spill but return 0.\n",
      "24/11/13 00:30:04 WARN RowBasedKeyValueBatch: Calling spill() on RowBasedKeyValueBatch. Will not spill but return 0.\n",
      "24/11/13 00:30:04 WARN RowBasedKeyValueBatch: Calling spill() on RowBasedKeyValueBatch. Will not spill but return 0.\n",
      "24/11/13 00:30:04 WARN RowBasedKeyValueBatch: Calling spill() on RowBasedKeyValueBatch. Will not spill but return 0.\n",
      "24/11/13 00:30:04 WARN RowBasedKeyValueBatch: Calling spill() on RowBasedKeyValueBatch. Will not spill but return 0.\n",
      "24/11/13 00:30:04 WARN RowBasedKeyValueBatch: Calling spill() on RowBasedKeyValueBatch. Will not spill but return 0.\n",
      "24/11/13 00:30:04 WARN RowBasedKeyValueBatch: Calling spill() on RowBasedKeyValueBatch. Will not spill but return 0.\n",
      "24/11/13 00:30:04 WARN RowBasedKeyValueBatch: Calling spill() on RowBasedKeyValueBatch. Will not spill but return 0.\n",
      "24/11/13 00:30:04 WARN RowBasedKeyValueBatch: Calling spill() on RowBasedKeyValueBatch. Will not spill but return 0.\n",
      "24/11/13 00:30:04 WARN RowBasedKeyValueBatch: Calling spill() on RowBasedKeyValueBatch. Will not spill but return 0.\n",
      "24/11/13 00:30:05 WARN RowBasedKeyValueBatch: Calling spill() on RowBasedKeyValueBatch. Will not spill but return 0.\n",
      "24/11/13 00:30:05 WARN RowBasedKeyValueBatch: Calling spill() on RowBasedKeyValueBatch. Will not spill but return 0.\n",
      "24/11/13 00:30:05 WARN RowBasedKeyValueBatch: Calling spill() on RowBasedKeyValueBatch. Will not spill but return 0.\n",
      "24/11/13 00:30:05 WARN RowBasedKeyValueBatch: Calling spill() on RowBasedKeyValueBatch. Will not spill but return 0.\n",
      "24/11/13 00:30:05 WARN RowBasedKeyValueBatch: Calling spill() on RowBasedKeyValueBatch. Will not spill but return 0.\n",
      "24/11/13 00:30:05 WARN RowBasedKeyValueBatch: Calling spill() on RowBasedKeyValueBatch. Will not spill but return 0.\n",
      "24/11/13 00:30:05 WARN RowBasedKeyValueBatch: Calling spill() on RowBasedKeyValueBatch. Will not spill but return 0.\n",
      "24/11/13 00:30:05 WARN RowBasedKeyValueBatch: Calling spill() on RowBasedKeyValueBatch. Will not spill but return 0.\n",
      "24/11/13 00:30:05 WARN RowBasedKeyValueBatch: Calling spill() on RowBasedKeyValueBatch. Will not spill but return 0.\n",
      "24/11/13 00:30:05 WARN RowBasedKeyValueBatch: Calling spill() on RowBasedKeyValueBatch. Will not spill but return 0.\n",
      "24/11/13 00:30:05 WARN RowBasedKeyValueBatch: Calling spill() on RowBasedKeyValueBatch. Will not spill but return 0.\n",
      "24/11/13 00:30:05 WARN RowBasedKeyValueBatch: Calling spill() on RowBasedKeyValueBatch. Will not spill but return 0.\n",
      "24/11/13 00:30:05 WARN RowBasedKeyValueBatch: Calling spill() on RowBasedKeyValueBatch. Will not spill but return 0.\n",
      "24/11/13 00:30:05 WARN RowBasedKeyValueBatch: Calling spill() on RowBasedKeyValueBatch. Will not spill but return 0.\n",
      "24/11/13 00:30:05 WARN RowBasedKeyValueBatch: Calling spill() on RowBasedKeyValueBatch. Will not spill but return 0.\n",
      "24/11/13 00:30:06 WARN RowBasedKeyValueBatch: Calling spill() on RowBasedKeyValueBatch. Will not spill but return 0.\n",
      "24/11/13 00:30:11 WARN RowBasedKeyValueBatch: Calling spill() on RowBasedKeyValueBatch. Will not spill but return 0.\n",
      "24/11/13 00:30:11 WARN RowBasedKeyValueBatch: Calling spill() on RowBasedKeyValueBatch. Will not spill but return 0.\n",
      "24/11/13 00:30:11 WARN RowBasedKeyValueBatch: Calling spill() on RowBasedKeyValueBatch. Will not spill but return 0.\n",
      "24/11/13 00:30:11 WARN RowBasedKeyValueBatch: Calling spill() on RowBasedKeyValueBatch. Will not spill but return 0.\n",
      "24/11/13 00:30:11 WARN RowBasedKeyValueBatch: Calling spill() on RowBasedKeyValueBatch. Will not spill but return 0.\n",
      "24/11/13 00:30:11 WARN RowBasedKeyValueBatch: Calling spill() on RowBasedKeyValueBatch. Will not spill but return 0.\n",
      "24/11/13 00:30:11 WARN RowBasedKeyValueBatch: Calling spill() on RowBasedKeyValueBatch. Will not spill but return 0.\n",
      "24/11/13 00:30:11 WARN RowBasedKeyValueBatch: Calling spill() on RowBasedKeyValueBatch. Will not spill but return 0.\n",
      "24/11/13 00:30:11 WARN RowBasedKeyValueBatch: Calling spill() on RowBasedKeyValueBatch. Will not spill but return 0.\n",
      "24/11/13 00:30:11 WARN RowBasedKeyValueBatch: Calling spill() on RowBasedKeyValueBatch. Will not spill but return 0.\n",
      "24/11/13 00:30:11 WARN RowBasedKeyValueBatch: Calling spill() on RowBasedKeyValueBatch. Will not spill but return 0.\n",
      "24/11/13 00:30:11 WARN RowBasedKeyValueBatch: Calling spill() on RowBasedKeyValueBatch. Will not spill but return 0.\n",
      "24/11/13 00:30:11 WARN RowBasedKeyValueBatch: Calling spill() on RowBasedKeyValueBatch. Will not spill but return 0.\n",
      "24/11/13 00:30:11 WARN RowBasedKeyValueBatch: Calling spill() on RowBasedKeyValueBatch. Will not spill but return 0.\n",
      "24/11/13 00:30:11 WARN RowBasedKeyValueBatch: Calling spill() on RowBasedKeyValueBatch. Will not spill but return 0.\n",
      "24/11/13 00:30:11 WARN RowBasedKeyValueBatch: Calling spill() on RowBasedKeyValueBatch. Will not spill but return 0.\n",
      "24/11/13 00:30:12 WARN RowBasedKeyValueBatch: Calling spill() on RowBasedKeyValueBatch. Will not spill but return 0.\n",
      "24/11/13 00:30:12 WARN RowBasedKeyValueBatch: Calling spill() on RowBasedKeyValueBatch. Will not spill but return 0.\n",
      "24/11/13 00:30:12 WARN RowBasedKeyValueBatch: Calling spill() on RowBasedKeyValueBatch. Will not spill but return 0.\n",
      "24/11/13 00:30:12 WARN RowBasedKeyValueBatch: Calling spill() on RowBasedKeyValueBatch. Will not spill but return 0.\n",
      "24/11/13 00:30:12 WARN RowBasedKeyValueBatch: Calling spill() on RowBasedKeyValueBatch. Will not spill but return 0.\n",
      "24/11/13 00:30:12 WARN RowBasedKeyValueBatch: Calling spill() on RowBasedKeyValueBatch. Will not spill but return 0.\n",
      "24/11/13 00:30:12 WARN RowBasedKeyValueBatch: Calling spill() on RowBasedKeyValueBatch. Will not spill but return 0.\n",
      "24/11/13 00:30:12 WARN RowBasedKeyValueBatch: Calling spill() on RowBasedKeyValueBatch. Will not spill but return 0.\n",
      "24/11/13 00:30:12 WARN RowBasedKeyValueBatch: Calling spill() on RowBasedKeyValueBatch. Will not spill but return 0.\n",
      "24/11/13 00:30:12 WARN RowBasedKeyValueBatch: Calling spill() on RowBasedKeyValueBatch. Will not spill but return 0.\n",
      "24/11/13 00:30:12 WARN RowBasedKeyValueBatch: Calling spill() on RowBasedKeyValueBatch. Will not spill but return 0.\n",
      "24/11/13 00:30:12 WARN RowBasedKeyValueBatch: Calling spill() on RowBasedKeyValueBatch. Will not spill but return 0.\n",
      "24/11/13 00:30:12 WARN RowBasedKeyValueBatch: Calling spill() on RowBasedKeyValueBatch. Will not spill but return 0.\n",
      "24/11/13 00:30:12 WARN RowBasedKeyValueBatch: Calling spill() on RowBasedKeyValueBatch. Will not spill but return 0.\n",
      "24/11/13 00:30:12 WARN RowBasedKeyValueBatch: Calling spill() on RowBasedKeyValueBatch. Will not spill but return 0.\n",
      "24/11/13 00:30:12 WARN RowBasedKeyValueBatch: Calling spill() on RowBasedKeyValueBatch. Will not spill but return 0.\n",
      "24/11/13 00:30:12 WARN RowBasedKeyValueBatch: Calling spill() on RowBasedKeyValueBatch. Will not spill but return 0.\n",
      "24/11/13 00:30:12 WARN RowBasedKeyValueBatch: Calling spill() on RowBasedKeyValueBatch. Will not spill but return 0.\n",
      "24/11/13 00:30:12 WARN RowBasedKeyValueBatch: Calling spill() on RowBasedKeyValueBatch. Will not spill but return 0.\n",
      "24/11/13 00:30:12 WARN RowBasedKeyValueBatch: Calling spill() on RowBasedKeyValueBatch. Will not spill but return 0.\n",
      "24/11/13 00:30:12 WARN RowBasedKeyValueBatch: Calling spill() on RowBasedKeyValueBatch. Will not spill but return 0.\n",
      "24/11/13 00:30:12 WARN RowBasedKeyValueBatch: Calling spill() on RowBasedKeyValueBatch. Will not spill but return 0.\n",
      "24/11/13 00:30:12 WARN RowBasedKeyValueBatch: Calling spill() on RowBasedKeyValueBatch. Will not spill but return 0.\n",
      "24/11/13 00:30:12 WARN RowBasedKeyValueBatch: Calling spill() on RowBasedKeyValueBatch. Will not spill but return 0.\n",
      "24/11/13 00:30:12 WARN RowBasedKeyValueBatch: Calling spill() on RowBasedKeyValueBatch. Will not spill but return 0.\n",
      "24/11/13 00:30:12 WARN RowBasedKeyValueBatch: Calling spill() on RowBasedKeyValueBatch. Will not spill but return 0.\n",
      "24/11/13 00:30:12 WARN RowBasedKeyValueBatch: Calling spill() on RowBasedKeyValueBatch. Will not spill but return 0.\n",
      "24/11/13 00:30:12 WARN RowBasedKeyValueBatch: Calling spill() on RowBasedKeyValueBatch. Will not spill but return 0.\n",
      "24/11/13 00:30:12 WARN RowBasedKeyValueBatch: Calling spill() on RowBasedKeyValueBatch. Will not spill but return 0.\n",
      "24/11/13 00:30:12 WARN RowBasedKeyValueBatch: Calling spill() on RowBasedKeyValueBatch. Will not spill but return 0.\n",
      "24/11/13 00:30:12 WARN RowBasedKeyValueBatch: Calling spill() on RowBasedKeyValueBatch. Will not spill but return 0.\n",
      "24/11/13 00:30:12 WARN RowBasedKeyValueBatch: Calling spill() on RowBasedKeyValueBatch. Will not spill but return 0.\n",
      "24/11/13 00:30:12 WARN RowBasedKeyValueBatch: Calling spill() on RowBasedKeyValueBatch. Will not spill but return 0.\n",
      "24/11/13 00:30:12 WARN RowBasedKeyValueBatch: Calling spill() on RowBasedKeyValueBatch. Will not spill but return 0.\n",
      "24/11/13 00:30:12 WARN RowBasedKeyValueBatch: Calling spill() on RowBasedKeyValueBatch. Will not spill but return 0.\n",
      "24/11/13 00:30:12 WARN RowBasedKeyValueBatch: Calling spill() on RowBasedKeyValueBatch. Will not spill but return 0.\n",
      "24/11/13 00:30:12 WARN RowBasedKeyValueBatch: Calling spill() on RowBasedKeyValueBatch. Will not spill but return 0.\n",
      "24/11/13 00:30:12 WARN RowBasedKeyValueBatch: Calling spill() on RowBasedKeyValueBatch. Will not spill but return 0.\n",
      "24/11/13 00:30:12 WARN RowBasedKeyValueBatch: Calling spill() on RowBasedKeyValueBatch. Will not spill but return 0.\n",
      "24/11/13 00:30:12 WARN RowBasedKeyValueBatch: Calling spill() on RowBasedKeyValueBatch. Will not spill but return 0.\n",
      "24/11/13 00:30:12 WARN RowBasedKeyValueBatch: Calling spill() on RowBasedKeyValueBatch. Will not spill but return 0.\n",
      "24/11/13 00:30:12 WARN RowBasedKeyValueBatch: Calling spill() on RowBasedKeyValueBatch. Will not spill but return 0.\n",
      "24/11/13 00:30:12 WARN RowBasedKeyValueBatch: Calling spill() on RowBasedKeyValueBatch. Will not spill but return 0.\n",
      "24/11/13 00:30:12 WARN RowBasedKeyValueBatch: Calling spill() on RowBasedKeyValueBatch. Will not spill but return 0.\n",
      "24/11/13 00:30:12 WARN RowBasedKeyValueBatch: Calling spill() on RowBasedKeyValueBatch. Will not spill but return 0.\n",
      "24/11/13 00:30:12 WARN RowBasedKeyValueBatch: Calling spill() on RowBasedKeyValueBatch. Will not spill but return 0.\n",
      "24/11/13 00:30:12 WARN RowBasedKeyValueBatch: Calling spill() on RowBasedKeyValueBatch. Will not spill but return 0.\n",
      "24/11/13 00:30:12 WARN RowBasedKeyValueBatch: Calling spill() on RowBasedKeyValueBatch. Will not spill but return 0.\n",
      "24/11/13 00:30:12 WARN RowBasedKeyValueBatch: Calling spill() on RowBasedKeyValueBatch. Will not spill but return 0.\n",
      "24/11/13 00:30:12 WARN RowBasedKeyValueBatch: Calling spill() on RowBasedKeyValueBatch. Will not spill but return 0.\n",
      "24/11/13 00:30:12 WARN RowBasedKeyValueBatch: Calling spill() on RowBasedKeyValueBatch. Will not spill but return 0.\n",
      "24/11/13 00:30:12 WARN RowBasedKeyValueBatch: Calling spill() on RowBasedKeyValueBatch. Will not spill but return 0.\n",
      "24/11/13 00:30:12 WARN RowBasedKeyValueBatch: Calling spill() on RowBasedKeyValueBatch. Will not spill but return 0.\n",
      "24/11/13 00:30:12 WARN RowBasedKeyValueBatch: Calling spill() on RowBasedKeyValueBatch. Will not spill but return 0.\n",
      "24/11/13 00:30:12 WARN RowBasedKeyValueBatch: Calling spill() on RowBasedKeyValueBatch. Will not spill but return 0.\n",
      "24/11/13 00:30:12 WARN RowBasedKeyValueBatch: Calling spill() on RowBasedKeyValueBatch. Will not spill but return 0.\n",
      "24/11/13 00:30:12 WARN RowBasedKeyValueBatch: Calling spill() on RowBasedKeyValueBatch. Will not spill but return 0.\n",
      "24/11/13 00:30:12 WARN RowBasedKeyValueBatch: Calling spill() on RowBasedKeyValueBatch. Will not spill but return 0.\n",
      "24/11/13 00:30:12 WARN RowBasedKeyValueBatch: Calling spill() on RowBasedKeyValueBatch. Will not spill but return 0.\n",
      "24/11/13 00:30:13 WARN RowBasedKeyValueBatch: Calling spill() on RowBasedKeyValueBatch. Will not spill but return 0.\n",
      "24/11/13 00:30:13 WARN RowBasedKeyValueBatch: Calling spill() on RowBasedKeyValueBatch. Will not spill but return 0.\n",
      "24/11/13 00:30:13 WARN RowBasedKeyValueBatch: Calling spill() on RowBasedKeyValueBatch. Will not spill but return 0.\n",
      "24/11/13 00:30:13 WARN RowBasedKeyValueBatch: Calling spill() on RowBasedKeyValueBatch. Will not spill but return 0.\n",
      "24/11/13 00:30:13 WARN RowBasedKeyValueBatch: Calling spill() on RowBasedKeyValueBatch. Will not spill but return 0.\n",
      "24/11/13 00:30:13 WARN RowBasedKeyValueBatch: Calling spill() on RowBasedKeyValueBatch. Will not spill but return 0.\n",
      "24/11/13 00:30:13 WARN RowBasedKeyValueBatch: Calling spill() on RowBasedKeyValueBatch. Will not spill but return 0.\n",
      "24/11/13 00:30:13 WARN RowBasedKeyValueBatch: Calling spill() on RowBasedKeyValueBatch. Will not spill but return 0.\n",
      "24/11/13 00:30:13 WARN RowBasedKeyValueBatch: Calling spill() on RowBasedKeyValueBatch. Will not spill but return 0.\n",
      "24/11/13 00:30:13 WARN RowBasedKeyValueBatch: Calling spill() on RowBasedKeyValueBatch. Will not spill but return 0.\n",
      "24/11/13 00:30:13 WARN RowBasedKeyValueBatch: Calling spill() on RowBasedKeyValueBatch. Will not spill but return 0.\n",
      "24/11/13 00:30:13 WARN RowBasedKeyValueBatch: Calling spill() on RowBasedKeyValueBatch. Will not spill but return 0.\n",
      "24/11/13 00:30:13 WARN RowBasedKeyValueBatch: Calling spill() on RowBasedKeyValueBatch. Will not spill but return 0.\n",
      "24/11/13 00:30:13 WARN RowBasedKeyValueBatch: Calling spill() on RowBasedKeyValueBatch. Will not spill but return 0.\n",
      "24/11/13 00:30:13 WARN RowBasedKeyValueBatch: Calling spill() on RowBasedKeyValueBatch. Will not spill but return 0.\n",
      "24/11/13 00:30:13 WARN RowBasedKeyValueBatch: Calling spill() on RowBasedKeyValueBatch. Will not spill but return 0.\n",
      "24/11/13 00:30:13 WARN RowBasedKeyValueBatch: Calling spill() on RowBasedKeyValueBatch. Will not spill but return 0.\n",
      "24/11/13 00:30:13 WARN RowBasedKeyValueBatch: Calling spill() on RowBasedKeyValueBatch. Will not spill but return 0.\n",
      "24/11/13 00:30:13 WARN RowBasedKeyValueBatch: Calling spill() on RowBasedKeyValueBatch. Will not spill but return 0.\n",
      "24/11/13 00:30:13 WARN RowBasedKeyValueBatch: Calling spill() on RowBasedKeyValueBatch. Will not spill but return 0.\n",
      "24/11/13 00:30:13 WARN RowBasedKeyValueBatch: Calling spill() on RowBasedKeyValueBatch. Will not spill but return 0.\n",
      "24/11/13 00:30:13 WARN RowBasedKeyValueBatch: Calling spill() on RowBasedKeyValueBatch. Will not spill but return 0.\n",
      "24/11/13 00:30:13 WARN RowBasedKeyValueBatch: Calling spill() on RowBasedKeyValueBatch. Will not spill but return 0.\n",
      "24/11/13 00:30:13 WARN RowBasedKeyValueBatch: Calling spill() on RowBasedKeyValueBatch. Will not spill but return 0.\n",
      "24/11/13 00:30:13 WARN RowBasedKeyValueBatch: Calling spill() on RowBasedKeyValueBatch. Will not spill but return 0.\n",
      "24/11/13 00:30:13 WARN RowBasedKeyValueBatch: Calling spill() on RowBasedKeyValueBatch. Will not spill but return 0.\n",
      "24/11/13 00:30:13 WARN RowBasedKeyValueBatch: Calling spill() on RowBasedKeyValueBatch. Will not spill but return 0.\n",
      "24/11/13 00:30:13 WARN RowBasedKeyValueBatch: Calling spill() on RowBasedKeyValueBatch. Will not spill but return 0.\n",
      "24/11/13 00:30:13 WARN RowBasedKeyValueBatch: Calling spill() on RowBasedKeyValueBatch. Will not spill but return 0.\n",
      "24/11/13 00:30:13 WARN RowBasedKeyValueBatch: Calling spill() on RowBasedKeyValueBatch. Will not spill but return 0.\n",
      "24/11/13 00:30:13 WARN RowBasedKeyValueBatch: Calling spill() on RowBasedKeyValueBatch. Will not spill but return 0.\n",
      "24/11/13 00:30:13 WARN RowBasedKeyValueBatch: Calling spill() on RowBasedKeyValueBatch. Will not spill but return 0.\n",
      "24/11/13 00:30:13 WARN RowBasedKeyValueBatch: Calling spill() on RowBasedKeyValueBatch. Will not spill but return 0.\n",
      "24/11/13 00:30:13 WARN RowBasedKeyValueBatch: Calling spill() on RowBasedKeyValueBatch. Will not spill but return 0.\n",
      "24/11/13 00:30:13 WARN RowBasedKeyValueBatch: Calling spill() on RowBasedKeyValueBatch. Will not spill but return 0.\n",
      "24/11/13 00:30:13 WARN RowBasedKeyValueBatch: Calling spill() on RowBasedKeyValueBatch. Will not spill but return 0.\n",
      "24/11/13 00:30:13 WARN RowBasedKeyValueBatch: Calling spill() on RowBasedKeyValueBatch. Will not spill but return 0.\n",
      "                                                                                \r"
     ]
    },
    {
     "name": "stdout",
     "output_type": "stream",
     "text": [
      "+-------------+------------------------------------------------------------+--------------------+--------------------+\n",
      "|Tag          |Name                                                        |Unit                |Unique Values (Real)|\n",
      "+-------------+------------------------------------------------------------+--------------------+--------------------+\n",
      "|ABER-CKGL    |Opening of the GLCK (gas lift choke)                        |%                   |300484              |\n",
      "|ABER-CKP     |Opening of the PCK (production choke)                       |%                   |850210              |\n",
      "|ESTADO-DHSV  |State of the DHSV (downhole safety valve)                   |[0, 0.5, 1]         |2                   |\n",
      "|ESTADO-M1    |State of the PMV (production master valve)                  |[0, 0.5, 1]         |2                   |\n",
      "|ESTADO-PXO   |State of the PXO (pig-crossover) valve                      |[0, 0.5, 1]         |2                   |\n",
      "|ESTADO-M2    |State of the AMV (annulus master valve)                     |[0, 0.5, 1]         |3                   |\n",
      "|ESTADO-SDV-GL|State of the gas lift SDV (shutdown valve)                  |[0, 0.5, 1]         |2                   |\n",
      "|ESTADO-SDV-P |State of the production SDV (shutdown valve)                |[0, 0.5, 1]         |2                   |\n",
      "|ESTADO-W1    |State of the PWV (production wing valve)                    |[0, 0.5, 1]         |2                   |\n",
      "|ESTADO-W2    |State of the AWV (annulus wing valve)                       |[0, 0.5, 1]         |3                   |\n",
      "|P-ANULAR     |Pressure in the well annulus                                |Pa                  |1496311             |\n",
      "|ESTADO-XO    |State of the XO (crossover) valve                           |[0, 0.5, 1]         |2                   |\n",
      "|P-JUS-BS     |Downstream pressure of the SP (service pump)                |Pa                  |0                   |\n",
      "|P-JUS-CKGL   |Downstream pressure of the GLCK (gas lift choke)            |Pa                  |2868202             |\n",
      "|P-MON-SDV-P  |Upstream pressure of the production SDV (shutdown valve)    |Pa                  |0                   |\n",
      "|P-MON-CKP    |Upstream pressure of the PCK (production choke)             |Pa                  |3479501             |\n",
      "|P-JUS-CKP    |Downstream pressure of the PCK (production choke)           |Pa                  |351370              |\n",
      "|P-MON-CKGL   |Upstream pressure of the GLCK (gas lift choke)              |Pa                  |92596               |\n",
      "|P-PDG        |Pressure at the PDG (permanent downhole gauge)              |Pa                  |1077171             |\n",
      "|PT-P         |Downstream pressure of the PWV in the production tube       |Pa                  |0                   |\n",
      "|P-TPT        |Pressure at the TPT (temperature and pressure transducer)   |Pa                  |1782324             |\n",
      "|QBS          |Flow rate at the SP (service pump)                          |m3/s                |0                   |\n",
      "|QGL          |Gas lift flow rate                                          |m3/s                |2310417             |\n",
      "|T-JUS-CKP    |Downstream temperature of the PCK (production choke)        |°C                  |3080444             |\n",
      "|T-MON-CKP    |Upstream temperature of the PCK (production choke)          |°C                  |1980654             |\n",
      "|T-PDG        |Temperature at the PDG (permanent downhole gauge)           |°C                  |861293              |\n",
      "|class        |Label of the observation                                    |Label               |17                  |\n",
      "|T-TPT        |Temperature at the TPT (temperature and pressure transducer)|°C                  |1376954             |\n",
      "|label        |Instance label (event type)                                 |Instance Label      |10                  |\n",
      "|state        |Well operational status                                     |Operational Status  |9                   |\n",
      "|well         |Well name                                                   |Well Name           |40                  |\n",
      "|id           |Instance identifier                                         |Instance ID         |1113                |\n",
      "|Instance     |Instance count based on manual labeling                     |Instance ID (Manual)|1119                |\n",
      "|DataType     |Real , simulated or hand-drawn                              |Dataset Type        |1                   |\n",
      "|timestamp    |Timestamp                                                   |Timestamp           |24910943            |\n",
      "+-------------+------------------------------------------------------------+--------------------+--------------------+\n",
      "\n"
     ]
    },
    {
     "name": "stderr",
     "output_type": "stream",
     "text": [
      "                                                                                \r"
     ]
    }
   ],
   "source": [
    "# Generate Unique Values Table\n",
    "unique_values_table = generate_unique_values_table(reference_table, spark_df_real, 'Unique Values (Real)')\n",
    "unique_values_table.show(truncate=False, n=999)"
   ]
  },
  {
   "cell_type": "code",
   "execution_count": 10,
   "metadata": {},
   "outputs": [],
   "source": [
    "def add_value_type_column(unique_values_table):\n",
    "    # Step 1: Define conditions for the 'Value Type' column based on 'Unique Values (Real)'\n",
    "    unique_values_table = unique_values_table.withColumn(\n",
    "        \"Value Type\",\n",
    "        when(col(\"Unique Values (Real)\") == 0, \"Empty\")\n",
    "        .when(col(\"Unique Values (Real)\") <= 3, \"Categorical\")\n",
    "        .when(col(\"Tag\").isin(\"label\", \"class\", \"state\"), \"Classifier\")\n",
    "        .when(col(\"Tag\").isin(\"well\", \"id\", \"Instance\"), \"Identifier\")\n",
    "        .when(col(\"Tag\") == \"DataType\", \"Dataset\")\n",
    "        .when(col(\"Tag\") == \"timestamp\", \"Timestamp\")\n",
    "        .otherwise(\"Continuous\")\n",
    "    )\n",
    "    \n",
    "    # Step 2: Reorder columns: place 'Value Type' after 'Unit'\n",
    "    column_order = [\n",
    "        'Tag', 'Name', 'Unit', 'Value Type', 'Unique Values (Real)'\n",
    "    ]\n",
    "    \n",
    "    # Select and reorder columns as specified\n",
    "    unique_values_table = unique_values_table.select(*column_order)\n",
    "    \n",
    "    return unique_values_table"
   ]
  },
  {
   "cell_type": "code",
   "execution_count": 11,
   "metadata": {},
   "outputs": [
    {
     "name": "stdout",
     "output_type": "stream",
     "text": [
      "+-------------+------------------------------------------------------------+--------------------+-----------+--------------------+\n",
      "|Tag          |Name                                                        |Unit                |Value Type |Unique Values (Real)|\n",
      "+-------------+------------------------------------------------------------+--------------------+-----------+--------------------+\n",
      "|ABER-CKGL    |Opening of the GLCK (gas lift choke)                        |%                   |Continuous |300484              |\n",
      "|ABER-CKP     |Opening of the PCK (production choke)                       |%                   |Continuous |850210              |\n",
      "|ESTADO-DHSV  |State of the DHSV (downhole safety valve)                   |[0, 0.5, 1]         |Categorical|2                   |\n",
      "|ESTADO-M1    |State of the PMV (production master valve)                  |[0, 0.5, 1]         |Categorical|2                   |\n",
      "|ESTADO-PXO   |State of the PXO (pig-crossover) valve                      |[0, 0.5, 1]         |Categorical|2                   |\n",
      "|ESTADO-M2    |State of the AMV (annulus master valve)                     |[0, 0.5, 1]         |Categorical|3                   |\n",
      "|ESTADO-SDV-GL|State of the gas lift SDV (shutdown valve)                  |[0, 0.5, 1]         |Categorical|2                   |\n",
      "|ESTADO-SDV-P |State of the production SDV (shutdown valve)                |[0, 0.5, 1]         |Categorical|2                   |\n",
      "|ESTADO-W1    |State of the PWV (production wing valve)                    |[0, 0.5, 1]         |Categorical|2                   |\n",
      "|ESTADO-W2    |State of the AWV (annulus wing valve)                       |[0, 0.5, 1]         |Categorical|3                   |\n",
      "|P-ANULAR     |Pressure in the well annulus                                |Pa                  |Continuous |1496311             |\n",
      "|ESTADO-XO    |State of the XO (crossover) valve                           |[0, 0.5, 1]         |Categorical|2                   |\n",
      "|P-JUS-BS     |Downstream pressure of the SP (service pump)                |Pa                  |Empty      |0                   |\n",
      "|P-JUS-CKGL   |Downstream pressure of the GLCK (gas lift choke)            |Pa                  |Continuous |2868202             |\n",
      "|P-MON-SDV-P  |Upstream pressure of the production SDV (shutdown valve)    |Pa                  |Empty      |0                   |\n",
      "|P-MON-CKP    |Upstream pressure of the PCK (production choke)             |Pa                  |Continuous |3479501             |\n",
      "|P-JUS-CKP    |Downstream pressure of the PCK (production choke)           |Pa                  |Continuous |351370              |\n",
      "|P-MON-CKGL   |Upstream pressure of the GLCK (gas lift choke)              |Pa                  |Continuous |92596               |\n",
      "|P-PDG        |Pressure at the PDG (permanent downhole gauge)              |Pa                  |Continuous |1077171             |\n",
      "|PT-P         |Downstream pressure of the PWV in the production tube       |Pa                  |Empty      |0                   |\n",
      "|P-TPT        |Pressure at the TPT (temperature and pressure transducer)   |Pa                  |Continuous |1782324             |\n",
      "|QBS          |Flow rate at the SP (service pump)                          |m3/s                |Empty      |0                   |\n",
      "|QGL          |Gas lift flow rate                                          |m3/s                |Continuous |2310417             |\n",
      "|T-JUS-CKP    |Downstream temperature of the PCK (production choke)        |°C                  |Continuous |3080444             |\n",
      "|T-MON-CKP    |Upstream temperature of the PCK (production choke)          |°C                  |Continuous |1980654             |\n",
      "|T-PDG        |Temperature at the PDG (permanent downhole gauge)           |°C                  |Continuous |861293              |\n",
      "|class        |Label of the observation                                    |Label               |Classifier |17                  |\n",
      "|T-TPT        |Temperature at the TPT (temperature and pressure transducer)|°C                  |Continuous |1376954             |\n",
      "|label        |Instance label (event type)                                 |Instance Label      |Classifier |10                  |\n",
      "|state        |Well operational status                                     |Operational Status  |Classifier |9                   |\n",
      "|well         |Well name                                                   |Well Name           |Identifier |40                  |\n",
      "|id           |Instance identifier                                         |Instance ID         |Identifier |1113                |\n",
      "|Instance     |Instance count based on manual labeling                     |Instance ID (Manual)|Identifier |1119                |\n",
      "|DataType     |Real , simulated or hand-drawn                              |Dataset Type        |Categorical|1                   |\n",
      "|timestamp    |Timestamp                                                   |Timestamp           |Timestamp  |24910943            |\n",
      "+-------------+------------------------------------------------------------+--------------------+-----------+--------------------+\n",
      "\n"
     ]
    }
   ],
   "source": [
    "unique_values_table = add_value_type_column(unique_values_table)\n",
    "unique_values_table.show(truncate=False, n=999)"
   ]
  },
  {
   "cell_type": "markdown",
   "metadata": {},
   "source": [
    "# Missing Values"
   ]
  },
  {
   "cell_type": "code",
   "execution_count": 12,
   "metadata": {},
   "outputs": [],
   "source": [
    "def generate_missing_values_table(reference_table, spark_df, column_name):\n",
    "    record_count = spark_df.count()\n",
    "    \n",
    "    # Step 1: Calculate the percentage of missing values for each column\n",
    "    missing_counts = []\n",
    "    for c in spark_df.columns:\n",
    "        # Calculate the percentage of rows where the value is either NaN or Null\n",
    "        missing_percentage = (spark_df.filter((col(c).isNull()) | (isnan(col(c)))).count() / record_count) * 100\n",
    "        missing_counts.append((c, missing_percentage))\n",
    "    \n",
    "    # Step 2: Convert the list of tuples to a Spark DataFrame\n",
    "    missing_counts_df = spark.createDataFrame(missing_counts, [\"Tag\", column_name])\n",
    "    \n",
    "    # Step 3: Round the missing values percentage to the nearest decimal\n",
    "    missing_counts_df = missing_counts_df.withColumn(column_name, round(col(column_name), 1))\n",
    "    \n",
    "    # Step 4: Join with the reference table to align missing values with tags\n",
    "    missing_values_df = reference_table.join(missing_counts_df, on=\"Tag\", how=\"left\")\n",
    "    \n",
    "    return missing_values_df"
   ]
  },
  {
   "cell_type": "code",
   "execution_count": 13,
   "metadata": {},
   "outputs": [
    {
     "name": "stderr",
     "output_type": "stream",
     "text": [
      "                                                                                \r"
     ]
    },
    {
     "name": "stdout",
     "output_type": "stream",
     "text": [
      "+-------------+------------------------------------------------------------+--------------------+-----------+--------------------+-------------------------+\n",
      "|Tag          |Name                                                        |Unit                |Value Type |Unique Values (Real)|Missing Values (%) (Real)|\n",
      "+-------------+------------------------------------------------------------+--------------------+-----------+--------------------+-------------------------+\n",
      "|ABER-CKGL    |Opening of the GLCK (gas lift choke)                        |%                   |Continuous |300484              |74.2                     |\n",
      "|ABER-CKP     |Opening of the PCK (production choke)                       |%                   |Continuous |850210              |62.5                     |\n",
      "|ESTADO-DHSV  |State of the DHSV (downhole safety valve)                   |[0, 0.5, 1]         |Categorical|2                   |57.8                     |\n",
      "|ESTADO-M1    |State of the PMV (production master valve)                  |[0, 0.5, 1]         |Categorical|2                   |45.9                     |\n",
      "|ESTADO-PXO   |State of the PXO (pig-crossover) valve                      |[0, 0.5, 1]         |Categorical|2                   |44.7                     |\n",
      "|ESTADO-M2    |State of the AMV (annulus master valve)                     |[0, 0.5, 1]         |Categorical|3                   |46.2                     |\n",
      "|ESTADO-SDV-GL|State of the gas lift SDV (shutdown valve)                  |[0, 0.5, 1]         |Categorical|2                   |48.0                     |\n",
      "|ESTADO-SDV-P |State of the production SDV (shutdown valve)                |[0, 0.5, 1]         |Categorical|2                   |26.0                     |\n",
      "|ESTADO-W1    |State of the PWV (production wing valve)                    |[0, 0.5, 1]         |Categorical|2                   |42.4                     |\n",
      "|ESTADO-W2    |State of the AWV (annulus wing valve)                       |[0, 0.5, 1]         |Categorical|3                   |44.3                     |\n",
      "|P-ANULAR     |Pressure in the well annulus                                |Pa                  |Continuous |1496311             |22.5                     |\n",
      "|ESTADO-XO    |State of the XO (crossover) valve                           |[0, 0.5, 1]         |Categorical|2                   |43.6                     |\n",
      "|P-JUS-BS     |Downstream pressure of the SP (service pump)                |Pa                  |Empty      |0                   |100.0                    |\n",
      "|P-JUS-CKGL   |Downstream pressure of the GLCK (gas lift choke)            |Pa                  |Continuous |2868202             |23.8                     |\n",
      "|P-MON-SDV-P  |Upstream pressure of the production SDV (shutdown valve)    |Pa                  |Empty      |0                   |100.0                    |\n",
      "|P-MON-CKP    |Upstream pressure of the PCK (production choke)             |Pa                  |Continuous |3479501             |21.5                     |\n",
      "|P-JUS-CKP    |Downstream pressure of the PCK (production choke)           |Pa                  |Continuous |351370              |89.5                     |\n",
      "|P-MON-CKGL   |Upstream pressure of the GLCK (gas lift choke)              |Pa                  |Continuous |92596               |99.1                     |\n",
      "|P-PDG        |Pressure at the PDG (permanent downhole gauge)              |Pa                  |Continuous |1077171             |24.1                     |\n",
      "|PT-P         |Downstream pressure of the PWV in the production tube       |Pa                  |Empty      |0                   |100.0                    |\n",
      "|P-TPT        |Pressure at the TPT (temperature and pressure transducer)   |Pa                  |Continuous |1782324             |16.4                     |\n",
      "|QBS          |Flow rate at the SP (service pump)                          |m3/s                |Empty      |0                   |100.0                    |\n",
      "|QGL          |Gas lift flow rate                                          |m3/s                |Continuous |2310417             |46.1                     |\n",
      "|T-JUS-CKP    |Downstream temperature of the PCK (production choke)        |°C                  |Continuous |3080444             |48.8                     |\n",
      "|T-MON-CKP    |Upstream temperature of the PCK (production choke)          |°C                  |Continuous |1980654             |84.9                     |\n",
      "|T-PDG        |Temperature at the PDG (permanent downhole gauge)           |°C                  |Continuous |861293              |36.7                     |\n",
      "|class        |Label of the observation                                    |Label               |Classifier |17                  |12.3                     |\n",
      "|T-TPT        |Temperature at the TPT (temperature and pressure transducer)|°C                  |Continuous |1376954             |13.6                     |\n",
      "|label        |Instance label (event type)                                 |Instance Label      |Classifier |10                  |0.0                      |\n",
      "|state        |Well operational status                                     |Operational Status  |Classifier |9                   |12.3                     |\n",
      "|well         |Well name                                                   |Well Name           |Identifier |40                  |0.0                      |\n",
      "|id           |Instance identifier                                         |Instance ID         |Identifier |1113                |0.0                      |\n",
      "|Instance     |Instance count based on manual labeling                     |Instance ID (Manual)|Identifier |1119                |0.0                      |\n",
      "|DataType     |Real , simulated or hand-drawn                              |Dataset Type        |Categorical|1                   |0.0                      |\n",
      "|timestamp    |Timestamp                                                   |Timestamp           |Timestamp  |24910943            |0.0                      |\n",
      "+-------------+------------------------------------------------------------+--------------------+-----------+--------------------+-------------------------+\n",
      "\n"
     ]
    }
   ],
   "source": [
    "# Generate Missing Values Table\n",
    "unique_values_table_with_missing = generate_missing_values_table(unique_values_table, spark_df_real, 'Missing Values (%) (Real)')\n",
    "unique_values_table_with_missing.show(truncate=False, n=999)"
   ]
  },
  {
   "cell_type": "code",
   "execution_count": 36,
   "metadata": {},
   "outputs": [],
   "source": [
    "reference_table_real = unique_values_table_with_missing"
   ]
  },
  {
   "cell_type": "code",
   "execution_count": 14,
   "metadata": {},
   "outputs": [],
   "source": [
    "def plot_histogram_single_dataset(spark_df, label_column, count_basis, df_name='Dataset'):\n",
    "    # Count unique values based on the count_basis column\n",
    "    label_counts = spark_df.groupBy(label_column).agg(countDistinct(count_basis).alias(\"count\"))\n",
    "    label_counts_df = label_counts.toPandas()  # Convert to Pandas DataFrame for plotting\n",
    "\n",
    "    # Sort the DataFrame by the label_column\n",
    "    label_counts_df = label_counts_df.sort_values(by=label_column).reset_index(drop=True)\n",
    "\n",
    "    # Plot the histogram\n",
    "    label_counts_df.plot(kind='bar', x=label_column, y=\"count\", figsize=(10, 6))\n",
    "    plt.title(f'Unique {count_basis} Counts by {label_column}')\n",
    "    plt.xlabel(label_column)\n",
    "    plt.ylabel(\"Unique Counts\")\n",
    "    plt.show()"
   ]
  },
  {
   "cell_type": "code",
   "execution_count": 15,
   "metadata": {},
   "outputs": [
    {
     "data": {
      "image/png": "[encoded data removed]",
      "text/plain": [
       "<Figure size 1000x600 with 1 Axes>"
      ]
     },
     "metadata": {},
     "output_type": "display_data"
    }
   ],
   "source": [
    "plot_histogram_single_dataset(spark_df_real, 'label', 'Instance', 'Real')"
   ]
  },
  {
   "cell_type": "code",
   "execution_count": 16,
   "metadata": {},
   "outputs": [],
   "source": [
    "def compare_unique_identifiers(spark_df, label_column, unique_values_table):\n",
    "    # Step 1: Identify columns classified as \"Identifier\"\n",
    "    identifier_columns = (\n",
    "        unique_values_table.filter(col(\"Value Type\") == \"Identifier\")\n",
    "        .select(\"Tag\")\n",
    "        .rdd.flatMap(lambda x: x)\n",
    "        .collect()\n",
    "    )\n",
    "    \n",
    "    # Step 2: For each identifier, count unique values grouped by the label_column\n",
    "    unique_counts = [\n",
    "        spark_df.groupBy(label_column).agg(countDistinct(identifier).alias(identifier))\n",
    "        for identifier in identifier_columns\n",
    "    ]\n",
    "    \n",
    "    # Step 3: Perform successive joins to combine all unique counts into a single DataFrame\n",
    "    result_df = unique_counts[0]\n",
    "    for df in unique_counts[1:]:\n",
    "        result_df = result_df.join(df, on=label_column, how=\"outer\")\n",
    "    \n",
    "    return result_df"
   ]
  },
  {
   "cell_type": "code",
   "execution_count": 17,
   "metadata": {},
   "outputs": [
    {
     "name": "stderr",
     "output_type": "stream",
     "text": [
      "[Stage 375:===>                                                   (1 + 15) / 16]\r"
     ]
    },
    {
     "name": "stdout",
     "output_type": "stream",
     "text": [
      "+-----+----+---+--------+\n",
      "|label|well|id |Instance|\n",
      "+-----+----+---+--------+\n",
      "|0    |9   |588|594     |\n",
      "|1    |3   |4  |4       |\n",
      "|2    |7   |22 |22      |\n",
      "|3    |2   |32 |32      |\n",
      "|4    |7   |343|343     |\n",
      "|5    |3   |11 |11      |\n",
      "|6    |2   |6  |6       |\n",
      "|7    |6   |36 |36      |\n",
      "|8    |9   |14 |14      |\n",
      "|9    |15  |57 |57      |\n",
      "+-----+----+---+--------+\n",
      "\n"
     ]
    },
    {
     "name": "stderr",
     "output_type": "stream",
     "text": [
      "                                                                                \r"
     ]
    }
   ],
   "source": [
    "result_df = compare_unique_identifiers(spark_df_real, 'label', unique_values_table_with_missing)\n",
    "result_df.show(truncate=False, n=999)"
   ]
  },
  {
   "cell_type": "code",
   "execution_count": 18,
   "metadata": {},
   "outputs": [],
   "source": [
    "def count_unique_values(spark_df, row_feature, col_feature, count_feature):\n",
    "    # Fill any null values in row and column features to avoid null grouping\n",
    "    spark_df = spark_df.fillna({row_feature: \"Unknown\", col_feature: \"Unknown\"})\n",
    "    \n",
    "    # Step 1: Calculate unique counts by row and column features\n",
    "    unique_counts_df = (spark_df\n",
    "                        .groupBy(row_feature, col_feature)\n",
    "                        .agg(F.countDistinct(count_feature).alias(\"Unique_Count\")))\n",
    "    \n",
    "    # Step 2: Directly pivot on the unique counts\n",
    "    result_df = (unique_counts_df\n",
    "                 .groupBy(row_feature)\n",
    "                 .pivot(col_feature)\n",
    "                 .sum(\"Unique_Count\")\n",
    "                 .fillna(\"Unknown\"))  # Fill missing values with 0\n",
    "    \n",
    "    # Step 3: Sort by the row feature\n",
    "    result_df = result_df.orderBy(row_feature)\n",
    "\n",
    "    return result_df"
   ]
  },
  {
   "cell_type": "code",
   "execution_count": 19,
   "metadata": {},
   "outputs": [
    {
     "name": "stdout",
     "output_type": "stream",
     "text": [
      "+-----+----+---+----+----+----+----+----+----+----+----+\n",
      "|label|null|0.0|1.0 |2.0 |3.0 |4.0 |5.0 |6.0 |7.0 |8.0 |\n",
      "+-----+----+---+----+----+----+----+----+----+----+----+\n",
      "|0    |594 |594|1   |NULL|1   |1   |1   |1   |1   |1   |\n",
      "|1    |4   |4  |NULL|NULL|NULL|NULL|NULL|NULL|NULL|NULL|\n",
      "|2    |22  |22 |NULL|NULL|NULL|NULL|NULL|NULL|NULL|NULL|\n",
      "|3    |32  |32 |NULL|NULL|NULL|NULL|NULL|NULL|NULL|NULL|\n",
      "|4    |343 |343|NULL|NULL|NULL|NULL|NULL|NULL|NULL|NULL|\n",
      "|5    |11  |11 |NULL|NULL|NULL|NULL|NULL|NULL|NULL|NULL|\n",
      "|6    |6   |6  |NULL|NULL|NULL|NULL|NULL|NULL|NULL|NULL|\n",
      "|7    |36  |36 |NULL|NULL|NULL|NULL|NULL|NULL|NULL|NULL|\n",
      "|8    |14  |14 |11  |6   |2   |3   |1   |2   |5   |8   |\n",
      "|9    |57  |57 |NULL|NULL|NULL|NULL|NULL|NULL|NULL|NULL|\n",
      "+-----+----+---+----+----+----+----+----+----+----+----+\n",
      "\n"
     ]
    }
   ],
   "source": [
    "result_df = count_unique_values(spark_df_real, 'label', 'state', 'Instance')\n",
    "result_df.show(truncate=False)"
   ]
  },
  {
   "cell_type": "code",
   "execution_count": 20,
   "metadata": {},
   "outputs": [
    {
     "name": "stdout",
     "output_type": "stream",
     "text": [
      "+-----+----+----+----+----+----+----+----+----+----+----+----+-----+-----+-----+-----+-----+-----+-----+\n",
      "|label|null|0.0 |1.0 |2.0 |3.0 |4.0 |5.0 |6.0 |7.0 |8.0 |9.0 |101.0|102.0|105.0|106.0|107.0|108.0|109.0|\n",
      "+-----+----+----+----+----+----+----+----+----+----+----+----+-----+-----+-----+-----+-----+-----+-----+\n",
      "|0    |594 |594 |NULL|NULL|NULL|NULL|NULL|NULL|NULL|NULL|NULL|NULL |NULL |NULL |NULL |NULL |NULL |NULL |\n",
      "|1    |4   |4   |4   |NULL|NULL|NULL|NULL|NULL|NULL|NULL|NULL|4    |NULL |NULL |NULL |NULL |NULL |NULL |\n",
      "|2    |22  |22  |NULL|11  |NULL|NULL|NULL|NULL|NULL|NULL|NULL|NULL |22   |NULL |NULL |NULL |NULL |NULL |\n",
      "|3    |32  |NULL|NULL|NULL|32  |NULL|NULL|NULL|NULL|NULL|NULL|NULL |NULL |NULL |NULL |NULL |NULL |NULL |\n",
      "|4    |343 |NULL|NULL|NULL|NULL|343 |NULL|NULL|NULL|NULL|NULL|NULL |NULL |NULL |NULL |NULL |NULL |NULL |\n",
      "|5    |11  |11  |NULL|NULL|NULL|NULL|7   |NULL|NULL|NULL|NULL|NULL |NULL |11   |NULL |NULL |NULL |NULL |\n",
      "|6    |6   |6   |NULL|NULL|NULL|NULL|NULL|6   |NULL|NULL|NULL|NULL |NULL |NULL |6    |NULL |NULL |NULL |\n",
      "|7    |36  |36  |NULL|NULL|NULL|NULL|NULL|NULL|5   |NULL|NULL|NULL |NULL |NULL |NULL |36   |NULL |NULL |\n",
      "|8    |14  |14  |NULL|NULL|NULL|NULL|NULL|NULL|NULL|12  |NULL|NULL |NULL |NULL |NULL |NULL |14   |NULL |\n",
      "|9    |57  |57  |NULL|NULL|NULL|NULL|NULL|NULL|NULL|NULL|3   |NULL |NULL |NULL |NULL |NULL |NULL |14   |\n",
      "+-----+----+----+----+----+----+----+----+----+----+----+----+-----+-----+-----+-----+-----+-----+-----+\n",
      "\n"
     ]
    }
   ],
   "source": [
    "result_df = count_unique_values(spark_df_real, 'label', 'class', 'Instance')\n",
    "result_df.show(truncate=False)"
   ]
  },
  {
   "cell_type": "code",
   "execution_count": 21,
   "metadata": {},
   "outputs": [
    {
     "name": "stdout",
     "output_type": "stream",
     "text": [
      "+-----+----+----+----+----+----+----+----+----+----+----+----+-----+-----+-----+-----+-----+-----+-----+\n",
      "|state|null|0.0 |1.0 |2.0 |3.0 |4.0 |5.0 |6.0 |7.0 |8.0 |9.0 |101.0|102.0|105.0|106.0|107.0|108.0|109.0|\n",
      "+-----+----+----+----+----+----+----+----+----+----+----+----+-----+-----+-----+-----+-----+-----+-----+\n",
      "|NULL |1119|NULL|NULL|NULL|NULL|NULL|NULL|NULL|NULL|NULL|NULL|NULL |NULL |NULL |NULL |NULL |NULL |NULL |\n",
      "|0.0  |NULL|744 |4   |11  |32  |343 |7   |6   |5   |1   |3   |4    |22   |11   |6    |36   |8    |14   |\n",
      "|1.0  |NULL|1   |NULL|NULL|NULL|NULL|NULL|NULL|NULL|NULL|NULL|NULL |NULL |NULL |NULL |NULL |11   |NULL |\n",
      "|2.0  |NULL|NULL|NULL|NULL|NULL|NULL|NULL|NULL|NULL|5   |NULL|NULL |NULL |NULL |NULL |NULL |1    |NULL |\n",
      "|3.0  |NULL|1   |NULL|NULL|NULL|NULL|NULL|NULL|NULL|NULL|NULL|NULL |NULL |NULL |NULL |NULL |2    |NULL |\n",
      "|4.0  |NULL|1   |NULL|NULL|NULL|NULL|NULL|NULL|NULL|3   |NULL|NULL |NULL |NULL |NULL |NULL |1    |NULL |\n",
      "|5.0  |NULL|1   |NULL|NULL|NULL|NULL|NULL|NULL|NULL|NULL|NULL|NULL |NULL |NULL |NULL |NULL |1    |NULL |\n",
      "|6.0  |NULL|1   |NULL|NULL|NULL|NULL|NULL|NULL|NULL|NULL|NULL|NULL |NULL |NULL |NULL |NULL |2    |NULL |\n",
      "|7.0  |NULL|1   |NULL|NULL|NULL|NULL|NULL|NULL|NULL|3   |NULL|NULL |NULL |NULL |NULL |NULL |4    |NULL |\n",
      "|8.0  |NULL|1   |NULL|NULL|NULL|NULL|NULL|NULL|NULL|NULL|NULL|NULL |NULL |NULL |NULL |NULL |8    |NULL |\n",
      "+-----+----+----+----+----+----+----+----+----+----+----+----+-----+-----+-----+-----+-----+-----+-----+\n",
      "\n"
     ]
    }
   ],
   "source": [
    "result_df = count_unique_values(spark_df_real, 'state', 'class', 'Instance')\n",
    "result_df.show(truncate=False)"
   ]
  },
  {
   "cell_type": "markdown",
   "metadata": {},
   "source": [
    "# Unique Wells"
   ]
  },
  {
   "cell_type": "code",
   "execution_count": 22,
   "metadata": {},
   "outputs": [
    {
     "name": "stdout",
     "output_type": "stream",
     "text": [
      "Unique well names: ['WELL-00034', 'WELL-00033', 'WELL-00016', 'WELL-00035', 'WELL-00020', 'WELL-00010', 'WELL-00014', 'WELL-00042', 'WELL-00041', 'WELL-00037', 'WELL-00006', 'WELL-00040', 'WELL-00005', 'WELL-00008', 'WELL-00039', 'WELL-00038', 'WELL-00002', 'WELL-00036', 'WELL-00001', 'WELL-00015', 'WELL-00007', 'WELL-00004', 'WELL-00003', 'WELL-00019', 'WELL-00024', 'WELL-00022', 'WELL-00021', 'WELL-00023', 'WELL-00027', 'WELL-00029', 'WELL-00031', 'WELL-00025', 'WELL-00026', 'WELL-00030', 'WELL-00028', 'WELL-00032', 'WELL-00013', 'WELL-00011', 'WELL-00012', 'WELL-00009']\n"
     ]
    }
   ],
   "source": [
    "# Print all the unique well names\n",
    "unique_wells = spark_df_real.select(\"well\").distinct().rdd.flatMap(lambda x: x).collect()\n",
    "print(f'Unique well names: {unique_wells}')"
   ]
  },
  {
   "cell_type": "code",
   "execution_count": 23,
   "metadata": {},
   "outputs": [],
   "source": [
    "def plot_well_frequency(spark_df, label_column, count_basis, df_name='Dataset'):\n",
    "    # Step 1: Ensure values in the label_column are strings\n",
    "    spark_df = spark_df.withColumn(label_column, F.col(label_column).cast(\"string\"))\n",
    "\n",
    "    # Step 2: Count unique values based on count_basis\n",
    "    label_counts_df = (spark_df\n",
    "                       .groupBy(label_column)\n",
    "                       .agg(F.countDistinct(count_basis).alias(\"Unique_Count\")))\n",
    "\n",
    "    # Step 3: Convert Spark DataFrame to Pandas DataFrame for plotting\n",
    "    pandas_df = label_counts_df.toPandas()\n",
    "\n",
    "    # Step 4: Create a new DataFrame for plotting, set the index to sorted label names\n",
    "    all_labels = sorted(pandas_df[label_column].unique())\n",
    "    result_df = pd.DataFrame({df_name: pandas_df.set_index(label_column)[\"Unique_Count\"]}, index=all_labels)\n",
    "\n",
    "    # Step 5: Sort by frequency of counts in descending order\n",
    "    result_df = result_df.sort_values(df_name, ascending=False)\n",
    "\n",
    "    # Step 6: Plot the frequency bar chart\n",
    "    result_df.plot(kind='bar', figsize=(10, 6), width=0.8, legend=False)\n",
    "    plt.title(f'Unique {count_basis} Counts by {label_column}')\n",
    "    plt.ylabel(f'Unique {count_basis} Counts')\n",
    "    plt.xlabel(label_column)\n",
    "    plt.xticks(rotation=45)\n",
    "    plt.tight_layout()\n",
    "    plt.show()\n",
    "\n",
    "    # Display the result DataFrame for review\n",
    "    print(result_df)"
   ]
  },
  {
   "cell_type": "code",
   "execution_count": 24,
   "metadata": {},
   "outputs": [
    {
     "name": "stderr",
     "output_type": "stream",
     "text": [
      "                                                                                \r"
     ]
    },
    {
     "data": {
      "image/png": "[encoded data removed]",
      "text/plain": [
       "<Figure size 1000x600 with 1 Axes>"
      ]
     },
     "metadata": {},
     "output_type": "display_data"
    },
    {
     "name": "stdout",
     "output_type": "stream",
     "text": [
      "            Real\n",
      "WELL-00002   326\n",
      "WELL-00001   132\n",
      "WELL-00005   119\n",
      "WELL-00006   117\n",
      "WELL-00010    89\n",
      "WELL-00004    58\n",
      "WELL-00008    57\n",
      "WELL-00014    55\n",
      "WELL-00003    29\n",
      "WELL-00024    19\n",
      "WELL-00011    13\n",
      "WELL-00007    12\n",
      "WELL-00041     9\n",
      "WELL-00022     8\n",
      "WELL-00016     7\n",
      "WELL-00020     7\n",
      "WELL-00035     6\n",
      "WELL-00034     6\n",
      "WELL-00033     6\n",
      "WELL-00042     5\n",
      "WELL-00019     5\n",
      "WELL-00023     4\n",
      "WELL-00037     4\n",
      "WELL-00026     3\n",
      "WELL-00036     3\n",
      "WELL-00039     2\n",
      "WELL-00038     2\n",
      "WELL-00012     2\n",
      "WELL-00021     2\n",
      "WELL-00015     2\n",
      "WELL-00032     1\n",
      "WELL-00031     1\n",
      "WELL-00013     1\n",
      "WELL-00030     1\n",
      "WELL-00029     1\n",
      "WELL-00028     1\n",
      "WELL-00027     1\n",
      "WELL-00025     1\n",
      "WELL-00040     1\n",
      "WELL-00009     1\n"
     ]
    }
   ],
   "source": [
    "plot_well_frequency(spark_df_real, 'well', 'Instance', 'Real')"
   ]
  },
  {
   "cell_type": "code",
   "execution_count": 26,
   "metadata": {},
   "outputs": [
    {
     "name": "stderr",
     "output_type": "stream",
     "text": [
      "[Stage 466:============================================>          (13 + 3) / 16]\r"
     ]
    },
    {
     "name": "stdout",
     "output_type": "stream",
     "text": [
      "+----------+----+----+----+----+----+----+----+----+----+----+\n",
      "|well      |0   |1   |2   |3   |4   |5   |6   |7   |8   |9   |\n",
      "+----------+----+----+----+----+----+----+----+----+----+----+\n",
      "|WELL-00001|93  |1   |NULL|1   |36  |NULL|NULL|1   |NULL|NULL|\n",
      "|WELL-00002|209 |1   |1   |NULL|112 |NULL|3   |NULL|NULL|NULL|\n",
      "|WELL-00003|26  |NULL|3   |NULL|NULL|NULL|NULL|NULL|NULL|NULL|\n",
      "|WELL-00004|12  |NULL|NULL|NULL|43  |NULL|3   |NULL|NULL|NULL|\n",
      "|WELL-00005|81  |NULL|NULL|NULL|38  |NULL|NULL|NULL|NULL|NULL|\n",
      "|WELL-00006|113 |2   |NULL|NULL|NULL|NULL|NULL|2   |NULL|NULL|\n",
      "|WELL-00007|2   |NULL|NULL|NULL|10  |NULL|NULL|NULL|NULL|NULL|\n",
      "|WELL-00008|57  |NULL|NULL|NULL|NULL|NULL|NULL|NULL|NULL|NULL|\n",
      "|WELL-00009|NULL|NULL|1   |NULL|NULL|NULL|NULL|NULL|NULL|NULL|\n",
      "|WELL-00010|NULL|NULL|1   |NULL|83  |NULL|NULL|NULL|NULL|5   |\n",
      "|WELL-00011|NULL|NULL|13  |NULL|NULL|NULL|NULL|NULL|NULL|NULL|\n",
      "|WELL-00012|NULL|NULL|2   |NULL|NULL|NULL|NULL|NULL|NULL|NULL|\n",
      "|WELL-00013|NULL|NULL|1   |NULL|NULL|NULL|NULL|NULL|NULL|NULL|\n",
      "|WELL-00014|NULL|NULL|NULL|31  |21  |NULL|NULL|NULL|NULL|3   |\n",
      "|WELL-00015|NULL|NULL|NULL|NULL|NULL|1   |NULL|NULL|NULL|1   |\n",
      "|WELL-00016|NULL|NULL|NULL|NULL|NULL|4   |NULL|NULL|NULL|3   |\n",
      "|WELL-00019|1   |NULL|NULL|NULL|NULL|NULL|NULL|NULL|4   |NULL|\n",
      "|WELL-00020|NULL|NULL|NULL|NULL|NULL|6   |NULL|NULL|NULL|1   |\n",
      "|WELL-00021|NULL|NULL|NULL|NULL|NULL|NULL|NULL|2   |NULL|NULL|\n",
      "|WELL-00022|NULL|NULL|NULL|NULL|NULL|NULL|NULL|8   |NULL|NULL|\n",
      "|WELL-00023|NULL|NULL|NULL|NULL|NULL|NULL|NULL|4   |NULL|NULL|\n",
      "|WELL-00024|NULL|NULL|NULL|NULL|NULL|NULL|NULL|19  |NULL|NULL|\n",
      "|WELL-00025|NULL|NULL|NULL|NULL|NULL|NULL|NULL|NULL|1   |NULL|\n",
      "|WELL-00026|NULL|NULL|NULL|NULL|NULL|NULL|NULL|NULL|3   |NULL|\n",
      "|WELL-00027|NULL|NULL|NULL|NULL|NULL|NULL|NULL|NULL|1   |NULL|\n",
      "|WELL-00028|NULL|NULL|NULL|NULL|NULL|NULL|NULL|NULL|1   |NULL|\n",
      "|WELL-00029|NULL|NULL|NULL|NULL|NULL|NULL|NULL|NULL|1   |NULL|\n",
      "|WELL-00030|NULL|NULL|NULL|NULL|NULL|NULL|NULL|NULL|1   |NULL|\n",
      "|WELL-00031|NULL|NULL|NULL|NULL|NULL|NULL|NULL|NULL|1   |NULL|\n",
      "|WELL-00032|NULL|NULL|NULL|NULL|NULL|NULL|NULL|NULL|1   |NULL|\n",
      "|WELL-00033|NULL|NULL|NULL|NULL|NULL|NULL|NULL|NULL|NULL|6   |\n",
      "|WELL-00034|NULL|NULL|NULL|NULL|NULL|NULL|NULL|NULL|NULL|6   |\n",
      "|WELL-00035|NULL|NULL|NULL|NULL|NULL|NULL|NULL|NULL|NULL|6   |\n",
      "|WELL-00036|NULL|NULL|NULL|NULL|NULL|NULL|NULL|NULL|NULL|3   |\n",
      "|WELL-00037|NULL|NULL|NULL|NULL|NULL|NULL|NULL|NULL|NULL|4   |\n",
      "|WELL-00038|NULL|NULL|NULL|NULL|NULL|NULL|NULL|NULL|NULL|2   |\n",
      "|WELL-00039|NULL|NULL|NULL|NULL|NULL|NULL|NULL|NULL|NULL|2   |\n",
      "|WELL-00040|NULL|NULL|NULL|NULL|NULL|NULL|NULL|NULL|NULL|1   |\n",
      "|WELL-00041|NULL|NULL|NULL|NULL|NULL|NULL|NULL|NULL|NULL|9   |\n",
      "|WELL-00042|NULL|NULL|NULL|NULL|NULL|NULL|NULL|NULL|NULL|5   |\n",
      "+----------+----+----+----+----+----+----+----+----+----+----+\n",
      "\n"
     ]
    },
    {
     "name": "stderr",
     "output_type": "stream",
     "text": [
      "                                                                                \r"
     ]
    }
   ],
   "source": [
    "count_unique_values(spark_df_real, 'well', 'label', 'Instance').show(truncate=False, n=999)"
   ]
  },
  {
   "cell_type": "code",
   "execution_count": 27,
   "metadata": {},
   "outputs": [],
   "source": [
    "# create a new dataframe for each label\n",
    "df_label_0 = spark_df_real.filter(col('label') == 0)\n",
    "df_label_1 = spark_df_real.filter(col('label') == 1)\n",
    "df_label_2 = spark_df_real.filter(col('label') == 2)\n",
    "df_label_3 = spark_df_real.filter(col('label') == 3)\n",
    "df_label_4 = spark_df_real.filter(col('label') == 4)\n",
    "df_label_5 = spark_df_real.filter(col('label') == 5)\n",
    "df_label_6 = spark_df_real.filter(col('label') == 6)\n",
    "df_label_7 = spark_df_real.filter(col('label') == 7)\n",
    "df_label_8 = spark_df_real.filter(col('label') == 8)\n",
    "df_label_9 = spark_df_real.filter(col('label') == 9)"
   ]
  },
  {
   "cell_type": "code",
   "execution_count": 30,
   "metadata": {},
   "outputs": [
    {
     "name": "stdout",
     "output_type": "stream",
     "text": [
      "Label 0\n",
      "+-----+----+----+\n",
      "|state|null|0.0 |\n",
      "+-----+----+----+\n",
      "|NULL |594 |NULL|\n",
      "|0.0  |NULL|594 |\n",
      "|1.0  |NULL|1   |\n",
      "|3.0  |NULL|1   |\n",
      "|4.0  |NULL|1   |\n",
      "|5.0  |NULL|1   |\n",
      "|6.0  |NULL|1   |\n",
      "|7.0  |NULL|1   |\n",
      "|8.0  |NULL|1   |\n",
      "+-----+----+----+\n",
      "\n",
      "Label 1\n",
      "+-----+----+----+----+-----+\n",
      "|state|null|0.0 |1.0 |101.0|\n",
      "+-----+----+----+----+-----+\n",
      "|NULL |4   |NULL|NULL|NULL |\n",
      "|0.0  |NULL|4   |4   |4    |\n",
      "+-----+----+----+----+-----+\n",
      "\n",
      "Label 2\n",
      "+-----+----+----+----+-----+\n",
      "|state|null|0.0 |2.0 |102.0|\n",
      "+-----+----+----+----+-----+\n",
      "|NULL |22  |NULL|NULL|NULL |\n",
      "|0.0  |NULL|22  |11  |22   |\n",
      "+-----+----+----+----+-----+\n",
      "\n",
      "Label 3\n",
      "+-----+----+----+\n",
      "|state|null|3.0 |\n",
      "+-----+----+----+\n",
      "|NULL |32  |NULL|\n",
      "|0.0  |NULL|32  |\n",
      "+-----+----+----+\n",
      "\n",
      "Label 4\n",
      "+-----+----+----+\n",
      "|state|null|4.0 |\n",
      "+-----+----+----+\n",
      "|NULL |343 |NULL|\n",
      "|0.0  |NULL|343 |\n",
      "+-----+----+----+\n",
      "\n",
      "Label 5\n",
      "+-----+----+----+----+-----+\n",
      "|state|null|0.0 |5.0 |105.0|\n",
      "+-----+----+----+----+-----+\n",
      "|NULL |11  |NULL|NULL|NULL |\n",
      "|0.0  |NULL|11  |7   |11   |\n",
      "+-----+----+----+----+-----+\n",
      "\n",
      "Label 6\n",
      "+-----+----+----+----+-----+\n",
      "|state|null|0.0 |6.0 |106.0|\n",
      "+-----+----+----+----+-----+\n",
      "|NULL |6   |NULL|NULL|NULL |\n",
      "|0.0  |NULL|6   |6   |6    |\n",
      "+-----+----+----+----+-----+\n",
      "\n",
      "Label 7\n",
      "+-----+----+----+----+-----+\n",
      "|state|null|0.0 |7.0 |107.0|\n",
      "+-----+----+----+----+-----+\n",
      "|NULL |36  |NULL|NULL|NULL |\n",
      "|0.0  |NULL|36  |5   |36   |\n",
      "+-----+----+----+----+-----+\n",
      "\n",
      "Label 8\n",
      "+-----+----+----+----+-----+\n",
      "|state|null|0.0 |8.0 |108.0|\n",
      "+-----+----+----+----+-----+\n",
      "|NULL |14  |NULL|NULL|NULL |\n",
      "|0.0  |NULL|14  |1   |8    |\n",
      "|1.0  |NULL|NULL|NULL|11   |\n",
      "|2.0  |NULL|NULL|5   |1    |\n",
      "|3.0  |NULL|NULL|NULL|2    |\n",
      "|4.0  |NULL|NULL|3   |1    |\n",
      "|5.0  |NULL|NULL|NULL|1    |\n",
      "|6.0  |NULL|NULL|NULL|2    |\n",
      "|7.0  |NULL|NULL|3   |4    |\n",
      "|8.0  |NULL|NULL|NULL|8    |\n",
      "+-----+----+----+----+-----+\n",
      "\n",
      "Label 9\n",
      "+-----+----+----+----+-----+\n",
      "|state|null|0.0 |9.0 |109.0|\n",
      "+-----+----+----+----+-----+\n",
      "|NULL |57  |NULL|NULL|NULL |\n",
      "|0.0  |NULL|57  |3   |14   |\n",
      "+-----+----+----+----+-----+\n",
      "\n"
     ]
    }
   ],
   "source": [
    "result_df = count_unique_values(df_label_0, 'state', 'class', 'Instance')\n",
    "print('Label 0')\n",
    "result_df.show(truncate=False)\n",
    "\n",
    "result_df = count_unique_values(df_label_1, 'state', 'class', 'Instance')\n",
    "print('Label 1')\n",
    "result_df.show(truncate=False)\n",
    "\n",
    "result_df = count_unique_values(df_label_2, 'state', 'class', 'Instance')\n",
    "print('Label 2')\n",
    "result_df.show(truncate=False)\n",
    "\n",
    "result_df = count_unique_values(df_label_3, 'state', 'class', 'Instance')\n",
    "print('Label 3')\n",
    "result_df.show(truncate=False)\n",
    "\n",
    "result_df = count_unique_values(df_label_4, 'state', 'class', 'Instance')\n",
    "print('Label 4')\n",
    "result_df.show(truncate=False)\n",
    "\n",
    "result_df = count_unique_values(df_label_5, 'state', 'class', 'Instance')\n",
    "print('Label 5')\n",
    "result_df.show(truncate=False)\n",
    "\n",
    "result_df = count_unique_values(df_label_6, 'state', 'class', 'Instance')\n",
    "print('Label 6')\n",
    "result_df.show(truncate=False)\n",
    "\n",
    "result_df = count_unique_values(df_label_7, 'state', 'class', 'Instance')\n",
    "print('Label 7')\n",
    "result_df.show(truncate=False)\n",
    "\n",
    "result_df = count_unique_values(df_label_8, 'state', 'class', 'Instance')\n",
    "print('Label 8')\n",
    "result_df.show(truncate=False)\n",
    "\n",
    "result_df = count_unique_values(df_label_9, 'state', 'class', 'Instance')\n",
    "print('Label 9')\n",
    "result_df.show(truncate=False)"
   ]
  },
  {
   "cell_type": "markdown",
   "metadata": {},
   "source": [
    "Labels to drop: 0 and 8 due to inconsistencies"
   ]
  },
  {
   "cell_type": "code",
   "execution_count": 31,
   "metadata": {},
   "outputs": [
    {
     "name": "stdout",
     "output_type": "stream",
     "text": [
      "+-----+--------------------------+\n",
      "|label|Description               |\n",
      "+-----+--------------------------+\n",
      "|0    |NORMAL                    |\n",
      "|1    |ABRUPT INCREASE OF BSW    |\n",
      "|2    |SPURIOUS CLOSURE OF DHSV  |\n",
      "|3    |SEVERE SLUGGING           |\n",
      "|4    |FLOW INSTABILITY          |\n",
      "|5    |RAPID PRODUCTIVITY LOSS   |\n",
      "|6    |QUICK RESTRICTION IN PCK  |\n",
      "|7    |SCALING IN PCK            |\n",
      "|8    |HYDRATE IN PRODUCTION LINE|\n",
      "|9    |HYDRATE IN SERVICE LINE   |\n",
      "+-----+--------------------------+\n",
      "\n"
     ]
    }
   ],
   "source": [
    "label_descriptions_df.show(truncate=False)"
   ]
  },
  {
   "cell_type": "markdown",
   "metadata": {},
   "source": [
    "# Label 1 : ABRUPT INCREASE OF BSW  "
   ]
  },
  {
   "cell_type": "code",
   "execution_count": null,
   "metadata": {},
   "outputs": [
    {
     "name": "stderr",
     "output_type": "stream",
     "text": [
      "[Stage 1796:>             (0 + 16) / 16][Stage 1797:>              (0 + 0) / 16]\r"
     ]
    },
    {
     "name": "stdout",
     "output_type": "stream",
     "text": [
      "+-------------+------------------------------------------------------------+--------------------+-----------+--------------------+-------------------------+-----------------------+----------------------------+\n",
      "|Tag          |Name                                                        |Unit                |Value Type |Unique Values (Real)|Missing Values (%) (Real)|Unique Values (Label 1)|Missing Values (%) (Label 1)|\n",
      "+-------------+------------------------------------------------------------+--------------------+-----------+--------------------+-------------------------+-----------------------+----------------------------+\n",
      "|ABER-CKGL    |Opening of the GLCK (gas lift choke)                        |%                   |Continuous |300484              |74.2                     |0                      |100.0                       |\n",
      "|ABER-CKP     |Opening of the PCK (production choke)                       |%                   |Continuous |850210              |62.5                     |0                      |100.0                       |\n",
      "|ESTADO-DHSV  |State of the DHSV (downhole safety valve)                   |[0, 0.5, 1]         |Categorical|2                   |57.8                     |2                      |7.6                         |\n",
      "|ESTADO-M1    |State of the PMV (production master valve)                  |[0, 0.5, 1]         |Categorical|2                   |45.9                     |1                      |7.6                         |\n",
      "|ESTADO-PXO   |State of the PXO (pig-crossover) valve                      |[0, 0.5, 1]         |Categorical|2                   |44.7                     |1                      |7.6                         |\n",
      "|ESTADO-M2    |State of the AMV (annulus master valve)                     |[0, 0.5, 1]         |Categorical|3                   |46.2                     |1                      |7.6                         |\n",
      "|ESTADO-SDV-GL|State of the gas lift SDV (shutdown valve)                  |[0, 0.5, 1]         |Categorical|2                   |48.0                     |1                      |7.6                         |\n",
      "|ESTADO-SDV-P |State of the production SDV (shutdown valve)                |[0, 0.5, 1]         |Categorical|2                   |26.0                     |1                      |7.6                         |\n",
      "|ESTADO-W1    |State of the PWV (production wing valve)                    |[0, 0.5, 1]         |Categorical|2                   |42.4                     |1                      |7.6                         |\n",
      "|ESTADO-W2    |State of the AWV (annulus wing valve)                       |[0, 0.5, 1]         |Categorical|3                   |44.3                     |1                      |7.6                         |\n",
      "|P-ANULAR     |Pressure in the well annulus                                |Pa                  |Continuous |1496311             |22.5                     |36142                  |0.0                         |\n",
      "|ESTADO-XO    |State of the XO (crossover) valve                           |[0, 0.5, 1]         |Categorical|2                   |43.6                     |1                      |7.6                         |\n",
      "|P-JUS-BS     |Downstream pressure of the SP (service pump)                |Pa                  |Empty      |0                   |100.0                    |0                      |100.0                       |\n",
      "|P-JUS-CKGL   |Downstream pressure of the GLCK (gas lift choke)            |Pa                  |Continuous |2868202             |23.8                     |71146                  |7.6                         |\n",
      "|P-MON-SDV-P  |Upstream pressure of the production SDV (shutdown valve)    |Pa                  |Empty      |0                   |100.0                    |0                      |100.0                       |\n",
      "|P-MON-CKP    |Upstream pressure of the PCK (production choke)             |Pa                  |Continuous |3479501             |21.5                     |91622                  |7.6                         |\n",
      "|P-JUS-CKP    |Downstream pressure of the PCK (production choke)           |Pa                  |Continuous |351370              |89.5                     |0                      |100.0                       |\n",
      "|P-MON-CKGL   |Upstream pressure of the GLCK (gas lift choke)              |Pa                  |Continuous |92596               |99.1                     |0                      |100.0                       |\n",
      "|P-PDG        |Pressure at the PDG (permanent downhole gauge)              |Pa                  |Continuous |1077171             |24.1                     |3                      |0.0                         |\n",
      "|PT-P         |Downstream pressure of the PWV in the production tube       |Pa                  |Empty      |0                   |100.0                    |0                      |100.0                       |\n",
      "|P-TPT        |Pressure at the TPT (temperature and pressure transducer)   |Pa                  |Continuous |1782324             |16.4                     |41129                  |0.0                         |\n",
      "|QBS          |Flow rate at the SP (service pump)                          |m3/s                |Empty      |0                   |100.0                    |0                      |100.0                       |\n",
      "|QGL          |Gas lift flow rate                                          |m3/s                |Continuous |2310417             |46.1                     |1                      |7.6                         |\n",
      "|T-JUS-CKP    |Downstream temperature of the PCK (production choke)        |°C                  |Continuous |3080444             |48.8                     |101274                 |7.6                         |\n",
      "|T-MON-CKP    |Upstream temperature of the PCK (production choke)          |°C                  |Continuous |1980654             |84.9                     |0                      |100.0                       |\n",
      "|T-PDG        |Temperature at the PDG (permanent downhole gauge)           |°C                  |Continuous |861293              |36.7                     |3                      |7.6                         |\n",
      "|class        |Label of the observation                                    |Label               |Classifier |17                  |12.3                     |3                      |6.1                         |\n",
      "|T-TPT        |Temperature at the TPT (temperature and pressure transducer)|°C                  |Continuous |1376954             |13.6                     |19189                  |0.0                         |\n",
      "|label        |Instance label (event type)                                 |Instance Label      |Classifier |10                  |0.0                      |1                      |0.0                         |\n",
      "|state        |Well operational status                                     |Operational Status  |Classifier |9                   |12.3                     |1                      |6.1                         |\n",
      "|well         |Well name                                                   |Well Name           |Identifier |40                  |0.0                      |3                      |0.0                         |\n",
      "|id           |Instance identifier                                         |Instance ID         |Identifier |1113                |0.0                      |4                      |0.0                         |\n",
      "|Instance     |Instance count based on manual labeling                     |Instance ID (Manual)|Identifier |1119                |0.0                      |4                      |0.0                         |\n",
      "|DataType     |Real , simulated or hand-drawn                              |Dataset Type        |Categorical|1                   |0.0                      |1                      |0.0                         |\n",
      "|timestamp    |Timestamp                                                   |Timestamp           |Timestamp  |24910943            |0.0                      |236794                 |0.0                         |\n",
      "+-------------+------------------------------------------------------------+--------------------+-----------+--------------------+-------------------------+-----------------------+----------------------------+\n",
      "\n"
     ]
    },
    {
     "name": "stderr",
     "output_type": "stream",
     "text": [
      "                                                                                \r"
     ]
    }
   ],
   "source": [
    "label_1_features = generate_unique_values_table(reference_table_real, df_label_1, 'Unique Values (Label 1)')\n",
    "label_1_features = generate_missing_values_table(label_1_features, df_label_1, 'Missing Values (%) (Label 1)')\n",
    "label_1_features.show(truncate=False, n=999)"
   ]
  },
  {
   "cell_type": "code",
   "execution_count": 39,
   "metadata": {},
   "outputs": [
    {
     "data": {
      "image/png": "[encoded data removed]",
      "text/plain": [
       "<Figure size 1000x600 with 1 Axes>"
      ]
     },
     "metadata": {},
     "output_type": "display_data"
    },
    {
     "name": "stdout",
     "output_type": "stream",
     "text": [
      "            Label 1\n",
      "WELL-00006        2\n",
      "WELL-00001        1\n",
      "WELL-00002        1\n"
     ]
    }
   ],
   "source": [
    "# plot well frequency for label 1\n",
    "plot_well_frequency(df_label_1, 'well', 'Instance', 'Label 1')"
   ]
  },
  {
   "cell_type": "markdown",
   "metadata": {},
   "source": [
    "# Label 2 : SPURIOUS CLOSURE OF DHSV "
   ]
  },
  {
   "cell_type": "code",
   "execution_count": 40,
   "metadata": {},
   "outputs": [
    {
     "name": "stderr",
     "output_type": "stream",
     "text": [
      "                                                                                \r"
     ]
    },
    {
     "name": "stdout",
     "output_type": "stream",
     "text": [
      "+-------------+------------------------------------------------------------+--------------------+-----------+--------------------+-------------------------+-----------------------+----------------------------+\n",
      "|Tag          |Name                                                        |Unit                |Value Type |Unique Values (Real)|Missing Values (%) (Real)|Unique Values (Label 2)|Missing Values (%) (Label 2)|\n",
      "+-------------+------------------------------------------------------------+--------------------+-----------+--------------------+-------------------------+-----------------------+----------------------------+\n",
      "|ABER-CKGL    |Opening of the GLCK (gas lift choke)                        |%                   |Continuous |300484              |74.2                     |0                      |100.0                       |\n",
      "|ABER-CKP     |Opening of the PCK (production choke)                       |%                   |Continuous |850210              |62.5                     |14294                  |92.4                        |\n",
      "|ESTADO-DHSV  |State of the DHSV (downhole safety valve)                   |[0, 0.5, 1]         |Categorical|2                   |57.8                     |2                      |96.3                        |\n",
      "|ESTADO-M1    |State of the PMV (production master valve)                  |[0, 0.5, 1]         |Categorical|2                   |45.9                     |1                      |96.3                        |\n",
      "|ESTADO-PXO   |State of the PXO (pig-crossover) valve                      |[0, 0.5, 1]         |Categorical|2                   |44.7                     |2                      |67.1                        |\n",
      "|ESTADO-M2    |State of the AMV (annulus master valve)                     |[0, 0.5, 1]         |Categorical|3                   |46.2                     |2                      |83.7                        |\n",
      "|ESTADO-SDV-GL|State of the gas lift SDV (shutdown valve)                  |[0, 0.5, 1]         |Categorical|2                   |48.0                     |2                      |91.4                        |\n",
      "|ESTADO-SDV-P |State of the production SDV (shutdown valve)                |[0, 0.5, 1]         |Categorical|2                   |26.0                     |2                      |74.2                        |\n",
      "|ESTADO-W1    |State of the PWV (production wing valve)                    |[0, 0.5, 1]         |Categorical|2                   |42.4                     |2                      |88.7                        |\n",
      "|ESTADO-W2    |State of the AWV (annulus wing valve)                       |[0, 0.5, 1]         |Categorical|3                   |44.3                     |2                      |67.1                        |\n",
      "|P-ANULAR     |Pressure in the well annulus                                |Pa                  |Continuous |1496311             |22.5                     |95748                  |5.7                         |\n",
      "|ESTADO-XO    |State of the XO (crossover) valve                           |[0, 0.5, 1]         |Categorical|2                   |43.6                     |1                      |67.1                        |\n",
      "|P-JUS-BS     |Downstream pressure of the SP (service pump)                |Pa                  |Empty      |0                   |100.0                    |0                      |100.0                       |\n",
      "|P-JUS-CKGL   |Downstream pressure of the GLCK (gas lift choke)            |Pa                  |Continuous |2868202             |23.8                     |8304                   |91.4                        |\n",
      "|P-MON-SDV-P  |Upstream pressure of the production SDV (shutdown valve)    |Pa                  |Empty      |0                   |100.0                    |0                      |100.0                       |\n",
      "|P-MON-CKP    |Upstream pressure of the PCK (production choke)             |Pa                  |Continuous |3479501             |21.5                     |42653                  |67.2                        |\n",
      "|P-JUS-CKP    |Downstream pressure of the PCK (production choke)           |Pa                  |Continuous |351370              |89.5                     |0                      |100.0                       |\n",
      "|P-MON-CKGL   |Upstream pressure of the GLCK (gas lift choke)              |Pa                  |Continuous |92596               |99.1                     |0                      |100.0                       |\n",
      "|P-PDG        |Pressure at the PDG (permanent downhole gauge)              |Pa                  |Continuous |1077171             |24.1                     |54112                  |4.8                         |\n",
      "|PT-P         |Downstream pressure of the PWV in the production tube       |Pa                  |Empty      |0                   |100.0                    |0                      |100.0                       |\n",
      "|P-TPT        |Pressure at the TPT (temperature and pressure transducer)   |Pa                  |Continuous |1782324             |16.4                     |109608                 |5.7                         |\n",
      "|QBS          |Flow rate at the SP (service pump)                          |m3/s                |Empty      |0                   |100.0                    |0                      |100.0                       |\n",
      "|QGL          |Gas lift flow rate                                          |m3/s                |Continuous |2310417             |46.1                     |1                      |67.9                        |\n",
      "|T-JUS-CKP    |Downstream temperature of the PCK (production choke)        |°C                  |Continuous |3080444             |48.8                     |9144                   |96.3                        |\n",
      "|T-MON-CKP    |Upstream temperature of the PCK (production choke)          |°C                  |Continuous |1980654             |84.9                     |0                      |100.0                       |\n",
      "|T-PDG        |Temperature at the PDG (permanent downhole gauge)           |°C                  |Continuous |861293              |36.7                     |27317                  |22.0                        |\n",
      "|class        |Label of the observation                                    |Label               |Classifier |17                  |12.3                     |3                      |28.6                        |\n",
      "|T-TPT        |Temperature at the TPT (temperature and pressure transducer)|°C                  |Continuous |1376954             |13.6                     |125430                 |0.8                         |\n",
      "|label        |Instance label (event type)                                 |Instance Label      |Classifier |10                  |0.0                      |1                      |0.0                         |\n",
      "|state        |Well operational status                                     |Operational Status  |Classifier |9                   |12.3                     |1                      |28.6                        |\n",
      "|well         |Well name                                                   |Well Name           |Identifier |40                  |0.0                      |7                      |0.0                         |\n",
      "|id           |Instance identifier                                         |Instance ID         |Identifier |1113                |0.0                      |22                     |0.0                         |\n",
      "|Instance     |Instance count based on manual labeling                     |Instance ID (Manual)|Identifier |1119                |0.0                      |22                     |0.0                         |\n",
      "|DataType     |Real , simulated or hand-drawn                              |Dataset Type        |Categorical|1                   |0.0                      |1                      |0.0                         |\n",
      "|timestamp    |Timestamp                                                   |Timestamp           |Timestamp  |24910943            |0.0                      |277001                 |0.0                         |\n",
      "+-------------+------------------------------------------------------------+--------------------+-----------+--------------------+-------------------------+-----------------------+----------------------------+\n",
      "\n"
     ]
    }
   ],
   "source": [
    "label_2_features = generate_unique_values_table(reference_table_real, df_label_2, 'Unique Values (Label 2)')\n",
    "label_2_features = generate_missing_values_table(label_2_features, df_label_2, 'Missing Values (%) (Label 2)')\n",
    "label_2_features.show(truncate=False, n=999)"
   ]
  },
  {
   "cell_type": "code",
   "execution_count": 41,
   "metadata": {},
   "outputs": [
    {
     "data": {
      "image/png": "[encoded data removed]",
      "text/plain": [
       "<Figure size 1000x600 with 1 Axes>"
      ]
     },
     "metadata": {},
     "output_type": "display_data"
    },
    {
     "name": "stdout",
     "output_type": "stream",
     "text": [
      "            Label 2\n",
      "WELL-00011       13\n",
      "WELL-00003        3\n",
      "WELL-00012        2\n",
      "WELL-00002        1\n",
      "WELL-00009        1\n",
      "WELL-00010        1\n",
      "WELL-00013        1\n"
     ]
    }
   ],
   "source": [
    "plot_well_frequency(df_label_2, 'well', 'Instance', 'Label 2')"
   ]
  },
  {
   "cell_type": "markdown",
   "metadata": {},
   "source": [
    "# Label 3 : SEVERE SLUGGING "
   ]
  },
  {
   "cell_type": "code",
   "execution_count": 42,
   "metadata": {},
   "outputs": [
    {
     "name": "stderr",
     "output_type": "stream",
     "text": [
      "                                                                                \r"
     ]
    },
    {
     "name": "stdout",
     "output_type": "stream",
     "text": [
      "+-------------+------------------------------------------------------------+--------------------+-----------+--------------------+-------------------------+-----------------------+----------------------------+\n",
      "|Tag          |Name                                                        |Unit                |Value Type |Unique Values (Real)|Missing Values (%) (Real)|Unique Values (Label 3)|Missing Values (%) (Label 3)|\n",
      "+-------------+------------------------------------------------------------+--------------------+-----------+--------------------+-------------------------+-----------------------+----------------------------+\n",
      "|ABER-CKGL    |Opening of the GLCK (gas lift choke)                        |%                   |Continuous |300484              |74.2                     |123709                 |3.4                         |\n",
      "|ABER-CKP     |Opening of the PCK (production choke)                       |%                   |Continuous |850210              |62.5                     |257554                 |3.4                         |\n",
      "|ESTADO-DHSV  |State of the DHSV (downhole safety valve)                   |[0, 0.5, 1]         |Categorical|2                   |57.8                     |1                      |96.8                        |\n",
      "|ESTADO-M1    |State of the PMV (production master valve)                  |[0, 0.5, 1]         |Categorical|2                   |45.9                     |1                      |96.8                        |\n",
      "|ESTADO-PXO   |State of the PXO (pig-crossover) valve                      |[0, 0.5, 1]         |Categorical|2                   |44.7                     |1                      |96.8                        |\n",
      "|ESTADO-M2    |State of the AMV (annulus master valve)                     |[0, 0.5, 1]         |Categorical|3                   |46.2                     |1                      |96.8                        |\n",
      "|ESTADO-SDV-GL|State of the gas lift SDV (shutdown valve)                  |[0, 0.5, 1]         |Categorical|2                   |48.0                     |2                      |0.3                         |\n",
      "|ESTADO-SDV-P |State of the production SDV (shutdown valve)                |[0, 0.5, 1]         |Categorical|2                   |26.0                     |1                      |0.3                         |\n",
      "|ESTADO-W1    |State of the PWV (production wing valve)                    |[0, 0.5, 1]         |Categorical|2                   |42.4                     |2                      |0.2                         |\n",
      "|ESTADO-W2    |State of the AWV (annulus wing valve)                       |[0, 0.5, 1]         |Categorical|3                   |44.3                     |1                      |96.8                        |\n",
      "|P-ANULAR     |Pressure in the well annulus                                |Pa                  |Continuous |1496311             |22.5                     |9816                   |0.2                         |\n",
      "|ESTADO-XO    |State of the XO (crossover) valve                           |[0, 0.5, 1]         |Categorical|2                   |43.6                     |1                      |96.8                        |\n",
      "|P-JUS-BS     |Downstream pressure of the SP (service pump)                |Pa                  |Empty      |0                   |100.0                    |0                      |100.0                       |\n",
      "|P-JUS-CKGL   |Downstream pressure of the GLCK (gas lift choke)            |Pa                  |Continuous |2868202             |23.8                     |24396                  |0.3                         |\n",
      "|P-MON-SDV-P  |Upstream pressure of the production SDV (shutdown valve)    |Pa                  |Empty      |0                   |100.0                    |0                      |100.0                       |\n",
      "|P-MON-CKP    |Upstream pressure of the PCK (production choke)             |Pa                  |Continuous |3479501             |21.5                     |92844                  |0.3                         |\n",
      "|P-JUS-CKP    |Downstream pressure of the PCK (production choke)           |Pa                  |Continuous |351370              |89.5                     |0                      |100.0                       |\n",
      "|P-MON-CKGL   |Upstream pressure of the GLCK (gas lift choke)              |Pa                  |Continuous |92596               |99.1                     |0                      |100.0                       |\n",
      "|P-PDG        |Pressure at the PDG (permanent downhole gauge)              |Pa                  |Continuous |1077171             |24.1                     |131478                 |0.2                         |\n",
      "|PT-P         |Downstream pressure of the PWV in the production tube       |Pa                  |Empty      |0                   |100.0                    |0                      |100.0                       |\n",
      "|P-TPT        |Pressure at the TPT (temperature and pressure transducer)   |Pa                  |Continuous |1782324             |16.4                     |269849                 |0.2                         |\n",
      "|QBS          |Flow rate at the SP (service pump)                          |m3/s                |Empty      |0                   |100.0                    |0                      |100.0                       |\n",
      "|QGL          |Gas lift flow rate                                          |m3/s                |Continuous |2310417             |46.1                     |430652                 |0.2                         |\n",
      "|T-JUS-CKP    |Downstream temperature of the PCK (production choke)        |°C                  |Continuous |3080444             |48.8                     |438847                 |0.2                         |\n",
      "|T-MON-CKP    |Upstream temperature of the PCK (production choke)          |°C                  |Continuous |1980654             |84.9                     |0                      |100.0                       |\n",
      "|T-PDG        |Temperature at the PDG (permanent downhole gauge)           |°C                  |Continuous |861293              |36.7                     |28249                  |0.2                         |\n",
      "|class        |Label of the observation                                    |Label               |Classifier |17                  |12.3                     |1                      |16.8                        |\n",
      "|T-TPT        |Temperature at the TPT (temperature and pressure transducer)|°C                  |Continuous |1376954             |13.6                     |323728                 |0.2                         |\n",
      "|label        |Instance label (event type)                                 |Instance Label      |Classifier |10                  |0.0                      |1                      |0.0                         |\n",
      "|state        |Well operational status                                     |Operational Status  |Classifier |9                   |12.3                     |1                      |16.8                        |\n",
      "|well         |Well name                                                   |Well Name           |Identifier |40                  |0.0                      |2                      |0.0                         |\n",
      "|id           |Instance identifier                                         |Instance ID         |Identifier |1113                |0.0                      |32                     |0.0                         |\n",
      "|Instance     |Instance count based on manual labeling                     |Instance ID (Manual)|Identifier |1119                |0.0                      |32                     |0.0                         |\n",
      "|DataType     |Real , simulated or hand-drawn                              |Dataset Type        |Categorical|1                   |0.0                      |1                      |0.0                         |\n",
      "|timestamp    |Timestamp                                                   |Timestamp           |Timestamp  |24910943            |0.0                      |597217                 |0.0                         |\n",
      "+-------------+------------------------------------------------------------+--------------------+-----------+--------------------+-------------------------+-----------------------+----------------------------+\n",
      "\n"
     ]
    }
   ],
   "source": [
    "label_3_features = generate_unique_values_table(reference_table_real, df_label_3, 'Unique Values (Label 3)')\n",
    "label_3_features = generate_missing_values_table(label_3_features, df_label_3, 'Missing Values (%) (Label 3)')\n",
    "label_3_features.show(truncate=False, n=999)"
   ]
  },
  {
   "cell_type": "code",
   "execution_count": 43,
   "metadata": {},
   "outputs": [
    {
     "data": {
      "image/png": "[encoded data removed]",
      "text/plain": [
       "<Figure size 1000x600 with 1 Axes>"
      ]
     },
     "metadata": {},
     "output_type": "display_data"
    },
    {
     "name": "stdout",
     "output_type": "stream",
     "text": [
      "            Label 3\n",
      "WELL-00014       31\n",
      "WELL-00001        1\n"
     ]
    }
   ],
   "source": [
    "plot_well_frequency(df_label_3, 'well', 'Instance', 'Label 3')"
   ]
  },
  {
   "cell_type": "markdown",
   "metadata": {},
   "source": [
    "# Label 4 : FLOW INSTABILITY "
   ]
  },
  {
   "cell_type": "code",
   "execution_count": 44,
   "metadata": {},
   "outputs": [
    {
     "name": "stderr",
     "output_type": "stream",
     "text": [
      "24/11/13 01:12:25 WARN RowBasedKeyValueBatch: Calling spill() on RowBasedKeyValueBatch. Will not spill but return 0.\n",
      "[Stage 2840:==>           (3 + 13) / 16][Stage 2841:>              (0 + 3) / 16]\r"
     ]
    },
    {
     "name": "stdout",
     "output_type": "stream",
     "text": [
      "+-------------+------------------------------------------------------------+--------------------+-----------+--------------------+-------------------------+-----------------------+----------------------------+\n",
      "|Tag          |Name                                                        |Unit                |Value Type |Unique Values (Real)|Missing Values (%) (Real)|Unique Values (Label 4)|Missing Values (%) (Label 4)|\n",
      "+-------------+------------------------------------------------------------+--------------------+-----------+--------------------+-------------------------+-----------------------+----------------------------+\n",
      "|ABER-CKGL    |Opening of the GLCK (gas lift choke)                        |%                   |Continuous |300484              |74.2                     |11840                  |67.4                        |\n",
      "|ABER-CKP     |Opening of the PCK (production choke)                       |%                   |Continuous |850210              |62.5                     |234053                 |67.4                        |\n",
      "|ESTADO-DHSV  |State of the DHSV (downhole safety valve)                   |[0, 0.5, 1]         |Categorical|2                   |57.8                     |2                      |62.9                        |\n",
      "|ESTADO-M1    |State of the PMV (production master valve)                  |[0, 0.5, 1]         |Categorical|2                   |45.9                     |1                      |62.9                        |\n",
      "|ESTADO-PXO   |State of the PXO (pig-crossover) valve                      |[0, 0.5, 1]         |Categorical|2                   |44.7                     |1                      |62.9                        |\n",
      "|ESTADO-M2    |State of the AMV (annulus master valve)                     |[0, 0.5, 1]         |Categorical|3                   |46.2                     |2                      |62.9                        |\n",
      "|ESTADO-SDV-GL|State of the gas lift SDV (shutdown valve)                  |[0, 0.5, 1]         |Categorical|2                   |48.0                     |2                      |56.2                        |\n",
      "|ESTADO-SDV-P |State of the production SDV (shutdown valve)                |[0, 0.5, 1]         |Categorical|2                   |26.0                     |2                      |39.9                        |\n",
      "|ESTADO-W1    |State of the PWV (production wing valve)                    |[0, 0.5, 1]         |Categorical|2                   |42.4                     |1                      |56.8                        |\n",
      "|ESTADO-W2    |State of the AWV (annulus wing valve)                       |[0, 0.5, 1]         |Categorical|3                   |44.3                     |2                      |62.9                        |\n",
      "|P-ANULAR     |Pressure in the well annulus                                |Pa                  |Continuous |1496311             |22.5                     |129130                 |27.1                        |\n",
      "|ESTADO-XO    |State of the XO (crossover) valve                           |[0, 0.5, 1]         |Categorical|2                   |43.6                     |1                      |62.9                        |\n",
      "|P-JUS-BS     |Downstream pressure of the SP (service pump)                |Pa                  |Empty      |0                   |100.0                    |0                      |100.0                       |\n",
      "|P-JUS-CKGL   |Downstream pressure of the GLCK (gas lift choke)            |Pa                  |Continuous |2868202             |23.8                     |97090                  |45.2                        |\n",
      "|P-MON-SDV-P  |Upstream pressure of the production SDV (shutdown valve)    |Pa                  |Empty      |0                   |100.0                    |0                      |100.0                       |\n",
      "|P-MON-CKP    |Upstream pressure of the PCK (production choke)             |Pa                  |Continuous |3479501             |21.5                     |235417                 |32.6                        |\n",
      "|P-JUS-CKP    |Downstream pressure of the PCK (production choke)           |Pa                  |Continuous |351370              |89.5                     |0                      |100.0                       |\n",
      "|P-MON-CKGL   |Upstream pressure of the GLCK (gas lift choke)              |Pa                  |Continuous |92596               |99.1                     |0                      |100.0                       |\n",
      "|P-PDG        |Pressure at the PDG (permanent downhole gauge)              |Pa                  |Continuous |1077171             |24.1                     |43253                  |35.2                        |\n",
      "|PT-P         |Downstream pressure of the PWV in the production tube       |Pa                  |Empty      |0                   |100.0                    |0                      |100.0                       |\n",
      "|P-TPT        |Pressure at the TPT (temperature and pressure transducer)   |Pa                  |Continuous |1782324             |16.4                     |227668                 |24.2                        |\n",
      "|QBS          |Flow rate at the SP (service pump)                          |m3/s                |Empty      |0                   |100.0                    |0                      |100.0                       |\n",
      "|QGL          |Gas lift flow rate                                          |m3/s                |Continuous |2310417             |46.1                     |147460                 |80.4                        |\n",
      "|T-JUS-CKP    |Downstream temperature of the PCK (production choke)        |°C                  |Continuous |3080444             |48.8                     |440368                 |56.8                        |\n",
      "|T-MON-CKP    |Upstream temperature of the PCK (production choke)          |°C                  |Continuous |1980654             |84.9                     |0                      |100.0                       |\n",
      "|T-PDG        |Temperature at the PDG (permanent downhole gauge)           |°C                  |Continuous |861293              |36.7                     |13806                  |43.7                        |\n",
      "|class        |Label of the observation                                    |Label               |Classifier |17                  |12.3                     |1                      |33.5                        |\n",
      "|T-TPT        |Temperature at the TPT (temperature and pressure transducer)|°C                  |Continuous |1376954             |13.6                     |92948                  |0.0                         |\n",
      "|label        |Instance label (event type)                                 |Instance Label      |Classifier |10                  |0.0                      |1                      |0.0                         |\n",
      "|state        |Well operational status                                     |Operational Status  |Classifier |9                   |12.3                     |1                      |33.5                        |\n",
      "|well         |Well name                                                   |Well Name           |Identifier |40                  |0.0                      |7                      |0.0                         |\n",
      "|id           |Instance identifier                                         |Instance ID         |Identifier |1113                |0.0                      |343                    |0.0                         |\n",
      "|Instance     |Instance count based on manual labeling                     |Instance ID (Manual)|Identifier |1119                |0.0                      |343                    |0.0                         |\n",
      "|DataType     |Real , simulated or hand-drawn                              |Dataset Type        |Categorical|1                   |0.0                      |1                      |0.0                         |\n",
      "|timestamp    |Timestamp                                                   |Timestamp           |Timestamp  |24910943            |0.0                      |2551185                |0.0                         |\n",
      "+-------------+------------------------------------------------------------+--------------------+-----------+--------------------+-------------------------+-----------------------+----------------------------+\n",
      "\n"
     ]
    },
    {
     "name": "stderr",
     "output_type": "stream",
     "text": [
      "                                                                                \r"
     ]
    }
   ],
   "source": [
    "label_4_features = generate_unique_values_table(reference_table_real, df_label_4, 'Unique Values (Label 4)')\n",
    "label_4_features = generate_missing_values_table(label_4_features, df_label_4, 'Missing Values (%) (Label 4)')\n",
    "label_4_features.show(truncate=False, n=999)"
   ]
  },
  {
   "cell_type": "code",
   "execution_count": 45,
   "metadata": {},
   "outputs": [
    {
     "data": {
      "image/png": "[encoded data removed]",
      "text/plain": [
       "<Figure size 1000x600 with 1 Axes>"
      ]
     },
     "metadata": {},
     "output_type": "display_data"
    },
    {
     "name": "stdout",
     "output_type": "stream",
     "text": [
      "            Label 4\n",
      "WELL-00002      112\n",
      "WELL-00010       83\n",
      "WELL-00004       43\n",
      "WELL-00005       38\n",
      "WELL-00001       36\n",
      "WELL-00014       21\n",
      "WELL-00007       10\n"
     ]
    }
   ],
   "source": [
    "plot_well_frequency(df_label_4, 'well', 'Instance', 'Label 4')"
   ]
  },
  {
   "cell_type": "markdown",
   "metadata": {},
   "source": [
    "# Label 5 : RAPID PRODUCTIVITY LOSS"
   ]
  },
  {
   "cell_type": "code",
   "execution_count": 46,
   "metadata": {},
   "outputs": [
    {
     "name": "stderr",
     "output_type": "stream",
     "text": [
      "                                                                                \r"
     ]
    },
    {
     "name": "stdout",
     "output_type": "stream",
     "text": [
      "+-------------+------------------------------------------------------------+--------------------+-----------+--------------------+-------------------------+-----------------------+----------------------------+\n",
      "|Tag          |Name                                                        |Unit                |Value Type |Unique Values (Real)|Missing Values (%) (Real)|Unique Values (Label 5)|Missing Values (%) (Label 5)|\n",
      "+-------------+------------------------------------------------------------+--------------------+-----------+--------------------+-------------------------+-----------------------+----------------------------+\n",
      "|ABER-CKGL    |Opening of the GLCK (gas lift choke)                        |%                   |Continuous |300484              |74.2                     |8424                   |86.3                        |\n",
      "|ABER-CKP     |Opening of the PCK (production choke)                       |%                   |Continuous |850210              |62.5                     |24879                  |86.3                        |\n",
      "|ESTADO-DHSV  |State of the DHSV (downhole safety valve)                   |[0, 0.5, 1]         |Categorical|2                   |57.8                     |1                      |0.3                         |\n",
      "|ESTADO-M1    |State of the PMV (production master valve)                  |[0, 0.5, 1]         |Categorical|2                   |45.9                     |1                      |0.3                         |\n",
      "|ESTADO-PXO   |State of the PXO (pig-crossover) valve                      |[0, 0.5, 1]         |Categorical|2                   |44.7                     |1                      |0.3                         |\n",
      "|ESTADO-M2    |State of the AMV (annulus master valve)                     |[0, 0.5, 1]         |Categorical|3                   |46.2                     |2                      |0.3                         |\n",
      "|ESTADO-SDV-GL|State of the gas lift SDV (shutdown valve)                  |[0, 0.5, 1]         |Categorical|2                   |48.0                     |2                      |0.3                         |\n",
      "|ESTADO-SDV-P |State of the production SDV (shutdown valve)                |[0, 0.5, 1]         |Categorical|2                   |26.0                     |1                      |2.0                         |\n",
      "|ESTADO-W1    |State of the PWV (production wing valve)                    |[0, 0.5, 1]         |Categorical|2                   |42.4                     |1                      |0.3                         |\n",
      "|ESTADO-W2    |State of the AWV (annulus wing valve)                       |[0, 0.5, 1]         |Categorical|3                   |44.3                     |2                      |0.3                         |\n",
      "|P-ANULAR     |Pressure in the well annulus                                |Pa                  |Continuous |1496311             |22.5                     |184067                 |0.3                         |\n",
      "|ESTADO-XO    |State of the XO (crossover) valve                           |[0, 0.5, 1]         |Categorical|2                   |43.6                     |1                      |0.3                         |\n",
      "|P-JUS-BS     |Downstream pressure of the SP (service pump)                |Pa                  |Empty      |0                   |100.0                    |0                      |100.0                       |\n",
      "|P-JUS-CKGL   |Downstream pressure of the GLCK (gas lift choke)            |Pa                  |Continuous |2868202             |23.8                     |74987                  |0.3                         |\n",
      "|P-MON-SDV-P  |Upstream pressure of the production SDV (shutdown valve)    |Pa                  |Empty      |0                   |100.0                    |0                      |100.0                       |\n",
      "|P-MON-CKP    |Upstream pressure of the PCK (production choke)             |Pa                  |Continuous |3479501             |21.5                     |334957                 |0.3                         |\n",
      "|P-JUS-CKP    |Downstream pressure of the PCK (production choke)           |Pa                  |Continuous |351370              |89.5                     |0                      |100.0                       |\n",
      "|P-MON-CKGL   |Upstream pressure of the GLCK (gas lift choke)              |Pa                  |Continuous |92596               |99.1                     |0                      |100.0                       |\n",
      "|P-PDG        |Pressure at the PDG (permanent downhole gauge)              |Pa                  |Continuous |1077171             |24.1                     |35220                  |0.3                         |\n",
      "|PT-P         |Downstream pressure of the PWV in the production tube       |Pa                  |Empty      |0                   |100.0                    |0                      |100.0                       |\n",
      "|P-TPT        |Pressure at the TPT (temperature and pressure transducer)   |Pa                  |Continuous |1782324             |16.4                     |198554                 |0.3                         |\n",
      "|QBS          |Flow rate at the SP (service pump)                          |m3/s                |Empty      |0                   |100.0                    |0                      |100.0                       |\n",
      "|QGL          |Gas lift flow rate                                          |m3/s                |Continuous |2310417             |46.1                     |44178                  |0.3                         |\n",
      "|T-JUS-CKP    |Downstream temperature of the PCK (production choke)        |°C                  |Continuous |3080444             |48.8                     |334349                 |0.3                         |\n",
      "|T-MON-CKP    |Upstream temperature of the PCK (production choke)          |°C                  |Continuous |1980654             |84.9                     |0                      |100.0                       |\n",
      "|T-PDG        |Temperature at the PDG (permanent downhole gauge)           |°C                  |Continuous |861293              |36.7                     |23556                  |0.3                         |\n",
      "|class        |Label of the observation                                    |Label               |Classifier |17                  |12.3                     |3                      |9.0                         |\n",
      "|T-TPT        |Temperature at the TPT (temperature and pressure transducer)|°C                  |Continuous |1376954             |13.6                     |167474                 |0.3                         |\n",
      "|label        |Instance label (event type)                                 |Instance Label      |Classifier |10                  |0.0                      |1                      |0.0                         |\n",
      "|state        |Well operational status                                     |Operational Status  |Classifier |9                   |12.3                     |1                      |9.0                         |\n",
      "|well         |Well name                                                   |Well Name           |Identifier |40                  |0.0                      |3                      |0.0                         |\n",
      "|id           |Instance identifier                                         |Instance ID         |Identifier |1113                |0.0                      |11                     |0.0                         |\n",
      "|Instance     |Instance count based on manual labeling                     |Instance ID (Manual)|Identifier |1119                |0.0                      |11                     |0.0                         |\n",
      "|DataType     |Real , simulated or hand-drawn                              |Dataset Type        |Categorical|1                   |0.0                      |1                      |0.0                         |\n",
      "|timestamp    |Timestamp                                                   |Timestamp           |Timestamp  |24910943            |0.0                      |433928                 |0.0                         |\n",
      "+-------------+------------------------------------------------------------+--------------------+-----------+--------------------+-------------------------+-----------------------+----------------------------+\n",
      "\n"
     ]
    }
   ],
   "source": [
    "label_5_features = generate_unique_values_table(reference_table_real, df_label_5, 'Unique Values (Label 5)')\n",
    "label_5_features = generate_missing_values_table(label_5_features, df_label_5, 'Missing Values (%) (Label 5)')\n",
    "label_5_features.show(truncate=False, n=999)"
   ]
  },
  {
   "cell_type": "code",
   "execution_count": 47,
   "metadata": {},
   "outputs": [
    {
     "data": {
      "image/png": "[encoded data removed]",
      "text/plain": [
       "<Figure size 1000x600 with 1 Axes>"
      ]
     },
     "metadata": {},
     "output_type": "display_data"
    },
    {
     "name": "stdout",
     "output_type": "stream",
     "text": [
      "            Label 5\n",
      "WELL-00020        6\n",
      "WELL-00016        4\n",
      "WELL-00015        1\n"
     ]
    }
   ],
   "source": [
    "plot_well_frequency(df_label_5, 'well', 'Instance', 'Label 5')"
   ]
  },
  {
   "cell_type": "markdown",
   "metadata": {},
   "source": [
    "# Label 6 : QUICK RESTRICTION IN PCK"
   ]
  },
  {
   "cell_type": "code",
   "execution_count": 48,
   "metadata": {},
   "outputs": [
    {
     "name": "stderr",
     "output_type": "stream",
     "text": [
      "                                                                                \r"
     ]
    },
    {
     "name": "stdout",
     "output_type": "stream",
     "text": [
      "+-------------+------------------------------------------------------------+--------------------+-----------+--------------------+-------------------------+-----------------------+----------------------------+\n",
      "|Tag          |Name                                                        |Unit                |Value Type |Unique Values (Real)|Missing Values (%) (Real)|Unique Values (Label 6)|Missing Values (%) (Label 6)|\n",
      "+-------------+------------------------------------------------------------+--------------------+-----------+--------------------+-------------------------+-----------------------+----------------------------+\n",
      "|ABER-CKGL    |Opening of the GLCK (gas lift choke)                        |%                   |Continuous |300484              |74.2                     |1                      |75.7                        |\n",
      "|ABER-CKP     |Opening of the PCK (production choke)                       |%                   |Continuous |850210              |62.5                     |2060                   |75.7                        |\n",
      "|ESTADO-DHSV  |State of the DHSV (downhole safety valve)                   |[0, 0.5, 1]         |Categorical|2                   |57.8                     |1                      |75.7                        |\n",
      "|ESTADO-M1    |State of the PMV (production master valve)                  |[0, 0.5, 1]         |Categorical|2                   |45.9                     |1                      |75.7                        |\n",
      "|ESTADO-PXO   |State of the PXO (pig-crossover) valve                      |[0, 0.5, 1]         |Categorical|2                   |44.7                     |1                      |75.7                        |\n",
      "|ESTADO-M2    |State of the AMV (annulus master valve)                     |[0, 0.5, 1]         |Categorical|3                   |46.2                     |1                      |75.7                        |\n",
      "|ESTADO-SDV-GL|State of the gas lift SDV (shutdown valve)                  |[0, 0.5, 1]         |Categorical|2                   |48.0                     |0                      |100.0                       |\n",
      "|ESTADO-SDV-P |State of the production SDV (shutdown valve)                |[0, 0.5, 1]         |Categorical|2                   |26.0                     |1                      |75.7                        |\n",
      "|ESTADO-W1    |State of the PWV (production wing valve)                    |[0, 0.5, 1]         |Categorical|2                   |42.4                     |1                      |75.7                        |\n",
      "|ESTADO-W2    |State of the AWV (annulus wing valve)                       |[0, 0.5, 1]         |Categorical|3                   |44.3                     |1                      |75.7                        |\n",
      "|P-ANULAR     |Pressure in the well annulus                                |Pa                  |Continuous |1496311             |22.5                     |7239                   |0.0                         |\n",
      "|ESTADO-XO    |State of the XO (crossover) valve                           |[0, 0.5, 1]         |Categorical|2                   |43.6                     |1                      |75.7                        |\n",
      "|P-JUS-BS     |Downstream pressure of the SP (service pump)                |Pa                  |Empty      |0                   |100.0                    |0                      |100.0                       |\n",
      "|P-JUS-CKGL   |Downstream pressure of the GLCK (gas lift choke)            |Pa                  |Continuous |2868202             |23.8                     |0                      |100.0                       |\n",
      "|P-MON-SDV-P  |Upstream pressure of the production SDV (shutdown valve)    |Pa                  |Empty      |0                   |100.0                    |0                      |100.0                       |\n",
      "|P-MON-CKP    |Upstream pressure of the PCK (production choke)             |Pa                  |Continuous |3479501             |21.5                     |1689                   |75.7                        |\n",
      "|P-JUS-CKP    |Downstream pressure of the PCK (production choke)           |Pa                  |Continuous |351370              |89.5                     |0                      |100.0                       |\n",
      "|P-MON-CKGL   |Upstream pressure of the GLCK (gas lift choke)              |Pa                  |Continuous |92596               |99.1                     |0                      |100.0                       |\n",
      "|P-PDG        |Pressure at the PDG (permanent downhole gauge)              |Pa                  |Continuous |1077171             |24.1                     |1                      |0.0                         |\n",
      "|PT-P         |Downstream pressure of the PWV in the production tube       |Pa                  |Empty      |0                   |100.0                    |0                      |100.0                       |\n",
      "|P-TPT        |Pressure at the TPT (temperature and pressure transducer)   |Pa                  |Continuous |1782324             |16.4                     |24447                  |0.0                         |\n",
      "|QBS          |Flow rate at the SP (service pump)                          |m3/s                |Empty      |0                   |100.0                    |0                      |100.0                       |\n",
      "|QGL          |Gas lift flow rate                                          |m3/s                |Continuous |2310417             |46.1                     |0                      |100.0                       |\n",
      "|T-JUS-CKP    |Downstream temperature of the PCK (production choke)        |°C                  |Continuous |3080444             |48.8                     |10617                  |75.7                        |\n",
      "|T-MON-CKP    |Upstream temperature of the PCK (production choke)          |°C                  |Continuous |1980654             |84.9                     |0                      |100.0                       |\n",
      "|T-PDG        |Temperature at the PDG (permanent downhole gauge)           |°C                  |Continuous |861293              |36.7                     |1                      |75.7                        |\n",
      "|class        |Label of the observation                                    |Label               |Classifier |17                  |12.3                     |3                      |27.9                        |\n",
      "|T-TPT        |Temperature at the TPT (temperature and pressure transducer)|°C                  |Continuous |1376954             |13.6                     |6536                   |0.0                         |\n",
      "|label        |Instance label (event type)                                 |Instance Label      |Classifier |10                  |0.0                      |1                      |0.0                         |\n",
      "|state        |Well operational status                                     |Operational Status  |Classifier |9                   |12.3                     |1                      |27.9                        |\n",
      "|well         |Well name                                                   |Well Name           |Identifier |40                  |0.0                      |2                      |0.0                         |\n",
      "|id           |Instance identifier                                         |Instance ID         |Identifier |1113                |0.0                      |6                      |0.0                         |\n",
      "|Instance     |Instance count based on manual labeling                     |Instance ID (Manual)|Identifier |1119                |0.0                      |6                      |0.0                         |\n",
      "|DataType     |Real , simulated or hand-drawn                              |Dataset Type        |Categorical|1                   |0.0                      |1                      |0.0                         |\n",
      "|timestamp    |Timestamp                                                   |Timestamp           |Timestamp  |24910943            |0.0                      |70297                  |0.0                         |\n",
      "+-------------+------------------------------------------------------------+--------------------+-----------+--------------------+-------------------------+-----------------------+----------------------------+\n",
      "\n"
     ]
    }
   ],
   "source": [
    "label_6_features = generate_unique_values_table(reference_table_real, df_label_6, 'Unique Values (Label 6)')\n",
    "label_6_features = generate_missing_values_table(label_6_features, df_label_6, 'Missing Values (%) (Label 6)')\n",
    "label_6_features.show(truncate=False, n=999)"
   ]
  },
  {
   "cell_type": "code",
   "execution_count": 49,
   "metadata": {},
   "outputs": [
    {
     "data": {
      "image/png": "[encoded data removed]",
      "text/plain": [
       "<Figure size 1000x600 with 1 Axes>"
      ]
     },
     "metadata": {},
     "output_type": "display_data"
    },
    {
     "name": "stdout",
     "output_type": "stream",
     "text": [
      "            Label 6\n",
      "WELL-00002        3\n",
      "WELL-00004        3\n"
     ]
    }
   ],
   "source": [
    "plot_well_frequency(df_label_6, 'well', 'Instance', 'Label 6')"
   ]
  },
  {
   "cell_type": "markdown",
   "metadata": {},
   "source": [
    "# Label 7 : SCALING IN PCK"
   ]
  },
  {
   "cell_type": "code",
   "execution_count": 50,
   "metadata": {},
   "outputs": [
    {
     "name": "stderr",
     "output_type": "stream",
     "text": [
      "24/11/13 01:16:59 WARN RowBasedKeyValueBatch: Calling spill() on RowBasedKeyValueBatch. Will not spill but return 0.\n",
      "24/11/13 01:16:59 WARN RowBasedKeyValueBatch: Calling spill() on RowBasedKeyValueBatch. Will not spill but return 0.\n",
      "24/11/13 01:16:59 WARN RowBasedKeyValueBatch: Calling spill() on RowBasedKeyValueBatch. Will not spill but return 0.\n",
      "24/11/13 01:16:59 WARN RowBasedKeyValueBatch: Calling spill() on RowBasedKeyValueBatch. Will not spill but return 0.\n",
      "24/11/13 01:17:02 WARN RowBasedKeyValueBatch: Calling spill() on RowBasedKeyValueBatch. Will not spill but return 0.\n",
      "24/11/13 01:17:02 WARN RowBasedKeyValueBatch: Calling spill() on RowBasedKeyValueBatch. Will not spill but return 0.\n",
      "24/11/13 01:17:02 WARN RowBasedKeyValueBatch: Calling spill() on RowBasedKeyValueBatch. Will not spill but return 0.\n",
      "24/11/13 01:17:02 WARN RowBasedKeyValueBatch: Calling spill() on RowBasedKeyValueBatch. Will not spill but return 0.\n",
      "24/11/13 01:17:02 WARN RowBasedKeyValueBatch: Calling spill() on RowBasedKeyValueBatch. Will not spill but return 0.\n",
      "24/11/13 01:17:02 WARN RowBasedKeyValueBatch: Calling spill() on RowBasedKeyValueBatch. Will not spill but return 0.\n",
      "24/11/13 01:17:02 WARN RowBasedKeyValueBatch: Calling spill() on RowBasedKeyValueBatch. Will not spill but return 0.\n",
      "24/11/13 01:17:02 WARN RowBasedKeyValueBatch: Calling spill() on RowBasedKeyValueBatch. Will not spill but return 0.\n",
      "24/11/13 01:17:02 WARN RowBasedKeyValueBatch: Calling spill() on RowBasedKeyValueBatch. Will not spill but return 0.\n",
      "24/11/13 01:17:02 WARN RowBasedKeyValueBatch: Calling spill() on RowBasedKeyValueBatch. Will not spill but return 0.\n",
      "24/11/13 01:17:02 WARN RowBasedKeyValueBatch: Calling spill() on RowBasedKeyValueBatch. Will not spill but return 0.\n",
      "24/11/13 01:17:02 WARN RowBasedKeyValueBatch: Calling spill() on RowBasedKeyValueBatch. Will not spill but return 0.\n",
      "24/11/13 01:17:02 WARN RowBasedKeyValueBatch: Calling spill() on RowBasedKeyValueBatch. Will not spill but return 0.\n",
      "24/11/13 01:17:02 WARN RowBasedKeyValueBatch: Calling spill() on RowBasedKeyValueBatch. Will not spill but return 0.\n",
      "24/11/13 01:17:02 WARN RowBasedKeyValueBatch: Calling spill() on RowBasedKeyValueBatch. Will not spill but return 0.\n",
      "24/11/13 01:17:02 WARN RowBasedKeyValueBatch: Calling spill() on RowBasedKeyValueBatch. Will not spill but return 0.\n",
      "24/11/13 01:17:02 WARN RowBasedKeyValueBatch: Calling spill() on RowBasedKeyValueBatch. Will not spill but return 0.\n",
      "24/11/13 01:17:02 WARN RowBasedKeyValueBatch: Calling spill() on RowBasedKeyValueBatch. Will not spill but return 0.\n",
      "24/11/13 01:17:02 WARN RowBasedKeyValueBatch: Calling spill() on RowBasedKeyValueBatch. Will not spill but return 0.\n",
      "24/11/13 01:17:02 WARN RowBasedKeyValueBatch: Calling spill() on RowBasedKeyValueBatch. Will not spill but return 0.\n",
      "24/11/13 01:17:02 WARN RowBasedKeyValueBatch: Calling spill() on RowBasedKeyValueBatch. Will not spill but return 0.\n",
      "24/11/13 01:17:02 WARN RowBasedKeyValueBatch: Calling spill() on RowBasedKeyValueBatch. Will not spill but return 0.\n",
      "24/11/13 01:17:02 WARN RowBasedKeyValueBatch: Calling spill() on RowBasedKeyValueBatch. Will not spill but return 0.\n",
      "24/11/13 01:17:02 WARN RowBasedKeyValueBatch: Calling spill() on RowBasedKeyValueBatch. Will not spill but return 0.\n",
      "24/11/13 01:17:02 WARN RowBasedKeyValueBatch: Calling spill() on RowBasedKeyValueBatch. Will not spill but return 0.\n",
      "24/11/13 01:17:02 WARN RowBasedKeyValueBatch: Calling spill() on RowBasedKeyValueBatch. Will not spill but return 0.\n",
      "24/11/13 01:17:02 WARN RowBasedKeyValueBatch: Calling spill() on RowBasedKeyValueBatch. Will not spill but return 0.\n",
      "24/11/13 01:17:02 WARN RowBasedKeyValueBatch: Calling spill() on RowBasedKeyValueBatch. Will not spill but return 0.\n",
      "24/11/13 01:17:02 WARN RowBasedKeyValueBatch: Calling spill() on RowBasedKeyValueBatch. Will not spill but return 0.\n",
      "24/11/13 01:17:02 WARN RowBasedKeyValueBatch: Calling spill() on RowBasedKeyValueBatch. Will not spill but return 0.\n",
      "24/11/13 01:17:02 WARN RowBasedKeyValueBatch: Calling spill() on RowBasedKeyValueBatch. Will not spill but return 0.\n",
      "24/11/13 01:17:02 WARN RowBasedKeyValueBatch: Calling spill() on RowBasedKeyValueBatch. Will not spill but return 0.\n",
      "24/11/13 01:17:13 WARN RowBasedKeyValueBatch: Calling spill() on RowBasedKeyValueBatch. Will not spill but return 0.\n",
      "24/11/13 01:17:13 WARN RowBasedKeyValueBatch: Calling spill() on RowBasedKeyValueBatch. Will not spill but return 0.\n",
      "24/11/13 01:17:13 WARN RowBasedKeyValueBatch: Calling spill() on RowBasedKeyValueBatch. Will not spill but return 0.\n",
      "24/11/13 01:17:13 WARN RowBasedKeyValueBatch: Calling spill() on RowBasedKeyValueBatch. Will not spill but return 0.\n",
      "24/11/13 01:17:15 WARN RowBasedKeyValueBatch: Calling spill() on RowBasedKeyValueBatch. Will not spill but return 0.\n",
      "24/11/13 01:17:15 WARN RowBasedKeyValueBatch: Calling spill() on RowBasedKeyValueBatch. Will not spill but return 0.\n",
      "24/11/13 01:17:15 WARN RowBasedKeyValueBatch: Calling spill() on RowBasedKeyValueBatch. Will not spill but return 0.\n",
      "24/11/13 01:17:15 WARN RowBasedKeyValueBatch: Calling spill() on RowBasedKeyValueBatch. Will not spill but return 0.\n",
      "24/11/13 01:17:15 WARN RowBasedKeyValueBatch: Calling spill() on RowBasedKeyValueBatch. Will not spill but return 0.\n",
      "24/11/13 01:17:15 WARN RowBasedKeyValueBatch: Calling spill() on RowBasedKeyValueBatch. Will not spill but return 0.\n",
      "24/11/13 01:17:15 WARN RowBasedKeyValueBatch: Calling spill() on RowBasedKeyValueBatch. Will not spill but return 0.\n",
      "24/11/13 01:17:15 WARN RowBasedKeyValueBatch: Calling spill() on RowBasedKeyValueBatch. Will not spill but return 0.\n",
      "24/11/13 01:17:15 WARN RowBasedKeyValueBatch: Calling spill() on RowBasedKeyValueBatch. Will not spill but return 0.\n",
      "24/11/13 01:17:15 WARN RowBasedKeyValueBatch: Calling spill() on RowBasedKeyValueBatch. Will not spill but return 0.\n",
      "24/11/13 01:17:15 WARN RowBasedKeyValueBatch: Calling spill() on RowBasedKeyValueBatch. Will not spill but return 0.\n",
      "24/11/13 01:17:15 WARN RowBasedKeyValueBatch: Calling spill() on RowBasedKeyValueBatch. Will not spill but return 0.\n",
      "24/11/13 01:17:15 WARN RowBasedKeyValueBatch: Calling spill() on RowBasedKeyValueBatch. Will not spill but return 0.\n",
      "24/11/13 01:17:15 WARN RowBasedKeyValueBatch: Calling spill() on RowBasedKeyValueBatch. Will not spill but return 0.\n",
      "24/11/13 01:17:15 WARN RowBasedKeyValueBatch: Calling spill() on RowBasedKeyValueBatch. Will not spill but return 0.\n",
      "24/11/13 01:17:15 WARN RowBasedKeyValueBatch: Calling spill() on RowBasedKeyValueBatch. Will not spill but return 0.\n",
      "                                                                                \r"
     ]
    },
    {
     "name": "stdout",
     "output_type": "stream",
     "text": [
      "+-------------+------------------------------------------------------------+--------------------+-----------+--------------------+-------------------------+-----------------------+----------------------------+\n",
      "|Tag          |Name                                                        |Unit                |Value Type |Unique Values (Real)|Missing Values (%) (Real)|Unique Values (Label 7)|Missing Values (%) (Label 7)|\n",
      "+-------------+------------------------------------------------------------+--------------------+-----------+--------------------+-------------------------+-----------------------+----------------------------+\n",
      "|ABER-CKGL    |Opening of the GLCK (gas lift choke)                        |%                   |Continuous |300484              |74.2                     |1                      |60.5                        |\n",
      "|ABER-CKP     |Opening of the PCK (production choke)                       |%                   |Continuous |850210              |62.5                     |154503                 |60.5                        |\n",
      "|ESTADO-DHSV  |State of the DHSV (downhole safety valve)                   |[0, 0.5, 1]         |Categorical|2                   |57.8                     |2                      |56.4                        |\n",
      "|ESTADO-M1    |State of the PMV (production master valve)                  |[0, 0.5, 1]         |Categorical|2                   |45.9                     |1                      |56.4                        |\n",
      "|ESTADO-PXO   |State of the PXO (pig-crossover) valve                      |[0, 0.5, 1]         |Categorical|2                   |44.7                     |1                      |56.4                        |\n",
      "|ESTADO-M2    |State of the AMV (annulus master valve)                     |[0, 0.5, 1]         |Categorical|3                   |46.2                     |1                      |56.4                        |\n",
      "|ESTADO-SDV-GL|State of the gas lift SDV (shutdown valve)                  |[0, 0.5, 1]         |Categorical|2                   |48.0                     |2                      |60.1                        |\n",
      "|ESTADO-SDV-P |State of the production SDV (shutdown valve)                |[0, 0.5, 1]         |Categorical|2                   |26.0                     |1                      |0.0                         |\n",
      "|ESTADO-W1    |State of the PWV (production wing valve)                    |[0, 0.5, 1]         |Categorical|2                   |42.4                     |2                      |56.4                        |\n",
      "|ESTADO-W2    |State of the AWV (annulus wing valve)                       |[0, 0.5, 1]         |Categorical|3                   |44.3                     |1                      |56.4                        |\n",
      "|P-ANULAR     |Pressure in the well annulus                                |Pa                  |Continuous |1496311             |22.5                     |83500                  |21.8                        |\n",
      "|ESTADO-XO    |State of the XO (crossover) valve                           |[0, 0.5, 1]         |Categorical|2                   |43.6                     |1                      |56.4                        |\n",
      "|P-JUS-BS     |Downstream pressure of the SP (service pump)                |Pa                  |Empty      |0                   |100.0                    |0                      |100.0                       |\n",
      "|P-JUS-CKGL   |Downstream pressure of the GLCK (gas lift choke)            |Pa                  |Continuous |2868202             |23.8                     |925310                 |0.0                         |\n",
      "|P-MON-SDV-P  |Upstream pressure of the production SDV (shutdown valve)    |Pa                  |Empty      |0                   |100.0                    |0                      |100.0                       |\n",
      "|P-MON-CKP    |Upstream pressure of the PCK (production choke)             |Pa                  |Continuous |3479501             |21.5                     |212443                 |0.0                         |\n",
      "|P-JUS-CKP    |Downstream pressure of the PCK (production choke)           |Pa                  |Continuous |351370              |89.5                     |0                      |100.0                       |\n",
      "|P-MON-CKGL   |Upstream pressure of the GLCK (gas lift choke)              |Pa                  |Continuous |92596               |99.1                     |0                      |100.0                       |\n",
      "|P-PDG        |Pressure at the PDG (permanent downhole gauge)              |Pa                  |Continuous |1077171             |24.1                     |2                      |27.2                        |\n",
      "|PT-P         |Downstream pressure of the PWV in the production tube       |Pa                  |Empty      |0                   |100.0                    |0                      |100.0                       |\n",
      "|P-TPT        |Pressure at the TPT (temperature and pressure transducer)   |Pa                  |Continuous |1782324             |16.4                     |127021                 |19.9                        |\n",
      "|QBS          |Flow rate at the SP (service pump)                          |m3/s                |Empty      |0                   |100.0                    |0                      |100.0                       |\n",
      "|QGL          |Gas lift flow rate                                          |m3/s                |Continuous |2310417             |46.1                     |392305                 |59.3                        |\n",
      "|T-JUS-CKP    |Downstream temperature of the PCK (production choke)        |°C                  |Continuous |3080444             |48.8                     |1071057                |19.9                        |\n",
      "|T-MON-CKP    |Upstream temperature of the PCK (production choke)          |°C                  |Continuous |1980654             |84.9                     |0                      |100.0                       |\n",
      "|T-PDG        |Temperature at the PDG (permanent downhole gauge)           |°C                  |Continuous |861293              |36.7                     |3                      |14.5                        |\n",
      "|class        |Label of the observation                                    |Label               |Classifier |17                  |12.3                     |3                      |1.6                         |\n",
      "|T-TPT        |Temperature at the TPT (temperature and pressure transducer)|°C                  |Continuous |1376954             |13.6                     |62906                  |7.1                         |\n",
      "|label        |Instance label (event type)                                 |Instance Label      |Classifier |10                  |0.0                      |1                      |0.0                         |\n",
      "|state        |Well operational status                                     |Operational Status  |Classifier |9                   |12.3                     |1                      |1.6                         |\n",
      "|well         |Well name                                                   |Well Name           |Identifier |40                  |0.0                      |6                      |0.0                         |\n",
      "|id           |Instance identifier                                         |Instance ID         |Identifier |1113                |0.0                      |36                     |0.0                         |\n",
      "|Instance     |Instance count based on manual labeling                     |Instance ID (Manual)|Identifier |1119                |0.0                      |36                     |0.0                         |\n",
      "|DataType     |Real , simulated or hand-drawn                              |Dataset Type        |Categorical|1                   |0.0                      |1                      |0.0                         |\n",
      "|timestamp    |Timestamp                                                   |Timestamp           |Timestamp  |24910943            |0.0                      |7554240                |0.0                         |\n",
      "+-------------+------------------------------------------------------------+--------------------+-----------+--------------------+-------------------------+-----------------------+----------------------------+\n",
      "\n"
     ]
    }
   ],
   "source": [
    "label_7_features = generate_unique_values_table(reference_table_real, df_label_7, 'Unique Values (Label 7)')\n",
    "label_7_features = generate_missing_values_table(label_7_features, df_label_7, 'Missing Values (%) (Label 7)')\n",
    "label_7_features.show(truncate=False, n=999)"
   ]
  },
  {
   "cell_type": "code",
   "execution_count": 51,
   "metadata": {},
   "outputs": [
    {
     "data": {
      "image/png": "[encoded data removed]",
      "text/plain": [
       "<Figure size 1000x600 with 1 Axes>"
      ]
     },
     "metadata": {},
     "output_type": "display_data"
    },
    {
     "name": "stdout",
     "output_type": "stream",
     "text": [
      "            Label 7\n",
      "WELL-00024       19\n",
      "WELL-00022        8\n",
      "WELL-00023        4\n",
      "WELL-00006        2\n",
      "WELL-00021        2\n",
      "WELL-00001        1\n"
     ]
    }
   ],
   "source": [
    "plot_well_frequency(df_label_7, 'well', 'Instance', 'Label 7')"
   ]
  },
  {
   "cell_type": "markdown",
   "metadata": {},
   "source": [
    "# Missing Values by label"
   ]
  },
  {
   "cell_type": "code",
   "execution_count": 52,
   "metadata": {},
   "outputs": [
    {
     "name": "stderr",
     "output_type": "stream",
     "text": [
      "                                                                                \r"
     ]
    },
    {
     "name": "stdout",
     "output_type": "stream",
     "text": [
      "+-------------+------------------------------------------------------------+--------------------+-----------+--------------------+-------------------------+----------------------------+----------------------------+----------------------------+----------------------------+----------------------------+----------------------------+----------------------------+----------------------------+----------------------------+\n",
      "|Tag          |Name                                                        |Unit                |Value Type |Unique Values (Real)|Missing Values (%) (Real)|Missing Values (%) (Label 1)|Missing Values (%) (Label 2)|Missing Values (%) (Label 3)|Missing Values (%) (Label 4)|Missing Values (%) (Label 5)|Missing Values (%) (Label 6)|Missing Values (%) (Label 7)|Missing Values (%) (Label 8)|Missing Values (%) (Label 9)|\n",
      "+-------------+------------------------------------------------------------+--------------------+-----------+--------------------+-------------------------+----------------------------+----------------------------+----------------------------+----------------------------+----------------------------+----------------------------+----------------------------+----------------------------+----------------------------+\n",
      "|ABER-CKGL    |Opening of the GLCK (gas lift choke)                        |%                   |Continuous |300484              |74.2                     |100.0                       |100.0                       |3.4                         |67.4                        |86.3                        |75.7                        |60.5                        |93.6                        |34.9                        |\n",
      "|ABER-CKP     |Opening of the PCK (production choke)                       |%                   |Continuous |850210              |62.5                     |100.0                       |92.4                        |3.4                         |67.4                        |86.3                        |75.7                        |60.5                        |17.2                        |34.9                        |\n",
      "|ESTADO-DHSV  |State of the DHSV (downhole safety valve)                   |[0, 0.5, 1]         |Categorical|2                   |57.8                     |7.6                         |96.3                        |96.8                        |62.9                        |0.3                         |75.7                        |56.4                        |52.2                        |92.0                        |\n",
      "|ESTADO-M1    |State of the PMV (production master valve)                  |[0, 0.5, 1]         |Categorical|2                   |45.9                     |7.6                         |96.3                        |96.8                        |62.9                        |0.3                         |75.7                        |56.4                        |2.7                         |39.6                        |\n",
      "|ESTADO-PXO   |State of the PXO (pig-crossover) valve                      |[0, 0.5, 1]         |Categorical|2                   |44.7                     |7.6                         |67.1                        |96.8                        |62.9                        |0.3                         |75.7                        |56.4                        |7.5                         |39.6                        |\n",
      "|ESTADO-M2    |State of the AMV (annulus master valve)                     |[0, 0.5, 1]         |Categorical|3                   |46.2                     |7.6                         |83.7                        |96.8                        |62.9                        |0.3                         |75.7                        |56.4                        |5.2                         |39.6                        |\n",
      "|ESTADO-SDV-GL|State of the gas lift SDV (shutdown valve)                  |[0, 0.5, 1]         |Categorical|2                   |48.0                     |7.6                         |91.4                        |0.3                         |56.2                        |0.3                         |100.0                       |60.1                        |7.6                         |26.1                        |\n",
      "|ESTADO-SDV-P |State of the production SDV (shutdown valve)                |[0, 0.5, 1]         |Categorical|2                   |26.0                     |7.6                         |74.2                        |0.3                         |39.9                        |2.0                         |75.7                        |0.0                         |7.6                         |26.1                        |\n",
      "|ESTADO-W1    |State of the PWV (production wing valve)                    |[0, 0.5, 1]         |Categorical|2                   |42.4                     |7.6                         |88.7                        |0.2                         |56.8                        |0.3                         |75.7                        |56.4                        |0.0                         |34.6                        |\n",
      "|ESTADO-W2    |State of the AWV (annulus wing valve)                       |[0, 0.5, 1]         |Categorical|3                   |44.3                     |7.6                         |67.1                        |96.8                        |62.9                        |0.3                         |75.7                        |56.4                        |5.1                         |39.6                        |\n",
      "|P-ANULAR     |Pressure in the well annulus                                |Pa                  |Continuous |1496311             |22.5                     |0.0                         |5.7                         |0.2                         |27.1                        |0.3                         |0.0                         |21.8                        |44.9                        |43.1                        |\n",
      "|ESTADO-XO    |State of the XO (crossover) valve                           |[0, 0.5, 1]         |Categorical|2                   |43.6                     |7.6                         |67.1                        |96.8                        |62.9                        |0.3                         |75.7                        |56.4                        |0.0                         |39.6                        |\n",
      "|P-JUS-BS     |Downstream pressure of the SP (service pump)                |Pa                  |Empty      |0                   |100.0                    |100.0                       |100.0                       |100.0                       |100.0                       |100.0                       |100.0                       |100.0                       |100.0                       |100.0                       |\n",
      "|P-JUS-CKGL   |Downstream pressure of the GLCK (gas lift choke)            |Pa                  |Continuous |2868202             |23.8                     |7.6                         |91.4                        |0.3                         |45.2                        |0.3                         |100.0                       |0.0                         |15.0                        |0.0                         |\n",
      "|P-MON-SDV-P  |Upstream pressure of the production SDV (shutdown valve)    |Pa                  |Empty      |0                   |100.0                    |100.0                       |100.0                       |100.0                       |100.0                       |100.0                       |100.0                       |100.0                       |100.0                       |100.0                       |\n",
      "|P-MON-CKP    |Upstream pressure of the PCK (production choke)             |Pa                  |Continuous |3479501             |21.5                     |7.6                         |67.2                        |0.3                         |32.6                        |0.3                         |75.7                        |0.0                         |0.0                         |0.0                         |\n",
      "|P-JUS-CKP    |Downstream pressure of the PCK (production choke)           |Pa                  |Continuous |351370              |89.5                     |100.0                       |100.0                       |100.0                       |100.0                       |100.0                       |100.0                       |100.0                       |31.3                        |100.0                       |\n",
      "|P-MON-CKGL   |Upstream pressure of the GLCK (gas lift choke)              |Pa                  |Continuous |92596               |99.1                     |100.0                       |100.0                       |100.0                       |100.0                       |100.0                       |100.0                       |100.0                       |93.6                        |100.0                       |\n",
      "|P-PDG        |Pressure at the PDG (permanent downhole gauge)              |Pa                  |Continuous |1077171             |24.1                     |0.0                         |4.8                         |0.2                         |35.2                        |0.3                         |0.0                         |27.2                        |21.7                        |35.1                        |\n",
      "|PT-P         |Downstream pressure of the PWV in the production tube       |Pa                  |Empty      |0                   |100.0                    |100.0                       |100.0                       |100.0                       |100.0                       |100.0                       |100.0                       |100.0                       |100.0                       |100.0                       |\n",
      "|P-TPT        |Pressure at the TPT (temperature and pressure transducer)   |Pa                  |Continuous |1782324             |16.4                     |0.0                         |5.7                         |0.2                         |24.2                        |0.3                         |0.0                         |19.9                        |27.0                        |15.0                        |\n",
      "|QBS          |Flow rate at the SP (service pump)                          |m3/s                |Empty      |0                   |100.0                    |100.0                       |100.0                       |100.0                       |100.0                       |100.0                       |100.0                       |100.0                       |100.0                       |100.0                       |\n",
      "|QGL          |Gas lift flow rate                                          |m3/s                |Continuous |2310417             |46.1                     |7.6                         |67.9                        |0.2                         |80.4                        |0.3                         |100.0                       |59.3                        |0.0                         |8.5                         |\n",
      "|T-JUS-CKP    |Downstream temperature of the PCK (production choke)        |°C                  |Continuous |3080444             |48.8                     |7.6                         |96.3                        |0.2                         |56.8                        |0.3                         |75.7                        |19.9                        |100.0                       |34.6                        |\n",
      "|T-MON-CKP    |Upstream temperature of the PCK (production choke)          |°C                  |Continuous |1980654             |84.9                     |100.0                       |100.0                       |100.0                       |100.0                       |100.0                       |100.0                       |100.0                       |0.0                         |100.0                       |\n",
      "|T-PDG        |Temperature at the PDG (permanent downhole gauge)           |°C                  |Continuous |861293              |36.7                     |7.6                         |22.0                        |0.2                         |43.7                        |0.3                         |75.7                        |14.5                        |21.7                        |26.1                        |\n",
      "|class        |Label of the observation                                    |Label               |Classifier |17                  |12.3                     |6.1                         |28.6                        |16.8                        |33.5                        |9.0                         |27.9                        |1.6                         |1.0                         |7.8                         |\n",
      "|T-TPT        |Temperature at the TPT (temperature and pressure transducer)|°C                  |Continuous |1376954             |13.6                     |0.0                         |0.8                         |0.2                         |0.0                         |0.3                         |0.0                         |7.1                         |41.3                        |26.1                        |\n",
      "|label        |Instance label (event type)                                 |Instance Label      |Classifier |10                  |0.0                      |0.0                         |0.0                         |0.0                         |0.0                         |0.0                         |0.0                         |0.0                         |0.0                         |0.0                         |\n",
      "|state        |Well operational status                                     |Operational Status  |Classifier |9                   |12.3                     |6.1                         |28.6                        |16.8                        |33.5                        |9.0                         |27.9                        |1.6                         |1.0                         |7.8                         |\n",
      "|well         |Well name                                                   |Well Name           |Identifier |40                  |0.0                      |0.0                         |0.0                         |0.0                         |0.0                         |0.0                         |0.0                         |0.0                         |0.0                         |0.0                         |\n",
      "|id           |Instance identifier                                         |Instance ID         |Identifier |1113                |0.0                      |0.0                         |0.0                         |0.0                         |0.0                         |0.0                         |0.0                         |0.0                         |0.0                         |0.0                         |\n",
      "|Instance     |Instance count based on manual labeling                     |Instance ID (Manual)|Identifier |1119                |0.0                      |0.0                         |0.0                         |0.0                         |0.0                         |0.0                         |0.0                         |0.0                         |0.0                         |0.0                         |\n",
      "|DataType     |Real , simulated or hand-drawn                              |Dataset Type        |Categorical|1                   |0.0                      |0.0                         |0.0                         |0.0                         |0.0                         |0.0                         |0.0                         |0.0                         |0.0                         |0.0                         |\n",
      "|timestamp    |Timestamp                                                   |Timestamp           |Timestamp  |24910943            |0.0                      |0.0                         |0.0                         |0.0                         |0.0                         |0.0                         |0.0                         |0.0                         |0.0                         |0.0                         |\n",
      "+-------------+------------------------------------------------------------+--------------------+-----------+--------------------+-------------------------+----------------------------+----------------------------+----------------------------+----------------------------+----------------------------+----------------------------+----------------------------+----------------------------+----------------------------+\n",
      "\n"
     ]
    }
   ],
   "source": [
    "missing_values_by_label = generate_missing_values_table(reference_table_real, df_label_0, 'Missing Values (%) (Label 0)')\n",
    "missing_values_by_label = generate_missing_values_table(reference_table_real, df_label_1, 'Missing Values (%) (Label 1)')\n",
    "missing_values_by_label = generate_missing_values_table(missing_values_by_label, df_label_2, 'Missing Values (%) (Label 2)')\n",
    "missing_values_by_label = generate_missing_values_table(missing_values_by_label, df_label_3, 'Missing Values (%) (Label 3)')\n",
    "missing_values_by_label = generate_missing_values_table(missing_values_by_label, df_label_4, 'Missing Values (%) (Label 4)')\n",
    "missing_values_by_label = generate_missing_values_table(missing_values_by_label, df_label_5, 'Missing Values (%) (Label 5)')\n",
    "missing_values_by_label = generate_missing_values_table(missing_values_by_label, df_label_6, 'Missing Values (%) (Label 6)')\n",
    "missing_values_by_label = generate_missing_values_table(missing_values_by_label, df_label_7, 'Missing Values (%) (Label 7)')\n",
    "missing_values_by_label = generate_missing_values_table(missing_values_by_label, df_label_8, 'Missing Values (%) (Label 8)')\n",
    "missing_values_by_label = generate_missing_values_table(missing_values_by_label, df_label_9, 'Missing Values (%) (Label 9)')\n",
    "missing_values_by_label.show(truncate=False, n=999)\n"
   ]
  },
  {
   "cell_type": "markdown",
   "metadata": {},
   "source": [
    "# End Spark Session"
   ]
  },
  {
   "cell_type": "code",
   "execution_count": 53,
   "metadata": {},
   "outputs": [],
   "source": [
    "# Stop Spark session when done\n",
    "spark.stop()"
   ]
  }
 ],
 "metadata": {
  "kernelspec": {
   "display_name": "pyspark-env",
   "language": "python",
   "name": "python3"
  },
  "language_info": {
   "codemirror_mode": {
    "name": "ipython",
    "version": 3
   },
   "file_extension": ".py",
   "mimetype": "text/x-python",
   "name": "python",
   "nbconvert_exporter": "python",
   "pygments_lexer": "ipython3",
   "version": "3.12.7"
  }
 },
 "nbformat": 4,
 "nbformat_minor": 2
}
